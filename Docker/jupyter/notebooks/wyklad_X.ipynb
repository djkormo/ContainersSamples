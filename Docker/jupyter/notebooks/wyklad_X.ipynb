{
 "cells": [
  {
   "cell_type": "markdown",
   "metadata": {
    "slideshow": {
     "slide_type": "slide"
    }
   },
   "source": [
    "# Podstawy programowania w analizie danych\n",
    "\n",
    "## Tomasz Rodak\n",
    "\n",
    "2017/2018, semestr letni\n",
    "\n",
    "Wykład X"
   ]
  },
  {
   "cell_type": "markdown",
   "metadata": {
    "slideshow": {
     "slide_type": "slide"
    }
   },
   "source": [
    "# Iteratory"
   ]
  },
  {
   "cell_type": "markdown",
   "metadata": {
    "slideshow": {
     "slide_type": "slide"
    }
   },
   "source": [
    "## Tworzenie iteratorów za pomocą klas\n",
    "\n",
    "Klasa tworzy iteratory, gdy posiada metody \n",
    "\n",
    "* `__next__(self)`\n",
    "* `__iter__(self)`\n",
    "\n",
    "przy czym `__iter__()` musi być postaci\n",
    "\n",
    "```python\n",
    "def __iter__(self):\n",
    "    return self\n",
    "```"
   ]
  },
  {
   "cell_type": "markdown",
   "metadata": {
    "slideshow": {
     "slide_type": "slide"
    }
   },
   "source": [
    "## Klasa `PostępArytmetyczny`\n",
    "\n",
    "Utworzymy klasę `PostępArytmetyczny`. Klasa zwraca iterator z postępem arytmetycznym o zadanym wyrazie początkowym, różnicy i liczbie wyrazów.\n",
    "\n",
    "**Testy**"
   ]
  },
  {
   "cell_type": "code",
   "execution_count": 87,
   "metadata": {},
   "outputs": [],
   "source": [
    "postęp = PostępArytmetyczny(a=2, r=4, n=3)\n",
    "\n",
    "assert [next(postęp), next(postęp), next(postęp)] == [2, 6, 10]\n",
    "\n",
    "try:\n",
    "    next(postęp)\n",
    "except StopIteration:\n",
    "    pass\n",
    "else:\n",
    "    raise AssertionError('PostępArytmetyczny został wyczerpany.')\n",
    "\n",
    "a, r, n = 123, -13, 100\n",
    "postęp = PostępArytmetyczny(a, r, n)\n",
    "\n",
    "assert list(postęp) == list(range(a, a + n*r, r))"
   ]
  },
  {
   "cell_type": "code",
   "execution_count": 88,
   "metadata": {
    "collapsed": true,
    "slideshow": {
     "slide_type": "subslide"
    }
   },
   "outputs": [],
   "source": [
    "class PostępArytmetyczny:\n",
    "    \n",
    "    def __init__(self, a, r, n):\n",
    "        self.a, self.r, self.n = a, r, n\n",
    "        self._indeks, self._wyraz = 0, a\n",
    "       \n",
    "    def __next__(self):\n",
    "        if self._indeks < self.n:\n",
    "            wyraz = self._wyraz\n",
    "            self._indeks += 1\n",
    "            self._wyraz += self.r\n",
    "            return wyraz\n",
    "        else:\n",
    "            raise StopIteration\n",
    "        \n",
    "    def __iter__(self):\n",
    "        return self"
   ]
  },
  {
   "cell_type": "markdown",
   "metadata": {
    "slideshow": {
     "slide_type": "subslide"
    }
   },
   "source": [
    "Przerzucenie postępu do listy."
   ]
  },
  {
   "cell_type": "code",
   "execution_count": 89,
   "metadata": {},
   "outputs": [
    {
     "data": {
      "text/plain": [
       "[2, 5, 8, 11, 14, 17, 20, 23, 26, 29]"
      ]
     },
     "execution_count": 89,
     "metadata": {},
     "output_type": "execute_result"
    }
   ],
   "source": [
    "postęp = PostępArytmetyczny(2, 3, 10)\n",
    "list(postęp)"
   ]
  },
  {
   "cell_type": "markdown",
   "metadata": {},
   "source": [
    "Iteracja po postępie pętlą `for-in`"
   ]
  },
  {
   "cell_type": "code",
   "execution_count": 90,
   "metadata": {},
   "outputs": [
    {
     "name": "stdout",
     "output_type": "stream",
     "text": [
      "2, 5, 8, 11, 14, 17, 20, 23, 26, 29, "
     ]
    }
   ],
   "source": [
    "postęp = PostępArytmetyczny(2, 3, 10)\n",
    "\n",
    "for x in postęp:\n",
    "    print(x, end=', ')"
   ]
  },
  {
   "cell_type": "markdown",
   "metadata": {},
   "source": [
    "Wysumowanie wyrazów."
   ]
  },
  {
   "cell_type": "code",
   "execution_count": 91,
   "metadata": {},
   "outputs": [
    {
     "data": {
      "text/plain": [
       "155"
      ]
     },
     "execution_count": 91,
     "metadata": {},
     "output_type": "execute_result"
    }
   ],
   "source": [
    "postęp = PostępArytmetyczny(2, 3, 10)\n",
    "sum(postęp)"
   ]
  },
  {
   "cell_type": "markdown",
   "metadata": {
    "slideshow": {
     "slide_type": "slide"
    }
   },
   "source": [
    "## Iteratory nieskończone\n",
    "\n",
    "Iteratory zwracają elementy jedynie na żądanie, mogą więc reprezentować obiekty faktycznie nieskończone.\n",
    "\n",
    "Napiszmy klasę `Kwadraty` zwracającą iterator zawierający wszystkie liczby naturalne będące kwadratami, czyli `0, 1, 4, 9, 16, ...`.\n",
    "\n",
    "**Testy**"
   ]
  },
  {
   "cell_type": "code",
   "execution_count": 92,
   "metadata": {},
   "outputs": [],
   "source": [
    "kw = Kwadraty()\n",
    "\n",
    "assert next(kw) == 0\n",
    "assert next(kw) == 1\n",
    "assert next(kw) == 4\n",
    "\n",
    "assert [next(kw) for _ in [1, 2, 3]] == [9, 16, 25]"
   ]
  },
  {
   "cell_type": "code",
   "execution_count": 93,
   "metadata": {
    "collapsed": true,
    "slideshow": {
     "slide_type": "subslide"
    }
   },
   "outputs": [],
   "source": [
    "class Kwadraty:\n",
    "    \n",
    "    def __init__(self):\n",
    "        self.licznik = -1\n",
    "        \n",
    "    def __next__(self):\n",
    "        self.licznik += 1\n",
    "        return self.licznik ** 2\n",
    "    \n",
    "    def __iter__(self):\n",
    "        return self"
   ]
  },
  {
   "cell_type": "markdown",
   "metadata": {
    "slideshow": {
     "slide_type": "slide"
    }
   },
   "source": [
    "## Podsumowanie\n",
    "\n",
    "### Iterator\n",
    "\n",
    "* **Iterator** to obiekt implementujący metody `__next__(self)` oraz `__iter__(self)`.\n",
    "* Metoda `__next__()` zwraca kolejny element lub wywołuje wyjątek `StopIteration`, gdy nie ma już więcej elementów.\n",
    "* Metoda `__iter__()` powinna mieć postać:\n",
    "  ```python\n",
    "  def __iter__(self):\n",
    "      return self\n",
    "  ```\n",
    "* Dzięki implementacji `__iter__()` iterator jest obiektem iterowalnym.\n",
    "* Iterator jest **leniwy**: produkuje wartości na żądanie.\n",
    "* Iterator można przebiec **tylko raz**. Po wyczerpaniu jest bezużyteczny."
   ]
  },
  {
   "cell_type": "markdown",
   "metadata": {
    "slideshow": {
     "slide_type": "subslide"
    }
   },
   "source": [
    "### Obiekt iterowalny\n",
    "\n",
    "* **Obiekt iterowalny** to dowolny obiekt, z którego funkcja `iter()` może uzyskać iterator. \n",
    "* Obiektami iterowalnymi są:\n",
    "  * obiekty implementujące metodę `__iter__()`,\n",
    "  * obiekty implementujące metodę `__getitem__()` przyjmującą indeksy zaczynające się od zera.\n",
    "  * w szczególności iterowalne są: sekwencje, słowniki, zbiory, strumienie plików i praktycznie wszystkie kontenery z biblioteki standardowej.\n",
    "* Obiekt iterowalny zawsze może wystąpić w pętli `for`:\n",
    "  ```python\n",
    "  for element in obiekt_iterowalny:\n",
    "      ...\n",
    "  ```"
   ]
  },
  {
   "cell_type": "markdown",
   "metadata": {
    "slideshow": {
     "slide_type": "slide"
    }
   },
   "source": [
    "# Generatory"
   ]
  },
  {
   "cell_type": "markdown",
   "metadata": {
    "slideshow": {
     "slide_type": "slide"
    }
   },
   "source": [
    "## Funkcja generatora\n",
    "\n",
    "* **Funkcja generatora** to funkcja, która zawiera w swoim ciele słowo zarezerwowane **`yield`**.\n",
    "* **Generator** to obiekt zwracany przez funkcję generatora.\n",
    "* Każdy generator jest iteratorem."
   ]
  },
  {
   "cell_type": "markdown",
   "metadata": {
    "slideshow": {
     "slide_type": "slide"
    }
   },
   "source": [
    "## Przykład\n",
    "\n",
    "Chcemy mieć iterator składający się z liter a, b, c.\n",
    "\n",
    "Utworzymy go dwoma sposobami: pisząc klasę i funkcję generatora."
   ]
  },
  {
   "cell_type": "markdown",
   "metadata": {
    "slideshow": {
     "slide_type": "subslide"
    }
   },
   "source": [
    "### Klasa"
   ]
  },
  {
   "cell_type": "code",
   "execution_count": 94,
   "metadata": {
    "collapsed": true
   },
   "outputs": [],
   "source": [
    "class TrzyLitery:\n",
    "    \n",
    "    def __init__(self):\n",
    "        self.i = 0\n",
    "        self.litery = 'abc'\n",
    "    \n",
    "    def __next__(self):\n",
    "        try:\n",
    "            litera = self.litery[self.i]\n",
    "        except IndexError:\n",
    "            raise StopIteration\n",
    "        \n",
    "        self.i += 1\n",
    "        return litera\n",
    "    \n",
    "    def __iter__(self):\n",
    "        return self"
   ]
  },
  {
   "cell_type": "code",
   "execution_count": 95,
   "metadata": {
    "slideshow": {
     "slide_type": "subslide"
    }
   },
   "outputs": [
    {
     "data": {
      "text/plain": [
       "<__main__.TrzyLitery at 0x7f3bd4128160>"
      ]
     },
     "execution_count": 95,
     "metadata": {},
     "output_type": "execute_result"
    }
   ],
   "source": [
    "lt = TrzyLitery()\n",
    "\n",
    "lt"
   ]
  },
  {
   "cell_type": "code",
   "execution_count": 96,
   "metadata": {},
   "outputs": [
    {
     "data": {
      "text/plain": [
       "['a', 'b', 'c']"
      ]
     },
     "execution_count": 96,
     "metadata": {},
     "output_type": "execute_result"
    }
   ],
   "source": [
    "list(lt)"
   ]
  },
  {
   "cell_type": "markdown",
   "metadata": {
    "slideshow": {
     "slide_type": "subslide"
    }
   },
   "source": [
    "### Funkcja generatora"
   ]
  },
  {
   "cell_type": "code",
   "execution_count": 97,
   "metadata": {
    "collapsed": true
   },
   "outputs": [],
   "source": [
    "def trzy_litery():\n",
    "    yield 'a'\n",
    "    yield 'b'\n",
    "    yield 'c'"
   ]
  },
  {
   "cell_type": "code",
   "execution_count": 98,
   "metadata": {},
   "outputs": [
    {
     "data": {
      "text/plain": [
       "<generator object trzy_litery at 0x7f3bd41133b8>"
      ]
     },
     "execution_count": 98,
     "metadata": {},
     "output_type": "execute_result"
    }
   ],
   "source": [
    "lt = trzy_litery()\n",
    "\n",
    "lt"
   ]
  },
  {
   "cell_type": "code",
   "execution_count": 99,
   "metadata": {},
   "outputs": [
    {
     "data": {
      "text/plain": [
       "['a', 'b', 'c']"
      ]
     },
     "execution_count": 99,
     "metadata": {},
     "output_type": "execute_result"
    }
   ],
   "source": [
    "list(lt)"
   ]
  },
  {
   "cell_type": "markdown",
   "metadata": {
    "slideshow": {
     "slide_type": "subslide"
    }
   },
   "source": [
    "Jeszcze prościej."
   ]
  },
  {
   "cell_type": "code",
   "execution_count": 100,
   "metadata": {
    "collapsed": true
   },
   "outputs": [],
   "source": [
    "def trzy_litery():\n",
    "    for litera in 'abc':\n",
    "        yield litera"
   ]
  },
  {
   "cell_type": "code",
   "execution_count": 101,
   "metadata": {},
   "outputs": [
    {
     "data": {
      "text/plain": [
       "<generator object trzy_litery at 0x7f3bd4113888>"
      ]
     },
     "execution_count": 101,
     "metadata": {},
     "output_type": "execute_result"
    }
   ],
   "source": [
    "lt = trzy_litery()\n",
    "\n",
    "lt"
   ]
  },
  {
   "cell_type": "code",
   "execution_count": 102,
   "metadata": {},
   "outputs": [
    {
     "data": {
      "text/plain": [
       "['a', 'b', 'c']"
      ]
     },
     "execution_count": 102,
     "metadata": {},
     "output_type": "execute_result"
    }
   ],
   "source": [
    "list(lt)"
   ]
  },
  {
   "cell_type": "markdown",
   "metadata": {
    "slideshow": {
     "slide_type": "slide"
    }
   },
   "source": [
    "## `yield`\n",
    "\n",
    "* Instrukcja `yield` działa inaczej niż `return` -- zwraca wartość i wstrzymuje działanie funkcji, ale jej nie opuszcza.\n",
    "\n",
    "* Funkcja generatora po wywołaniu natychmiast zwraca generator, nie oblicza jednak jego wartości.\n",
    "\n",
    "* Wartości generatora są obliczane przez funkcję generatora dopiero na żądanie."
   ]
  },
  {
   "cell_type": "markdown",
   "metadata": {
    "slideshow": {
     "slide_type": "subslide"
    }
   },
   "source": [
    "### Przykład\n",
    "\n",
    "Jaka jest różnica między funkcjami `f()` i `g()`?"
   ]
  },
  {
   "cell_type": "code",
   "execution_count": 103,
   "metadata": {
    "collapsed": true
   },
   "outputs": [],
   "source": [
    "def f():\n",
    "    for litera in 'abc':\n",
    "        return litera"
   ]
  },
  {
   "cell_type": "code",
   "execution_count": 104,
   "metadata": {
    "collapsed": true
   },
   "outputs": [],
   "source": [
    "def g():\n",
    "    for litera in 'abc':\n",
    "        yield litera"
   ]
  },
  {
   "cell_type": "markdown",
   "metadata": {},
   "source": [
    "* `f()` zwraca łańcuch `'a'`.\n",
    "* `g()` zwraca generator.\n",
    "* `f()` próbuje od razu biec po całej pętli, zdąży jednak wykonać tylko jeden obrót.\n",
    "* `g()` wykonuje całą pętlę stopniowo, w odpowiedzi na kolejne żądania `__next__()`."
   ]
  },
  {
   "cell_type": "markdown",
   "metadata": {
    "slideshow": {
     "slide_type": "slide"
    }
   },
   "source": [
    "## Postęp arytmetyczny\n",
    "\n",
    "Piszemy funkcję generatora zwracającą postępy arytmetyczne, dokładnie takie same jak klasa `PostępArytmetyczny`.\n",
    "\n",
    "Użyjemy tych samych testów."
   ]
  },
  {
   "cell_type": "code",
   "execution_count": 105,
   "metadata": {
    "collapsed": true
   },
   "outputs": [],
   "source": [
    "postęp = postęp_arytmetyczny(a=2, r=4, n=3)\n",
    "\n",
    "assert [next(postęp), next(postęp), next(postęp)] == [2, 6, 10]\n",
    "\n",
    "try:\n",
    "    next(postęp)\n",
    "except StopIteration:\n",
    "    pass\n",
    "else:\n",
    "    raise AssertionError('PostępArytmetyczny został wyczerpany.')\n",
    "\n",
    "a, r, n = 123, -13, 100\n",
    "postęp = postęp_arytmetyczny(a, r, n)\n",
    "\n",
    "assert list(postęp) == list(range(a, a + n*r, r))"
   ]
  },
  {
   "cell_type": "markdown",
   "metadata": {
    "slideshow": {
     "slide_type": "subslide"
    }
   },
   "source": [
    "`yield` nie opuszcza funkcji, możemy więc wykonać `yield` przy każdym obrocie pętli."
   ]
  },
  {
   "cell_type": "code",
   "execution_count": 106,
   "metadata": {
    "collapsed": true
   },
   "outputs": [],
   "source": [
    "def postęp_arytmetyczny(a, r, n):\n",
    "    for _ in range(n):\n",
    "        yield a\n",
    "        a += r"
   ]
  },
  {
   "cell_type": "markdown",
   "metadata": {
    "slideshow": {
     "slide_type": "slide"
    }
   },
   "source": [
    "## Rzuty kostką\n",
    "\n",
    "Piszemy funkcję generatora zwracającą generator rzutów kostką aż do wystąpienia żądanej liczby oczek."
   ]
  },
  {
   "cell_type": "code",
   "execution_count": 107,
   "metadata": {
    "collapsed": true
   },
   "outputs": [],
   "source": [
    "from random import randint\n",
    "\n",
    "def rzuty_aż_wystąpi(k):\n",
    "    while True:\n",
    "        rzut = randint(1, 6)\n",
    "        yield rzut\n",
    "        \n",
    "        if rzut == k:\n",
    "            break"
   ]
  },
  {
   "cell_type": "code",
   "execution_count": 108,
   "metadata": {},
   "outputs": [
    {
     "data": {
      "text/plain": [
       "[6]"
      ]
     },
     "execution_count": 108,
     "metadata": {},
     "output_type": "execute_result"
    }
   ],
   "source": [
    "list(rzuty_aż_wystąpi(6))"
   ]
  },
  {
   "cell_type": "markdown",
   "metadata": {
    "slideshow": {
     "slide_type": "subslide"
    }
   },
   "source": [
    "Wersja, w której ostatniego rzutu nie ma w wynikach."
   ]
  },
  {
   "cell_type": "code",
   "execution_count": 109,
   "metadata": {
    "collapsed": true
   },
   "outputs": [],
   "source": [
    "from random import randint\n",
    "\n",
    "def rzuty_aż_wystąpi(k):\n",
    "    while True:\n",
    "        rzut = randint(1, 6)\n",
    "        \n",
    "        if rzut == k:\n",
    "            break\n",
    "        \n",
    "        yield rzut"
   ]
  },
  {
   "cell_type": "code",
   "execution_count": 110,
   "metadata": {},
   "outputs": [
    {
     "data": {
      "text/plain": [
       "[5, 1, 1, 3]"
      ]
     },
     "execution_count": 110,
     "metadata": {},
     "output_type": "execute_result"
    }
   ],
   "source": [
    "list(rzuty_aż_wystąpi(6))"
   ]
  },
  {
   "cell_type": "markdown",
   "metadata": {
    "slideshow": {
     "slide_type": "slide"
    }
   },
   "source": [
    "## Ciąg Fibonacciego\n",
    "\n",
    "Funkcja generatora zwracająca generatory nieskończone z ciągiem Fibonacciego."
   ]
  },
  {
   "cell_type": "code",
   "execution_count": 111,
   "metadata": {
    "collapsed": true,
    "slideshow": {
     "slide_type": "fragment"
    }
   },
   "outputs": [],
   "source": [
    "def fib():\n",
    "    a, b = 0, 1\n",
    "    while True:\n",
    "        yield a\n",
    "        a, b = b, a + b"
   ]
  },
  {
   "cell_type": "markdown",
   "metadata": {
    "slideshow": {
     "slide_type": "subslide"
    }
   },
   "source": [
    "Jak uzyskać 15 pierwszych wyrazów?"
   ]
  },
  {
   "cell_type": "code",
   "execution_count": 112,
   "metadata": {
    "slideshow": {
     "slide_type": "fragment"
    }
   },
   "outputs": [
    {
     "data": {
      "text/plain": [
       "[0, 1, 1, 2, 3, 5, 8, 13, 21, 34, 55, 89, 144, 233, 377]"
      ]
     },
     "execution_count": 112,
     "metadata": {},
     "output_type": "execute_result"
    }
   ],
   "source": [
    "fibonacci = fib()\n",
    "\n",
    "[next(fibonacci) for _ in range(15)]"
   ]
  },
  {
   "cell_type": "markdown",
   "metadata": {
    "slideshow": {
     "slide_type": "subslide"
    }
   },
   "source": [
    "Jak uzyskać 15-ty wyraz?"
   ]
  },
  {
   "cell_type": "code",
   "execution_count": 113,
   "metadata": {
    "slideshow": {
     "slide_type": "fragment"
    }
   },
   "outputs": [
    {
     "data": {
      "text/plain": [
       "377"
      ]
     },
     "execution_count": 113,
     "metadata": {},
     "output_type": "execute_result"
    }
   ],
   "source": [
    "fibonacci = fib()\n",
    "\n",
    "for _ in range(14):\n",
    "    next(fibonacci)\n",
    "\n",
    "next(fibonacci)"
   ]
  },
  {
   "cell_type": "markdown",
   "metadata": {
    "slideshow": {
     "slide_type": "subslide"
    }
   },
   "source": [
    "Jak uzyskać wyrazy mniejsze niż 10000?"
   ]
  },
  {
   "cell_type": "code",
   "execution_count": 114,
   "metadata": {
    "slideshow": {
     "slide_type": "fragment"
    }
   },
   "outputs": [
    {
     "name": "stdout",
     "output_type": "stream",
     "text": [
      "0, 1, 1, 2, 3, 5, 8, 13, 21, 34, 55, 89, 144, 233, 377, 610, 987, 1597, 2584, 4181, 6765, "
     ]
    }
   ],
   "source": [
    "fibonacci = fib()\n",
    "\n",
    "for f in fibonacci:\n",
    "    if f >= 10000:\n",
    "        break\n",
    "    \n",
    "    print(f, end=', ')"
   ]
  },
  {
   "cell_type": "markdown",
   "metadata": {
    "slideshow": {
     "slide_type": "slide"
    }
   },
   "source": [
    "## Wyrażenie generatora\n",
    "\n",
    "* Generatory są też zwracane przez **wyrażenie generatora**.\n",
    "\n",
    "* Składnia dla wyrażenia generatora jest taka jak dla wyrażenia listowego, tyle że zewnętrzne nawiasy `[]` zastępujemy przez `()`."
   ]
  },
  {
   "cell_type": "code",
   "execution_count": 115,
   "metadata": {},
   "outputs": [
    {
     "data": {
      "text/plain": [
       "<generator object <genexpr> at 0x7f3bd4113830>"
      ]
     },
     "execution_count": 115,
     "metadata": {},
     "output_type": "execute_result"
    }
   ],
   "source": [
    "potęgi_dwójki = (2 ** n for n in range(10))\n",
    "\n",
    "potęgi_dwójki"
   ]
  },
  {
   "cell_type": "code",
   "execution_count": 116,
   "metadata": {},
   "outputs": [
    {
     "data": {
      "text/plain": [
       "[1, 2, 4, 8, 16, 32, 64, 128, 256, 512]"
      ]
     },
     "execution_count": 116,
     "metadata": {},
     "output_type": "execute_result"
    }
   ],
   "source": [
    "list(potęgi_dwójki)"
   ]
  },
  {
   "cell_type": "markdown",
   "metadata": {
    "slideshow": {
     "slide_type": "subslide"
    }
   },
   "source": [
    "Niektóre funkcje, jak np. `sum()` pozwalają na opuszczenie nawiasów otaczających wyrażenie generatora."
   ]
  },
  {
   "cell_type": "code",
   "execution_count": 117,
   "metadata": {},
   "outputs": [
    {
     "data": {
      "text/plain": [
       "(1023, 1023)"
      ]
     },
     "execution_count": 117,
     "metadata": {},
     "output_type": "execute_result"
    }
   ],
   "source": [
    "sum(2 ** n for n in range(10)), 2**10 - 1"
   ]
  },
  {
   "cell_type": "markdown",
   "metadata": {
    "slideshow": {
     "slide_type": "slide"
    }
   },
   "source": [
    "## Terminologia\n",
    "\n",
    "* Społeczność Pythona często traktuje terminy *iterator* i *generator* jak synonimy.\n",
    "\n",
    "* Terminologię dla tego wykładu zaczerpnąłem z książki L. Ramahlo, *Zaawansowany Python*.\n",
    "\n",
    "* [Python Glossary](https://docs.python.org/3/glossary.html#term-generator) *generatorem* nazywa funkcję zawierającą `yield`. Obiekt zwracany przez tę funkcję nazywany jest *iteratorem generatorem*."
   ]
  },
  {
   "cell_type": "markdown",
   "metadata": {
    "slideshow": {
     "slide_type": "slide"
    }
   },
   "source": [
    "## Zadanie\n",
    "\n",
    "Napisz funkcję generatora `krata()`. Funkcja zwraca nieskończony generator przechodzący przez wszystkie całkowitoliczbowe punkty płaszczyzny. Trasa nie może się przecinać -- generator przechodzi przez każdy punkt dokładnie jeden raz."
   ]
  },
  {
   "cell_type": "code",
   "execution_count": 118,
   "metadata": {
    "collapsed": true,
    "slideshow": {
     "slide_type": "subslide"
    }
   },
   "outputs": [],
   "source": [
    "def ciąg_z_liczbami_kroków():\n",
    "    k = 1\n",
    "    \n",
    "    while True:\n",
    "        yield k\n",
    "        yield k\n",
    "        k += 1"
   ]
  },
  {
   "cell_type": "code",
   "execution_count": 119,
   "metadata": {
    "collapsed": true,
    "slideshow": {
     "slide_type": "subslide"
    }
   },
   "outputs": [],
   "source": [
    "KIERUNKI = 'PDLG'\n",
    "\n",
    "def ciąg_z_kierunkami():\n",
    "    while True:\n",
    "        for kierunek in KIERUNKI:\n",
    "            yield kierunek"
   ]
  },
  {
   "cell_type": "code",
   "execution_count": 120,
   "metadata": {
    "collapsed": true,
    "slideshow": {
     "slide_type": "subslide"
    }
   },
   "outputs": [],
   "source": [
    "FUNKCJE = dict(P=lambda x, y: (x + 1, y),\n",
    "               D=lambda x, y: (x, y - 1),\n",
    "               L=lambda x, y: (x - 1, y),\n",
    "               G=lambda x, y: (x, y + 1))\n",
    "            \n",
    "def krata():\n",
    "    kroki = ciąg_z_liczbami_kroków()\n",
    "    kierunki = ciąg_z_kierunkami()\n",
    "    x, y = 0, 0\n",
    "    \n",
    "    while True:\n",
    "        liczba_kroków = next(kroki)\n",
    "        kierunek = next(kierunki)\n",
    "        for _ in range(liczba_kroków):\n",
    "            yield x, y\n",
    "            x, y = FUNKCJE[kierunek](x, y)\n",
    "        "
   ]
  },
  {
   "cell_type": "code",
   "execution_count": 121,
   "metadata": {
    "collapsed": true,
    "slideshow": {
     "slide_type": "subslide"
    }
   },
   "outputs": [],
   "source": [
    "from matplotlib import pyplot as plt\n",
    "%matplotlib inline\n",
    "plt.style.use('seaborn-notebook')"
   ]
  },
  {
   "cell_type": "code",
   "execution_count": 122,
   "metadata": {
    "slideshow": {
     "slide_type": "subslide"
    }
   },
   "outputs": [
    {
     "data": {
      "image/png": "[encoded data removed]",
      "text/plain": [
       "<matplotlib.figure.Figure at 0x7f3bd418ea58>"
      ]
     },
     "metadata": {},
     "output_type": "display_data"
    }
   ],
   "source": [
    "N = 15**2\n",
    "p = krata()\n",
    "punkty = [next(p) for _ in range(N)]\n",
    "X, Y = zip(*punkty)\n",
    "fig, ax = plt.subplots()\n",
    "ax.set_aspect('equal')\n",
    "ax.plot(X, Y, marker='o');"
   ]
  },
  {
   "cell_type": "markdown",
   "metadata": {
    "slideshow": {
     "slide_type": "slide"
    }
   },
   "source": [
    "## Do poczytania\n",
    "\n",
    "[A. Kuchling, *Functional Programming HOWTO*](https://docs.python.org/3/howto/functional.html)"
   ]
  }
 ],
 "metadata": {
  "anaconda-cloud": {},
  "celltoolbar": "Slideshow",
  "kernelspec": {
   "display_name": "Python [default]",
   "language": "python",
   "name": "python3"
  },
  "language_info": {
   "codemirror_mode": {
    "name": "ipython",
    "version": 3
   },
   "file_extension": ".py",
   "mimetype": "text/x-python",
   "name": "python",
   "nbconvert_exporter": "python",
   "pygments_lexer": "ipython3",
   "version": "3.5.4"
  }
 },
 "nbformat": 4,
 "nbformat_minor": 1
}
