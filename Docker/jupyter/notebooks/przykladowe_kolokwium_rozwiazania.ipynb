{
 "cells": [
  {
   "cell_type": "markdown",
   "metadata": {},
   "source": [
    "# Kolokwium z Podstaw programowania w analizie danych\n",
    "Data: \n",
    "\n",
    "Nr indeksu:\n",
    "\n",
    "**Na pulpicie utwórz katalog, nazwij go numerem swojego indeksu.\n",
    "Plik z rozwiązanymi zadaniami skopiuj do tego katalogu.**\n",
    "**Nie wyłączaj komputera! Zapisuj kopie zapasowe na dysku Z.**\n",
    "\n",
    "### Punktacja\n",
    "\n",
    "<table class=\"table table-striped table-bordered\">\n",
    "<thead>\n",
    "<tr>\n",
    "<th>Punkty</th>\n",
    "<th>Ocena</th>\n",
    "</tr>\n",
    "</thead>\n",
    "<tbody>\n",
    "<tr>\n",
    "<td>12 - 15</td>\n",
    "<td>3</td>\n",
    "</tr>\n",
    "<tr>\n",
    "<td>16 - 19</td>\n",
    "<td>3+</td>\n",
    "</tr>\n",
    "<tr>\n",
    "<td>20 - 23</td>\n",
    "<td>4</td>\n",
    "</tr>\n",
    "<tr>\n",
    "<td>24 - 27</td>\n",
    "<td>4+</td>\n",
    "</tr>\n",
    "<tr>\n",
    "<td>28 - 34</td>\n",
    "<td>5</td>\n",
    "</tr>\n",
    "</tbody>\n",
    "</table>\n",
    "\n",
    "---\n",
    "\n",
    "##  1 \n",
    "(**4 punkty**)\n",
    "\n",
    "Napisz funkcję `gnome_sort(A)`. Parametr `A` ma być zmienną sekwencją (np. listą). Funkcja nic nie zwraca,\n",
    "działa \"w miejscu\" sortując `A` niemalejąco. Funkcja powinna implementować podany niżej algorytm.\n",
    "\n",
    "**Wejście**: tablica `n` liczb `A[1], ..., A[n]`.\n",
    "\n",
    "**Wyjście**: tablica `A` posortowana niemalejąco.\n",
    "\n",
    "```\n",
    "pos := 1\n",
    "dopóki pos < n + 1:\n",
    "    jeśli pos == 1 lub A[pos] >= A[pos - 1]:\n",
    "        pos := pos + 1\n",
    "    w przeciwnym razie:\n",
    "        zamień A[pos] z A[pos - 1]\n",
    "        pos := pos - 1\n",
    "```"
   ]
  },
  {
   "cell_type": "code",
   "execution_count": 1,
   "metadata": {},
   "outputs": [],
   "source": [
    "def gnome_sort(A):\n",
    "    pos = 0\n",
    "    \n",
    "    while pos < len(A):\n",
    "        if pos == 0 or A[pos] >= A[pos - 1]:\n",
    "            pos += 1\n",
    "        else:\n",
    "            A[pos], A[pos - 1] = A[pos - 1], A[pos]\n",
    "            pos -= 1"
   ]
  },
  {
   "cell_type": "markdown",
   "metadata": {},
   "source": [
    "#### Testy"
   ]
  },
  {
   "cell_type": "code",
   "execution_count": 2,
   "metadata": {},
   "outputs": [],
   "source": [
    "A = [3, 2, 1, 4, 3, 2]\n",
    "gnome_sort(A)\n",
    "assert A == [1, 2, 2, 3, 3, 4]\n",
    "\n",
    "A = []\n",
    "gnome_sort(A)\n",
    "assert A == []"
   ]
  },
  {
   "cell_type": "markdown",
   "metadata": {
    "nbpresent": {
     "id": "ac3588e3-f8c6-407c-96dd-09f8c968eec6"
    }
   },
   "source": [
    "---\n",
    "## 2\n",
    "\n",
    "### 2.1\n",
    "(**4 punkty**)\n",
    "\n",
    "Klasa `Kostka` symuluje rzuty sześcienną kostką. Metoda `ile_było(self, wartość)` zwraca ile razy wypadła wartość `wartość`. Dopisz metodę `rzucaj(self)` zwracającą losową wartość rzutu, czyli liczbę z zakresu `1, 2, 3, 4, 5, 6`, i aktualizującą historię."
   ]
  },
  {
   "cell_type": "code",
   "execution_count": 3,
   "metadata": {
    "nbpresent": {
     "id": "e01727cd-88a3-442b-9b94-f02bd380d638"
    }
   },
   "outputs": [],
   "source": [
    "import random\n",
    "\n",
    "class Kostka:\n",
    "    \n",
    "    def __init__(self):\n",
    "        self.historia = {}\n",
    "    \n",
    "    def rzucaj(self):\n",
    "        los = random.randint(1, 6)\n",
    "        self.historia[los] = self.historia.get(los, 0) + 1\n",
    "        return los\n",
    "    \n",
    "    def ile_było(self, wartość):\n",
    "        return self.historia.get(wartość, 0)"
   ]
  },
  {
   "cell_type": "markdown",
   "metadata": {},
   "source": [
    "#### Testy"
   ]
  },
  {
   "cell_type": "code",
   "execution_count": 4,
   "metadata": {},
   "outputs": [],
   "source": [
    "kostka = Kostka()\n",
    "rzuty = [kostka.rzucaj() for _ in range(10)]\n",
    "\n",
    "for wartość in set(rzuty):\n",
    "    assert kostka.ile_było(wartość) == rzuty.count(wartość)"
   ]
  },
  {
   "cell_type": "markdown",
   "metadata": {},
   "source": [
    "### 2.2\n",
    "(**4 punkty**)\n",
    "\n",
    "Do klasy `Kostka` dopisz metodę `rzuć_serię(self, n)`. Metoda wykonuje serię `n` rzutów, nic nie zwraca, ale aktualizuje historię."
   ]
  },
  {
   "cell_type": "code",
   "execution_count": 5,
   "metadata": {},
   "outputs": [],
   "source": [
    "import random\n",
    "\n",
    "class Kostka:\n",
    "    \n",
    "    def __init__(self):\n",
    "        self.historia = {}\n",
    "    \n",
    "    def rzucaj(self):\n",
    "        los = random.randint(1, 6)\n",
    "        self.historia[los] = self.historia.get(los, 0) + 1\n",
    "        return los\n",
    "    \n",
    "    def rzuć_serię(self, n):\n",
    "        for _ in range(n):\n",
    "            self.rzucaj()\n",
    "    \n",
    "    def ile_było(self, wartość):\n",
    "        return self.historia.get(wartość, 0)"
   ]
  },
  {
   "cell_type": "markdown",
   "metadata": {},
   "source": [
    "#### Testy"
   ]
  },
  {
   "cell_type": "code",
   "execution_count": 6,
   "metadata": {},
   "outputs": [],
   "source": [
    "kostka = Kostka()\n",
    "\n",
    "for k in range(1, 7):\n",
    "    assert kostka.ile_było(k) == 0\n",
    "\n",
    "kostka.rzuć_serię(10)\n",
    "assert sum(kostka.ile_było(k) for k in range(1, 7)) == 10"
   ]
  },
  {
   "cell_type": "markdown",
   "metadata": {},
   "source": [
    "---\n",
    "## 3\n",
    "(**4 punkty**)\n",
    "\n",
    "Napisz funkcję `cyfry_dopełniające(cyfry)`. Parametr `cyfry` jest łańcuchem zawierającym jedynie cyfry. Funkcja zwraca modyfikację łańcucha `cyfry` polegającą na tym, że każda cyfra `x` została zamieniona na `9 - x`."
   ]
  },
  {
   "cell_type": "code",
   "execution_count": 7,
   "metadata": {},
   "outputs": [],
   "source": [
    "def cyfry_dopełniające(cyfry):\n",
    "    return ''.join(str(9 - int(cyfra)) for cyfra in cyfry)"
   ]
  },
  {
   "cell_type": "code",
   "execution_count": 8,
   "metadata": {},
   "outputs": [],
   "source": [
    "def cyfry_dopełniające(cyfry):\n",
    "    dopełniający = ''\n",
    "    \n",
    "    for cyfra in cyfry:\n",
    "        dopełniający += str(9 - int(cyfra))\n",
    "    \n",
    "    return dopełniający"
   ]
  },
  {
   "cell_type": "markdown",
   "metadata": {},
   "source": [
    "#### Testy"
   ]
  },
  {
   "cell_type": "code",
   "execution_count": 9,
   "metadata": {},
   "outputs": [],
   "source": [
    "assert cyfry_dopełniające('') == ''\n",
    "assert cyfry_dopełniające('1') == '8'\n",
    "assert cyfry_dopełniające('0123456789') == '9876543210'"
   ]
  },
  {
   "cell_type": "markdown",
   "metadata": {
    "nbpresent": {
     "id": "99eacb84-0c25-40ea-9a7d-637b8fe56d96"
    }
   },
   "source": [
    "---\n",
    "## 4\n",
    "(**6 punktów**)\n",
    "\n",
    "Napisz funkcję generatora `fragment(seq, start, stop)`. Parametr `seq` jest sekwencją, `start` i `stop` są dowolnymi obiektami. Zwracany generator powinien zawierać te kolejne elementy sekwencji `seq`, które znajdują się pomiędzy pierwszym wystąpieniem `start`, a pierwszym po `start` wystąpieniem `stop`. Jeśli elementu `start` nie ma, to zwrócony zostaje pusty generator. Jeśli `start` znajduje się w `seq` a `stop` nie, to wszystkie elementy po `start` wchodzą w skład generatora."
   ]
  },
  {
   "cell_type": "code",
   "execution_count": 10,
   "metadata": {},
   "outputs": [],
   "source": [
    "def fragment(seq, start, stop):\n",
    "    \n",
    "    for i, element in enumerate(seq):\n",
    "        if element == start:\n",
    "            break\n",
    "        \n",
    "    for element in seq[i + 1:]:\n",
    "        if element != stop:\n",
    "            yield element\n",
    "        else:\n",
    "            break"
   ]
  },
  {
   "cell_type": "markdown",
   "metadata": {},
   "source": [
    "#### Testy"
   ]
  },
  {
   "cell_type": "code",
   "execution_count": 11,
   "metadata": {
    "nbpresent": {
     "id": "af937946-06a6-4d21-9bc7-6640714b320a"
    }
   },
   "outputs": [],
   "source": [
    "assert list(fragment([0, 1, 2, 3], 1, 2)) == []\n",
    "assert list(fragment([0, 1, 2, 3], 0, 2)) == [1]\n",
    "assert ''.join(fragment('Monty Python', 'y', 'h')) == ' Pyt'\n",
    "assert ''.join(fragment('Monty Python', 'P', 'M')) == 'ython'\n",
    "g = fragment('abcd', 'a', 'd')\n",
    "assert next(g) == 'b'"
   ]
  },
  {
   "cell_type": "markdown",
   "metadata": {
    "nbpresent": {
     "id": "c9e86ce2-9ba7-4b88-8bf1-f058734a5393"
    }
   },
   "source": [
    "---\n",
    "## 5\n",
    "(**6 punktów**)\n",
    "\n",
    "Na prostokątnym pasku papieru piszemy cyfry, co najmniej trzy. Następnie pasek przecinamy w dwóch miejscach, tak że dostajemy trzy liczby i liczby te dodajemy. Napisz funkcję `sumy(s)` zwracającą zbiór wszystkich sum uzyskanych tym sposobem. Parametr `s` ma być łańcuchem cyfr."
   ]
  },
  {
   "cell_type": "code",
   "execution_count": 12,
   "metadata": {},
   "outputs": [],
   "source": [
    "from itertools import combinations\n",
    "\n",
    "def sumy(s):\n",
    "    wyniki = set()\n",
    "    \n",
    "    for c1, c2 in combinations(range(1, len(s)), 2):\n",
    "        a = int(s[:c1])\n",
    "        b = int(s[c1:c2])\n",
    "        c = int(s[c2:])\n",
    "        wyniki.add(a + b + c)\n",
    "    \n",
    "    return wyniki"
   ]
  },
  {
   "cell_type": "markdown",
   "metadata": {},
   "source": [
    "#### Testy"
   ]
  },
  {
   "cell_type": "code",
   "execution_count": 13,
   "metadata": {
    "nbpresent": {
     "id": "7759b3e1-deb6-4cf8-bcc1-2f31aa3ced0b"
    }
   },
   "outputs": [],
   "source": [
    "assert sumy('123') == {6}\n",
    "assert sumy('1111') == {13}\n",
    "assert sumy('12345') == {1 + 2 + 345, 1 + 23 + 45, 1 + 234 + 5, \n",
    "                              12 + 3 + 45, 12 + 34 + 5, 123 + 4 + 5}"
   ]
  },
  {
   "cell_type": "markdown",
   "metadata": {},
   "source": [
    "---\n",
    "## 6\n",
    "(**6 punktów**)\n",
    "\n",
    "Podany niżej tekst to fragment spisu planetoid.\n",
    "```\n",
    "(1) Ceres     2,7653  1 stycznia 1801  G. Piazzi\n",
    "(2) Pallas     2,7722  28 marca 1802  H. W. Olbers\n",
    "(3) Juno     2,6701  1 września 1804  K. Harding\n",
    "(4) Westa     2,3619  29 marca 1807  H. W. Olbers\n",
    "(5) Astraea     2,5771  8 grudnia 1845  K. L. Hencke\n",
    "(6) Hebe     2,4256  1 lipca 1847  K. L. Hencke\n",
    "(7) Iris     2,3856  13 sierpnia 1847  J. R. Hind\n",
    "```\n",
    "Dokończ pisanie zaczętego niżej programu. Program ten powinien wypisać inicjały i nazwiska odkrywców planetoid (każde kolejne w nowej linii) znajdujących się w łańcuchu `planetoidy`."
   ]
  },
  {
   "cell_type": "code",
   "execution_count": 14,
   "metadata": {},
   "outputs": [],
   "source": [
    "planetoidy = '''(1) Ceres     2,7653  1 stycznia 1801  G. Piazzi\n",
    "(2) Pallas     2,7722  28 marca 1802  H. W. Olbers\n",
    "(3) Juno     2,6701  1 września 1804  K. Harding\n",
    "(4) Westa     2,3619  29 marca 1807  H. W. Olbers\n",
    "(5) Astraea     2,5771  8 grudnia 1845  K. L. Hencke\n",
    "(6) Hebe     2,4256  1 lipca 1847  K. L. Hencke\n",
    "(7) Iris     2,3856  13 sierpnia 1847  J. R. Hind'''"
   ]
  },
  {
   "cell_type": "code",
   "execution_count": 15,
   "metadata": {},
   "outputs": [
    {
     "name": "stdout",
     "output_type": "stream",
     "text": [
      "G. Piazzi\n",
      "H. W. Olbers\n",
      "K. Harding\n",
      "H. W. Olbers\n",
      "K. L. Hencke\n",
      "K. L. Hencke\n",
      "J. R. Hind\n"
     ]
    }
   ],
   "source": [
    "import re\n",
    "\n",
    "for odkrywca in re.finditer(r'\\d{4}\\s+([^\\d]+)(\\n|$)', planetoidy):\n",
    "    print(odkrywca.group(1))"
   ]
  },
  {
   "cell_type": "code",
   "execution_count": 16,
   "metadata": {},
   "outputs": [
    {
     "name": "stdout",
     "output_type": "stream",
     "text": [
      "G. Piazzi\n",
      "H. W. Olbers\n",
      "K. Harding\n",
      "H. W. Olbers\n",
      "K. L. Hencke\n",
      "K. L. Hencke\n",
      "J. R. Hind\n"
     ]
    }
   ],
   "source": [
    "import re\n",
    "\n",
    "for odkrywca in re.finditer(r'\\d{4}\\s+([^\\d]+)$', planetoidy, re.MULTILINE):\n",
    "    print(odkrywca.group(1))"
   ]
  }
 ],
 "metadata": {
  "anaconda-cloud": {},
  "kernelspec": {
   "display_name": "Python [default]",
   "language": "python",
   "name": "python3"
  },
  "language_info": {
   "codemirror_mode": {
    "name": "ipython",
    "version": 3
   },
   "file_extension": ".py",
   "mimetype": "text/x-python",
   "name": "python",
   "nbconvert_exporter": "python",
   "pygments_lexer": "ipython3",
   "version": "3.5.4"
  },
  "nbpresent": {
   "slides": {},
   "themes": {
    "default": "059a1291-b887-47b2-a3f9-1e0d68719a77",
    "theme": {}
   }
  }
 },
 "nbformat": 4,
 "nbformat_minor": 1
}
