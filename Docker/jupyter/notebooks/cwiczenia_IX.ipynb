{
 "cells": [
  {
   "cell_type": "markdown",
   "metadata": {},
   "source": [
    "# Ćwiczenia 9\n",
    "\n",
    "## Programowanie dla analizy danych\n",
    "\n",
    "2017/2018, semestr letni\n",
    "\n",
    "---\n",
    "\n",
    "## 1\n",
    "\n",
    "Użyj klasy `Wektor` z [wykładu](http://math.uni.lodz.pl/~rodakt/dane/analiza_danych/17.18/wyklad_VIII.html) do obliczenia rzędu macierzy.\n",
    "\n",
    "```\n",
    "-2  1  3  -5 -4 -2  2\n",
    "-3 -5 -3  -4  3 -5 -4\n",
    "2   2  4   2 -5  4 -1\n",
    "11  1  15 -4 -21 8  22\n",
    "0   0 -2  -1 -1  3 -3\n",
    "2  -3 -1  -3 -2  1  4\n",
    "```"
   ]
  },
  {
   "cell_type": "code",
   "execution_count": null,
   "metadata": {
    "collapsed": true
   },
   "outputs": [],
   "source": []
  },
  {
   "cell_type": "markdown",
   "metadata": {},
   "source": [
    "---\n",
    "## 2\n",
    "\n",
    "Napisz klasę `ZZ` implementującą arytmetykę reszt modulo $m\\geqslant 2$ na zbiorze reszt $\\{0,1,\\dots,m-1\\}$. Arytmetyka ta wygląda następująco: jeśli $a,b\\in\\{0,1,\\ldots,m-1\\}$, to \n",
    "* $a\\oplus b$ jest resztą z dzielenia $a+b$ przez m;\n",
    "* $a\\odot b$ jest resztą z dzielenia $a\\cdot b$ przez m.\n",
    "\n",
    "Na przykład, jeśli $m=7$, to zbiór reszt jest równy $\\{0,1,2,3,4,5,6\\}$. Wtedy dla $a=5$, $b=2$ mamy\n",
    "$$a\\oplus b=0, \\quad a\\odot b =3$$ \n",
    "\n",
    "Przez $-a$ oznaczamy taką resztę $b$, że $a\\oplus b=0$. Podobnie, przez $1/a$ oznaczamy taką resztę $b$, że $a\\odot b=1$.\n",
    "Reszta $-a$ zawsze istnieje, reszta $1/a$ może nie istnieć.\n",
    "\n",
    "Odejmowanie $\\ominus$ definiujemy wzorem\n",
    "\n",
    "$$a\\ominus b:=a\\oplus(-b).$$\n",
    "\n",
    "Ponadto, jeśli $k$ jest liczbą całkowitą, to  $k\\cdot a$ oznacza:\n",
    "  * $a\\oplus a \\oplus\\cdots\\oplus a$ -- suma $k$ składników, gdy $k\\geqslant 0$;\n",
    "  * $-(a\\oplus a \\oplus\\cdots\\oplus a)$ -- element przeciwny do sumy $-k$ składników.\n",
    "\n",
    "Przykładowo, przy podanych wyżej oznaczeniach\n",
    "\n",
    "$$\\quad a\\oplus 2\\cdot b=2,\\quad 10\\cdot a=1,\\quad -4\\cdot b=6.$$\n",
    "\n",
    "W iloczynie liczby całkowitej przez resztę liczba całkowita jest zawsze pierwszym czynnikiem.\n",
    "\n",
    "### 2.1\n",
    "\n",
    "Pisanie klasy `ZZ` zacznij od implementacji metod:\n",
    "\n",
    "* `__init__(self, n, mod)`\n",
    "* `__repr__(self)`\n",
    "* `__eq__(self, y)`\n",
    "\n",
    "Tu i w następnych punktach zaglądaj do testów, aby zorientować się w wymaganiach wobec metod. Pamiętaj, że reszt, które mają różne atrybuty `mod` nie można porównać, dodać, odjąć, pomnożyć. Spraw, aby w tym przypadku klasa rzucała wyjątek `ArithmeticError` z odpowiednim komunikatem."
   ]
  },
  {
   "cell_type": "code",
   "execution_count": null,
   "metadata": {
    "collapsed": true
   },
   "outputs": [],
   "source": []
  },
  {
   "cell_type": "markdown",
   "metadata": {},
   "source": [
    "#### Testy"
   ]
  },
  {
   "cell_type": "code",
   "execution_count": null,
   "metadata": {
    "collapsed": true
   },
   "outputs": [],
   "source": [
    "a = ZZ(10, mod=7)\n",
    "b = ZZ(-10, mod=7)\n",
    "c = ZZ(6, mod=7)\n",
    "d = ZZ(-1, mod=7)\n",
    "\n",
    "assert repr(a) == 'ZZ(3, mod=7)'\n",
    "assert repr(b) == 'ZZ(4, mod=7)'\n",
    "assert repr(c) == 'ZZ(6, mod=7)'\n",
    "assert repr(d) == 'ZZ(6, mod=7)'\n",
    "\n",
    "assert ZZ(4, mod=12) == ZZ(28, mod=12)\n",
    "assert ZZ(-20, mod=19) == ZZ(18, mod=19)\n",
    "\n",
    "try:\n",
    "    ZZ(1, mod=2) == ZZ(1, mod=3)\n",
    "except ArithmeticError:\n",
    "    pass\n",
    "else:\n",
    "    raise AssertionError('Nie można porównać reszt o różnych modułach.')"
   ]
  },
  {
   "cell_type": "markdown",
   "metadata": {},
   "source": [
    "### 2.2\n",
    "\n",
    "Dopisz metody:\n",
    "\n",
    "* `__add__(self, y)`\n",
    "* `__neg__(self)`\n",
    "* `__sub__(self, y)`\n",
    "* `__mul__(self, y)`"
   ]
  },
  {
   "cell_type": "code",
   "execution_count": null,
   "metadata": {
    "collapsed": true
   },
   "outputs": [],
   "source": []
  },
  {
   "cell_type": "markdown",
   "metadata": {},
   "source": [
    "#### Testy"
   ]
  },
  {
   "cell_type": "code",
   "execution_count": null,
   "metadata": {
    "collapsed": true
   },
   "outputs": [],
   "source": [
    "a = ZZ(2, mod=6)\n",
    "b = ZZ(3, mod=6)\n",
    "c = ZZ(4, mod=6)\n",
    "\n",
    "assert a + b == ZZ(5, mod=6)\n",
    "assert -a == c\n",
    "assert -a + b == ZZ(1, mod=6)\n",
    "assert a - b == ZZ(5, mod=6)\n",
    "assert a * b == ZZ(0, mod=6)\n",
    "assert a * c == a\n",
    "assert b * c == ZZ(0, mod=6)\n",
    "\n",
    "try:\n",
    "    ZZ(1, mod=2) + ZZ(1, mod=3)\n",
    "    ZZ(1, mod=2) * ZZ(1, mod=3)\n",
    "except ArithmeticError:\n",
    "    pass\n",
    "else:\n",
    "    raise AssertionError('Nie zgadzają się moduły.')"
   ]
  },
  {
   "cell_type": "markdown",
   "metadata": {},
   "source": [
    "### 2.3\n",
    "\n",
    "Napisz funkcję `potęga_modularna(podstawa, wykładnik)`. Parametr `podstawa` to obiekt klasy `ZZ`, `wykładnik` -- liczba całkowita nieujemna. Funkcja zwraca wartość iloczynu `podstawa * ... * podstawa` o `wykładnik` czynnikach.\n",
    "\n",
    "Bezpośrednia implementacja tej funkcji polega na:\n",
    "1. mnożeniu podstawy przez siebie w pętli,\n",
    "2. lub podniesieniu `podstawa.n` do potęgi `wykładnik` w liczbach całkowitych a następnie obliczeniu reszty modulo `podstawa.mod`.\n",
    "\n",
    "Sposób pierwszy oszczędza pamięć (nie pojawiają się żadne duże liczby) ale jest czasochłonny -- przy wykładniku większym niż `10 ** 6` robi się już bardzo znaczący.\n",
    "\n",
    "Sposób drugi również jest czasochłonny, a do tego pożera pamięć, gdyż wymaga obliczenia potencjalnie wielkiej liczby.\n",
    "\n",
    "Spróbujmy obliczyć pierwszym sposobem $3^{101}$ mod $7$:\n",
    "$$3^1\\equiv 3$$\n",
    "$$3^2\\equiv 9\\equiv 2$$\n",
    "$$3^3\\equiv 3\\cdot3^2\\equiv 3\\cdot 2\\equiv 6$$\n",
    "$$3^4\\equiv 3\\cdot 3^3\\equiv 3\\cdot 6\\equiv 18\\equiv 4$$\n",
    "$$\\ldots$$\n",
    "\n",
    "Już przy tym wykładniku pętla jest dosyć długa, przynajmniej jeśli liczyć na kartce. Licząc jeszcze dwie kolejne potęgi zauważysz, że $3^6\\equiv 1$ mod $7$, co pozwala na wydedukowanie wyniku.\n",
    "\n",
    "Sposobem drugim:\n",
    "$$3^{101} \\equiv 1546132562196033993109383389296863818106322566003\\equiv 5$$\n",
    "Pojawiła się wielka liczba. Jeśli wykładnik jest rzędu milionów, to tym sposobem w ogóle nie uzyskamy wyniku.\n",
    "\n",
    "Podam teraz sposób trzeci, który pozwala na obliczanie potęg modularnych na ogromnych wykładnikach, a rachowany przez nas przypadek z łatwością rozwiązuje na kartce:\n",
    "$$\n",
    "3^{101}\\equiv 3^{2\\cdot 50 + 1}\\equiv (3^2)^{50}\\cdot 3\\equiv 9^{50}\\cdot 3\\equiv 2^{50}\\cdot 3\\\\\n",
    "\\equiv 4^{25}\\cdot 3\\equiv 4^{2\\cdot 12 + 1}\\cdot 3\\equiv 16^{12}\\cdot 4\\cdot 3\\equiv 2^{12}\\cdot 12\\\\\n",
    "\\equiv 4^6\\cdot 5\\equiv 16^3\\cdot 5\\equiv 2^3\\cdot 5\\equiv 5\n",
    "$$\n",
    "A zatem liczenie $a^b$ mod $m$ sprowadza się do wydzielenia z resztą $b$ przez $2$:\n",
    "\n",
    "$$\n",
    "a^b\\equiv a^{2\\cdot b_1+r}\\equiv (a^2)^{b_1}\\cdot a^r\\equiv a_1^{b_1}\\cdot a^r\\equiv a_1^{2\\cdot b_2+r_1}\\cdot a^r\\\\\n",
    "\\equiv (a_1^2)^{b_2}\\cdot a_1^{r_1}\\cdot a^r\\equiv a_2^{b_2}\\cdot a_1^{r_1}\\cdot a^r\\equiv \\cdots\n",
    "$$\n",
    "\n",
    "Napisz funkcję `potęga_modularna()` używająca właśnie tego sposobu."
   ]
  },
  {
   "cell_type": "code",
   "execution_count": null,
   "metadata": {
    "collapsed": true
   },
   "outputs": [],
   "source": []
  },
  {
   "cell_type": "markdown",
   "metadata": {},
   "source": [
    "#### Testy"
   ]
  },
  {
   "cell_type": "code",
   "execution_count": null,
   "metadata": {
    "collapsed": true
   },
   "outputs": [],
   "source": [
    "assert potęga_modularna(ZZ(2, mod=3), 0) == ZZ(1, mod=3)\n",
    "assert potęga_modularna(ZZ(2, mod=4), 5) == ZZ(0, mod=4)\n",
    "assert potęga_modularna(ZZ(3, mod=7), 101) == ZZ(5, mod=7)\n",
    "assert potęga_modularna(ZZ(3, mod=7), 6**100) == ZZ(1, mod=7)"
   ]
  },
  {
   "cell_type": "markdown",
   "metadata": {},
   "source": [
    "### 2.4\n",
    "\n",
    "Dopisz metodę:\n",
    "\n",
    "* `__pow__(self, wykładnik)`\n",
    "\n",
    "Ta metoda wywoływana jest przez infiksowy operator potęgowania `**`. Parametr `wykładnik` jest liczbą całkowitą nieujemną. Wykorzystaj funkcję `potęga_modularna()`."
   ]
  },
  {
   "cell_type": "code",
   "execution_count": null,
   "metadata": {
    "collapsed": true
   },
   "outputs": [],
   "source": []
  },
  {
   "cell_type": "markdown",
   "metadata": {},
   "source": [
    "#### Testy"
   ]
  },
  {
   "cell_type": "code",
   "execution_count": null,
   "metadata": {
    "collapsed": true
   },
   "outputs": [],
   "source": [
    "a = ZZ(3, mod=5)\n",
    "potęgi = [1, 3, 4, 2, 1]\n",
    "\n",
    "for w, potęga in enumerate(potęgi):\n",
    "    assert a ** w == ZZ(potęga, mod=5), '{} ** {} == {}'.format(a, w, ZZ(potęga, mod=5))\n",
    "\n",
    "assert ZZ(2, mod=3) ** (10**7) == ZZ(1, mod=3)    "
   ]
  },
  {
   "cell_type": "markdown",
   "metadata": {},
   "source": [
    "### 2.5\n",
    "\n",
    "Dopisz metody:\n",
    "\n",
    "* `jest_odwracalny(self)` -- zwraca `True/False` w zależności od tego, czy `self` jest odwracalny, czyli czy ma element odwrotny;\n",
    "* `element_odwrotny(self)` -- zwraca element odwrotny do `self` lub rzuca wyjątek `ZeroDivisionError`, gdy element odwrotny nie istnieje."
   ]
  },
  {
   "cell_type": "code",
   "execution_count": null,
   "metadata": {
    "collapsed": true
   },
   "outputs": [],
   "source": []
  },
  {
   "cell_type": "markdown",
   "metadata": {},
   "source": [
    "#### Testy"
   ]
  },
  {
   "cell_type": "code",
   "execution_count": null,
   "metadata": {
    "collapsed": true
   },
   "outputs": [],
   "source": [
    "a = ZZ(3, mod=12)\n",
    "\n",
    "assert not a.jest_odwracalny()\n",
    "\n",
    "try:\n",
    "    a.element_odwrotny()\n",
    "except ZeroDivisionError:\n",
    "    pass\n",
    "else:\n",
    "    raise AssertionError('3 jest dzielnikiem 0 modulo 12.')\n",
    "\n",
    "for k in range(1, 11):\n",
    "    b = ZZ(k, mod=11)\n",
    "    assert b.jest_odwracalny(), b\n",
    "\n",
    "c = ZZ(4, 7)\n",
    "\n",
    "assert c.element_odwrotny() == ZZ(2, mod=7)"
   ]
  }
 ],
 "metadata": {
  "anaconda-cloud": {},
  "kernelspec": {
   "display_name": "Python [default]",
   "language": "python",
   "name": "python3"
  },
  "language_info": {
   "codemirror_mode": {
    "name": "ipython",
    "version": 3
   },
   "file_extension": ".py",
   "mimetype": "text/x-python",
   "name": "python",
   "nbconvert_exporter": "python",
   "pygments_lexer": "ipython3",
   "version": "3.5.4"
  }
 },
 "nbformat": 4,
 "nbformat_minor": 2
}
