{
 "cells": [
  {
   "cell_type": "markdown",
   "metadata": {},
   "source": [
    "# Ćwiczenia 2\n",
    "\n",
    "## Programowanie dla analizy danych\n",
    "\n",
    "2017/2018, semestr letni\n",
    "\n",
    "## 1\n",
    "\n",
    "### 1.1\n",
    "\n",
    "Napisz program, który pobiera od użytkownika (jednym poleceniem `input()`) ciąg liczb całkowitych rozdzielonych spacjami lub tabami (dowolną ilością). Program ma wyświetlać sumę i średnią arytmetyczną tego ciągu. Zadbaj, aby program wymuszał wprowadzenie danych w poprawnym formacie."
   ]
  },
  {
   "cell_type": "code",
   "execution_count": null,
   "metadata": {
    "collapsed": true
   },
   "outputs": [],
   "source": []
  },
  {
   "cell_type": "markdown",
   "metadata": {},
   "source": [
    "### 1.2\n",
    "\n",
    "Zmień program z punktu 1.1 tak, aby dawał użytkownikowi trzy szanse na wprowadzenie prawidłowych danych -- później program kończy działanie stosownym komunikatem."
   ]
  },
  {
   "cell_type": "code",
   "execution_count": null,
   "metadata": {
    "collapsed": true
   },
   "outputs": [],
   "source": []
  },
  {
   "cell_type": "markdown",
   "metadata": {},
   "source": [
    "## 2\n",
    "\n",
    "Chcemy napisać funkcję zwracającą ciąg arytmetyczny (skończony fragment). Funkcja powinna przyjmować trzy parametry:\n",
    "* pierwszy wyraz,\n",
    "* różnica ciągu,\n",
    "* liczba wyrazów.\n",
    "\n",
    "Ciąg powinien zostać zwrócony w postaci listy liczb.\n",
    "\n",
    "### 2.1\n",
    "\n",
    "Zaproponuj testy dla tej funkcji."
   ]
  },
  {
   "cell_type": "code",
   "execution_count": null,
   "metadata": {
    "collapsed": true
   },
   "outputs": [],
   "source": []
  },
  {
   "cell_type": "markdown",
   "metadata": {},
   "source": [
    "### 2.2\n",
    "\n",
    "Napisz funkcję i sprawdź, że przechodzi Twoje testy."
   ]
  },
  {
   "cell_type": "code",
   "execution_count": null,
   "metadata": {
    "collapsed": true
   },
   "outputs": [],
   "source": []
  },
  {
   "cell_type": "markdown",
   "metadata": {},
   "source": [
    "---\n",
    "## 3\n",
    "\n",
    "\n",
    "Wiele gatunków biologicznych ma dwie nazwy: polską i łacińską. Nazwa polska składa się z jednego, dwóch lub więcej członów -- wszystkie pisane małymi literami; nazwa łacińska to dwa człony, z których pierwszy zaczyna się dużą literą, drugi małą. Planujemy napisać dwuparametrową funkcję, która będzie, zgodnie z żądaną pisownią łączyć te dwie nazwy w jeden łańcuch postaci\n",
    "```\n",
    "'polska (łacińska)'\n",
    "```\n",
    "\n",
    "### 3.1\n",
    "\n",
    "Zaproponuj testy dla tej funkcji."
   ]
  },
  {
   "cell_type": "code",
   "execution_count": null,
   "metadata": {
    "collapsed": true
   },
   "outputs": [],
   "source": []
  },
  {
   "cell_type": "markdown",
   "metadata": {},
   "source": [
    "### 3.2\n",
    "\n",
    "Napisz funkcję i sprawdź, że przechodzi Twoje testy."
   ]
  },
  {
   "cell_type": "code",
   "execution_count": null,
   "metadata": {
    "collapsed": true
   },
   "outputs": [],
   "source": []
  },
  {
   "cell_type": "markdown",
   "metadata": {},
   "source": [
    "### 3.3\n",
    "\n",
    "Nazwa łacińska musi zawierać dokładnie dwa człony. Oczekujemy zatem, że funkcja wywoła wyjątek `ValueError`, jeżeli jest inaczej. Dopisz nowe testy, które to sprawdzają (użyj `try...except` i `assert`) i zmodyfikuj funkcję."
   ]
  },
  {
   "cell_type": "code",
   "execution_count": null,
   "metadata": {
    "collapsed": true
   },
   "outputs": [],
   "source": []
  },
  {
   "cell_type": "markdown",
   "metadata": {},
   "source": [
    "## 4\n",
    "\n",
    "Używając klucza `ma-li-no-we-bu-ty` można zaszyfrować wiadomość wymieniając znaki leżące wewnątrz tych samych sylab klucza: `m --> a`, `a --> m`, `l --> i`, `i --> l`, itd. Znaki, których nie ma w kluczu, pozostawia się bez zmian. Przykładowo tekst `ziemia jest płaska` wymaga wymienienia 9 znaków i po zaszyfrowaniu ma postać `zlwalm jwsy płmskm`. Powtórne zaszyfrowanie przywraca pierwotną postać tekstu. \n",
    "\n",
    "\n",
    "### 4.1\n",
    "\n",
    "Napisz funkcję `szyfruj_0(tekst)`. Parametr `tekst` jest łańcuchem. Funkcja zwraca łańcuch będący zaszyfrowanym tekstem `tekst` według klucza `malinowebuty`."
   ]
  },
  {
   "cell_type": "code",
   "execution_count": null,
   "metadata": {
    "collapsed": true
   },
   "outputs": [],
   "source": []
  },
  {
   "cell_type": "markdown",
   "metadata": {},
   "source": [
    "#### Testy"
   ]
  },
  {
   "cell_type": "code",
   "execution_count": null,
   "metadata": {
    "collapsed": true
   },
   "outputs": [],
   "source": [
    "szyfry_test = {'a': 'm', 'm': 'a', \n",
    "               'x': 'x', 'A': 'A', \n",
    "               'malinowebuty': 'amilonewubyt', \n",
    "               'ziemia jest płaska': 'zlwalm jwsy płmskm'}\n",
    "\n",
    "for jawny, tajny in szyfry_test.items():\n",
    "    assert szyfruj_0(jawny) == tajny, 'Błąd, powinno być: {} ==> {}'.format(jawny, tajny)"
   ]
  },
  {
   "cell_type": "markdown",
   "metadata": {},
   "source": [
    "### 4.2\n",
    "\n",
    "\n",
    "Napisz dwuparametrową funkcję `szyfruj_1(tekst, klucz)`. Argumenty `klucz` i `tekst` są łańcuchami. Funkcja zwraca łańcuch będący zaszyfrowanym tekstem `tekst` według klucza `klucz`. Funkcja powinna mieć argument domyślny `klucz` ustawiony na wartość `'malinowebuty'`."
   ]
  },
  {
   "cell_type": "code",
   "execution_count": null,
   "metadata": {
    "collapsed": true
   },
   "outputs": [],
   "source": []
  },
  {
   "cell_type": "markdown",
   "metadata": {},
   "source": [
    "#### Testy"
   ]
  },
  {
   "cell_type": "code",
   "execution_count": null,
   "metadata": {
    "collapsed": true
   },
   "outputs": [],
   "source": [
    "szyfry_test = {'a': 'm', 'm': 'a', \n",
    "               'x': 'x', 'A': 'A', \n",
    "               'malinowebuty': 'amilonewubyt', \n",
    "               'ziemia jest płaska': 'zlwalm jwsy płmskm'}\n",
    "\n",
    "for jawny, tajny in szyfry_test.items():\n",
    "    assert szyfruj_1(jawny) == tajny, 'Błąd, powinno być: {} ==> {}'.format(jawny, tajny)\n",
    "\n",
    "test_klucz_jawny_tajny = [('ab', 'abc', 'bac'),\n",
    "                          ('XYUV', 'xVyU', 'xUyV'),\n",
    "                          ('gaderypoluki', 'gaderypoluki', 'agedyropulik')]\n",
    "\n",
    "for klucz, jawny, tajny in test_klucz_jawny_tajny:\n",
    "    assert szyfruj_1(jawny, klucz) == tajny, 'Klucz {} zamienia {} na {}'.format(klucz, jawny, tajny)"
   ]
  },
  {
   "cell_type": "markdown",
   "metadata": {},
   "source": [
    "### 4.3\n",
    "\n",
    "\n",
    "Prawidłowy klucz, to taki łańcuch znaków, który jest różnowartościowy i ma parzystą długość. Napisz funkcję  `szyfruj_2(tekst, klucz)` rozszerzającą `szyfruj_1()` o test czy klucz jest poprawny. W przpadku wykrycia nieprawidłowego klucza funkcja `szyfruj_2()` ma wywoływać wyjątek `ValueError` z komunikatem: `nieprawidłowy klucz`."
   ]
  },
  {
   "cell_type": "code",
   "execution_count": null,
   "metadata": {
    "collapsed": true
   },
   "outputs": [],
   "source": []
  },
  {
   "cell_type": "markdown",
   "metadata": {},
   "source": [
    "#### Testy"
   ]
  },
  {
   "cell_type": "code",
   "execution_count": null,
   "metadata": {},
   "outputs": [],
   "source": [
    "szyfry_test = {'a': 'm', 'm': 'a', \n",
    "               'x': 'x', 'A': 'A', \n",
    "               'malinowebuty': 'amilonewubyt', \n",
    "               'ziemia jest płaska': 'zlwalm jwsy płmskm'}\n",
    "\n",
    "for jawny, tajny in szyfry_test.items():\n",
    "    assert szyfruj_2(jawny) == tajny, 'Błąd, powinno być: {} ==> {}'.format(jawny, tajny)\n",
    "\n",
    "test_klucz_jawny_tajny = [('ab', 'abc', 'bac'),\n",
    "                          ('XYUV', 'xVyU', 'xUyV'),\n",
    "                          ('gaderypoluki', 'gaderypoluki', 'agedyropulik')]\n",
    "\n",
    "for klucz, jawny, tajny in test_klucz_jawny_tajny:\n",
    "    assert szyfruj_2(jawny, klucz) == tajny, 'Klucz {} zamienia {} na {}'.format(klucz, jawny, tajny)\n",
    "\n",
    "nieprawidłowe_klucze = ['', 'x', 'xyz', 'xyzx']\n",
    "\n",
    "for klucz in nieprawidłowe_klucze:\n",
    "    try:\n",
    "        szyfruj_2('abc', klucz)\n",
    "    except ValueError as err:\n",
    "        assert err.args[0] == 'nieprawidłowy klucz!', 'Niewłaściwy komunikat.'\n",
    "    else:\n",
    "        raise AssertionError(\"'{}' nie jest prawidłowym kluczem!\".format(klucz))"
   ]
  }
 ],
 "metadata": {
  "anaconda-cloud": {},
  "kernelspec": {
   "display_name": "Python [default]",
   "language": "python",
   "name": "python3"
  },
  "language_info": {
   "codemirror_mode": {
    "name": "ipython",
    "version": 3
   },
   "file_extension": ".py",
   "mimetype": "text/x-python",
   "name": "python",
   "nbconvert_exporter": "python",
   "pygments_lexer": "ipython3",
   "version": "3.5.4"
  }
 },
 "nbformat": 4,
 "nbformat_minor": 1
}
