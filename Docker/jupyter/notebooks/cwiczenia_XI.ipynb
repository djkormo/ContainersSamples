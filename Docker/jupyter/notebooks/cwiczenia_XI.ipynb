{
 "cells": [
  {
   "cell_type": "markdown",
   "metadata": {},
   "source": [
    "# Ćwiczenia 11\n",
    "\n",
    "## Programowanie dla analizy danych\n",
    "\n",
    "2017/2018, semestr letni\n",
    "\n",
    "---\n",
    "\n",
    "## 1\n",
    "\n",
    "Napisz funkcję generatora `tribonacci(a, b, c)`. Parametry `a`, `b`, `c` to liczby całkowite domyślnie ustawione na `0`, `0` i `1`. Funkcja zwraca generator zawierający kolejne wyrazy ciągu Tribonacciego (zob. [arkusz 4](http://math.uni.lodz.pl/~rodakt/dane/analiza_danych/17.18/cwiczenia_IV.html))."
   ]
  },
  {
   "cell_type": "code",
   "execution_count": null,
   "metadata": {},
   "outputs": [],
   "source": []
  },
  {
   "cell_type": "markdown",
   "metadata": {},
   "source": [
    "#### Testy"
   ]
  },
  {
   "cell_type": "code",
   "execution_count": null,
   "metadata": {},
   "outputs": [],
   "source": [
    "trib = tribonacci()\n",
    "\n",
    "# http://oeis.org/A000073\n",
    "assert [next(trib) for n in range(38)] == [0, 0, 1, 1, 2, 4, 7, 13, 24, 44, 81, 149, 274,\n",
    "                                              504, 927, 1705, 3136, 5768, 10609, 19513,\n",
    "                                              35890, 66012, 121415, 223317, 410744,\n",
    "                                              755476, 1389537, 2555757, 4700770, 8646064,\n",
    "                                              15902591, 29249425, 53798080, 98950096,\n",
    "                                              181997601, 334745777, 615693474, 1132436852]\n",
    "\n",
    "trib = tribonacci(-1, 0, 1)\n",
    "assert [next(trib) for n in range(10)] == [-1, 0, 1, 0, 1, 2, 3, 6, 11, 20] "
   ]
  },
  {
   "cell_type": "markdown",
   "metadata": {},
   "source": [
    "## 2\n",
    "\n",
    "Napisz funkcję generatora `coraz_większe(seq)`. Parametr `seq` jest sekwencją zawierającą liczby. Zwracany generator zawiera te liczby z `seq`, które są **większe** od wszystkich liczb, które je w `seq` poprzedzają. Jeśli `seq` jest pusty, to zwracany generator również jest pusty."
   ]
  },
  {
   "cell_type": "code",
   "execution_count": null,
   "metadata": {},
   "outputs": [],
   "source": []
  },
  {
   "cell_type": "markdown",
   "metadata": {},
   "source": [
    "#### Testy"
   ]
  },
  {
   "cell_type": "code",
   "execution_count": null,
   "metadata": {},
   "outputs": [],
   "source": [
    "assert list(coraz_większe([])) == []\n",
    "assert list(coraz_większe([1, 3, 3, 8])) == [1, 3, 8]\n",
    "assert list(coraz_większe([7, 3, 2, 8])) == [7, 8]\n",
    "assert list(coraz_większe([7, 3, 2, 1])) == [7]\n",
    "\n",
    "gen = coraz_większe([7, 3, 10, 2, 1])\n",
    "assert next(gen) == 7\n",
    "assert next(gen) == 10\n",
    "\n",
    "try:\n",
    "    next(gen)\n",
    "except StopIteration:\n",
    "    pass\n",
    "else:\n",
    "    AssertionError('Generator został wyczerpany.')"
   ]
  },
  {
   "cell_type": "markdown",
   "metadata": {},
   "source": [
    "## 3\n",
    "\n",
    "Napisz funkcję generatora `krata()`. Funkcja zwraca nieskończony generator przechodzący przez te wszystkie punkty płaszczyzny, które mają całkowite i nieujemne obie współrzędne. Zachowaj kolejność jak na rysunku:\n",
    "\n",
    "<center>\n",
    "    <img src=\"krata.png\"/>\n",
    "</center>\n",
    "\n",
    "*Wskazówka:* Zmodyfikuj program z [wykładu.](http://math.uni.lodz.pl/~rodakt/dane/analiza_danych/17.18/wyklad_X.html)"
   ]
  },
  {
   "cell_type": "code",
   "execution_count": null,
   "metadata": {},
   "outputs": [],
   "source": []
  },
  {
   "cell_type": "markdown",
   "metadata": {},
   "source": [
    "#### Test rysunkowy"
   ]
  },
  {
   "cell_type": "code",
   "execution_count": null,
   "metadata": {},
   "outputs": [],
   "source": [
    "from matplotlib import pyplot as plt\n",
    "%matplotlib inline\n",
    "plt.style.use('seaborn-notebook')"
   ]
  },
  {
   "cell_type": "code",
   "execution_count": null,
   "metadata": {},
   "outputs": [],
   "source": [
    "N = 64\n",
    "p = krata()\n",
    "punkty = [next(p) for _ in range(N)]\n",
    "X, Y = zip(*punkty)\n",
    "fig, ax = plt.subplots()\n",
    "ax.set_aspect('equal')\n",
    "ax.grid(ls=':')\n",
    "ax.plot(X, Y, marker='o');"
   ]
  },
  {
   "cell_type": "markdown",
   "metadata": {},
   "source": [
    "## 4\n",
    "\n",
    "Ściągnij na dysk plik [imiona.txt](https://github.com/chamerion/files/blob/master/imiona.txt?raw=true). \n",
    "\n",
    "### 4.1 \n",
    "\n",
    "Utwórz wyrażenie generatora z tymi imionami z pliku, które zawierają napis `'oz'`. Nie uwzględniaj wielkości liter. Zadbaj, aby  imiona nie zawierały znaku nowej linii."
   ]
  },
  {
   "cell_type": "code",
   "execution_count": null,
   "metadata": {},
   "outputs": [],
   "source": []
  },
  {
   "cell_type": "markdown",
   "metadata": {},
   "source": [
    "### 4.2\n",
    "\n",
    "Napisz funkcję generatora `grep(napis, rozróżniaj_wielkie_litery)`. Funkcja zwraca generator z tymi imionami z pliku, które zawierają napis `napis`. Uwzględniaj wielkość liter jeśli `rozróżniaj_wielkie_litery` ma wartość `True`. Domyślnie parametr ten ustaw na `False`. Ponownie zadbaj, aby imiona nie zawierały znaku nowej linii."
   ]
  },
  {
   "cell_type": "code",
   "execution_count": null,
   "metadata": {},
   "outputs": [],
   "source": []
  },
  {
   "cell_type": "markdown",
   "metadata": {},
   "source": [
    "## 5\n",
    "\n",
    "### 5.1\n",
    "\n",
    "Napisz funkcję generatora `połącz_naprzemiennie(it1, it2)`. Parametry `it1`, `it2` to obiekty iterowalne. Zwracany generator zawiera naprzemiennie kolejne elementy z `it1` i z `it2`, przy czym najpierw z `it1`. Generator kończy się, gdy jeden z obiektów iterowalnych został wyczerpany i nie da się zwrócić kolejnego elementu. W szczególności jeśli `it1` jest pusty, to generator też jest pusty. Jeśli `it1` jest niepusty, a `it2` pusty, to generator zawiera dokładnie jeden element."
   ]
  },
  {
   "cell_type": "code",
   "execution_count": null,
   "metadata": {},
   "outputs": [],
   "source": []
  },
  {
   "cell_type": "markdown",
   "metadata": {},
   "source": [
    "#### Testy"
   ]
  },
  {
   "cell_type": "code",
   "execution_count": null,
   "metadata": {},
   "outputs": [],
   "source": [
    "assert list(połącz_naprzemiennie('abc', 'xyz')) == list('axbycz')\n",
    "assert list(połącz_naprzemiennie('abc', 'xy')) == list('axbyc')\n",
    "assert list(połącz_naprzemiennie('ab', 'xyz')) == list('axby')\n",
    "assert list(połącz_naprzemiennie('abc', '')) == ['a']\n",
    "assert list(połącz_naprzemiennie('', 'xyz')) == []\n",
    "assert list(połącz_naprzemiennie([1, 2], [3, 4])) == [1, 3, 2, 4]\n",
    "\n",
    "it = połącz_naprzemiennie((1, 2), 'a')\n",
    "\n",
    "assert next(it) == 1\n",
    "assert next(it) == 'a'\n",
    "assert next(it) == 2\n",
    "\n",
    "try:\n",
    "    next(it)\n",
    "except StopIteration:\n",
    "    pass\n",
    "else:\n",
    "    AssertionError('Generator został wyczerpany')"
   ]
  },
  {
   "cell_type": "markdown",
   "metadata": {},
   "source": [
    "### 5.2\n",
    "\n",
    "Uogólnij funkcję `połącz_naprzemiennie()` z punktu 5.1 do funkcji `połącz_naprzemiennie(*iterowalne)` przyjmującej dowolnie wiele obiektów iterowalnych. Sprawdź poprzednie testy i te poniżej."
   ]
  },
  {
   "cell_type": "code",
   "execution_count": null,
   "metadata": {},
   "outputs": [],
   "source": []
  },
  {
   "cell_type": "markdown",
   "metadata": {},
   "source": [
    "#### Testy"
   ]
  },
  {
   "cell_type": "code",
   "execution_count": null,
   "metadata": {},
   "outputs": [],
   "source": [
    "assert list(połącz_naprzemiennie()) == []\n",
    "assert list(połącz_naprzemiennie('a', 'xy', 'uvw')) == list('axu')\n",
    "assert list(połącz_naprzemiennie('abc', 'xy', 'u')) == list('axuby')\n",
    "assert list(połącz_naprzemiennie('abc', 'kl', '', 'u')) == list('ak')"
   ]
  }
 ],
 "metadata": {
  "anaconda-cloud": {},
  "kernelspec": {
   "display_name": "Python [default]",
   "language": "python",
   "name": "python3"
  },
  "language_info": {
   "codemirror_mode": {
    "name": "ipython",
    "version": 3
   },
   "file_extension": ".py",
   "mimetype": "text/x-python",
   "name": "python",
   "nbconvert_exporter": "python",
   "pygments_lexer": "ipython3",
   "version": "3.5.4"
  }
 },
 "nbformat": 4,
 "nbformat_minor": 2
}
