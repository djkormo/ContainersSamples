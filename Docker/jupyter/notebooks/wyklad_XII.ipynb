{
 "cells": [
  {
   "cell_type": "markdown",
   "metadata": {
    "slideshow": {
     "slide_type": "slide"
    }
   },
   "source": [
    "# Podstawy programowania w analizie danych\n",
    "\n",
    "## Tomasz Rodak\n",
    "\n",
    "2017/2018, semestr letni\n",
    "\n",
    "Wykład XII"
   ]
  },
  {
   "cell_type": "markdown",
   "metadata": {
    "slideshow": {
     "slide_type": "slide"
    }
   },
   "source": [
    "# Łańcuchy znaków"
   ]
  },
  {
   "cell_type": "markdown",
   "metadata": {
    "slideshow": {
     "slide_type": "slide"
    }
   },
   "source": [
    "## Sekwencje ucieczkowe\n",
    "\n",
    "* **Sekwencje ucieczkowe** to sekwencje znaków, które są traktowane przez interpreter Pythona w specjalny sposób.\n",
    "\n",
    "* Każda sekwencja ucieczkowa rozpoczyna się od znaku wstecznego ukośnika (backslash) `\\`"
   ]
  },
  {
   "cell_type": "markdown",
   "metadata": {
    "slideshow": {
     "slide_type": "subslide"
    }
   },
   "source": [
    "### Przykład\n",
    "\n",
    "Co pokaże ten `print()`?"
   ]
  },
  {
   "cell_type": "code",
   "execution_count": null,
   "metadata": {},
   "outputs": [],
   "source": [
    "tekst = 'Języki programowania:\\n\\t1. Lisp\\n\\t2. Fortran\\n\\t3. Haskell'\n",
    "print(tekst)"
   ]
  },
  {
   "cell_type": "markdown",
   "metadata": {
    "slideshow": {
     "slide_type": "subslide"
    }
   },
   "source": [
    "### Tabela sekwencji ucieczkowych:\n",
    "\n",
    "Escape | What it does.\n",
    "---- | ----\n",
    "\\\\ | Backslash (\\)\n",
    "\\' |\tSingle-quote (')\n",
    "\\\" |\tDouble-quote (\")\n",
    "\\a |\tASCII bell (BEL)\n",
    "\\b |\tASCII backspace (BS)\n",
    "\\f |\tASCII formfeed (FF)\n",
    "\\n |\tASCII linefeed (LF)\n",
    "\\N{name} |\tCharacter named name in the Unicode database (Unicode only)\n",
    "\\r |\tCarriage Return (CR)\n",
    "\\t |\tHorizontal Tab (TAB)\n",
    "\\uxxxx |\tCharacter with 16-bit hex value xxxx (u'' string only)\n",
    "\\Uxxxxxxxx |\tCharacter with 32-bit hex value xxxxxxxx (u'' string only)\n",
    "\\v |\tASCII vertical tab (VT)\n",
    "\\ooo |\tCharacter with octal value ooo\n",
    "\\xhh |\tCharacter with hex value hh"
   ]
  },
  {
   "cell_type": "markdown",
   "metadata": {
    "slideshow": {
     "slide_type": "subslide"
    }
   },
   "source": [
    "Przykłady różnych sekwencji ucieczkowych."
   ]
  },
  {
   "cell_type": "code",
   "execution_count": 8,
   "metadata": {},
   "outputs": [
    {
     "name": "stdout",
     "output_type": "stream",
     "text": [
      "Apostrof ' między apostrofami\n",
      "Oto ukośnik \\\n",
      "Temperatura zamarzania wody to 0°C\n",
      "A to znak towarowy: ®\n",
      "\n"
     ]
    }
   ],
   "source": [
    "apostrof = 'Apostrof \\' między apostrofami\\n'\n",
    "ukośnik = 'Oto ukośnik \\\\\\n'\n",
    "zamarzanie = 'Temperatura zamarzania wody to 0\\xb0C\\n'\n",
    "znak_towarowy = 'A to znak towarowy: \\N{REGISTERED SIGN}\\n'\n",
    "\n",
    "print(apostrof, ukośnik, zamarzanie, znak_towarowy, sep='')"
   ]
  },
  {
   "cell_type": "markdown",
   "metadata": {
    "slideshow": {
     "slide_type": "slide"
    }
   },
   "source": [
    "## Surowe łańcuchy (*raw strings*)\n",
    "\n",
    "* **Surowy łańcuch** to zwykły łańcuch znaków, który został w specjalny sposób utworzony -- przez postawienie znaku `r` lub `R` przed apostrofem/cudzysłowem otwierającym łańcuch.\n",
    "\n",
    "* W surowym łańcuchu backslash nie tworzy sekwencji ucieczkowej -- jest zaliczany do łańcucha wraz ze znakiem, który po nim następuje."
   ]
  },
  {
   "cell_type": "markdown",
   "metadata": {
    "slideshow": {
     "slide_type": "subslide"
    }
   },
   "source": [
    "### Przykład\n",
    "\n",
    "Łańcuch `\\n` składa się z **jednego** znaku -- znaku nowej linii:"
   ]
  },
  {
   "cell_type": "code",
   "execution_count": 9,
   "metadata": {},
   "outputs": [
    {
     "data": {
      "text/plain": [
       "1"
      ]
     },
     "execution_count": 9,
     "metadata": {},
     "output_type": "execute_result"
    }
   ],
   "source": [
    "len('\\n')"
   ]
  },
  {
   "cell_type": "markdown",
   "metadata": {
    "slideshow": {
     "slide_type": "fragment"
    }
   },
   "source": [
    "Łańcuch `r'\\n'` to dwa znaki -- backslash i litera `n`:"
   ]
  },
  {
   "cell_type": "code",
   "execution_count": 10,
   "metadata": {},
   "outputs": [
    {
     "data": {
      "text/plain": [
       "2"
      ]
     },
     "execution_count": 10,
     "metadata": {},
     "output_type": "execute_result"
    }
   ],
   "source": [
    "len(r'\\n')"
   ]
  },
  {
   "cell_type": "markdown",
   "metadata": {
    "slideshow": {
     "slide_type": "fragment"
    }
   },
   "source": [
    "Lub równoważnie:"
   ]
  },
  {
   "cell_type": "code",
   "execution_count": 11,
   "metadata": {},
   "outputs": [
    {
     "data": {
      "text/plain": [
       "True"
      ]
     },
     "execution_count": 11,
     "metadata": {},
     "output_type": "execute_result"
    }
   ],
   "source": [
    "r'\\n' == '\\\\n'"
   ]
  },
  {
   "cell_type": "markdown",
   "metadata": {
    "slideshow": {
     "slide_type": "slide"
    }
   },
   "source": [
    "## Ścieżki dostępu\n",
    "\n",
    "Trzy sposoby na poprawną ścieżkę dostępu w MS Windows:\n",
    "\n",
    "* Wykorzystać surowy łańcuch:\n",
    "  ```python\n",
    "  path = r'C:\\User\\Moje dokumenty'\n",
    "  ```\n",
    "\n",
    "* Utworzyć sekwencję ucieczkową dla backslasha:\n",
    "  ```python\n",
    "  path = 'C:\\\\User\\\\Moje dokumenty'\n",
    "  ```\n",
    "\n",
    "* Pisać ukośnik zamiast wstecznego ukośnika:\n",
    "  ```python\n",
    "  path = 'C:/User/Moje dokumenty'\n",
    "  ```"
   ]
  },
  {
   "cell_type": "markdown",
   "metadata": {
    "slideshow": {
     "slide_type": "slide"
    }
   },
   "source": [
    "# Wyrażenia regularne"
   ]
  },
  {
   "cell_type": "markdown",
   "metadata": {
    "slideshow": {
     "slide_type": "slide"
    }
   },
   "source": [
    "## Wyrażenia regularne\n",
    "\n",
    "\n",
    "* Wyrażenie regularne to ciąg znaków definiujący wzorzec. Każdy wzorzec to formalny schemat dopasowywany do tekstu  przez algorytmy wyszukujące. \n",
    "\n",
    "* Dwie najważniejsze składnie dla wyrażeń regularnych to standard POSIX i składnia zaczerpnięta z języka Pearl\n",
    "\n",
    "* Python posiada wsparcie dla języka wyrażeń regularnych w stylu Pearl'a w bibliotece standardowej w module `re`.\n",
    "\n",
    "* W Pythonie wzorzec i tekst do którego się wzorzec stosuje to łańcuchy znaków lub łańcuchy bajtów."
   ]
  },
  {
   "cell_type": "markdown",
   "metadata": {
    "slideshow": {
     "slide_type": "slide"
    }
   },
   "source": [
    "## Serwisy online\n",
    "\n",
    "* [https://regexr.com/](https://regexr.com/)\n",
    "\n",
    "* [http://www.pyregex.com/](http://www.pyregex.com/)\n",
    "\n",
    "* [https://regex101.com/](https://regex101.com/)"
   ]
  },
  {
   "cell_type": "markdown",
   "metadata": {
    "slideshow": {
     "slide_type": "slide"
    }
   },
   "source": [
    "## Najprostszy wzorzec\n",
    "\n",
    "Najprostszy wzorzec to taki, w którym wszystkie znaki wzorca dopasowuje się literalnie do tekstu.\n",
    "\n",
    "Np. wzorzec\n",
    "```\n",
    "wilk\n",
    "```\n",
    "ma dwa dopasowania w tekście\n",
    "```\n",
    "Nosił wilk razy kilka, ponieśli i wilka.\n",
    "      ^^^^                        ^^^^\n",
    "```"
   ]
  },
  {
   "cell_type": "markdown",
   "metadata": {
    "slideshow": {
     "slide_type": "slide"
    }
   },
   "source": [
    "## Sekwencje ucieczkowe i metaznaki\n",
    "\n",
    "* Składnię wyrażenia regularnego budują znaki dopasowywane literalnie, sekwencje ucieczkowe i metaznaki.\n",
    "\n",
    "* Sekwencje ucieczkowe w wyrażeniach regularnych tworzy backslash.\n",
    "\n",
    "* **Metaznaki** to znaki, które odgrywają w wyrażeniach regularnych specjalną rolę i przez to same siebie nie dopasowują. Oto ich pełna lista:\n",
    "```\n",
    ". ^ $ * + ? { } [ ] \\ | ( )\n",
    "```\n",
    "\n",
    "* Każdy z tych znaków można dopasować stosując ucieczkę, czyli poprzedzając go wstecznym ukośnikiem."
   ]
  },
  {
   "cell_type": "markdown",
   "metadata": {
    "slideshow": {
     "slide_type": "slide"
    }
   },
   "source": [
    "## Cyfry, znaki alfanumeryczne, białe znaki\n",
    "\n",
    "Dopasowania do klas znaków tworzy się za pomocą sekwencji ucieczkowych.\n",
    "\n",
    "* `\\d` -- cyfra.\n",
    "\n",
    "* `\\w` -- znak alfanumeryczny, czyli litera, liczba lub podkreślnik.\n",
    "\n",
    "* `\\s` -- biały znak (*whitespace*)."
   ]
  },
  {
   "cell_type": "markdown",
   "metadata": {
    "slideshow": {
     "slide_type": "subslide"
    }
   },
   "source": [
    "### Zadanie\n",
    "\n",
    "Jaki wzorzec dopasuje kod pocztowy w tekście\n",
    "```\n",
    "Stefana Banacha 22, 90-238 Łódź\n",
    "```"
   ]
  },
  {
   "cell_type": "markdown",
   "metadata": {
    "slideshow": {
     "slide_type": "fragment"
    }
   },
   "source": [
    "```\n",
    "\\d\\d-\\d\\d\\d\n",
    "```"
   ]
  },
  {
   "cell_type": "markdown",
   "metadata": {
    "slideshow": {
     "slide_type": "subslide"
    }
   },
   "source": [
    "### Zadanie\n",
    "\n",
    "Ile dopasowań w tekście\n",
    "```\n",
    "Stefana Banacha 22, 90-238 Łódź\n",
    "```\n",
    "ma  wzorzec\n",
    "```\n",
    "\\w\\s\\w\n",
    "```"
   ]
  },
  {
   "cell_type": "markdown",
   "metadata": {
    "slideshow": {
     "slide_type": "fragment"
    }
   },
   "source": [
    "Trzy\n",
    "```\n",
    "Stefana Banacha 22, 90-238 Łódź\n",
    "      ^^^     ^^^        ^^^\n",
    "```\n",
    "o ile `Ł` zostanie uznane za znak alfanumeryczny."
   ]
  },
  {
   "cell_type": "markdown",
   "metadata": {
    "slideshow": {
     "slide_type": "slide"
    }
   },
   "source": [
    "## Zaprzeczenia do `\\d`, `\\w`, `\\s`\n",
    "\n",
    "* `\\D` -- znak **nie jest** cyfrą.\n",
    "\n",
    "* `\\W` -- znak **nie jest** znakiem alfanumerycznym.\n",
    "\n",
    "* `\\S` -- znak **nie jest** białym znakiem."
   ]
  },
  {
   "cell_type": "markdown",
   "metadata": {
    "slideshow": {
     "slide_type": "slide"
    }
   },
   "source": [
    "## Zbiory znaków\n",
    "\n",
    "* Nawiasy kwadratowe `[]` oznaczają w wyrażeniu regularnym zbiór znaków.  Np. wyrażenie `[0123456789abcdef]` oznacza dokładnie jedną cyfrę szesnastkową. \n",
    "\n",
    "* W nawiasach kwadratowych można stosować zakresy używając znaku minus. Przykłady:\n",
    "\n",
    "  * `[0-9]` - dowolna cyfra, równoważne z `\\d`,\n",
    "  * `[a-z]` - dowolna mała litera,\n",
    "  * `[0-9a-f]` - dowolna cyfra szesnastkowa."
   ]
  },
  {
   "cell_type": "markdown",
   "metadata": {
    "slideshow": {
     "slide_type": "subslide"
    }
   },
   "source": [
    "### Zadanie\n",
    "\n",
    "Jaki wzorzec dopasowuje każdą liczbę trzycyfrową?"
   ]
  },
  {
   "cell_type": "markdown",
   "metadata": {
    "slideshow": {
     "slide_type": "fragment"
    }
   },
   "source": [
    "```\n",
    "[1-9]\\d\\d\n",
    "```"
   ]
  },
  {
   "cell_type": "markdown",
   "metadata": {
    "slideshow": {
     "slide_type": "slide"
    }
   },
   "source": [
    "## Tworzenie dopełnień\n",
    "\n",
    "Jeżeli pierwszym znakiem w zbiorze znaków jest `^`, to zbiór ten dopasowuje te znaki, których w zbiorze **nie ma**.\n",
    "\n",
    "Np. wzorzec [^0-9] dopasowuje każdy znak, który **nie jest** cyfrą."
   ]
  },
  {
   "cell_type": "markdown",
   "metadata": {
    "slideshow": {
     "slide_type": "subslide"
    }
   },
   "source": [
    "### Zadanie\n",
    "\n",
    "Ile dopasowań ma wzorzec\n",
    "```\n",
    "\\w[^\\w]\\s\n",
    "```\n",
    "w tekście\n",
    "```\n",
    "Johannes Kepler (ur. 27 grudnia 1571 w Weil der Stadt, zm. 15 listopada 1630 w Ratyzbonie)\n",
    "```"
   ]
  },
  {
   "cell_type": "markdown",
   "metadata": {
    "slideshow": {
     "slide_type": "fragment"
    }
   },
   "source": [
    "```\n",
    "Johannes Kepler (ur. 27 grudnia 1571 w Weil der Stadt, zm. 15 listopada 1630 w Ratyzbonie)\n",
    "                  ^^^                               ^^^ ^^^\n",
    "```"
   ]
  },
  {
   "cell_type": "markdown",
   "metadata": {
    "slideshow": {
     "slide_type": "slide"
    }
   },
   "source": [
    "## Kwantyfikatory\n",
    "\n",
    "* Znaki `*`, `+` i `?` mają charakter kwantyfikatorów i odnoszą się do poprzedzającego znaku:\n",
    "\n",
    "  `*` -- dowolna liczba powtórzeń,\n",
    "  \n",
    "  `+` -- co najmniej jedno powtórzenie,\n",
    "  \n",
    "  `?` -- dokładnie jedno lub brak powtórzeń.\n",
    "\n",
    "* Nawiasy `{}` grupują zakres wyznaczający dopuszczalną liczbę powtórzeń (znów poprzedzającego znaku):\n",
    "\n",
    "  `{n}` -- dokładnie `n` razy,\n",
    "  \n",
    "  `{m, n}` -- od `m` do `n` razy,\n",
    "  \n",
    "  `{m,}` -- `m` lub więcej razy,\n",
    "  \n",
    "  `{,n}` -- nie więcej niż `n` razy."
   ]
  },
  {
   "cell_type": "markdown",
   "metadata": {
    "slideshow": {
     "slide_type": "slide"
    }
   },
   "source": [
    "### Zadanie\n",
    "\n",
    "Jaki wzorzec dopasowuje słowa w tekście?"
   ]
  },
  {
   "cell_type": "markdown",
   "metadata": {
    "slideshow": {
     "slide_type": "fragment"
    }
   },
   "source": [
    "```\n",
    "\\w+\n",
    "```"
   ]
  },
  {
   "cell_type": "markdown",
   "metadata": {
    "slideshow": {
     "slide_type": "subslide"
    }
   },
   "source": [
    "### Zadanie\n",
    "\n",
    "Jaki wzorzec dopasowuje kody pocztowe?"
   ]
  },
  {
   "cell_type": "markdown",
   "metadata": {
    "slideshow": {
     "slide_type": "fragment"
    }
   },
   "source": [
    "```\n",
    "\\d\\d-\\d\\d\\d\n",
    "```\n",
    "lub\n",
    "```\n",
    "\\d{2}-\\d{3}\n",
    "```"
   ]
  },
  {
   "cell_type": "markdown",
   "metadata": {
    "slideshow": {
     "slide_type": "slide"
    }
   },
   "source": [
    "## `re`\n",
    "\n",
    "* Moduł `re` umożliwia obsługę języka wyrażeń regularnych w Pythonie.\n",
    "\n",
    "* Implementuje dwa nowe typy obiektów:\n",
    "  * **obiekt dopasowania** odpowiadający fragmentowi tekstu, który dopasował się do wyrażenia.\n",
    "  * **obiekt wyrażenia regularnego** odpowiadający wzorcowi wyrażenia regularnego."
   ]
  },
  {
   "cell_type": "markdown",
   "metadata": {
    "slideshow": {
     "slide_type": "slide"
    }
   },
   "source": [
    "## Uwaga\n",
    "\n",
    "W wyrażeniach regularnych  i w łańcuchach znaków w Pythonie wsteczny ukośnik `\\` rozpoczyna sekwencję ucieczkową. Z powodu tej kolizji wzorce wyrażeń regularnych należy budować z surowych łańcuchów.\n",
    "\n",
    "\n",
    "Przykładowo, wzorzec wyrażenia regularnego dla dosłownego znaku `\\` to `\\\\`. Zatem `r'\\\\'` lub równoważnie `'\\\\\\\\'` jest literałem łańcucha znaków tworzącym wzorzec dla `\\`."
   ]
  },
  {
   "cell_type": "markdown",
   "metadata": {
    "slideshow": {
     "slide_type": "slide"
    }
   },
   "source": [
    "## `re.search(pattern, string, flags=0)`\n",
    "   \n",
    "* Znajduje w łańcuchu `string` pierwsze od lewej dopasowanie do wzorca `pattern`. \n",
    "\n",
    "* Zwraca odpowiadający temu dopasowaniu obiekt.\n",
    "\n",
    "* Jeśli dopasowania nie znaleziono, to zwracane jest `None`."
   ]
  },
  {
   "cell_type": "markdown",
   "metadata": {
    "slideshow": {
     "slide_type": "slide"
    }
   },
   "source": [
    "## `re.compile(pattern, flags=0)`\n",
    "\n",
    "* Kompiluje wzorzec `pattern` do **obiektu wyrażenia regularnego**.\n",
    "\n",
    "* Metody tego obiektu pozwalają na znajdywanie w tekście dopasowań do skompilowanego wzorca."
   ]
  },
  {
   "cell_type": "markdown",
   "metadata": {
    "slideshow": {
     "slide_type": "slide"
    }
   },
   "source": [
    "## `re.finditer(pattern, string, flags=0)`\n",
    "\n",
    "* Zwraca iterator ze wszystkimi obiektami dopasowań w tekście `string` do wzorca `pattern.`\n",
    "\n",
    "* Wyszukiwanie zaczyna się od lewej, a znalezione fragmenty tekstu nie zachodzą na siebie."
   ]
  },
  {
   "cell_type": "markdown",
   "metadata": {
    "slideshow": {
     "slide_type": "slide"
    }
   },
   "source": [
    "## Obiekt dopasowania"
   ]
  },
  {
   "cell_type": "code",
   "execution_count": 12,
   "metadata": {},
   "outputs": [
    {
     "data": {
      "text/plain": [
       "<_sre.SRE_Match object; span=(7, 11), match='kota'>"
      ]
     },
     "execution_count": 12,
     "metadata": {},
     "output_type": "execute_result"
    }
   ],
   "source": [
    "import re\n",
    "\n",
    "tekst = 'ala ma kota i psa'\n",
    "dopasowanie = re.search(r'\\w{4}', tekst)\n",
    "\n",
    "dopasowanie"
   ]
  },
  {
   "cell_type": "markdown",
   "metadata": {
    "slideshow": {
     "slide_type": "subslide"
    }
   },
   "source": [
    "Metody `start()` i `end()` zwracają indeks początku i końca dopasowania."
   ]
  },
  {
   "cell_type": "code",
   "execution_count": 13,
   "metadata": {},
   "outputs": [
    {
     "data": {
      "text/plain": [
       "(7, 11)"
      ]
     },
     "execution_count": 13,
     "metadata": {},
     "output_type": "execute_result"
    }
   ],
   "source": [
    "a, b = dopasowanie.start(), dopasowanie.end()\n",
    "a, b"
   ]
  },
  {
   "cell_type": "code",
   "execution_count": 14,
   "metadata": {},
   "outputs": [
    {
     "data": {
      "text/plain": [
       "'kota'"
      ]
     },
     "execution_count": 14,
     "metadata": {},
     "output_type": "execute_result"
    }
   ],
   "source": [
    "tekst[a:b]"
   ]
  },
  {
   "cell_type": "markdown",
   "metadata": {
    "slideshow": {
     "slide_type": "subslide"
    }
   },
   "source": [
    "Metoda `span()` zwraca krotkę z indeksami początku i końca dopasowania."
   ]
  },
  {
   "cell_type": "code",
   "execution_count": 15,
   "metadata": {},
   "outputs": [
    {
     "data": {
      "text/plain": [
       "(0, 3)"
      ]
     },
     "execution_count": 15,
     "metadata": {},
     "output_type": "execute_result"
    }
   ],
   "source": [
    "tekst = 'ala ma kota i psa'\n",
    "dopasowanie = re.search(r'\\w{3}', tekst)\n",
    "\n",
    "a, b = dopasowanie.span()\n",
    "a, b"
   ]
  },
  {
   "cell_type": "code",
   "execution_count": 16,
   "metadata": {},
   "outputs": [
    {
     "data": {
      "text/plain": [
       "'ala'"
      ]
     },
     "execution_count": 16,
     "metadata": {},
     "output_type": "execute_result"
    }
   ],
   "source": [
    "tekst[a:b]"
   ]
  },
  {
   "cell_type": "markdown",
   "metadata": {
    "slideshow": {
     "slide_type": "subslide"
    }
   },
   "source": [
    "Metoda `group()` zwraca dopasowany fragment tekstu."
   ]
  },
  {
   "cell_type": "code",
   "execution_count": 17,
   "metadata": {},
   "outputs": [
    {
     "name": "stdout",
     "output_type": "stream",
     "text": [
      "90\n",
      "238\n",
      "Łódź\n",
      "Stefana\n",
      "Banacha\n",
      "22\n"
     ]
    }
   ],
   "source": [
    "tekst = '90-238 Łódź, Stefana Banacha 22'\n",
    "\n",
    "for dopasowanie in re.finditer(r'\\w+', tekst):\n",
    "    print(dopasowanie.group())"
   ]
  },
  {
   "cell_type": "markdown",
   "metadata": {
    "slideshow": {
     "slide_type": "slide"
    }
   },
   "source": [
    "## Obiekt wyrażenia regularnego\n",
    "\n",
    "Utworzymy obiekt wyrażenia regularnego ze wzorca\n",
    "```\n",
    "[A-Z]\\w*\n",
    "```\n",
    "\n",
    "Jak sądzisz, do czego będzie się dopasowywał?"
   ]
  },
  {
   "cell_type": "code",
   "execution_count": 18,
   "metadata": {
    "slideshow": {
     "slide_type": "subslide"
    }
   },
   "outputs": [],
   "source": [
    "pierwsze_słowo = re.compile(r'[A-Z]\\w*')"
   ]
  },
  {
   "cell_type": "markdown",
   "metadata": {
    "slideshow": {
     "slide_type": "subslide"
    }
   },
   "source": [
    "Poszukamy słów zaczynających się wielką literą w tekście:\n",
    "```\n",
    "W trakcie swojej kariery Kepler był nauczycielem matematyki\n",
    "w Grazu, asystentem astronoma Tychona Brahe, matematykiem\n",
    "na dworze Rudolfa II Habsburga, nauczycielem matematyki w\n",
    "Linzu i doradcą Albrechta von Wallensteina. Poza badaniami\n",
    "astronomicznymi prowadził badania w zakresie optyki i \n",
    "ulepszył teleskop soczewkowy Galileusza.\n",
    "\n",
    "W czasach Keplera nie istniało wyraźne rozróżnienie \n",
    "pomiędzy astronomią i astrologią, natomiast astronomia \n",
    "jako jedna ze sztuk wyzwolonych była wyraźnie oddzielona\n",
    "od fizyki, zaliczanej do filozofii przyrody. Kepler w swoich \n",
    "pracach używał argumentów religijnych, wychodząc z założenia,\n",
    "że Bóg stworzył świat zgodnie z inteligentnym planem, który\n",
    "można poznać za pomocą rozumu. Określał swoją astronomię\n",
    "jako „fizykę niebieską” i jako „wycieczkę w Metafizykę\n",
    "Arystotelesa”, przenosząc tradycyjnie pojmowaną kosmologię\n",
    "w obszar uniwersalnie obowiązującej matematyki```"
   ]
  },
  {
   "cell_type": "code",
   "execution_count": 19,
   "metadata": {
    "slideshow": {
     "slide_type": "subslide"
    }
   },
   "outputs": [],
   "source": [
    "kepler = '''W trakcie swojej kariery Kepler był nauczycielem matematyki w Grazu, asystentem astronoma Tychona Brahe,\n",
    "matematykiem na dworze Rudolfa II Habsburga, nauczycielem matematyki w Linzu i doradcą\n",
    "Albrechta von Wallensteina. Poza badaniami astronomicznymi prowadził badania w\n",
    "zakresie optyki i ulepszył teleskop soczewkowy Galileusza.\n",
    "\n",
    "W czasach Keplera nie istniało wyraźne rozróżnienie pomiędzy astronomią i astrologią,\n",
    "natomiast astronomia jako jedna ze sztuk wyzwolonych była wyraźnie oddzielona od fizyki,\n",
    "zaliczanej do filozofii przyrody. Kepler w swoich pracach używał argumentów religijnych,\n",
    "wychodząc z założenia, że Bóg stworzył świat zgodnie z inteligentnym planem,\n",
    "który można poznać za pomocą rozumu.\n",
    "Określał swoją astronomię jako „fizykę niebieską” i jako „wycieczkę w Metafizykę Arystotelesa”,\n",
    "przenosząc tradycyjnie pojmowaną kosmologię w obszar uniwersalnie obowiązującej matematyki'''"
   ]
  },
  {
   "cell_type": "markdown",
   "metadata": {
    "slideshow": {
     "slide_type": "subslide"
    }
   },
   "source": [
    "Obiekt wyrażenia regularnego posiada metodę `search()`."
   ]
  },
  {
   "cell_type": "code",
   "execution_count": 20,
   "metadata": {},
   "outputs": [
    {
     "name": "stdout",
     "output_type": "stream",
     "text": [
      "W\n"
     ]
    }
   ],
   "source": [
    "dopasowanie = pierwsze_słowo.search(kepler)\n",
    "\n",
    "if dopasowanie is not None:\n",
    "    print(dopasowanie.group())"
   ]
  },
  {
   "cell_type": "markdown",
   "metadata": {
    "slideshow": {
     "slide_type": "subslide"
    }
   },
   "source": [
    "Posiada również metodę `finditer()`."
   ]
  },
  {
   "cell_type": "code",
   "execution_count": 21,
   "metadata": {},
   "outputs": [
    {
     "name": "stdout",
     "output_type": "stream",
     "text": [
      "W Kepler Grazu Tychona Brahe Rudolfa II Habsburga Linzu Albrechta Wallensteina Poza Galileusza W Keplera Kepler Bóg Określał Metafizykę Arystotelesa "
     ]
    }
   ],
   "source": [
    "dopasowania = pierwsze_słowo.finditer(kepler)\n",
    "\n",
    "for dopasowanie in dopasowania:\n",
    "    print(dopasowanie.group(), end=' ')"
   ]
  }
 ],
 "metadata": {
  "anaconda-cloud": {},
  "celltoolbar": "Slideshow",
  "kernelspec": {
   "display_name": "Python [default]",
   "language": "python",
   "name": "python3"
  },
  "language_info": {
   "codemirror_mode": {
    "name": "ipython",
    "version": 3
   },
   "file_extension": ".py",
   "mimetype": "text/x-python",
   "name": "python",
   "nbconvert_exporter": "python",
   "pygments_lexer": "ipython3",
   "version": "3.5.4"
  }
 },
 "nbformat": 4,
 "nbformat_minor": 1
}
