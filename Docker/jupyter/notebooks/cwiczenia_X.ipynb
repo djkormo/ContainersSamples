{
 "cells": [
  {
   "cell_type": "markdown",
   "metadata": {},
   "source": [
    "# Ćwiczenia 10\n",
    "\n",
    "## Programowanie dla analizy danych\n",
    "\n",
    "2017/2018, semestr letni\n",
    "\n",
    "---\n",
    "\n",
    "## 1\n",
    "\n",
    "Zapisz na dysku pliki:\n",
    "\n",
    "[python-pageviews-2017.txt](https://github.com/chamerion/files/blob/master/python-pageviews-2017.txt?raw=true)\n",
    "\n",
    "[javascript-pageviews-2017.txt](https://github.com/chamerion/files/blob/master/javascript-pageviews-2017.txt?raw=true)\n",
    "\n",
    "[ruby-pageviews-2017.txt](https://github.com/chamerion/files/blob/master/ruby-pageviews-2017.txt?raw=true)\n",
    "\n",
    "[lament-pageviews-2017.txt](https://github.com/chamerion/files/blob/master/lament-pageviews-2017.txt?raw=true)\n",
    "\n",
    "[bogurodzica-pageviews-2017.txt](https://github.com/chamerion/files/blob/master/bogurodzica-pageviews-2017.txt?raw=true)\n",
    "\n",
    "Są to pliki tekstowe (kodowanie UTF8) zawierające dzienną liczbę wejść na stronę z hasłem [Python](https://pl.wikipedia.org/wiki/Python) / [JavaScript](https://pl.wikipedia.org/wiki/JavaScript) / <a href=\"https://pl.wikipedia.org/wiki/Ruby_(j%C4%99zyk_programowania)\">Ruby</a> / [Lament świętokrzyski](https://pl.wikipedia.org/wiki/Lament_%C5%9Bwi%C4%99tokrzyski) / <a href=\"https://pl.wikipedia.org/wiki/Bogurodzica_(pie%C5%9B%C5%84)\">Bogurodzica</a> na polskiej Wikipedii w 2017 roku.\n",
    "\n",
    "Układ każdego z tych plików jest taki sam: pierwszy wiersz to nagłówek, każdy następny zawiera datę w formacie `YYYY-MM-DD` i oddzieloną przecinkiem liczbę odsłon.\n",
    "\n",
    "### 1.1\n",
    "\n",
    "Napisz program, który wyświetli pięć pierwszych linii pliku `python-pageviews-2017.txt`."
   ]
  },
  {
   "cell_type": "code",
   "execution_count": null,
   "metadata": {
    "collapsed": true
   },
   "outputs": [],
   "source": []
  },
  {
   "cell_type": "markdown",
   "metadata": {},
   "source": [
    "### 1.2\n",
    "\n",
    "Ile było wszystkich wejść na stronę z hasłem Python w 2017 roku?"
   ]
  },
  {
   "cell_type": "code",
   "execution_count": null,
   "metadata": {
    "collapsed": true
   },
   "outputs": [],
   "source": []
  },
  {
   "cell_type": "markdown",
   "metadata": {},
   "source": [
    "### 1.3\n",
    "\n",
    "Którego dnia było tych wejść najwięcej, a którego najmniej?"
   ]
  },
  {
   "cell_type": "code",
   "execution_count": null,
   "metadata": {
    "collapsed": true
   },
   "outputs": [],
   "source": []
  },
  {
   "cell_type": "markdown",
   "metadata": {},
   "source": [
    "---\n",
    "## 2\n",
    "\n",
    "Podejdziemy teraz do badania plików z punktu 1 bardziej systematycznie.\n",
    "\n",
    "### 2.1\n",
    "\n",
    "Nasze pliki zawierają dwie kolumny -- daty i liczby odsłon. Gdy wczytujemy wiersz pliku, dostajemy łańcuch, który musimy przetworzyć, aby dostać się do zawartych w nim informacji. Użycie metody `wiersz.split(',')` wyodrębnia datę i liczbę odsłon w postaci łańcuchów. Niestety, łańcuch nie jest w tym przypadku wygodnym formatem, gdyż utrudnia wykonywanie porównań i obliczeń na uzyskanych wielkościach. Liczbę odsłon możesz zamienić na prawdziwą liczbę stosując funkcję `int()`. Jak jednak poradzić sobie z datą?\n",
    "\n",
    "Z pomocą przychodzi moduł [`datetime`](https://pymotw.com/3/datetime/index.html). Funkcja\n",
    "```python\n",
    "datetime.datetime.strptime(s, schemat)\n",
    "```\n",
    "zamienia datę z łańcucha `s` na obiekt typu `datetime.datetime`, czyli obiekt pythonowy reprezentujący datę. Parametr `schemat` jest łańcuchem -- podpowiada on w jaki sposób data została zakodowana w łańcuchu `s`. Pełną tabelę z kodami dla parametru `schemat` znajdziesz [tutaj](https://docs.python.org/3/library/datetime.html#strftime-strptime-behavior), nam jednak wystarczy następujący jej fragment:\n",
    "\n",
    "Kod | Znaczenie\n",
    "--- | ---\n",
    "`%Y` | Rok jako czterocyfrowa liczba dziesiętna.\n",
    "`%m` | Miesiąc jako dwucyfrowa liczba dziesiętna.\n",
    "`%d` | Dzień jako dwucyfrowa liczba dziesiętna.\n",
    "`%A` | Pełna nazwa dnia tygodnia.\n",
    "`%B` | Pełna nazwa miesiąca.\n",
    "\n",
    "Zamień podane niżej daty na daty pythonowe używając powyższej funkcji i odpowiedniego schematu:\n",
    "\n",
    "* `20-05-2018`\n",
    "* `2018-05-20`\n",
    "* `20180520`\n",
    "* `20.05.2018`"
   ]
  },
  {
   "cell_type": "code",
   "execution_count": null,
   "metadata": {
    "collapsed": true
   },
   "outputs": [],
   "source": []
  },
  {
   "cell_type": "markdown",
   "metadata": {},
   "source": [
    "### 2.2\n",
    "\n",
    "Napisz funkcję `wczytaj_wiersz(w)`. Parametr wiersz ma być łańcuchem odpowiadającym wierszowi (ale nie nagłówkowi) badanego pliku. Funkcja zwraca krotkę, w której pierwsza współrzędna to data (typu `datetime.datetime`) a druga -- liczba odsłon (typu `int`)."
   ]
  },
  {
   "cell_type": "code",
   "execution_count": null,
   "metadata": {
    "collapsed": true
   },
   "outputs": [],
   "source": []
  },
  {
   "cell_type": "markdown",
   "metadata": {},
   "source": [
    "### 2.3\n",
    "\n",
    "Napisz klasę `TabelaOdsłon` z metodami:\n",
    "\n",
    "* `__init__(self, hasło, ścieżka)` -- inicjalizuje obiekt korzystając z pliku o ścieżce dostępu `ścieżka`. Utwórz atrybuty:\n",
    "  * `self.hasło` -- hasło, dla którego tworzona jest tabela odsłon.\n",
    "  * `self.wiersze` -- krotka wierszy pliku przetworzonych przez `wczytaj_wiersz()`;\n",
    "  * `self._daty` -- krotka kolejnych dat;\n",
    "  * `self._odsłony` -- krotka z liczbami odsłon.\n",
    "* `__repr__(self)` -- zwraca łańcuch postaci\n",
    "  ```\n",
    "  Tabela odsłon o <<liczba wierszy>> wierszach dla hasła <<hasło>>.\n",
    "  ```\n",
    "* `suma(self)` -- suma liczby odsłon z wszystkich dni.\n",
    "* `średnia(self)` -- średnia arytmetyczna z liczby odsłon.\n",
    "* `odchylenie_standardowe(self)` -- odchylenie standardowe z liczby odsłon.\n",
    "* `wariancja(self)` -- wariancja z liczby odsłon.\n",
    "* `mediana(self)` -- mediana z liczby odsłon.\n",
    "\n",
    "Do obliczenia wartości statystycznych możesz użyć moduł `statistics`."
   ]
  },
  {
   "cell_type": "code",
   "execution_count": null,
   "metadata": {
    "collapsed": true
   },
   "outputs": [],
   "source": []
  },
  {
   "cell_type": "markdown",
   "metadata": {},
   "source": [
    "#### Test rysunkowy"
   ]
  },
  {
   "cell_type": "code",
   "execution_count": null,
   "metadata": {
    "collapsed": true
   },
   "outputs": [],
   "source": [
    "from matplotlib import pyplot as plt\n",
    "%matplotlib inline\n",
    "plt.style.use('seaborn-notebook')"
   ]
  },
  {
   "cell_type": "code",
   "execution_count": null,
   "metadata": {
    "collapsed": true
   },
   "outputs": [],
   "source": [
    "def porównaj_wykresy(tab1, tab2, rozmiar=(16, 9)):\n",
    "    X, Y = tab1._daty, tab1._odsłony\n",
    "    Z = tab2._odsłony\n",
    "    \n",
    "    if tab2._daty != X:\n",
    "        raise NotImplementedError('Zakresy dat są różne.')\n",
    "        \n",
    "    plt.figure(figsize=rozmiar)\n",
    "    plt.plot(X, Y, label=tab1.hasło)\n",
    "    plt.plot(X, Z, label=tab2.hasło)\n",
    "    plt.fill_between(X, Y, Z, alpha=0.2, color='g')\n",
    "    plt.legend()\n",
    "    plt.grid(ls=':')"
   ]
  },
  {
   "cell_type": "code",
   "execution_count": null,
   "metadata": {},
   "outputs": [],
   "source": [
    "python = TabelaOdsłon('Python', 'python-pageviews-2017.txt')\n",
    "ruby = TabelaOdsłon('Ruby', 'ruby-pageviews-2017.txt')\n",
    "porównaj_wykresy(python, ruby)"
   ]
  },
  {
   "cell_type": "code",
   "execution_count": null,
   "metadata": {},
   "outputs": [],
   "source": [
    "lament = TabelaOdsłon('Lament świętokrzyski', 'lament-pageviews-2017.txt')\n",
    "bogurodzica = TabelaOdsłon('Bogurodzica', 'bogurodzica-pageviews-2017.txt')\n",
    "porównaj_wykresy(lament, bogurodzica)"
   ]
  },
  {
   "cell_type": "markdown",
   "metadata": {},
   "source": [
    "### 2.4\n",
    "\n",
    "Utwórz łańcuch `tabela` reprezentujący w języku Markdown tabelę postaci\n",
    "\n",
    "hasło | suma | mediana| średnia | odchylenie standardowe\n",
    "--- | --- | --- | --- | ---\n",
    "? | ? | ? | ? | ?\n",
    "\n",
    "Wykorzystaj klasę `TabelaOdsłon` i podane niżej łańcuchy do automatycznego utworzenia tabeli.\n",
    "\n",
    "*Wskazówka:* Użyj metody `splitlines()` i `zip()`.\n",
    "\n",
    "```python\n",
    "ścieżki = '''python-pageviews-2017.txt\n",
    "javascript-pageviews-2017.txt\n",
    "ruby-pageviews-2017.txt\n",
    "lament-pageviews-2017.txt\n",
    "bogurodzica-pageviews-2017.txt'''\n",
    "\n",
    "hasła = '''Python\n",
    "JavaScript\n",
    "Ruby\n",
    "Lament świętokrzyski\n",
    "Bogurodzica'''\n",
    "```"
   ]
  },
  {
   "cell_type": "code",
   "execution_count": null,
   "metadata": {
    "collapsed": true
   },
   "outputs": [],
   "source": []
  },
  {
   "cell_type": "markdown",
   "metadata": {},
   "source": [
    "#### Wizualizacja tabeli jako strony HTML"
   ]
  },
  {
   "cell_type": "code",
   "execution_count": null,
   "metadata": {},
   "outputs": [],
   "source": [
    "from IPython.core.display import display, HTML\n",
    "import markdown\n",
    "\n",
    "display(HTML(markdown.markdown(tabela, extensions=['tables'])))"
   ]
  },
  {
   "cell_type": "markdown",
   "metadata": {},
   "source": [
    "### 2.5\n",
    "\n",
    "Napisz funkcje \n",
    "```python\n",
    "dzień_tygodnia(krotka, dzień_tyg)\n",
    "miesiąc(krotka, msc)\n",
    "```\n",
    "W obu przypadkach parametr `krotka` to krotka składająca się z daty i liczby odsłon, czyli składnik krotki `self.wiersze`. Parametr `dzień_tyg / msc` to angielska nazwa dnia tygodnia / miesiąca. Funkcja `dzień_tygodnia()` zwraca `True / False` w zależności od tego, czy data z krotki wypada w dzień tygodnia o wartości `dzień_tyg`. Analogicznie działa funkcja `miesiąc()`.\n",
    "\n",
    "Nazwę dnia tygodnia / miesiąca, w którym wypada obiekt `data` typu `datetime.datetime` uzyskasz stosując metodę `strftime()` i kody zdefiniowane w tabeli w punkcie 2.1.\n",
    "\n",
    "Na przykład wywołanie\n",
    "```python\n",
    "data = datetime.datetime.strptime('20180318', '%Y%m%d')\n",
    "\n",
    "print(data.strftime('%A'), data.strftime('%B'))\n",
    "```\n",
    "zwraca\n",
    "```\n",
    "Sunday March\n",
    "```"
   ]
  },
  {
   "cell_type": "code",
   "execution_count": null,
   "metadata": {
    "collapsed": true
   },
   "outputs": [],
   "source": []
  },
  {
   "cell_type": "markdown",
   "metadata": {},
   "source": [
    "#### Testy"
   ]
  },
  {
   "cell_type": "code",
   "execution_count": null,
   "metadata": {
    "collapsed": true
   },
   "outputs": [],
   "source": [
    "data = datetime.datetime.strptime('20180318', '%Y%m%d')\n",
    "\n",
    "assert dzień_tygodnia((data, 0), 'Sunday')\n",
    "assert not dzień_tygodnia((data, 0), 'Monday')\n",
    "\n",
    "assert miesiąc((data, 0), 'March')\n",
    "assert not miesiąc((data, 0), 'May')"
   ]
  },
  {
   "cell_type": "markdown",
   "metadata": {},
   "source": [
    "### 2.6\n",
    "\n",
    "Dopisz do klasy `TabelaOdsłon` metodę `wybierz(self, *, dzień_tyg, msc)`. Znaczenie obu parametrów jest takie jak w punkcie 2.5. Domyślnie powinny być ustawione na `None`. Metoda zwraca nową instancję klasy `TabelaOdsłon` zawierającą jedynie te wiersze, w których data reprezentuje wskazany w `wybierz()` dzień tygodnia i miesiąc.\n",
    "\n",
    "Dopuszczalna jest dowolna kombinacja argumentów. Jeśli któryś nie jest wyspecyfikowany, to ma wartość `None` i nie jest uwzględniany w tworzeniu nowej tabeli.\n",
    "\n",
    "Ponieważ metoda ma zwracać obiekt `TabelaOdsłon`, więc prawdopodobnie należy przerobić `__init__()`. W początkowej wersji klasa oprócz hasła akceptowała jedynie ścieżkę dostępu -- teraz powinna akceptować hasło oraz ścieżkę lub sekwencję wierszy postaci\n",
    "```python\n",
    "(data, odsłony)\n",
    "```\n",
    "\n",
    "W samej metodzie `wybierz()` użyj funkcji `filter()` i funkcji zdefiniowanych w punkcie 2.5."
   ]
  },
  {
   "cell_type": "code",
   "execution_count": null,
   "metadata": {
    "collapsed": true
   },
   "outputs": [],
   "source": []
  },
  {
   "cell_type": "markdown",
   "metadata": {},
   "source": [
    "#### Testy"
   ]
  },
  {
   "cell_type": "code",
   "execution_count": null,
   "metadata": {
    "collapsed": true
   },
   "outputs": [],
   "source": [
    "DNI_TYGODNIA = ('Monday', 'Tuesday', 'Wednesday',\n",
    "                'Thursday', 'Friday', 'Saturday',\n",
    "                'Sunday')\n",
    "\n",
    "MIESIĄCE = ('January', 'February', 'March', 'April',\n",
    "             'May', 'June', 'July', 'August', 'September',\n",
    "             'October', 'November', 'December')\n",
    "\n",
    "def raport_tygodniowy(hasło, ścieżka):\n",
    "    tab = TabelaOdsłon(hasło, ścieżka=ścieżka)\n",
    "    X = range(7)\n",
    "    Y = []\n",
    "    \n",
    "    for dzień in DNI_TYGODNIA:\n",
    "        Y.append(tab.wybierz(dzień_tyg=dzień).suma())\n",
    "    \n",
    "    plt.bar(X, Y)\n",
    "    plt.xticks(X, DNI_TYGODNIA)\n",
    "    plt.title('Raport tygodniowy dla hasła \"{}\"'.format(hasło))\n",
    "\n",
    "def raport_miesięczny(hasło, ścieżka):\n",
    "    tab = TabelaOdsłon(hasło, ścieżka=ścieżka)\n",
    "    X = range(12)\n",
    "    Y = []\n",
    "    \n",
    "    for msc in MIESIĄCE:\n",
    "        Y.append(tab.wybierz(msc=msc).suma())\n",
    "    \n",
    "    fig, ax = plt.subplots()\n",
    "    fig.autofmt_xdate()\n",
    "    ax.bar(X, Y)\n",
    "    ax.xaxis.set_ticklabels(MIESIĄCE)\n",
    "    ax.xaxis.set_major_locator(plt.FixedLocator(range(12)))\n",
    "    ax.set_title('Raport miesięczny dla hasła \"{}\"'.format(hasło))"
   ]
  },
  {
   "cell_type": "code",
   "execution_count": null,
   "metadata": {},
   "outputs": [],
   "source": [
    "raport_tygodniowy('Python', 'python-pageviews-2017.txt')"
   ]
  },
  {
   "cell_type": "code",
   "execution_count": null,
   "metadata": {},
   "outputs": [],
   "source": [
    "raport_tygodniowy('JavaScript', 'javascript-pageviews-2017.txt')"
   ]
  },
  {
   "cell_type": "code",
   "execution_count": null,
   "metadata": {},
   "outputs": [],
   "source": [
    "raport_miesięczny('Lament świętokrzyski', 'lament-pageviews-2017.txt')"
   ]
  }
 ],
 "metadata": {
  "anaconda-cloud": {},
  "kernelspec": {
   "display_name": "Python [default]",
   "language": "python",
   "name": "python3"
  },
  "language_info": {
   "codemirror_mode": {
    "name": "ipython",
    "version": 3
   },
   "file_extension": ".py",
   "mimetype": "text/x-python",
   "name": "python",
   "nbconvert_exporter": "python",
   "pygments_lexer": "ipython3",
   "version": "3.5.4"
  }
 },
 "nbformat": 4,
 "nbformat_minor": 2
}
