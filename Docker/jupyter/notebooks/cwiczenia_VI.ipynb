{
 "cells": [
  {
   "cell_type": "markdown",
   "metadata": {},
   "source": [
    "# Ćwiczenia 6\n",
    "\n",
    "## Programowanie dla analizy danych\n",
    "\n",
    "2017/2018, semestr letni\n",
    "\n",
    "---\n",
    "\n",
    "\n",
    "## 1\n",
    "\n",
    "\n",
    "\n",
    "Funkcja `perf_counter()` z modułu [`time`](https://pymotw.com/3/time/index.html) zwraca czas w sekundach, pobrany z zegara o wysokiej rozdzielczości. Żaden początkowy punkt odniesienia nie jest dla tej wartości zdefiniowany, dlatego funkcji tej używa się do mierzenia różnicy czasu.\n",
    "\n",
    "Tak wyznaczysz czas potrzebny na obliczenie sumy liczb od zera do `N`.\n",
    "\n",
    "```python\n",
    "from time import perf_counter\n",
    "\n",
    "N = 10**7\n",
    "\n",
    "start = perf_counter()\n",
    "suma = sum(range(N))\n",
    "stop = perf_counter()\n",
    "\n",
    "print('Sumę liczb od 0 do {} obliczyłem w {} sekund.'.format(N, stop - start))\n",
    "```\n",
    "\n",
    "### 1.1\n",
    "\n",
    "Napisz dekorator `mierz_czas(f)`. Parametr `f` oznacza dekorowaną funkcję. Funkcja po udekorowaniu wyświetla (użyj `print()`) czas wykonania `f()`. Czas oblicz za pomocą `perf_counter()` stosując metodę jak wyżej.\n",
    "\n",
    "Przykład: wywołanie\n",
    "\n",
    "```python\n",
    "@mierz_czas\n",
    "def sumuj(N):\n",
    "    '''Zwraca sumę 1 + 2 + ... + N.'''\n",
    "    return sum(range(N))\n",
    "\n",
    "N = 10**7\n",
    "\n",
    "sumuj(N)\n",
    "```\n",
    "daje wynik\n",
    "```\n",
    "Czas wykonania w sekundach: 0.22575142099958612\n",
    "\n",
    "49999995000000\n",
    "```"
   ]
  },
  {
   "cell_type": "code",
   "execution_count": null,
   "metadata": {
    "collapsed": true
   },
   "outputs": [],
   "source": []
  },
  {
   "cell_type": "markdown",
   "metadata": {},
   "source": [
    "### 1.2\n",
    "\n",
    "Zmodyfikuj dekorator `mierz_czas()` z poprzedniego punktu. Teraz dekorowana funkcja ma przechowywać swój czas ostatniego wykonania w atrybucie `czas`.\n",
    "\n",
    "Przykład: wywołanie\n",
    "```python\n",
    "@mierz_czas\n",
    "def sumuj(N):\n",
    "    '''Zwraca sumę 1 + 2 + ... + N.'''\n",
    "    return sum(range(N))\n",
    "\n",
    "N = 10**7\n",
    "\n",
    "print(sumuj(N))\n",
    "print(sumuj.czas)\n",
    "```\n",
    "daje wynik\n",
    "```\n",
    "49999995000000\n",
    "0.23923597399698338\n",
    "```"
   ]
  },
  {
   "cell_type": "code",
   "execution_count": null,
   "metadata": {
    "collapsed": true
   },
   "outputs": [],
   "source": []
  },
  {
   "cell_type": "markdown",
   "metadata": {},
   "source": [
    "### 1.3\n",
    "\n",
    "Napisz funkcje `wstaw_na_początek(lst, a)` i `dodaj_na_końcu(lst, a)`. Parametry `lst` i `a` to, odpowiednio lista i dowolny obiekt. Funkcja `wstaw_na_początek()` ma wstawiać element `a` na początek `lst` metodą `insert()`. Funkcja `dodaj_na_końcu()` dodaje `a` do `lst` metodą `append()`. Obie funkcje działają \"w miejscu\" -- nie zwracają nic."
   ]
  },
  {
   "cell_type": "code",
   "execution_count": null,
   "metadata": {
    "collapsed": true
   },
   "outputs": [],
   "source": []
  },
  {
   "cell_type": "markdown",
   "metadata": {},
   "source": [
    "#### Testy"
   ]
  },
  {
   "cell_type": "code",
   "execution_count": null,
   "metadata": {
    "collapsed": true
   },
   "outputs": [],
   "source": [
    "assert wstaw_na_początek([], None) is None, 'Funkcja miała nic nie zwracać.'\n",
    "assert dodaj_na_końcu([], None) is None, 'Funkcja miała nic nie zwracać.'\n",
    "\n",
    "lst = []\n",
    "wstaw_na_początek(lst, 0)\n",
    "\n",
    "assert lst == [0]\n",
    "\n",
    "dodaj_na_końcu(lst, 1)\n",
    "\n",
    "assert lst == [0, 1]\n",
    "\n",
    "wstaw_na_początek(lst, -1)\n",
    "\n",
    "assert lst == [-1, 0, 1]"
   ]
  },
  {
   "cell_type": "markdown",
   "metadata": {},
   "source": [
    "### 1.4\n",
    "\n",
    "Porównaj czasy wykonania dla funkcji z poprzedniego punktu. Czy ktoraś z tych funkcji robi się wyraźnie szybsza, gdy długość listy rośnie? Potrafisz porównać je na wykresie?"
   ]
  },
  {
   "cell_type": "code",
   "execution_count": null,
   "metadata": {
    "collapsed": true
   },
   "outputs": [],
   "source": []
  },
  {
   "cell_type": "markdown",
   "metadata": {},
   "source": [
    "---\n",
    "\n",
    "## 2\n",
    "\n",
    "Celem tego zadania jest implementacja żółwia przemieszczającego sie po ekranie zgodnie z poleceniami `naprzód`, `w_prawo`, `w_lewo`.\n",
    "\n",
    "Wyobraź sobie żółwia, który znajduje się w punkcie `(x0, y0)` płaszczyzny i patrzy w kierunku, który z dodatnią półosią x-ów tworzy w radianach kąt `alfa0` (ma azymut `alfa0`). Jeżeli teraz żółw wykona polecenie \"przesuń się naprzód o długość `L`\", to jego nowe położenie będzie miało współrzędne\n",
    "```\n",
    "x1 = x0 + L*cos(alfa0),\n",
    "y1 = y0 + L*sin(alfa0),\n",
    "```\n",
    "azymut natomiast pozostanie niezmieniony.\n",
    "\n",
    "Z kolei, jeżeli żółw wykona polecenie \"obróć się w prawo o kąt `beta`\", to położenie pozostanie niezmienione, natomiast nowy azymut będzie miał wartość\n",
    "```\n",
    "alfa1 = alfa0 - beta\n",
    "```\n",
    "Analogicznie, przy obrocie \"w lewo\" żółw zwróci się w kierunku\n",
    "```\n",
    "alfa1 = alfa0 + beta\n",
    "```\n",
    "\n",
    "### 2.1\n",
    "\n",
    "Zacznij od zdefiniowania list z położeniem początkowym\n",
    "```python\n",
    "ixy, igreki = [0], [0]\n",
    "```\n",
    "i początkowego azymutu\n",
    "```python\n",
    "alfa = 0\n",
    "```\n",
    "Te trzy obiekty **globalne** będą przechowywać stan żółwia i historię jego położeń.\n",
    "\n",
    "Teraz napisz funkcje `naprzód(L)`, `w_prawo(beta)`, `w_lewo(beta)`. Parametry `L` i `beta` to, odpowiednio długość o jaką żółw ma się przesunąć i kąt w stopniach o jaki ma zmienić azymut. Funkcja `naprzód()` dodaje do list `ixy`, `igreki` nowe położenie, w którym żółw się znalazł. Możesz użyć funkcji `radians()` z modułu `math` do przeliczenia `alfa` na radiany.\n",
    "\n",
    "Funkcje `w_prawo()`, `w_lewo()` zmieniają w odpowiedni sposób `alfa` o `beta`. W obu tych funkcjach należy użyć deklaracji `global`, gdyż `alfa` musi zostać zmieniona przez przypisanie."
   ]
  },
  {
   "cell_type": "code",
   "execution_count": null,
   "metadata": {
    "collapsed": true
   },
   "outputs": [],
   "source": []
  },
  {
   "cell_type": "markdown",
   "metadata": {},
   "source": [
    "#### Test rysunkowy: pentagram"
   ]
  },
  {
   "cell_type": "code",
   "execution_count": null,
   "metadata": {
    "collapsed": true
   },
   "outputs": [],
   "source": [
    "from matplotlib import pyplot as plt\n",
    "%matplotlib inline"
   ]
  },
  {
   "cell_type": "code",
   "execution_count": null,
   "metadata": {
    "collapsed": true
   },
   "outputs": [],
   "source": [
    "plt.close('all')\n",
    "\n",
    "fig, ax = plt.subplots()\n",
    "fig.set_size_inches(12, 12)\n",
    "\n",
    "ax.set_aspect('equal')\n",
    "\n",
    "# reset ustawień\n",
    "ixy, igreki = [0], [0]\n",
    "alfa = 0\n",
    "\n",
    "# pentagram\n",
    "L = 1\n",
    "beta = 144\n",
    "\n",
    "for k in range(5):\n",
    "    naprzód(L)\n",
    "    w_lewo(beta)\n",
    "\n",
    "ax.plot(ixy, igreki)"
   ]
  },
  {
   "cell_type": "markdown",
   "metadata": {},
   "source": [
    "### 2.2\n",
    "\n",
    "Napisz funkcję `wielokąt(n)`. Parametr `n` jest liczbą całkowitą większą od `2`. Funkcja rysuje `n`-kąt foremny, a dokładniej dopisuje do list `ixy`, `igreki` współrzędne kolejnych odwiedzanych przez żółwia wierzchołków `n`-kąta foremnego."
   ]
  },
  {
   "cell_type": "code",
   "execution_count": null,
   "metadata": {
    "collapsed": true
   },
   "outputs": [],
   "source": []
  },
  {
   "cell_type": "markdown",
   "metadata": {},
   "source": [
    "#### Test rysunkowy: sześciokąt foremny"
   ]
  },
  {
   "cell_type": "code",
   "execution_count": null,
   "metadata": {
    "collapsed": true
   },
   "outputs": [],
   "source": [
    "plt.close('all')\n",
    "\n",
    "fig, ax = plt.subplots()\n",
    "fig.set_size_inches(12, 12)\n",
    "\n",
    "ax.set_aspect('equal')\n",
    "\n",
    "# reset ustawień\n",
    "ixy, igreki = [0], [0]\n",
    "alfa = 0\n",
    "\n",
    "wielokąt(6)\n",
    "\n",
    "ax.plot(ixy, igreki)"
   ]
  },
  {
   "cell_type": "markdown",
   "metadata": {},
   "source": [
    "### 2.3\n",
    "\n",
    "Funkcja\n",
    "```python\n",
    "def płatek(bok, poziom):\n",
    "    if poziom == 0:\n",
    "        naprzód(bok)\n",
    "        return\n",
    "    płatek(bok/3, poziom - 1)\n",
    "    w_lewo(60)\n",
    "    płatek(bok/3, poziom - 1)\n",
    "    w_prawo(120)\n",
    "    płatek(bok/3, poziom - 1)\n",
    "    w_lewo(60)\n",
    "    płatek(bok/3, poziom - 1)\n",
    "```\n",
    "rysuje fragment [płatka śniegu](https://pl.wikipedia.org/wiki/Krzywa_Kocha). Wykorzystaj tę funkcję do narysowania pełnego zamkniętego płatka."
   ]
  },
  {
   "cell_type": "code",
   "execution_count": null,
   "metadata": {
    "collapsed": true
   },
   "outputs": [],
   "source": []
  }
 ],
 "metadata": {
  "anaconda-cloud": {},
  "kernelspec": {
   "display_name": "Python [default]",
   "language": "python",
   "name": "python3"
  },
  "language_info": {
   "codemirror_mode": {
    "name": "ipython",
    "version": 3
   },
   "file_extension": ".py",
   "mimetype": "text/x-python",
   "name": "python",
   "nbconvert_exporter": "python",
   "pygments_lexer": "ipython3",
   "version": "3.5.4"
  }
 },
 "nbformat": 4,
 "nbformat_minor": 1
}
