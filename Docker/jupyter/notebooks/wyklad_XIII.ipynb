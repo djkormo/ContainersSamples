{
 "cells": [
  {
   "cell_type": "markdown",
   "metadata": {
    "slideshow": {
     "slide_type": "slide"
    }
   },
   "source": [
    "# Podstawy programowania w analizie danych\n",
    "\n",
    "## Tomasz Rodak\n",
    "\n",
    "2017/2018, semestr letni\n",
    "\n",
    "Wykład XIII"
   ]
  },
  {
   "cell_type": "markdown",
   "metadata": {
    "slideshow": {
     "slide_type": "slide"
    }
   },
   "source": [
    "# Wyrażenia regularne, cz. 2"
   ]
  },
  {
   "cell_type": "code",
   "execution_count": 2,
   "metadata": {},
   "outputs": [],
   "source": [
    "import re"
   ]
  },
  {
   "cell_type": "markdown",
   "metadata": {
    "slideshow": {
     "slide_type": "slide"
    }
   },
   "source": [
    "## Zachłanny vs leniwy\n",
    "\n",
    "**Zagadka.** Do czego dopasuje sie wyrażenie\n",
    "```\n",
    "\\d+\n",
    "```\n",
    "w łańcuchu\n",
    "```\n",
    "123456789\n",
    "```"
   ]
  },
  {
   "cell_type": "markdown",
   "metadata": {
    "slideshow": {
     "slide_type": "fragment"
    }
   },
   "source": [
    "Do całego łańcucha, gdyż kwantyfikatory są domyślnie **zachłanne** (*greedy*) -- spośród możliwych dopasowań wybierane jest to o maksymalnej długości. "
   ]
  },
  {
   "cell_type": "code",
   "execution_count": 6,
   "metadata": {
    "slideshow": {
     "slide_type": "-"
    }
   },
   "outputs": [
    {
     "data": {
      "text/plain": [
       "'123456789'"
      ]
     },
     "execution_count": 6,
     "metadata": {},
     "output_type": "execute_result"
    }
   ],
   "source": [
    "re.search(r'\\d+', '123456789').group()"
   ]
  },
  {
   "cell_type": "markdown",
   "metadata": {
    "slideshow": {
     "slide_type": "subslide"
    }
   },
   "source": [
    "Znak zapytania `?` zmienia zachłanny mechanizm kwantyfikatora na **leniwy** (*lazy*) -- spośród możliwych dopasowań wybierane jest najkrótsze."
   ]
  },
  {
   "cell_type": "code",
   "execution_count": 8,
   "metadata": {
    "slideshow": {
     "slide_type": "-"
    }
   },
   "outputs": [
    {
     "data": {
      "text/plain": [
       "'1'"
      ]
     },
     "execution_count": 8,
     "metadata": {},
     "output_type": "execute_result"
    }
   ],
   "source": [
    "re.search(r'\\d+?', '123456789').group()"
   ]
  },
  {
   "cell_type": "markdown",
   "metadata": {
    "slideshow": {
     "slide_type": "subslide"
    }
   },
   "source": [
    "### Zagadka\n",
    "\n",
    "Jaki tekst zobaczymy tutaj?\n",
    "\n",
    "```python\n",
    "re.search(r'\\d*?', '123456789').group()\n",
    "```"
   ]
  },
  {
   "cell_type": "markdown",
   "metadata": {
    "slideshow": {
     "slide_type": "fragment"
    }
   },
   "source": [
    "Pusty łańcuch -- gwiazdka to zero lub więcej wystąpień."
   ]
  },
  {
   "cell_type": "code",
   "execution_count": 10,
   "metadata": {},
   "outputs": [
    {
     "data": {
      "text/plain": [
       "''"
      ]
     },
     "execution_count": 10,
     "metadata": {},
     "output_type": "execute_result"
    }
   ],
   "source": [
    "re.search(r'\\d*?', '123456789').group()"
   ]
  },
  {
   "cell_type": "markdown",
   "metadata": {
    "slideshow": {
     "slide_type": "fragment"
    }
   },
   "source": [
    "Jednak mechanizm domyślny jest zachłanny."
   ]
  },
  {
   "cell_type": "code",
   "execution_count": 11,
   "metadata": {},
   "outputs": [
    {
     "data": {
      "text/plain": [
       "'123456789'"
      ]
     },
     "execution_count": 11,
     "metadata": {},
     "output_type": "execute_result"
    }
   ],
   "source": [
    "re.search(r'\\d*', '123456789').group()"
   ]
  },
  {
   "cell_type": "markdown",
   "metadata": {
    "slideshow": {
     "slide_type": "subslide"
    }
   },
   "source": [
    "### Uwaga\n",
    "\n",
    "Dopasowanie puste to nie to samo co brak dopasowania!\n",
    "\n",
    "Tutaj dopasowania nie ma -- dostajemy `None`."
   ]
  },
  {
   "cell_type": "code",
   "execution_count": 16,
   "metadata": {},
   "outputs": [
    {
     "name": "stdout",
     "output_type": "stream",
     "text": [
      "None\n"
     ]
    }
   ],
   "source": [
    "brak = re.search('\\d', 'abc')\n",
    "\n",
    "print(brak)"
   ]
  },
  {
   "cell_type": "markdown",
   "metadata": {},
   "source": [
    "Ale tutaj jest. Dopasowany łańcuch jest pusty."
   ]
  },
  {
   "cell_type": "code",
   "execution_count": 13,
   "metadata": {},
   "outputs": [
    {
     "data": {
      "text/plain": [
       "(True, '')"
      ]
     },
     "execution_count": 13,
     "metadata": {},
     "output_type": "execute_result"
    }
   ],
   "source": [
    "puste = re.search('\\d?', 'abc')\n",
    "\n",
    "bool(puste), puste.group()"
   ]
  },
  {
   "cell_type": "markdown",
   "metadata": {
    "slideshow": {
     "slide_type": "slide"
    }
   },
   "source": [
    "## Alternatywa\n",
    "\n",
    "Znak pionowej kreski \n",
    "```\n",
    "regex1|regex2|...\n",
    "```\n",
    "tworzy alternatywę wyrażeń regularnych."
   ]
  },
  {
   "cell_type": "code",
   "execution_count": 4,
   "metadata": {},
   "outputs": [
    {
     "data": {
      "text/plain": [
       "[<_sre.SRE_Match object; span=(0, 4), match='pies'>,\n",
       " <_sre.SRE_Match object; span=(11, 14), match='kot'>]"
      ]
     },
     "execution_count": 4,
     "metadata": {},
     "output_type": "execute_result"
    }
   ],
   "source": [
    "pies_lub_kot = re.compile(r'pies|kot')\n",
    "\n",
    "list(pies_czy_kot.finditer('pies czyli kot'))"
   ]
  },
  {
   "cell_type": "markdown",
   "metadata": {
    "slideshow": {
     "slide_type": "subslide"
    }
   },
   "source": [
    "Zwracany jest pierwszy dopasowany składnik, dlatego kolejność może mieć znaczenie.\n",
    "\n",
    "Na przykład"
   ]
  },
  {
   "cell_type": "code",
   "execution_count": 5,
   "metadata": {},
   "outputs": [
    {
     "data": {
      "text/plain": [
       "<_sre.SRE_Match object; span=(4, 7), match='set'>"
      ]
     },
     "execution_count": 5,
     "metadata": {},
     "output_type": "execute_result"
    }
   ],
   "source": [
    "funkcja = re.compile(r'set|setValue')\n",
    "\n",
    "funkcja.search('def setValue():')"
   ]
  },
  {
   "cell_type": "markdown",
   "metadata": {
    "slideshow": {
     "slide_type": "fragment"
    }
   },
   "source": [
    "ale"
   ]
  },
  {
   "cell_type": "code",
   "execution_count": 6,
   "metadata": {},
   "outputs": [
    {
     "data": {
      "text/plain": [
       "<_sre.SRE_Match object; span=(4, 12), match='setValue'>"
      ]
     },
     "execution_count": 6,
     "metadata": {},
     "output_type": "execute_result"
    }
   ],
   "source": [
    "funkcja = re.compile(r'setValue|set')\n",
    "\n",
    "funkcja.search('def setValue():')"
   ]
  },
  {
   "cell_type": "markdown",
   "metadata": {
    "slideshow": {
     "slide_type": "slide"
    }
   },
   "source": [
    "## Grupowanie\n",
    "\n",
    "Do grupowania wyrażeń regularnych służą nawiasy okrągłe `()`. Fragmenty wyrażenia ograniczone nawiasami nazywamy **grupami**.\n",
    "\n",
    "Kwantyfikator występujący bezpośrednio po zamykającym nawiasie okrągłym odnosi się do wszystkiego co ten nawias ogranicza."
   ]
  },
  {
   "cell_type": "code",
   "execution_count": 30,
   "metadata": {},
   "outputs": [
    {
     "data": {
      "text/plain": [
       "'ccabcbbbacbccabcccbcaabcabcabcaabaaabbbbbacbacacacbbbbcaccaaaabccacbbaccacabccbccbacaabccbbbacbbcbbb'"
      ]
     },
     "execution_count": 30,
     "metadata": {},
     "output_type": "execute_result"
    }
   ],
   "source": [
    "import random\n",
    "\n",
    "tekst = ''.join(random.choice('abc') for _ in range(100))\n",
    "tekst"
   ]
  },
  {
   "cell_type": "code",
   "execution_count": 31,
   "metadata": {},
   "outputs": [
    {
     "data": {
      "text/plain": [
       "[<_sre.SRE_Match object; span=(2, 5), match='abc'>,\n",
       " <_sre.SRE_Match object; span=(13, 16), match='abc'>,\n",
       " <_sre.SRE_Match object; span=(21, 30), match='abcabcabc'>,\n",
       " <_sre.SRE_Match object; span=(61, 64), match='abc'>,\n",
       " <_sre.SRE_Match object; span=(74, 77), match='abc'>,\n",
       " <_sre.SRE_Match object; span=(85, 88), match='abc'>]"
      ]
     },
     "execution_count": 31,
     "metadata": {},
     "output_type": "execute_result"
    }
   ],
   "source": [
    "list(re.finditer(r'(abc)+', tekst))"
   ]
  },
  {
   "cell_type": "markdown",
   "metadata": {
    "slideshow": {
     "slide_type": "subslide"
    }
   },
   "source": [
    "### Zagadka\n",
    "\n",
    "Do czego dopasowuje się wyrażenie `rozum`?"
   ]
  },
  {
   "cell_type": "code",
   "execution_count": 35,
   "metadata": {},
   "outputs": [],
   "source": [
    "rozum = re.compile(r'rozum(u|owi|em|ie|y|ów|om|ami|ach)?')"
   ]
  },
  {
   "cell_type": "markdown",
   "metadata": {
    "slideshow": {
     "slide_type": "fragment"
    }
   },
   "source": [
    "Do rzeczownika *rozum* z uwzględnieniem odmiany przez przypadki.\n",
    "\n",
    "Sprawdzimy to na podstawie fragmentu z *Krytyki czystego rozumu* I. Kanta.\n",
    "```\n",
    "Z tego wszystkiego wypływa tedy idea odrębnej umiejętności,\n",
    "mogącej się nazywać *Krytyką czystego rozumu*. \n",
    "Bo rozum jest władzą, dostarczającą nam *zasad* poznania a priori.\n",
    "A więc czystym rozumem jest ten, co zawiera \n",
    "zasady poznania czegoś zgoła a priori.\n",
    "```"
   ]
  },
  {
   "cell_type": "code",
   "execution_count": 36,
   "metadata": {
    "slideshow": {
     "slide_type": "subslide"
    }
   },
   "outputs": [],
   "source": [
    "s = '''Z tego wszystkiego wypływa tedy idea odrębnej umiejętności,\n",
    "mogącej się nazywać *Krytyką czystego rozumu*. \n",
    "Bo rozum jest władzą, dostarczającą nam *zasad* poznania a priori.\n",
    "A więc czystym rozumem jest ten, co zawiera zasady poznania czegoś zgoła a priori.'''"
   ]
  },
  {
   "cell_type": "code",
   "execution_count": 37,
   "metadata": {},
   "outputs": [
    {
     "data": {
      "text/plain": [
       "[<_sre.SRE_Match object; span=(98, 104), match='rozumu'>,\n",
       " <_sre.SRE_Match object; span=(111, 116), match='rozum'>,\n",
       " <_sre.SRE_Match object; span=(190, 197), match='rozumem'>]"
      ]
     },
     "execution_count": 37,
     "metadata": {},
     "output_type": "execute_result"
    }
   ],
   "source": [
    "list(rozum.finditer(s))"
   ]
  },
  {
   "cell_type": "markdown",
   "metadata": {
    "slideshow": {
     "slide_type": "subslide"
    }
   },
   "source": [
    "### Zagadka\n",
    "\n",
    "A do czego dopasuje się to wyrażenie?\n",
    "```\n",
    "\\d{1,3}(,\\d{3})+\n",
    "```"
   ]
  },
  {
   "cell_type": "markdown",
   "metadata": {
    "slideshow": {
     "slide_type": "fragment"
    }
   },
   "source": [
    "Wypróbujemy je na tabelce o krajach północnoafrykańskich.\n",
    "\n",
    "```\n",
    "Algeria 2,381,740 34,178,188 2009 14 Algiers\n",
    "Canary Islands (Spain) 7,492 2,154,905 2017 226 Las Palmas de Gran Canaria\n",
    "Ceuta (Spain) 20 85,107 2017 3,575 --\n",
    "Egypt 1,001,450 82,868,000 2012 83 Cairo\n",
    "Libya 1,759,540 6,310,434 2009 4 Tripoli\n",
    "Madeira (Portugal) 797 245,000 2001 307 Funchal\n",
    "Melilla (Spain)[139] 12 85,116 2017 5,534 --\n",
    "Morocco 446,550 34,859,364 2009 78 Rabat\n",
    "Sudan 1,861,484 30,894,000 2008 17 Khartoum\n",
    "Tunisia 163,610 10,486,339 2009 64 Tunis\n",
    "Western Sahara 266,000 405,210 2009 2 El Aaiún\n",
    "```"
   ]
  },
  {
   "cell_type": "code",
   "execution_count": 40,
   "metadata": {
    "scrolled": true,
    "slideshow": {
     "slide_type": "subslide"
    }
   },
   "outputs": [],
   "source": [
    "liczba = re.compile(r'\\d{1,3}(,\\d{3})+')\n",
    "\n",
    "s = '''Algeria 2,381,740 34,178,188 2009 14 Algiers\n",
    "Canary Islands (Spain) 7,492 2,154,905 2017 226 Las Palmas de Gran Canaria\n",
    "Ceuta (Spain) 20 85,107 2017 3,575 --\n",
    "Egypt 1,001,450 82,868,000 2012 83 Cairo\n",
    "Libya 1,759,540 6,310,434 2009 4 Tripoli\n",
    "Madeira (Portugal) 797 245,000 2001 307 Funchal\n",
    "Melilla (Spain)[139] 12 85,116 2017 5,534 --\n",
    "Morocco 446,550 34,859,364 2009 78 Rabat\n",
    "Sudan 1,861,484 30,894,000 2008 17 Khartoum\n",
    "Tunisia 163,610 10,486,339 2009 64 Tunis\n",
    "Western Sahara 266,000 405,210 2009 2 El Aaiún'''"
   ]
  },
  {
   "cell_type": "code",
   "execution_count": 41,
   "metadata": {
    "slideshow": {
     "slide_type": "subslide"
    }
   },
   "outputs": [
    {
     "data": {
      "text/plain": [
       "[<_sre.SRE_Match object; span=(8, 17), match='2,381,740'>,\n",
       " <_sre.SRE_Match object; span=(18, 28), match='34,178,188'>,\n",
       " <_sre.SRE_Match object; span=(68, 73), match='7,492'>,\n",
       " <_sre.SRE_Match object; span=(74, 83), match='2,154,905'>,\n",
       " <_sre.SRE_Match object; span=(137, 143), match='85,107'>,\n",
       " <_sre.SRE_Match object; span=(149, 154), match='3,575'>,\n",
       " <_sre.SRE_Match object; span=(164, 173), match='1,001,450'>,\n",
       " <_sre.SRE_Match object; span=(174, 184), match='82,868,000'>,\n",
       " <_sre.SRE_Match object; span=(205, 214), match='1,759,540'>,\n",
       " <_sre.SRE_Match object; span=(215, 224), match='6,310,434'>,\n",
       " <_sre.SRE_Match object; span=(263, 270), match='245,000'>,\n",
       " <_sre.SRE_Match object; span=(312, 318), match='85,116'>,\n",
       " <_sre.SRE_Match object; span=(324, 329), match='5,534'>,\n",
       " <_sre.SRE_Match object; span=(341, 348), match='446,550'>,\n",
       " <_sre.SRE_Match object; span=(349, 359), match='34,859,364'>,\n",
       " <_sre.SRE_Match object; span=(380, 389), match='1,861,484'>,\n",
       " <_sre.SRE_Match object; span=(390, 400), match='30,894,000'>,\n",
       " <_sre.SRE_Match object; span=(426, 433), match='163,610'>,\n",
       " <_sre.SRE_Match object; span=(434, 444), match='10,486,339'>,\n",
       " <_sre.SRE_Match object; span=(474, 481), match='266,000'>,\n",
       " <_sre.SRE_Match object; span=(482, 489), match='405,210'>]"
      ]
     },
     "execution_count": 41,
     "metadata": {},
     "output_type": "execute_result"
    }
   ],
   "source": [
    "list(liczba.finditer(s))"
   ]
  },
  {
   "cell_type": "markdown",
   "metadata": {
    "slideshow": {
     "slide_type": "slide"
    }
   },
   "source": [
    "## Przechwytywanie grup\n",
    "\n",
    "* Dopasowania do fragmentów wyrażenia regularnego leżących w nawiasach `()`, czyli do grup, są zapamiętywane.\n",
    "* Grupy są numerowane **od jedynki** zgodnie z kolejnymi otwierającymi nawiasami. Za grupę zerową można uważać całe wyrażenie regularne.\n",
    "* Obiekt dopasowania posiada metodę `groups()`, która zwraca krotkę z łańcuchami dopasowanymi do kolejnych grup od numery `1` począwszy.\n",
    "* Metoda `group()`:\n",
    "  * wywołana bez argumentu zwraca łańcuch dopasowany do grupy zerowej, czyli do całego wyrażenia.\n",
    "  * wywołana z argumentem całkowitym `k` zwraca łańcuch dopasowany do `k`-tej grupy."
   ]
  },
  {
   "cell_type": "markdown",
   "metadata": {
    "slideshow": {
     "slide_type": "subslide"
    }
   },
   "source": [
    "Wyrażenie `liczba` dopasowuje się do liczb zmiennoprzecinkowych o niepustej części przed i za kropką."
   ]
  },
  {
   "cell_type": "code",
   "execution_count": 95,
   "metadata": {},
   "outputs": [
    {
     "data": {
      "text/plain": [
       "[<_sre.SRE_Match object; span=(4, 7), match='1.2'>,\n",
       " <_sre.SRE_Match object; span=(8, 13), match='-12.7'>,\n",
       " <_sre.SRE_Match object; span=(14, 17), match='0.6'>]"
      ]
     },
     "execution_count": 95,
     "metadata": {},
     "output_type": "execute_result"
    }
   ],
   "source": [
    "liczba = re.compile(r'-?(\\d+)\\.(\\d+)')\n",
    "\n",
    "list(liczba.finditer('2 3 1.2 -12.7 0.6'))"
   ]
  },
  {
   "cell_type": "markdown",
   "metadata": {
    "slideshow": {
     "slide_type": "fragment"
    }
   },
   "source": [
    "Wyrażenie ma dwie grupy: cechę i mantysę."
   ]
  },
  {
   "cell_type": "code",
   "execution_count": 96,
   "metadata": {},
   "outputs": [
    {
     "data": {
      "text/plain": [
       "('34', '123')"
      ]
     },
     "execution_count": 96,
     "metadata": {},
     "output_type": "execute_result"
    }
   ],
   "source": [
    "liczba.search('-34.123').groups()"
   ]
  },
  {
   "cell_type": "markdown",
   "metadata": {
    "slideshow": {
     "slide_type": "slide"
    }
   },
   "source": [
    "## Kotwice (*anchors*)\n",
    "\n",
    "Kotwica *zakotwicza* dopasowanie do określonej pozycji. Jest to dopasowanie o zerowej długości.\n",
    "\n",
    "* `^` -- domyślnie początek łańcucha; w trybie `MULTILINE` początek każdej linii.\n",
    "\n",
    "* `$` -- domyślnie koniec łańcucha; w trybie `MULTILINE` koniec każdej linii.\n",
    "\n",
    "* `\\b` -- początek lub koniec słowa; dokładniej -- miejsce, które z jednej strony ma znak alfanumeryczny, a z drugiej znak niealfanumeryczny lub koniec łańcucha."
   ]
  },
  {
   "cell_type": "markdown",
   "metadata": {
    "slideshow": {
     "slide_type": "subslide"
    }
   },
   "source": [
    "### `\\b`\n",
    "\n",
    "Szukamy słowa `kot` w zdaniu\n",
    "```\n",
    "kot wszedł do kotła, gdyż szukał maskotki.\n",
    "```\n",
    "\n",
    "Pierwsze podejście"
   ]
  },
  {
   "cell_type": "code",
   "execution_count": 98,
   "metadata": {},
   "outputs": [
    {
     "data": {
      "text/plain": [
       "[<_sre.SRE_Match object; span=(0, 3), match='kot'>,\n",
       " <_sre.SRE_Match object; span=(14, 17), match='kot'>,\n",
       " <_sre.SRE_Match object; span=(36, 39), match='kot'>]"
      ]
     },
     "execution_count": 98,
     "metadata": {},
     "output_type": "execute_result"
    }
   ],
   "source": [
    "zdanie = 'kot wszedł do kotła, gdyż szukał maskotki.'\n",
    "\n",
    "list(re.finditer(r'kot', zdanie))"
   ]
  },
  {
   "cell_type": "markdown",
   "metadata": {},
   "source": [
    "daje nam aż trzy koty."
   ]
  },
  {
   "cell_type": "markdown",
   "metadata": {
    "slideshow": {
     "slide_type": "subslide"
    }
   },
   "source": [
    "Dopiero wyrażenie\n",
    "```\n",
    "\\bkot\\b\n",
    "```\n",
    "odrzuca dopasowania w słowach zawierających `kot` jako fragment."
   ]
  },
  {
   "cell_type": "code",
   "execution_count": 99,
   "metadata": {},
   "outputs": [
    {
     "data": {
      "text/plain": [
       "[<_sre.SRE_Match object; span=(0, 3), match='kot'>]"
      ]
     },
     "execution_count": 99,
     "metadata": {},
     "output_type": "execute_result"
    }
   ],
   "source": [
    "zdanie = 'kot wszedł do kotła, gdyż szukał maskotki.'\n",
    "\n",
    "list(re.finditer(r'\\bkot\\b', zdanie))"
   ]
  },
  {
   "cell_type": "markdown",
   "metadata": {
    "slideshow": {
     "slide_type": "subslide"
    }
   },
   "source": [
    "### `$`\n",
    "\n",
    "Wyrażeniem\n",
    "```\n",
    "[^\\\\]+$\n",
    "```\n",
    "\n",
    "dopasujemy nazwy plików ze ścieżek.\n",
    "\n",
    "```\n",
    "\\User\\notatki.txt\n",
    "\\Program files\\costam.exe\n",
    "wazne.tex\n",
    "C:\\User\\\n",
    "C:\\temp\\folder\\jakis.dll\n",
    "```\n",
    "\n",
    "Kotwicę chcemy postawić na końcu każdej linii, stosujemy więc tryb `re.MULTILINE`."
   ]
  },
  {
   "cell_type": "code",
   "execution_count": null,
   "metadata": {},
   "outputs": [],
   "source": [
    "plik = re.compile(r'[^\\\\]+$', flags=re.MULTILINE)"
   ]
  },
  {
   "cell_type": "code",
   "execution_count": 13,
   "metadata": {
    "slideshow": {
     "slide_type": "subslide"
    }
   },
   "outputs": [],
   "source": [
    "ścieżki = r'''\\User\\notatki.txt\n",
    "\\Program files\\costam.exe\n",
    "wazne.tex\n",
    "C:\\User\\\n",
    "C:\\temp\\folder\\jakis.dll'''"
   ]
  },
  {
   "cell_type": "code",
   "execution_count": 14,
   "metadata": {},
   "outputs": [
    {
     "name": "stdout",
     "output_type": "stream",
     "text": [
      "notatki.txt\n",
      "costam.exe\n",
      "wazne.tex\n",
      "jakis.dll\n"
     ]
    }
   ],
   "source": [
    "for nazwa in plik.finditer(ścieżki):\n",
    "    print(nazwa.group())"
   ]
  },
  {
   "cell_type": "markdown",
   "metadata": {
    "slideshow": {
     "slide_type": "subslide"
    }
   },
   "source": [
    "### `^`\n",
    "\n",
    "Wyrażeniem\n",
    "```\n",
    "^\\w+\n",
    "```\n",
    "pobierzemy nazwy plików bez rozszerzeń z łańcucha\n",
    "```\n",
    "prog.py\n",
    "cos.dll\n",
    "wykonalny.exe\n",
    "spis.txt\n",
    "paczka.tar.gz\n",
    "```"
   ]
  },
  {
   "cell_type": "code",
   "execution_count": 5,
   "metadata": {},
   "outputs": [
    {
     "data": {
      "text/plain": [
       "[<_sre.SRE_Match object; span=(0, 4), match='prog'>,\n",
       " <_sre.SRE_Match object; span=(8, 11), match='cos'>,\n",
       " <_sre.SRE_Match object; span=(16, 25), match='wykonalny'>,\n",
       " <_sre.SRE_Match object; span=(30, 34), match='spis'>,\n",
       " <_sre.SRE_Match object; span=(39, 45), match='paczka'>]"
      ]
     },
     "execution_count": 5,
     "metadata": {},
     "output_type": "execute_result"
    }
   ],
   "source": [
    "pliki = '''prog.py\n",
    "cos.dll\n",
    "wykonalny.exe\n",
    "spis.txt\n",
    "paczka.tar.gz'''\n",
    "\n",
    "list(re.finditer(r'^\\w+', pliki, flags=re.MULTILINE))"
   ]
  },
  {
   "cell_type": "markdown",
   "metadata": {
    "slideshow": {
     "slide_type": "slide"
    }
   },
   "source": [
    "## Opcje (flagi)\n",
    "\n",
    "* `re.IGNORECASE` -- litery małe i duże przestają być rozróżniane.\n",
    "\n",
    "* `re.MULTILINE` -- znaki `^` i `$` odnoszą się do początku i końca linii, a nie łańcucha."
   ]
  },
  {
   "cell_type": "markdown",
   "metadata": {
    "slideshow": {
     "slide_type": "subslide"
    }
   },
   "source": [
    "### Kropka\n",
    "\n",
    "Znak kropki `.` dopasowuje się domyślnie do każdego znaku z wyjątkiem znak nowej linii `'\\n'`.\n",
    "\n",
    "Użycie flagi `re.DOTALL` powoduje, że kropka dopasowuje się do każdego znaku, łącznie ze znakiem `'\\n'`."
   ]
  },
  {
   "cell_type": "markdown",
   "metadata": {
    "slideshow": {
     "slide_type": "slide"
    }
   },
   "source": [
    "## Pełne dopasowanie\n",
    "\n",
    "Jeśli piszesz program pobierający jakieś dane (np. z klawiatury) od użytkownika, to możesz spróbować wymusić poprawność formatu wyrażeniem regularnym.\n",
    "\n",
    "Załóżmy, że Twój program pobiera datę w formacie `DD.MM.YYYY`. Wówczas wyrażenie\n",
    "```\n",
    "\\d\\d\\.\\d\\d\\.\\d\\d\\d\\d\n",
    "```\n",
    "odrzuci (część) nieprawidłowych wpisów."
   ]
  },
  {
   "cell_type": "markdown",
   "metadata": {
    "slideshow": {
     "slide_type": "subslide"
    }
   },
   "source": [
    "Tu jest dobrze"
   ]
  },
  {
   "cell_type": "code",
   "execution_count": 25,
   "metadata": {},
   "outputs": [
    {
     "data": {
      "text/plain": [
       "<_sre.SRE_Match object; span=(0, 10), match='29.05.2018'>"
      ]
     },
     "execution_count": 25,
     "metadata": {},
     "output_type": "execute_result"
    }
   ],
   "source": [
    "re.search(r'\\d\\d\\.\\d\\d.\\d\\d\\d\\d', '29.05.2018')"
   ]
  },
  {
   "cell_type": "markdown",
   "metadata": {
    "slideshow": {
     "slide_type": "fragment"
    }
   },
   "source": [
    "ale tu błędnie"
   ]
  },
  {
   "cell_type": "code",
   "execution_count": 24,
   "metadata": {},
   "outputs": [
    {
     "data": {
      "text/plain": [
       "<_sre.SRE_Match object; span=(1, 11), match='93.05.2018'>"
      ]
     },
     "execution_count": 24,
     "metadata": {},
     "output_type": "execute_result"
    }
   ],
   "source": [
    "re.search(r'\\d\\d\\.\\d\\d.\\d\\d\\d\\d', '293.05.2018')"
   ]
  },
  {
   "cell_type": "markdown",
   "metadata": {
    "slideshow": {
     "slide_type": "subslide"
    }
   },
   "source": [
    "Po tej poprawce\n",
    "```\n",
    "^\\d\\d\\.\\d\\d\\.\\d\\d\\d\\d$\n",
    "```\n",
    "mamy gwarancję, że przekazany dalej łańcuch **cały** dopasowuje się do wyrażenia `\\d\\d\\.\\d\\d\\.\\d\\d\\d\\d`"
   ]
  },
  {
   "cell_type": "code",
   "execution_count": 27,
   "metadata": {},
   "outputs": [],
   "source": [
    "re.search(r'^\\d\\d\\.\\d\\d.\\d\\d\\d\\d$', '293.05.2018')"
   ]
  },
  {
   "cell_type": "markdown",
   "metadata": {
    "slideshow": {
     "slide_type": "subslide"
    }
   },
   "source": [
    "Wyrażenie\n",
    "```\n",
    "^\\s*\\d\\d\\.\\d\\d.\\d\\d\\d\\d\\s*$\n",
    "```\n",
    "sprawi, że test poprawności formatu przejdą łańcuchy z biały znakami na początku i końcu napisu. "
   ]
  },
  {
   "cell_type": "code",
   "execution_count": 31,
   "metadata": {},
   "outputs": [
    {
     "data": {
      "text/plain": [
       "<_sre.SRE_Match object; span=(0, 17), match='   93.05.2018  \\n '>"
      ]
     },
     "execution_count": 31,
     "metadata": {},
     "output_type": "execute_result"
    }
   ],
   "source": [
    "re.search(r'^\\s*\\d\\d\\.\\d\\d.\\d\\d\\d\\d\\s*$', '   93.05.2018  \\n ')"
   ]
  },
  {
   "cell_type": "markdown",
   "metadata": {},
   "source": [
    "Jak teraz wydobyć datę z łańcucha? Nie wiemy ile białych znaków go poprzedza."
   ]
  },
  {
   "cell_type": "markdown",
   "metadata": {
    "slideshow": {
     "slide_type": "subslide"
    }
   },
   "source": [
    "Wykorzystując grupowanie\n",
    "```\n",
    "^\\s*(\\d\\d)\\.(\\d\\d).(\\d\\d\\d\\d)\\s*$\n",
    "```\n",
    "\n",
    "Grupy o numerach 1, 2, 3 to odpowiednio dzień, miesiąc, rok."
   ]
  },
  {
   "cell_type": "code",
   "execution_count": 35,
   "metadata": {},
   "outputs": [
    {
     "name": "stdout",
     "output_type": "stream",
     "text": [
      "Data: 12.13.12345\n",
      "Nieprawidłowy format.\n",
      "Data:     12.13.1234   \n",
      "12 13 1234\n"
     ]
    }
   ],
   "source": [
    "while True:\n",
    "    data = input('Data: ')\n",
    "    dopasowanie = re.search(r'^\\s*(\\d\\d)\\.(\\d\\d).(\\d\\d\\d\\d)\\s*$', data)\n",
    "    \n",
    "    if dopasowanie is not None:\n",
    "        dzień, miesiąc, rok = dopasowanie.groups()\n",
    "        print(dzień, miesiąc, rok)\n",
    "        break\n",
    "    \n",
    "    print('Nieprawidłowy format.')"
   ]
  },
  {
   "cell_type": "markdown",
   "metadata": {
    "slideshow": {
     "slide_type": "subslide"
    }
   },
   "source": [
    "To czego nie sprawdzamy, to zakresy dni i miesięcy. Możesz to zrobić w programie, albo dalej rozbudowywać wyrażenie regularne."
   ]
  },
  {
   "cell_type": "code",
   "execution_count": 36,
   "metadata": {},
   "outputs": [
    {
     "data": {
      "text/plain": [
       "<_sre.SRE_Match object; span=(0, 10), match='93.05.2018'>"
      ]
     },
     "execution_count": 36,
     "metadata": {},
     "output_type": "execute_result"
    }
   ],
   "source": [
    "re.search(r'^\\s*(\\d\\d)\\.(\\d\\d).(\\d\\d\\d\\d)\\s*$', '93.05.2018')"
   ]
  },
  {
   "cell_type": "markdown",
   "metadata": {
    "slideshow": {
     "slide_type": "slide"
    }
   },
   "source": [
    "## Przykład: znaczniki HTML\n",
    "\n",
    "Chcemy utworzyć wyrażenie regularne, które dopasuje znaczniki HTML. \n",
    "\n",
    "Na przykład, w łańcuchu \n",
    "\n",
    "```html\n",
    "<p>Do not forget to buy <mark>milk</mark> today.</p>\n",
    "```\n",
    "\n",
    "należy dopasować `p`, `mark`, `/mark`, `/p`."
   ]
  },
  {
   "cell_type": "markdown",
   "metadata": {
    "slideshow": {
     "slide_type": "subslide"
    }
   },
   "source": [
    "### Pierwszy sposób\n",
    "\n",
    "Zwróć uwagę na leniwy kwantyfikator. Można zastąpić go zachłannym?"
   ]
  },
  {
   "cell_type": "code",
   "execution_count": 46,
   "metadata": {
    "slideshow": {
     "slide_type": "-"
    }
   },
   "outputs": [
    {
     "name": "stdout",
     "output_type": "stream",
     "text": [
      "p\n",
      "mark\n",
      "/mark\n",
      "/p\n"
     ]
    }
   ],
   "source": [
    "tekst = '<p>Do not forget to buy <mark>milk</mark> today.</p>'\n",
    "\n",
    "html_tag = re.compile(r'<(.+?)>')\n",
    "\n",
    "for znacznik in html_tag.finditer(tekst):\n",
    "    print(znacznik.group(1))"
   ]
  },
  {
   "cell_type": "markdown",
   "metadata": {
    "slideshow": {
     "slide_type": "subslide"
    }
   },
   "source": [
    "### Drugi sposób\n",
    "\n",
    "Wykorzystujemy negację."
   ]
  },
  {
   "cell_type": "code",
   "execution_count": 47,
   "metadata": {
    "slideshow": {
     "slide_type": "-"
    }
   },
   "outputs": [
    {
     "name": "stdout",
     "output_type": "stream",
     "text": [
      "p\n",
      "mark\n",
      "/mark\n",
      "/p\n"
     ]
    }
   ],
   "source": [
    "tekst = '<p>Do not forget to buy <mark>milk</mark> today.</p>'\n",
    "\n",
    "html_tag = re.compile(r'<([^>]+)>')\n",
    "\n",
    "for znacznik in html_tag.finditer(tekst):\n",
    "    print(znacznik.group(1))"
   ]
  },
  {
   "cell_type": "markdown",
   "metadata": {
    "slideshow": {
     "slide_type": "slide"
    }
   },
   "source": [
    "## `re.sub(wzorzec, zamiennik, łańcuch, count=0, flags=0)`\n",
    "\n",
    "W tekście `łańcuch` wartość `zamiennik` wstawiana jest w dopasowania wyznaczone przez `wzorzec`."
   ]
  },
  {
   "cell_type": "markdown",
   "metadata": {
    "slideshow": {
     "slide_type": "subslide"
    }
   },
   "source": [
    "Poniżej znajduje się raczej nieczytelna lista dziesięciu punktów płaszczyzny:\n",
    "\n",
    "```\n",
    "[\t24, -71 ],\n",
    "[ 17, 23\n",
    "],[ -22\n",
    ", -68],[\t-5\n",
    ",\n",
    "-4],\n",
    "[\t-100\n",
    ", -50\t], [\t-25,\t67\n",
    "],[ 10,\t43\n",
    "], [ 65,\t-68\t],\t[\n",
    "-41\t,\t-2\n",
    "],\t[\n",
    "34,\n",
    "35 ]\n",
    "```\n",
    "Tekst ten naprawimy jednym użyciem `re.sub()`."
   ]
  },
  {
   "cell_type": "code",
   "execution_count": 53,
   "metadata": {
    "slideshow": {
     "slide_type": "subslide"
    }
   },
   "outputs": [],
   "source": [
    "punkty = '''[\t24, -71 ],\n",
    "[ 17, 23\n",
    "],[ -22\n",
    ", -68],[\t-5\n",
    ",\n",
    "-4],\n",
    "[\t-100\n",
    ", -50\t], [\t-25,\t67\n",
    "],[ 10,\t43\n",
    "], [ 65,\t-68\t],\t[\n",
    "-41\t,\t-2\n",
    "],\t[\n",
    "34,\n",
    "35 ]'''"
   ]
  },
  {
   "cell_type": "code",
   "execution_count": 56,
   "metadata": {
    "slideshow": {
     "slide_type": "subslide"
    }
   },
   "outputs": [
    {
     "data": {
      "text/plain": [
       "'[24,-71], [17,23], [-22,-68], [-5,-4], [-100,-50], [-25,67], [10,43], [65,-68], [-41,-2], [34,35]'"
      ]
     },
     "execution_count": 56,
     "metadata": {},
     "output_type": "execute_result"
    }
   ],
   "source": [
    "# Usuwamy wszystkie białe znaki\n",
    "punkty = re.sub(r'\\s+', '', punkty)\n",
    "\n",
    "# Dokładamy spację po przecinku rozdzielającym punkty.\n",
    "# W tym przypadku wystarczy metoda łańcuchów replace()\n",
    "punkty.replace('],[', '], [')"
   ]
  },
  {
   "cell_type": "markdown",
   "metadata": {
    "slideshow": {
     "slide_type": "slide"
    }
   },
   "source": [
    "## Literatura\n",
    "\n",
    "Do poczytania:\n",
    "\n",
    "* [HOWTO autorstwa A.M. Kuchlinga](https://docs.python.org/3.6/howto/regex.html)\n",
    "* [Dive into Python, chapter 5](http://www.diveintopython3.net/regular-expressions.html)\n",
    "\n",
    "Do obejrzenia:\n",
    "\n",
    "* [Wykład A. Sweigarta](https://www.youtube.com/watch?v=abrcJ9MpF60&t=970s)\n",
    "* [Wykład T. Hunnera](https://www.youtube.com/watch?v=0sOfhhduqks&t=1172s)"
   ]
  }
 ],
 "metadata": {
  "anaconda-cloud": {},
  "celltoolbar": "Slideshow",
  "kernelspec": {
   "display_name": "Python [default]",
   "language": "python",
   "name": "python3"
  },
  "language_info": {
   "codemirror_mode": {
    "name": "ipython",
    "version": 3
   },
   "file_extension": ".py",
   "mimetype": "text/x-python",
   "name": "python",
   "nbconvert_exporter": "python",
   "pygments_lexer": "ipython3",
   "version": "3.5.4"
  }
 },
 "nbformat": 4,
 "nbformat_minor": 1
}
