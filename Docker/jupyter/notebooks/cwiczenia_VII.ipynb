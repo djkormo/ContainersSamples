{
 "cells": [
  {
   "cell_type": "markdown",
   "metadata": {},
   "source": [
    "# Ćwiczenia 7\n",
    "\n",
    "## Programowanie dla analizy danych\n",
    "\n",
    "2017/2018, semestr letni\n",
    "\n",
    "---\n",
    "\n",
    "## 1\n",
    "\n",
    "Napisz klasę `PrędkośćŚrednia`. Instancje tej klasy mają przechowywać i aktualizować prędkość średnią punktu na podstawie przebytej drogi i zużytego czasu. Do interfejsu klasy należą atrybuty:\n",
    "* `droga` -- wartość liczbowa określająca przebytą drogę;\n",
    "* `czas` -- wartość liczbowa określająca czas zużyty na przebycie drogi;\n",
    "* `prędkość_średnia` --  prędkość średnia punktu;\n",
    "\n",
    "i metoda \n",
    "* `dodaj_odcinek()` -- aktualizuje atrybuty na podstawie nowych danych.\n",
    "\n",
    "Klasa powinna implementować metody:\n",
    "* `__init__(self)` -- inicjalizuje atrybuty `droga` i `czas` na zero.\n",
    "* `dodaj_odcinek(self, droga, czas)` -- aktualizuje wartości atrybutów `droga` i `czas`. Ponadto oblicza prędkość średnią i przypisuje ją do atrybutu `prędkość_średnia`."
   ]
  },
  {
   "cell_type": "code",
   "execution_count": null,
   "metadata": {
    "collapsed": true
   },
   "outputs": [],
   "source": []
  },
  {
   "cell_type": "markdown",
   "metadata": {
    "collapsed": true
   },
   "source": [
    "#### Testy"
   ]
  },
  {
   "cell_type": "code",
   "execution_count": null,
   "metadata": {
    "collapsed": true
   },
   "outputs": [],
   "source": [
    "p = PrędkośćŚrednia()\n",
    "\n",
    "assert p.droga == 0\n",
    "assert p.czas == 0\n",
    "\n",
    "p.dodaj_odcinek(droga=30, czas=15)\n",
    "\n",
    "assert p.droga == 30\n",
    "assert p.czas == 15\n",
    "assert p.prędkość_średnia == 2.0\n",
    "\n",
    "p.dodaj_odcinek(czas=35, droga=170)\n",
    "\n",
    "assert p.droga == 200\n",
    "assert p.czas == 50\n",
    "assert p.prędkość_średnia == 4.0"
   ]
  },
  {
   "cell_type": "markdown",
   "metadata": {},
   "source": [
    "---\n",
    "\n",
    "## 2\n",
    "\n",
    "Celem tego ćwiczenia jest napisanie klasy `Temperatura` obsługującej skale Kelwina, Celsjusza i Fahrenheita.\n",
    "\n",
    "### 2.1\n",
    "\n",
    "Dokończ budowę słownika `KONWERTER`.  Słownik ten zawieraja pary `rodzaj_konwersji: funkcja`, gdzie\n",
    "* `rodzaj_konwersji` to dwuliterowy łańcuch `AB`, gdzie `A` i `B` są dowolnymi literami z łańcucha `'KCF'`. Litery te oznaczają odpowiednio skalę  Kelwina, Celsjusza i Fahrenheita.\n",
    "* `funkcja` to jednoparametrowa funkcja przeliczająca temperaturę między odpowiednimi skalami. Przykładowo, klucz `'FC'` oznacza, że przyporządkowana mu funkcja przelicza skalę Fahrenheita na Celsjusza.\n",
    "\n",
    "[Tutaj](https://en.wikipedia.org/wiki/Temperature#Conversion) znajdziesz wzory przeliczajace skale. Funkcje zdefiniuj używając wyrażenia `lambda`. "
   ]
  },
  {
   "cell_type": "code",
   "execution_count": null,
   "metadata": {
    "collapsed": true
   },
   "outputs": [],
   "source": [
    "KONWERTER = {'KK': lambda t: t,\n",
    "             'KC': lambda t: t - 273.15,\n",
    "             'KF': lambda t: (t - 273.15) * 9/5 + 32,\n",
    "            }"
   ]
  },
  {
   "cell_type": "markdown",
   "metadata": {},
   "source": [
    "### 2.2\n",
    "\n",
    "Napisz klasę `Temperatura`. Instancja tej klasy to temperatura w jednej ze skal Kelwina, Celsjusza lub Fahrenheita. Klasa powinna implementować metody:\n",
    "* `__init__(self, temperatura, jednostka)` -- inicjalizacja parametrów `temperatura` (domyślnie zero) i `jednostka` (domyślnie Kelwin, czyli `'K'`).\n",
    "* `przelicz_na(self, jednostka)` -- parametr `jednostka` to jeden z łańcuchów `'K'`, `'C'` lub `'F'` oznaczający skalę na którą należy przeliczyć. Metoda aktualizuje atrybuty `jednostka` i `temperatura` instancji. Do wyliczenia temperatury w nowej skali użyj funkcji ze słownika `KONWERTER`."
   ]
  },
  {
   "cell_type": "code",
   "execution_count": null,
   "metadata": {
    "collapsed": true
   },
   "outputs": [],
   "source": []
  },
  {
   "cell_type": "markdown",
   "metadata": {},
   "source": [
    "#### Testy\n",
    "\n",
    "Sprawdzamy, czy instancje inicjalizują sie poprawnie."
   ]
  },
  {
   "cell_type": "code",
   "execution_count": null,
   "metadata": {
    "collapsed": true
   },
   "outputs": [],
   "source": [
    "temp = Temperatura()\n",
    "\n",
    "assert temp.temperatura == 0\n",
    "assert temp.jednostka == 'K'\n",
    "\n",
    "temp = Temperatura(jednostka='C')\n",
    "\n",
    "assert temp.temperatura == 0\n",
    "assert temp.jednostka == 'C'\n",
    "\n",
    "temp = Temperatura(jednostka='F')\n",
    "\n",
    "assert temp.temperatura == 0\n",
    "assert temp.jednostka == 'F'\n",
    "\n",
    "temp = Temperatura(200)\n",
    "\n",
    "assert temp.temperatura == 200\n",
    "assert temp.jednostka == 'K'"
   ]
  },
  {
   "cell_type": "markdown",
   "metadata": {},
   "source": [
    "Testujemy przeliczanie temperatur na przykładzie temperatury wrzenia wody. Funkcja `prawie_równe()` zabezpiecza nas przed błędami w typie zmiennoprzecinkowym. Przykładowo, porównanie\n",
    "```python\n",
    "27 ** (2/3) == 9\n",
    "```\n",
    "zwraca `False`, podczas gdy\n",
    "```python\n",
    "prawie_równe(27 ** (2/3), 9)\n",
    "```\n",
    "jest `True`."
   ]
  },
  {
   "cell_type": "code",
   "execution_count": null,
   "metadata": {
    "collapsed": true
   },
   "outputs": [],
   "source": [
    "JEDNOSTKI = 'K C F'.split()\n",
    "\n",
    "def prawie_równe(a, b, epsilon=10**(-10)):\n",
    "    return abs(a - b) < epsilon\n",
    "\n",
    "\n",
    "# Temeratura wrzenia wody.\n",
    "TEMPERATURA_WRZENIA = [('K', 373.15), ('C', 100), ('F', 212)]\n",
    "\n",
    "for j0, t0 in TEMPERATURA_WRZENIA:\n",
    "    for j1, t1 in TEMPERATURA_WRZENIA:\n",
    "        temp = Temperatura(temperatura=t0, jednostka=j0)\n",
    "        temp.przelicz_na(j1)\n",
    "        assert prawie_równe(temp.temperatura, t1), '{}: {} --> {}'.format(t0, j0, j1)"
   ]
  },
  {
   "cell_type": "markdown",
   "metadata": {},
   "source": [
    "### 2.3\n",
    "\n",
    "Dopisz do klasy `Temperatura` metodę `przedstaw_mnie(self)`. Metoda powinna zwracać łańcuch informujący o temperaturze `t` i jednostce przechowywanej w instancji w postaci `'t°C'`, `'t°F'` lub `'t K'`. Symbol `°` uzyskasz stosując sekwencję ucieczkową `\\xB0` jak w przykładzie `'36.6\\xb0C'`."
   ]
  },
  {
   "cell_type": "code",
   "execution_count": null,
   "metadata": {
    "collapsed": true
   },
   "outputs": [],
   "source": []
  }
 ],
 "metadata": {
  "anaconda-cloud": {},
  "kernelspec": {
   "display_name": "Python [default]",
   "language": "python",
   "name": "python3"
  },
  "language_info": {
   "codemirror_mode": {
    "name": "ipython",
    "version": 3
   },
   "file_extension": ".py",
   "mimetype": "text/x-python",
   "name": "python",
   "nbconvert_exporter": "python",
   "pygments_lexer": "ipython3",
   "version": "3.5.4"
  }
 },
 "nbformat": 4,
 "nbformat_minor": 2
}
