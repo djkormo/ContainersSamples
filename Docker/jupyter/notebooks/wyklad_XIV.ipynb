{
 "cells": [
  {
   "cell_type": "markdown",
   "metadata": {
    "slideshow": {
     "slide_type": "slide"
    }
   },
   "source": [
    "# Podstawy programowania w analizie danych\n",
    "\n",
    "## Tomasz Rodak\n",
    "\n",
    "2017/2018, semestr letni\n",
    "\n",
    "Wykład XIV"
   ]
  },
  {
   "cell_type": "markdown",
   "metadata": {
    "slideshow": {
     "slide_type": "slide"
    }
   },
   "source": [
    "# XML\n",
    "\n",
    "Na podstawie: [https://www.w3schools.com/xml/default.asp](https://www.w3schools.com/xml/default.asp)"
   ]
  },
  {
   "cell_type": "markdown",
   "metadata": {
    "slideshow": {
     "slide_type": "slide"
    }
   },
   "source": [
    "## Czym jest XML?\n",
    "\n",
    "* XML to eXtensible Markup Language (rozszerzalny język znaczników).\n",
    "\n",
    "* XML jest językiem znaczników, tak jak HTML.\n",
    "\n",
    "* XML służy do przechowywanie i transportu danych.\n",
    "\n",
    "* Format XML jest czytelny dla człowieka.\n",
    "\n",
    "* Twórcą XML jest konsorcjum W3C."
   ]
  },
  {
   "cell_type": "markdown",
   "metadata": {
    "slideshow": {
     "slide_type": "slide"
    }
   },
   "source": [
    "## XML nic nie robi...\n",
    "\n",
    "<br>\n",
    "\n",
    "\n",
    "```xml\n",
    "<note>\n",
    "  <to>Tove</to>\n",
    "  <from>Jani</from>\n",
    "  <heading>Reminder</heading>\n",
    "  <body>Don't forget me this weekend!</body>\n",
    "</note>\n",
    "```"
   ]
  },
  {
   "cell_type": "markdown",
   "metadata": {
    "slideshow": {
     "slide_type": "slide"
    }
   },
   "source": [
    "## ...jedynie przechowuje dane,\n",
    "\n",
    "które mogą zostać zinterpretowane przez oprogramowanie:\n",
    "\n",
    "\n",
    "> ### Note\n",
    ">To: Tove\n",
    ">\n",
    ">From: Jani\n",
    ">#### Reminder\n",
    ">Don't forget me this weekend!"
   ]
  },
  {
   "cell_type": "markdown",
   "metadata": {
    "slideshow": {
     "slide_type": "slide"
    }
   },
   "source": [
    "## Przykłady aplikacji XML\n",
    "\n",
    "### GPX\n",
    "\n",
    "```xml\n",
    "<?xml version=\"1.0\" encoding=\"UTF-8\"?>\n",
    "<gpx version=\"1.0\">\n",
    "\t<name>Example gpx</name>\n",
    "\t<wpt lat=\"46.57638889\" lon=\"8.89263889\">\n",
    "\t\t<ele>2372</ele>\n",
    "\t\t<name>LAGORETICO</name>\n",
    "\t</wpt>\n",
    "\t<trk><name>Example gpx</name><number>1</number><trkseg>\n",
    "\t\t<trkpt lat=\"46.57608333\" lon=\"8.89241667\"><ele>2376</ele><time>2007-10-14T10:09:57Z</time></trkpt>\n",
    "\t\t<trkpt lat=\"46.57619444\" lon=\"8.89252778\"><ele>2375</ele><time>2007-10-14T10:10:52Z</time></trkpt>\n",
    "\t\t<trkpt lat=\"46.57641667\" lon=\"8.89266667\"><ele>2372</ele><time>2007-10-14T10:12:39Z</time></trkpt>\n",
    "\t\t<trkpt lat=\"46.57650000\" lon=\"8.89280556\"><ele>2373</ele><time>2007-10-14T10:13:12Z</time></trkpt>\n",
    "\t\t<trkpt lat=\"46.57638889\" lon=\"8.89302778\"><ele>2374</ele><time>2007-10-14T10:13:20Z</time></trkpt>\n",
    "\t\t<trkpt lat=\"46.57652778\" lon=\"8.89322222\"><ele>2375</ele><time>2007-10-14T10:13:48Z</time></trkpt>\n",
    "\t\t<trkpt lat=\"46.57661111\" lon=\"8.89344444\"><ele>2376</ele><time>2007-10-14T10:14:08Z</time></trkpt>\n",
    "\t</trkseg></trk>\n",
    "</gpx>\n",
    "```"
   ]
  },
  {
   "cell_type": "markdown",
   "metadata": {
    "slideshow": {
     "slide_type": "subslide"
    }
   },
   "source": [
    "### KML\n",
    "\n",
    "```xml\n",
    "<?xml version=\"1.0\" encoding=\"UTF-8\"?>\n",
    "<kml xmlns=\"http://www.opengis.net/kml/2.2\">\n",
    "  <Placemark>\n",
    "    <name>Simple placemark</name>\n",
    "    <description>Attached to the ground. Intelligently places itself \n",
    "       at the height of the underlying terrain.</description>\n",
    "    <Point>\n",
    "      <coordinates>-122.0822035425683,37.42228990140251,0</coordinates>\n",
    "    </Point>\n",
    "  </Placemark>\n",
    "</kml>\n",
    "```"
   ]
  },
  {
   "cell_type": "markdown",
   "metadata": {
    "slideshow": {
     "slide_type": "subslide"
    }
   },
   "source": [
    "### MathML\n",
    "\n",
    "```xml\n",
    "<?xml version=\"1.0\" encoding=\"UTF-8\"?>\n",
    "<math xmlns=\"http://www.w3.org/1998/Math/MathML\">\n",
    "    <mrow>\n",
    "          <mi>a</mi>\n",
    "          <mo>&InvisibleTimes;</mo>\n",
    "          <msup>\n",
    "                <mi>x</mi>\n",
    "                <mn>2</mn>\n",
    "          </msup>\n",
    "          <mo>+</mo>\n",
    "          <mi>b</mi>\n",
    "          <mo>&InvisibleTimes; </mo>\n",
    "          <mi>x</mi>\n",
    "          <mo>+</mo>\n",
    "          <mi>c</mi>\n",
    "    </mrow>\n",
    "</math>\n",
    "```"
   ]
  },
  {
   "cell_type": "markdown",
   "metadata": {
    "slideshow": {
     "slide_type": "subslide"
    }
   },
   "source": [
    "### OSM XML\n",
    "```xml\n",
    "<?xml version=\"1.0\" encoding=\"UTF-8\"?>\n",
    "<osm version=\"0.6\" generator=\"CGImap 0.6.0 (14790 thorn-01.openstreetmap.org)\" copyright=\"OpenStreetMap and contributors\" attribution=\"http://www.openstreetmap.org/copyright\" license=\"http://opendatacommons.org/licenses/odbl/1-0/\">\n",
    " <bounds minlat=\"54.1064600\" minlon=\"21.8114000\" maxlat=\"54.1075000\" maxlon=\"21.8133500\"/>\n",
    " <node id=\"4711160081\" visible=\"true\" version=\"1\" changeset=\"46485644\" timestamp=\"2017-03-01T06:22:44Z\" user=\"RoboD\" uid=\"536107\" lat=\"54.1074191\" lon=\"21.8119856\"/>\n",
    " <node id=\"4711160082\" visible=\"true\" version=\"1\" changeset=\"46485644\" timestamp=\"2017-03-01T06:22:44Z\" user=\"RoboD\" uid=\"536107\" lat=\"54.1073025\" lon=\"21.8121086\"/>\n",
    " <node id=\"4711160083\" visible=\"true\" version=\"1\" changeset=\"46485644\" timestamp=\"2017-03-01T06:22:44Z\" user=\"RoboD\" uid=\"536107\" lat=\"54.1069252\" lon=\"21.8123292\"/>\n",
    " <node id=\"4711160084\" visible=\"true\" version=\"1\" changeset=\"46485644\" timestamp=\"2017-03-01T06:22:44Z\" user=\"RoboD\" uid=\"536107\" lat=\"54.1067216\" lon=\"21.8125172\"/>\n",
    " <node id=\"4711160085\" visible=\"true\" version=\"1\" changeset=\"46485644\" timestamp=\"2017-03-01T06:22:44Z\" user=\"RoboD\" uid=\"536107\" lat=\"54.1067937\" lon=\"21.8130162\"/>\n",
    " <node id=\"4711160086\" visible=\"true\" version=\"1\" changeset=\"46485644\" timestamp=\"2017-03-01T06:22:44Z\" user=\"RoboD\" uid=\"536107\" lat=\"54.1066368\" lon=\"21.8131138\"/>\n",
    " <node id=\"4711160087\" visible=\"true\" version=\"1\" changeset=\"46485644\" timestamp=\"2017-03-01T06:22:44Z\" user=\"RoboD\" uid=\"536107\" lat=\"54.1065287\" lon=\"21.8124955\"/>\n",
    " <node id=\"4711160088\" visible=\"true\" version=\"1\" changeset=\"46485644\" timestamp=\"2017-03-01T06:22:44Z\" user=\"RoboD\" uid=\"536107\" lat=\"54.1066538\" lon=\"21.8122315\"/>\n",
    " <node id=\"4711160089\" visible=\"true\" version=\"1\" changeset=\"46485644\" timestamp=\"2017-03-01T06:22:44Z\" user=\"RoboD\" uid=\"536107\" lat=\"54.1069909\" lon=\"21.8119603\"/>\n",
    " <node id=\"4711160090\" visible=\"true\" version=\"1\" changeset=\"46485644\" timestamp=\"2017-03-01T06:22:45Z\" user=\"RoboD\" uid=\"536107\" lat=\"54.1073894\" lon=\"21.8118048\"/>\n",
    " <way id=\"477813424\" visible=\"true\" version=\"1\" changeset=\"46485644\" timestamp=\"2017-03-01T06:22:48Z\" user=\"RoboD\" uid=\"536107\">\n",
    "  <nd ref=\"4711160090\"/>\n",
    "  <nd ref=\"4711160089\"/>\n",
    "  <nd ref=\"4711160088\"/>\n",
    "  <nd ref=\"4711160087\"/>\n",
    "  <nd ref=\"4711160086\"/>\n",
    "  <nd ref=\"4711160085\"/>\n",
    "  <nd ref=\"4711160084\"/>\n",
    "  <nd ref=\"4711160083\"/>\n",
    "  <nd ref=\"4711160082\"/>\n",
    "  <nd ref=\"4711160081\"/>\n",
    "  <nd ref=\"4711160090\"/>\n",
    "  <tag k=\"landuse\" v=\"forest\"/>\n",
    " </way>\n",
    "</osm>\n",
    "```"
   ]
  },
  {
   "cell_type": "markdown",
   "metadata": {
    "slideshow": {
     "slide_type": "slide"
    }
   },
   "source": [
    "## Struktura dokumentu XML\n",
    "\n",
    "Dokument XML ma strukturę drzewa **elementów**.\n",
    "\n",
    "* Jedyny nadrzędny **element główny** (*root*).\n",
    "\n",
    "* Element główny składa się z elementów, które z kolei same również mogą składać się z elementów itd.\n",
    "\n",
    "* **Rodzic** to element zawierający podelement **dziecko**.\n",
    "\n",
    "* Elementy zajdujące się na tym samym poziomie zagnieżdżenia i mające wspólnego rodzica to **rodzeństwo**."
   ]
  },
  {
   "cell_type": "markdown",
   "metadata": {
    "slideshow": {
     "slide_type": "slide"
    }
   },
   "source": [
    "## Elementy\n",
    "\n",
    "Element XML to wszystko co znajduje się pomiędzy otwierającym a zamykającym znacznikiem:\n",
    "\n",
    "```xml\n",
    "<price>29.99</price>\n",
    "```\n",
    "\n",
    "Element może zawierać:\n",
    "\n",
    "* tekst\n",
    "* atrybuty\n",
    "* inne elementy\n",
    "* wszystko powyższe naraz"
   ]
  },
  {
   "cell_type": "markdown",
   "metadata": {
    "slideshow": {
     "slide_type": "subslide"
    }
   },
   "source": [
    "### `bookstore`\n",
    "\n",
    "```xml\n",
    "<bookstore>\n",
    "  <book category=\"children\">\n",
    "    <title>Harry Potter</title>\n",
    "    <author>J K. Rowling</author>\n",
    "    <year>2005</year>\n",
    "    <price>29.99</price>\n",
    "  </book>\n",
    "  <book category=\"web\">\n",
    "    <title>Learning XML</title>\n",
    "    <author>Erik T. Ray</author>\n",
    "    <year>2003</year>\n",
    "    <price>39.95</price>\n",
    "  </book>\n",
    "</bookstore>\n",
    "```\n",
    "\n",
    "* `<title>`, `<author>`, `<year>` i `<price>` zawierają **tekst**.\n",
    "* `<bookstore>` i `<book>` zawierają **elementy**.\n",
    "* `<book>` ma **atrybut** (`category=\"children\"`)."
   ]
  },
  {
   "cell_type": "markdown",
   "metadata": {
    "slideshow": {
     "slide_type": "slide"
    }
   },
   "source": [
    "## Wielkość liter\n",
    "\n",
    "Znaczniki są wrażliwe na wielkość liter.\n",
    "\n",
    "* Błąd!\n",
    "```xml\n",
    "<Message>This is incorrect</message>\n",
    "```\n",
    "\n",
    "* Teraz lepiej.\n",
    "```xml\n",
    "<message>This is correct</message>\n",
    "```"
   ]
  },
  {
   "cell_type": "markdown",
   "metadata": {
    "slideshow": {
     "slide_type": "slide"
    }
   },
   "source": [
    "## Zagnieżdżanie\n",
    "\n",
    "Elementy muszą się poprawnie zagnieżdżać.\n",
    "\n",
    "* Błąd!\n",
    "\n",
    "```xml\n",
    "<b><i>This text is bold and italic</b></i>\n",
    "```\n",
    "\n",
    "* Teraz lepiej.\n",
    "\n",
    "```xml\n",
    "<b><i>This text is bold and italic</i></b>\n",
    "```\n"
   ]
  },
  {
   "cell_type": "markdown",
   "metadata": {
    "slideshow": {
     "slide_type": "slide"
    }
   },
   "source": [
    "## Element pusty\n",
    "\n",
    "* Element nazywamy **pustym**, gdy nie zawiera tekstu i nie ma elementów potomnych.\n",
    "\n",
    "* Element pusty może zwierać atrybuty."
   ]
  },
  {
   "cell_type": "markdown",
   "metadata": {
    "slideshow": {
     "slide_type": "subslide"
    }
   },
   "source": [
    "Definicję elementu pustego\n",
    "\n",
    "```xml\n",
    "<element></element>\n",
    "```\n",
    "można skrócić do:\n",
    "```xml\n",
    "<element/>\n",
    "```"
   ]
  },
  {
   "cell_type": "markdown",
   "metadata": {
    "slideshow": {
     "slide_type": "subslide"
    }
   },
   "source": [
    "Puste elementy zawierające atrybuty również można podawać w formie skróconej\n",
    "\n",
    "```xml\n",
    "<book category=\"children\" />\n",
    "```\n",
    "lub zwykłej\n",
    "\n",
    "```xml\n",
    "<book category=\"children\"></book>\n",
    "```"
   ]
  },
  {
   "cell_type": "markdown",
   "metadata": {
    "slideshow": {
     "slide_type": "slide"
    }
   },
   "source": [
    "## Element główny\n",
    "\n",
    "Każdy dokument musi zawierać dokładnie jeden element główny, który jest rodzicem dla wszystkich pozostałych elementów:\n",
    "\n",
    "```xml\n",
    "<root>\n",
    "  <child>\n",
    "    <subchild>.....</subchild>\n",
    "  </child>\n",
    "</root>\n",
    "```"
   ]
  },
  {
   "cell_type": "markdown",
   "metadata": {
    "slideshow": {
     "slide_type": "fragment"
    }
   },
   "source": [
    "Tutaj elementem głównym jest `<note>`:\n",
    "\n",
    "```xml\n",
    "<?xml version=\"1.0\" encoding=\"UTF-8\"?>\n",
    "<note>\n",
    "  <to>Tove</to>\n",
    "  <from>Jani</from>\n",
    "  <heading>Reminder</heading>\n",
    "  <body>Don't forget me this weekend!</body>\n",
    "</note> \n",
    "```"
   ]
  },
  {
   "cell_type": "markdown",
   "metadata": {
    "slideshow": {
     "slide_type": "slide"
    }
   },
   "source": [
    "## Nazwy elementów\n",
    "\n",
    "Nazwy elementów XML muszą zgodne z następującymi regułami:\n",
    "\n",
    "* Nazwy elementów są wrażliwe na wielkość liter.\n",
    "* Nazwy elementów muszą zaczynać się od litery lub podkreślnika.\n",
    "* Nazwy elementów **nie mogą** zaczynać się od liter xml, XML, Xml, itp.\n",
    "* Nazwy elementów **mogą** zawierać litery, cyfry, znak minus, podkreślnik, kropkę.\n",
    "* Nazwy elementów **nie mogą** zawierać spacji.\n",
    "* Chociaż minus, kropka i dwukropek są dozwolone w nazwach elementów, należy ich unikać."
   ]
  },
  {
   "cell_type": "markdown",
   "metadata": {
    "slideshow": {
     "slide_type": "slide"
    }
   },
   "source": [
    "## Atrybuty\n",
    "\n",
    "* Atrubuty muszą być ujęte w cudzysłowy lub apostrofy:\n",
    "    \n",
    "    ```xml\n",
    "    <person gender=\"female\"/>\n",
    "    ```\n",
    "    ```xml\n",
    "    <person gender='female'/>\n",
    "    ```\n",
    "\n",
    "* Jeśli atrybut zawiera cudzysłowy, należy go ująć w apostrofy:\n",
    "    ```xml\n",
    "    <gangster name='George \"Shotgun\" Ziegler'/>\n",
    "    ```\n",
    "* i odwrotnie:\n",
    "    ```xml\n",
    "    <alfabet który=\"alfabet Morse’a\"/>\n",
    "    ```\n",
    "\n",
    "* Element może mieć wiele atrybutów. Rozdzielamy je spacjami.\n",
    "    ```xml\n",
    "    <osoba imię=\"Jaś\" nazwisko=\"Kowalski\"/>\n",
    "    ```"
   ]
  },
  {
   "cell_type": "markdown",
   "metadata": {
    "slideshow": {
     "slide_type": "slide"
    }
   },
   "source": [
    "## Elementy czy atrybuty?\n",
    "\n",
    "Ten dokument\n",
    "```xml\n",
    "<person gender=\"female\">\n",
    "  <firstname>Anna</firstname>\n",
    "  <lastname>Smith</lastname>\n",
    "</person>\n",
    "```\n",
    "zawiera tę samą informację co ten\n",
    "```xml\n",
    "<person>\n",
    "  <gender>female</gender>\n",
    "  <firstname>Anna</firstname>\n",
    "  <lastname>Smith</lastname>\n",
    "</person>\n",
    "```\n",
    "\n",
    "XML nie daje żadnych reguł rozstrzygających, który z nich jest lepszy (preferowany)."
   ]
  },
  {
   "cell_type": "markdown",
   "metadata": {
    "slideshow": {
     "slide_type": "subslide"
    }
   },
   "source": [
    "Uważa się, że upychanie zbyt dużej liczby informacji w atrybutach może:\n",
    "\n",
    "* zmniejszyć czytelność,\n",
    "* utrudnić przyszłą rozszerzalność.\n",
    "\n",
    "Ponadto atrybuty nie tworzą struktury drzewa (stanowią po prostu tekst).\n",
    "\n",
    "Oto poprawny, ale nieczytelny przykład:\n",
    "\n",
    "```xml\n",
    "<note day=\"10\" month=\"01\" year=\"2008\" to=\"Tove\" from=\"Jani\" \n",
    "heading=\"Reminder\" body=\"Don't forget me this weekend!\">\n",
    "</note>\n",
    "```"
   ]
  },
  {
   "cell_type": "markdown",
   "metadata": {
    "slideshow": {
     "slide_type": "slide"
    }
   },
   "source": [
    "## Nagłówek (*XML Prolog*)\n",
    "\n",
    "* Nagłówek\n",
    "\n",
    "    ```xml\n",
    "    <?xml version=\"1.0\" encoding=\"UTF-8\"?>\n",
    "    ```\n",
    "    jest opcjonalny. \n",
    "\n",
    "* Jeśli występuje, to poprzedza element główny -- od niego dokument musi się zaczynać.\n",
    "\n",
    "* Domyślnym kodowaniem w dokumentach XML jest UTF-8. \n",
    "\n",
    "* Nagłówek formalnie nie jest częścią dokumentu XML. Zawiera dane przekazywane do aplikacji, jak np. kodowanie użyte do zapisania dokumentu, wersję XML i <a href=\"https://msdn.microsoft.com/en-us/library/ms256037(v=vs.110).aspx\">inne</a>."
   ]
  },
  {
   "cell_type": "markdown",
   "metadata": {
    "slideshow": {
     "slide_type": "slide"
    }
   },
   "source": [
    "## Znaki specjalne\n",
    "\n",
    "* Błąd!\n",
    "```xml\n",
    "<message>salary < 1000</message>\n",
    "```\n",
    "\n",
    "* Znak `<` zastępujemy przez `&lt;`:\n",
    "```xml\n",
    "<message>salary &lt; 1000</message>\n",
    "```"
   ]
  },
  {
   "cell_type": "markdown",
   "metadata": {
    "slideshow": {
     "slide_type": "subslide"
    }
   },
   "source": [
    "Tabela predefiniowanych znaków:\n",
    "\n",
    "XML | znak | nazwa\n",
    ":---: | :---:| :---: \n",
    "`&lt;` |\t< | \tless than\n",
    "`&gt;` \t| > | \tgreater than\n",
    "`&amp;` |\t& |\tampersand \n",
    "`&apos;` |\t' |\tapostrophe\n",
    "`&quot;` |\t\" |\tquotation mark"
   ]
  },
  {
   "cell_type": "markdown",
   "metadata": {
    "slideshow": {
     "slide_type": "slide"
    }
   },
   "source": [
    "## Komentarze\n",
    "\n",
    "* Poprawny komentarz:\n",
    "\n",
    "    ```xml\n",
    "    <!-- This is a comment -->\n",
    "    ```\n",
    "\n",
    "* A tu niepoprawny, bo ma `--` w środku:\n",
    "  \n",
    "    ```xml\n",
    "    <!-- This is  -- a comment -->\n",
    "```"
   ]
  },
  {
   "cell_type": "markdown",
   "metadata": {
    "slideshow": {
     "slide_type": "slide"
    }
   },
   "source": [
    "# `lxml`\n",
    "\n",
    "## Moduł do obsługi plików XML"
   ]
  },
  {
   "cell_type": "markdown",
   "metadata": {
    "slideshow": {
     "slide_type": "slide"
    }
   },
   "source": [
    "## Import"
   ]
  },
  {
   "cell_type": "code",
   "execution_count": 1,
   "metadata": {},
   "outputs": [],
   "source": [
    "from lxml import etree"
   ]
  },
  {
   "cell_type": "markdown",
   "metadata": {
    "slideshow": {
     "slide_type": "slide"
    }
   },
   "source": [
    "## Obiekty zdefiniowane w `lxml`\n",
    "\n",
    "* `Element` -- odpowiada elementowi z dokumentu XML.\n",
    "\n",
    "* `ElementTree` -- odpowiada pełnemu dokumentowi XML -- zawiera metody pozwalające na jego przetwarzanie."
   ]
  },
  {
   "cell_type": "markdown",
   "metadata": {
    "slideshow": {
     "slide_type": "slide"
    }
   },
   "source": [
    "## Przykład: katalog biblioteczny\n",
    "\n",
    "Utworzymy katalog biblioteczny zawierający pozycje:\n",
    "\n",
    "```xml\n",
    "<katalog>\n",
    "  <książka kategoria=\"SF\" nr=\"1\">\n",
    "    <autor>Stanisław Lem</autor>\n",
    "    <tytuł>Fiasko</tytuł>\n",
    "    <rok>1987</rok>\n",
    "  </książka>\n",
    "  <książka kategoria=\"dziecięca\" nr=\"2\">\n",
    "    <autor>A.A. Milne</autor>\n",
    "    <tytuł>Kubuś Puchatek</tytuł>\n",
    "    <rok>1926</rok>\n",
    "  </książka>\n",
    "</katalog>\n",
    "```"
   ]
  },
  {
   "cell_type": "markdown",
   "metadata": {
    "slideshow": {
     "slide_type": "subslide"
    }
   },
   "source": [
    "### Sposób 1 -- wprost z łańcucha\n",
    "\n",
    "Funkcja `etree.tostring()` tworzy element XML wprost z łańcucha."
   ]
  },
  {
   "cell_type": "code",
   "execution_count": 20,
   "metadata": {
    "slideshow": {
     "slide_type": "-"
    }
   },
   "outputs": [],
   "source": [
    "katalog_str = '''<katalog>\n",
    "  <książka kategoria=\"SF\" nr=\"1\">\n",
    "    <autor>Stanisław Lem</autor>\n",
    "    <tytuł>Fiasko</tytuł>\n",
    "    <rok>1987</rok>\n",
    "  </książka>\n",
    "  <książka kategoria=\"dziecięca\" nr=\"2\">\n",
    "    <autor>A.A. Milne</autor>\n",
    "    <tytuł>Kubuś Puchatek</tytuł>\n",
    "    <rok>1926</rok>\n",
    "  </książka>\n",
    "</katalog>'''"
   ]
  },
  {
   "cell_type": "markdown",
   "metadata": {
    "slideshow": {
     "slide_type": "subslide"
    }
   },
   "source": [
    "Zwracany obiekt jest typu `Element`."
   ]
  },
  {
   "cell_type": "code",
   "execution_count": 21,
   "metadata": {},
   "outputs": [
    {
     "data": {
      "text/plain": [
       "<Element katalog at 0x7fc5bd8c4c88>"
      ]
     },
     "execution_count": 21,
     "metadata": {},
     "output_type": "execute_result"
    }
   ],
   "source": [
    "katalog = etree.fromstring(katalog_str)\n",
    "katalog"
   ]
  },
  {
   "cell_type": "markdown",
   "metadata": {},
   "source": [
    "Atrybut `tag` obiektu typu `Element` zawiera łańcuch ze znacznikiem obiektu."
   ]
  },
  {
   "cell_type": "code",
   "execution_count": 24,
   "metadata": {},
   "outputs": [
    {
     "data": {
      "text/plain": [
       "'katalog'"
      ]
     },
     "execution_count": 24,
     "metadata": {},
     "output_type": "execute_result"
    }
   ],
   "source": [
    "katalog.tag"
   ]
  },
  {
   "cell_type": "markdown",
   "metadata": {
    "slideshow": {
     "slide_type": "subslide"
    }
   },
   "source": [
    "* Funkcja `etree.tostring()` przetwarza `element` na [łańcuch bajtów](https://docs.python.org/3/library/stdtypes.html#binary-sequence-types-bytes-bytearray-memoryview).\n",
    "\n",
    "* Bez deklaracji `encoding` wszstkie znaki spoza tabeli ASCII zostaną zamienione na odpowiednie reprezentacje HTML.\n",
    "\n",
    "* Łańcuch bajtów należy \"odszyfrować\" metodą `decode()` do zwykłego łańcucha."
   ]
  },
  {
   "cell_type": "code",
   "execution_count": 5,
   "metadata": {},
   "outputs": [],
   "source": [
    "def wyświetl_pięknie(element):\n",
    "    print(etree.tostring(element, pretty_print=True, encoding='utf8').decode('utf8'))"
   ]
  },
  {
   "cell_type": "markdown",
   "metadata": {
    "slideshow": {
     "slide_type": "subslide"
    }
   },
   "source": [
    "Podglądamy gotowy element."
   ]
  },
  {
   "cell_type": "code",
   "execution_count": 41,
   "metadata": {},
   "outputs": [
    {
     "name": "stdout",
     "output_type": "stream",
     "text": [
      "<katalog>\n",
      "  <książka kategoria=\"SF\" nr=\"1\">\n",
      "    <autor>Stanisław Lem</autor>\n",
      "    <tytuł>Fiasko</tytuł>\n",
      "    <rok>1987</rok>\n",
      "  </książka>\n",
      "  <książka kategoria=\"dziecięca\" nr=\"2\">\n",
      "    <autor>A.A. Milne</autor>\n",
      "    <tytuł>Kubuś Puchatek</tytuł>\n",
      "    <rok>1926</rok>\n",
      "  </książka>\n",
      "</katalog>\n",
      "\n"
     ]
    }
   ],
   "source": [
    "wyświetl_pięknie(katalog)"
   ]
  },
  {
   "cell_type": "markdown",
   "metadata": {
    "slideshow": {
     "slide_type": "subslide"
    }
   },
   "source": [
    "### Sposób 2 -- definicja stopniowa\n",
    "\n",
    "Tworzymy element główny."
   ]
  },
  {
   "cell_type": "code",
   "execution_count": 7,
   "metadata": {},
   "outputs": [
    {
     "name": "stdout",
     "output_type": "stream",
     "text": [
      "<katalog/>\n",
      "\n"
     ]
    }
   ],
   "source": [
    "katalog = etree.Element('katalog')\n",
    "wyświetl_pięknie(katalog)"
   ]
  },
  {
   "cell_type": "markdown",
   "metadata": {
    "slideshow": {
     "slide_type": "fragment"
    }
   },
   "source": [
    "Dodajemy książki z atrybutami."
   ]
  },
  {
   "cell_type": "code",
   "execution_count": 8,
   "metadata": {},
   "outputs": [
    {
     "name": "stdout",
     "output_type": "stream",
     "text": [
      "<katalog>\n",
      "  <książka kategoria=\"SF\" nr=\"1\"/>\n",
      "  <książka kategoria=\"dziecięca\" nr=\"2\"/>\n",
      "</katalog>\n",
      "\n"
     ]
    }
   ],
   "source": [
    "fiasko = etree.SubElement(katalog, 'książka', kategoria='SF', nr='1')\n",
    "kubuś = etree.SubElement(katalog, 'książka', kategoria='dziecięca', nr='2')\n",
    "wyświetl_pięknie(katalog)"
   ]
  },
  {
   "cell_type": "markdown",
   "metadata": {
    "slideshow": {
     "slide_type": "subslide"
    }
   },
   "source": [
    "Część tekstowa elementu znajduje sie w atrybucie `text`."
   ]
  },
  {
   "cell_type": "code",
   "execution_count": 9,
   "metadata": {},
   "outputs": [
    {
     "name": "stdout",
     "output_type": "stream",
     "text": [
      "<katalog>\n",
      "  <książka kategoria=\"SF\" nr=\"1\">\n",
      "    <autor>Stanisław Lem</autor>\n",
      "    <tytuł>Fiasko</tytuł>\n",
      "    <rok>1987</rok>\n",
      "  </książka>\n",
      "  <książka kategoria=\"dziecięca\" nr=\"2\"/>\n",
      "</katalog>\n",
      "\n"
     ]
    }
   ],
   "source": [
    "autor = etree.SubElement(fiasko, 'autor')\n",
    "autor.text = 'Stanisław Lem'\n",
    "tytuł = etree.SubElement(fiasko, 'tytuł')\n",
    "tytuł.text = 'Fiasko'\n",
    "rok = etree.SubElement(fiasko, 'rok')\n",
    "rok.text = '1987'\n",
    "\n",
    "wyświetl_pięknie(katalog)"
   ]
  },
  {
   "cell_type": "markdown",
   "metadata": {
    "slideshow": {
     "slide_type": "subslide"
    }
   },
   "source": [
    "Skracamy powyższą procedurę dla drugiej książki."
   ]
  },
  {
   "cell_type": "code",
   "execution_count": 12,
   "metadata": {},
   "outputs": [
    {
     "name": "stdout",
     "output_type": "stream",
     "text": [
      "<katalog>\n",
      "  <książka kategoria=\"SF\" nr=\"1\">\n",
      "    <autor>Stanisław Lem</autor>\n",
      "    <tytuł>Fiasko</tytuł>\n",
      "    <rok>1987</rok>\n",
      "  </książka>\n",
      "  <książka kategoria=\"dziecięca\" nr=\"2\">\n",
      "    <autor>A.A. Milne</autor>\n",
      "    <tytuł>Kubuś Puchatek</tytuł>\n",
      "    <rok>1926</rok>\n",
      "  </książka>\n",
      "</katalog>\n",
      "\n"
     ]
    }
   ],
   "source": [
    "for znacznik, tekst in [('autor', 'A.A. Milne'), ('tytuł', 'Kubuś Puchatek'), ('rok', '1926')]:\n",
    "    element = etree.SubElement(kubuś, znacznik)\n",
    "    element.text = tekst\n",
    "    \n",
    "wyświetl_pięknie(katalog)"
   ]
  },
  {
   "cell_type": "markdown",
   "metadata": {
    "slideshow": {
     "slide_type": "slide"
    }
   },
   "source": [
    "## Zapisywanie do pliku\n",
    "\n",
    "Funkcja `etree.ElementTree(katalog)` utworzy dokument XML z elementu `katalog`."
   ]
  },
  {
   "cell_type": "code",
   "execution_count": 13,
   "metadata": {},
   "outputs": [
    {
     "data": {
      "text/plain": [
       "<lxml.etree._ElementTree at 0x7fe674524d08>"
      ]
     },
     "execution_count": 13,
     "metadata": {},
     "output_type": "execute_result"
    }
   ],
   "source": [
    "katalog_drzewo = etree.ElementTree(katalog)\n",
    "katalog_drzewo"
   ]
  },
  {
   "cell_type": "markdown",
   "metadata": {
    "slideshow": {
     "slide_type": "fragment"
    }
   },
   "source": [
    "Obiekty typu `ElementTree` mają metodę `write()` tworzącą dokument XML na dysku."
   ]
  },
  {
   "cell_type": "code",
   "execution_count": 16,
   "metadata": {},
   "outputs": [],
   "source": [
    "katalog_drzewo.write('/tmp/katalog.xml', encoding='utf8', xml_declaration=True)"
   ]
  },
  {
   "cell_type": "markdown",
   "metadata": {
    "slideshow": {
     "slide_type": "slide"
    }
   },
   "source": [
    "## Wczytywanie dokumentu XML z pliku\n",
    "\n",
    "Zapisz na dysku plik \n",
    "\n",
    "[http://danepubliczne.imgw.pl/api/data/hydro/format/xml](http://danepubliczne.imgw.pl/api/data/hydro/format/xml)\n",
    "\n",
    "z danymi hydrologicznymi dla Polski."
   ]
  },
  {
   "cell_type": "markdown",
   "metadata": {
    "slideshow": {
     "slide_type": "subslide"
    }
   },
   "source": [
    "Funkcja `etree.parse()` wczytuje plik i zwraca obiekt typu `ElementTree`."
   ]
  },
  {
   "cell_type": "code",
   "execution_count": 9,
   "metadata": {},
   "outputs": [
    {
     "data": {
      "text/plain": [
       "<lxml.etree._ElementTree at 0x7fb90bf29308>"
      ]
     },
     "execution_count": 9,
     "metadata": {},
     "output_type": "execute_result"
    }
   ],
   "source": [
    "drzewo_hydrologia = etree.parse('/tmp/hydrologia.xml')\n",
    "drzewo_hydrologia"
   ]
  },
  {
   "cell_type": "markdown",
   "metadata": {},
   "source": [
    "Metoda `getroot()` zwraca element nadrzędny z drzewa jako obiekt typu `Element`."
   ]
  },
  {
   "cell_type": "code",
   "execution_count": 10,
   "metadata": {},
   "outputs": [
    {
     "data": {
      "text/plain": [
       "<Element xml at 0x7fb90857aa48>"
      ]
     },
     "execution_count": 10,
     "metadata": {},
     "output_type": "execute_result"
    }
   ],
   "source": [
    "hydrologia = drzewo_hydrologia.getroot()\n",
    "hydrologia"
   ]
  },
  {
   "cell_type": "markdown",
   "metadata": {
    "slideshow": {
     "slide_type": "subslide"
    }
   },
   "source": [
    "Obiekt typu `Element` jest sekwencją. Można sprawdzić jego długość"
   ]
  },
  {
   "cell_type": "code",
   "execution_count": 4,
   "metadata": {},
   "outputs": [
    {
     "data": {
      "text/plain": [
       "609"
      ]
     },
     "execution_count": 4,
     "metadata": {},
     "output_type": "execute_result"
    }
   ],
   "source": [
    "len(hydrologia)"
   ]
  },
  {
   "cell_type": "markdown",
   "metadata": {
    "slideshow": {
     "slide_type": "fragment"
    }
   },
   "source": [
    "lub pobrać wartość indeksacją"
   ]
  },
  {
   "cell_type": "code",
   "execution_count": 6,
   "metadata": {},
   "outputs": [
    {
     "name": "stdout",
     "output_type": "stream",
     "text": [
      "<item>\n",
      "  <id_stacji>154180220</id_stacji>\n",
      "  <stacja>Gdańska Głowa</stacja>\n",
      "  <rzeka>Wisła</rzeka>\n",
      "  <wojewdztwo>pomorskie</wojewdztwo>\n",
      "  <stan_wody>499</stan_wody>\n",
      "  <stan_wody_data_pomiaru>2018-06-03 19:10:00</stan_wody_data_pomiaru>\n",
      "  <temperatura_wody/>\n",
      "  <temperatura_wody_data_pomiaru/>\n",
      "  <zjawisko_lodowe/>\n",
      "  <zjawisko_lodowe_data_pomiaru/>\n",
      "  <zjawisko_zarastania>0</zjawisko_zarastania>\n",
      "  <zjawisko_zarastania_data_pomiaru>2017-09-07 07:56:00</zjawisko_zarastania_data_pomiaru>\n",
      "</item>\n",
      "\n"
     ]
    }
   ],
   "source": [
    "wyświetl_pięknie(hydrologia[4])"
   ]
  },
  {
   "cell_type": "markdown",
   "metadata": {
    "slideshow": {
     "slide_type": "subslide"
    }
   },
   "source": [
    "Metoda `iter()` elementu biegnie po podelementach. `iter(s)` zwraca elementy o nazwie `s`."
   ]
  },
  {
   "cell_type": "code",
   "execution_count": 8,
   "metadata": {},
   "outputs": [
    {
     "name": "stdout",
     "output_type": "stream",
     "text": [
      "Przewoźniki, Bągart, Godowa, Żukowo, Gdańska Głowa, Nowe Batorowo, Ujście Wisły, Przegalina, Elbląg, Świbno, Regalica Szczecin, Darłowo, Władysławowo, Tujsk, Widuchowa, Ustka, Tolkmicko, Hel, Gryfino, Gdańsk, Suchy Dąb, Harasimowicze, Łeba, Sobieszewo, Szczecin, Osłonka, Gdynia, Dolna Kępa, Kołobrzeg, Nowy Dwór Gdański, Puck, Świnoujście, Dziwnów, Trzebież, Wolin, Nowa Pasłęka, Izbica, Wiślina, Ostróda, Pierzchały, Borucino, Pasłęk, Działoszyn, Opole - Groszowice, Łodygowice, Szkwa, Osowiec 2, Babino, Bondary - Siemianówka, Ploski, Mirsk, Resko, Trestno, Trawniki, Skwierzyna, Tczew, Polana, Zbąszyń, Pruszcz Gdański_kanał, Konin-Morzysław, Modlin, Wyszogród, Wychódźc, Biskupice, Koźle, Mocha, Pyskowice Dzierżno, Pyskowice Dzierżno, Kalnica, Tchórzew, Strzyżów, Pierzchały, Rybnik Gotartowice, Krempna-Kotań, Krasnystaw, Czachy, Nakło-Zachód, Zawady, Sławsk, Gozdowice, Świerkocin, Ujście Nysy Kłodzkiej, Kłudzice, Bielinek, Santok 2, Januszewice, Zawady, Oświęcim, Balice, Łabuzie, Stary Raduszec, Zabuże, Kęszyce, Dąbrowa, Łomnica, Osowiec, Bardy, Radomysl, Niemodlin, Popowo, Jawiszowice, Rzuchów, Bielawy, Żagań, Dobczyce, Gorzów Wielkopolski, Zawichost, Sromowce Wyżne, Nietulisko Duże, Krosno, Podkępie, Kulesze Chobotki, Chełmno, Pustynia, Zbytowa, Bondary - Siemianówka, Krapkowice, Turoszów, Annopol, Trybsz 2, Pisz, Popowo, Bocheniec, Proszówki, Grybów, Iskrzynia, Ptusza, Mieduniszki, Kudowa Zdrój-Zakrze, Szypry, Grudziądz, Przedbórz, Pszczyna, Węgorzewo, Pyzdry, Smukała, Czarnków, Rajgród 2, Grębów, Koło, Białośliwie, Przechody, Nowy Sącz 1, Ujście, Wyszków, Żywiec, Rajcza, Gościmiec, Wizna, Kępa Polska, Malowa Góra, Kostrzyn n. Odrą, Dębowo, Stary Kraków, Krzczonów, Tryńcza, Lubartów, Pakość, Krościenko, Prynowo, Niwka, Oława, Trzciniec, Głogów, Czechowice Dziedzice, Śrem, Czaniec (Kobiernice), Brody Pomorskie, Kamieniec Ząbkowicki, Warszawa - Nadwilanówka, Slowik, Żabno, Lesko, Banie Mazurskie, Ciężkowice, Kostrzyn n. Odrą, Karpowicze, Fordon, Nowa Wieś Podgórna, Pinczów, Sieradz, Bogdaj, Oborniki, Trzebiatów, Malczyce, Żarnowa, Mielec 2, Toruń, Kośmin, Ślęza, Racławice Śląskie, Osuchy, Łozy, Zabrzeg, Stuposiany, Łysa Polana, Tomaryny, Gozdów, Przemyśl, Krubice, Goręczyno, Strękowa Góra, Dęblin, Zambski Kościelne, Ropa, Maków Mazowiecki, Prosna, Burzyn, Karsy, Rodzone, Kanclerzowice, Kazanów, Popędzynka, Tychówko, Kościelec, Poznań Most Rocha, Mniszek, Ręczyn, Sulejów, Gromiec, Posoka, Radziszów, Koprzywnica, Wronki, Nietków, Staszów, Nowy Targ - Kowaniec, Włocławek, Borki Mizerów, Piła, Piaseczno, Gołkowice, Olchowce, Tylmanowa, Wąsosz, Szprotawa 2, Ruda Kozielska, Koniówka, Górki Wielkie, Rogóźno, Mietków, Piwoń, Suraż, Nysa, Walery, Fasty, Ełk 2, Nowe Miasto Lubawskie, Zboiska, Zgłobice, Krosno, Supraśl, Pruszcz Gdański, Ląd, Karłowice (Wapienniki), Sucha Beskidzka, Zatwarnica, Zakopane Harenda, Przystań, Jordanów, Zgorzelec, Pustków, Biała Góra, Osjaków, Miłoszewo, Słubice, Krąplewice, Zborowice, Osetno, Dzierżoniów, Prostki, Skoczów, Kraków - Bielany, Zaliwie-Piegawki, Bornity, Gorliczyna, Koło, Krzyczew, Włochy, Puławy, Bledzew, Dynów, Cigacice, Jeleń, Dębe, Iłowa, Stary Sącz, Pyskowice, Nowe Drezdenko, Rogożek, Charytany, Smolice, Lutomiersk, Białobrzegi, Turawa, Cieszyn, Brody Iłżeckie, Maldanin, Białobrzegi, Branice 2, Głowaczowa, Białowieża, Nisko, Krajowice, Goleniów, Nowosielce, Małkinia, Brynica, Szczerców, Brzeg (most), Nowogród Bobrzański, Dobrylas, Nowa Sól, Szprotawa, Czarnowo, Kwidzyn, Giżycko, Dwernik, Kasinka Mała, Łękawica, Łozy, Czchów, Ptaki, Dobroszów Wielki, Czernichów - Prom, Sieniawa, Lenartowice, Nowogrodziec, Szczucin, Piątnica, Borkowo, Sarzyna, Niedzica, Leżachów, Stargard, Nowy Targ, Zagórz, Niwki, Olza, Lubachów, Kamesznica, Domaradz, Kowanówko, Morawica, Świerzawa, Korzeńsko, Narewka, Hoczew, Krasków, Nowosiółki, Łagisza, Smolajny, Istebna, Poddębice, Oława 2, Kraszewice, Grabno, Drogomyśl, Puławy, Bzin, Łochów, Chraboły, Poronin, Mirków, Ełk, Jasło, Kamionka, Połaniec, Rybnik Stodoły, Namysłów, Międzychód, Łaziska, Chwaliszów, Biała Nyska, Ojców, Odrzywół, Świebodzice, Czechowice-Bestwina, Lębork, Gołdap 2, Brodnica, Sępopol, Czaplinek, Raków, Muszyna, Szreńsk, Daleszyce, Kuźnica Sulikowska, Michałów, Szalejów Dolny, Ostróżno, Rudze, Międzylesie, Zakłodzie, Mirsk 2, Tłumaczów, Tokarnia, Rajgród, Rzepin, Warszawa, Sandomierz, Bojszowy, Ustroń Obłaziec, Szaflary, Mikuszowice, Racibórz Miedonia, Wisła, Dąbie, Kwiatkówek, Borzęcin, Kościan, Żuków, Rzymówka, Orzechowo, Dunino, Sucha Beskidzka 2, Łażany, Zaruzie, Gryfów Śląski, Olsztyn, Mszana Dolna, Słupsk, Łapanów, Białogard, Ścinawa, Harasiuki, Włodawa, Koszyce Wielkie, Jarnołtów, Klęczany, Sobianowice, Kościelisko-Kiry, Kule, Widawa, Połęcko, Terka, Żabnica, Branice 1, Lgota Nadwarcie, Borów, Wadowice, Kłodzko, Burzenin, Osielec, Ostrołęka, Brzeźnica, Odolanów 2, Tuchola, Rydzyna, Bożepole, Cisna, Nowy Sącz, Nowy Sącz, Brzegi, Grzegorzew, Prudnik, Samarzewo, Przewóz, Goczałkowice, Lidzbark, Bukówka, Niechmirów, Sierosławice, Chałupki, Bobry, Cięcina, Gubin, Kryłów, Nowogród, Zagrodno, Wisła Czarne, Jelenia Góra, Ryczywół, Rzeszotary, Łąki, Piwonice, Pewel Mała, Frankopol, Mszana Dolna, Ujsoły, Wilkanów, Gliwice, Gorzów Śląski, Krzyżanowice, Kunów, Łask, Wojanów, Dąbrowa Bolesławiecka, Bogdaszowice, Kalisty, Narew, Drawiny, Krzyż, Białobrzeg Bliższy, Rabka 2, Krówniki, Biłgoraj, Lubień, Bardo Śląskie, Santok, Jarnołtówek, Błażkowa, Nowe Sadłuki, Szczawne, Dobra, Krzyżanowice, Sochonie, Bieruń Nowy, Dorohusk, Wisła Czarne, Białogórzyno, Łabowa, Żagań, Podgórzyn, Elgiszewo, Ołobok, Sztabin, Wólka Mlądzka, Wampierzów, Kuligi (Nowe Miasto), Piechowice, Żelazno, Wisła Czarne, Wielimie, Przeczyce, Skawica Dolna, Ludźmierz, Rzeszów, Kamienna Góra, Zapałów, Nienowice, Jelenia Góra 2, Wejherowo, Sieniawka, Jakubkowice, Kopice, Topoliny, Poraj, Gusin, Morzyczyn, Czarna Woda, Michałów, Bojanów, Jurkiszki, Czekarzewice, Lądek Zdrój, Bogatynia, Stradomka, Staniszcze Wielkie, Nowe Miasto/Pilicą, Chojnów, Brańsk, Michałów 2, Łupawa, Radocha, Zator, Wyrzysk, Głuchołazy, Jarosław, Korzybie, Gorzuchów, Bystrzyca Kłodzka 2, Leśna, Ozimek, Winnica, Gniechowice, Trąbczyn, Brzesko-Okocim, Ludźmierz, Bogusław, Rogóźno, Stróża, Skorogoszcz, Bukowna, Kuźnica Skakawska, Białobrzezie, Smołdzino, Soszyca, Żółków, Ruda Jastkowska, Uniejów, Mościsko, Brzesko-Miasto, Kozłowa Góra, Grabówka, Gliwice-Łabędy, Podgórze, Krupski Młyn, Spała, Szabelnia, Mosin, Cieszyn, Barcinek, Kowary, Wąchock, Nielisz, Kręciwilk, Pilchowice, Odolanów, Jugowice, Jakuszyce, Jawor, Bystrzyca Kłodzka, Sosnówka, Lipnica Murowana, Braniewo, Brzeg Dolny, Pleśno, Piątnica-Łomża, "
     ]
    }
   ],
   "source": [
    "for stacja in hydrologia.iter('stacja'):\n",
    "    print(stacja.text, end=', ')"
   ]
  },
  {
   "cell_type": "markdown",
   "metadata": {
    "slideshow": {
     "slide_type": "subslide"
    }
   },
   "source": [
    "Rzeki ze stacjami alfabetycznie."
   ]
  },
  {
   "cell_type": "code",
   "execution_count": 12,
   "metadata": {},
   "outputs": [
    {
     "name": "stdout",
     "output_type": "stream",
     "text": [
      "-, Barycz, Bauda, Bawół, Bałtyk, Biała, Biała Głuchołaska, Biała Lądecka, Biała Nida, Biała Przemsza, Biała Wisełka, Biała Łada, Białka, Biały Dunajec, Biebrza, Bielawa, Bierawka, Bobrza, Bogacica, Brda, Bren, Brennica, Brynica, Brzozówka, Budzówka, Bug, Bukowa, Bystra, Bystrzyca, Bystrzyca Dusznicka, Bzura, Bóbr, Cicha Woda, Czarna, Czarna Nida, Czarna Przemsza, Czarna Wisełka, Czarna Woda, Czarny, Czarny Dunajec, Czarny Potok, Czerna Mała, Czerna Wielka, Drama, Drawa, Drwęca, Drwęca Warmińska, Drzewiczka, Dunajec, Dzierzgoń, Dziwna, Elbląg, Ełk, Ełk (Kanał Rudzki), Ełk (Kanał.Rudzki), Flinta, Gostynia, Gołdapa, Grabia, Grabinianka, Guber, Gwda, Hoczewka, Huczwa, Ina, Iłownica, Iłżanka, Jarka, Jasiołka, Jedlica, Jegrznia, Jez. Drużno, Jez. Drwęckie, Jez. Ełckie, Jez. Mamry, Jez. Pierzchalskie; Pasłęka, Jez. Raduńskie Górne, Jez. Roś, Jez. Wadąg, Jez. Łebsko, Jez.Rajgrodzkie, Jeziorka, Kaczawa, Kamienic, Kamienica, Kamienna, Kanał Mosiński, Kanał Raduni, Kanał Ślesiński, Kiełbaska, Klikawa, Koprzywianka, Koszarawa, Krzczonówka, Krzna, Kuroch, Kwisa, Kłodnica, Lepietnica, Liswarta, Liwa, Liwiec, Lubaczówka, Lubieńka, Lubsza, Luciąża, Martwa Wisła, Mała Panew, Miedzianka, Mierzawa, Mitręga, Mleczka Zachodnia, Morwawa, Motława, Mroga, Mszanka, Mławka, Młynówka, Narew, Narewka, Ner, Nereśl, Netta, Nida, Nieciecz, Niedziczanka, Niesób, Nogat, Noteć, Nurzec, Nysa Kłodzka, Nysa Szalona, Nysa Łużycka, Obra, Ochotnica, Odra, Oleśnica, Olza, Omulew, Opawa, Orla, Orlanka, Orz, Orzyc, Osa, Osobłoga, Osława, Oława, Ołobok, Parsęta, Pasłęka, Pełcznica, Pielnica, Pilica, Pisa, Pisa (Kanał Giżycki), Piława, Podgórna, Pokrzywianka, Polska Woda, Polski Rów, Poprad, Poroniec, Potok Kościeliski, Powa, Prosna, Prudnik, Przemsza, Prądnik, Psina, Pszczynka, Pór, Raba, Radew, Radomka, Radunia, Rawka, Reda, Rega, Regalica, Rgilewka, Ropa, Rozoga, Ruda, Rudawa, Ruź, San, Sidra, Skawa, Skawica, Skawinka, Skora, Skroda, Solinka, Soła, Sośniak, Stobnica, Stobrawa, Stradomka, Stradunia, Stryszawka, Strzegomka, Supraśl, Swędrnia, Szkarpawa, Szkwa, Szkło, Szprotawa, Szreniawa, Sąsiecznica, Słupia, Tanew, Trzebośnica, Tyśmienica, Uszwica, Utrata, Wapienica, Warta, Wałsza, Wda, Wel, Wetlina, Wełna, Wiar, Wiała, Widawa, Widawka, Wielki Rogoźnik, Wielopolka, Wieprz, Wieprza, Wieprzówka, Wierna Rzeka, Wierzyca, Wilczka, Wissa, Wisznia, Wisła, Wisłok, Wisłoka, Witka, Wkra, Woda Ujsolska, Wołosaty, Wrześnica, Wąska, Węgorapa, Zalew Szczeciński, Zalew Wiślany, Zatoka Pomorska (ujście Świny), Zatoka Pucka, Zb Siemianówka, Zb. Dębe, Zb. Gopło, Złoty Potok, jez. Błędno, jez. Drawsko, jez. Wielimskie, jez.Miedwie, Łagowica, Łeba, Łobżonka, Łomnica, Łososina, Łubinka, Łupawa, Łużyca, Łyna, Łęg, Łękawka, Ścinawa Niemodlińska, Ścinawka, Ślina, Ślęza, Świder, Święta, Świślin, Żabniczanka, Żylica, "
     ]
    }
   ],
   "source": [
    "rzeki = set()\n",
    "\n",
    "for rzeka in hydrologia.iter('rzeka'):\n",
    "    rzeki.add(rzeka.text)\n",
    "\n",
    "for rzeka in sorted(rzeki):\n",
    "    print(rzeka, end=', ')"
   ]
  },
  {
   "cell_type": "markdown",
   "metadata": {
    "slideshow": {
     "slide_type": "subslide"
    }
   },
   "source": [
    "Stacje znajdujące się na Pilicą. Metoda `find(tag)` znajduje pierwsze wystąpienie elemntu o znaczniku `tag`."
   ]
  },
  {
   "cell_type": "code",
   "execution_count": 14,
   "metadata": {},
   "outputs": [
    {
     "name": "stdout",
     "output_type": "stream",
     "text": [
      "Przedbórz, Sulejów, Wąsosz, Białobrzegi, Nowe Miasto/Pilicą, Spała, "
     ]
    }
   ],
   "source": [
    "pilica_stacje = []\n",
    "\n",
    "for item in hydrologia.iter('item'):\n",
    "    if item.find('rzeka').text == 'Pilica':\n",
    "        pilica_stacje.append(item.find('stacja').text)\n",
    "        \n",
    "for stacja in pilica_stacje:\n",
    "    print(stacja, end=', ')"
   ]
  }
 ],
 "metadata": {
  "anaconda-cloud": {},
  "celltoolbar": "Slideshow",
  "kernelspec": {
   "display_name": "Python [default]",
   "language": "python",
   "name": "python3"
  },
  "language_info": {
   "codemirror_mode": {
    "name": "ipython",
    "version": 3
   },
   "file_extension": ".py",
   "mimetype": "text/x-python",
   "name": "python",
   "nbconvert_exporter": "python",
   "pygments_lexer": "ipython3",
   "version": "3.5.4"
  }
 },
 "nbformat": 4,
 "nbformat_minor": 1
}
