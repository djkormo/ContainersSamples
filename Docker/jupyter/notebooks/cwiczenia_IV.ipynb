{
 "cells": [
  {
   "cell_type": "markdown",
   "metadata": {},
   "source": [
    "# Ćwiczenia 4\n",
    "\n",
    "## Programowanie dla analizy danych\n",
    "\n",
    "2017/2018, semestr letni\n",
    "\n",
    "---\n",
    "\n",
    "## 1\n",
    "\n",
    "### 1.1\n",
    "\n",
    "Dwa pierwsze wyrazy w klasycznym ciągu Fibonacciego to `0` i `1`. Zmieniając wartości tych wyrazów, zmienisz również ciąg. Napisz funkcję `fib(n, a, b)`. Parametry `n`, `a`, `b` to liczby całkowite, przy czym zakładamy, że `n` jest nieujemna. Funkcja zwraca `n`-ty wyraz ciągu Fibonacciego o dwóch pierwszych wyrazach równych `a`, `b`. Parametry `a` i `b` są ustawione domyślnie na `0` i `1`."
   ]
  },
  {
   "cell_type": "code",
   "execution_count": null,
   "metadata": {
    "collapsed": true
   },
   "outputs": [],
   "source": []
  },
  {
   "cell_type": "markdown",
   "metadata": {},
   "source": [
    "#### Testy"
   ]
  },
  {
   "cell_type": "code",
   "execution_count": 2,
   "metadata": {
    "collapsed": true
   },
   "outputs": [],
   "source": [
    "assert [fib(n) for n in range(6)] == [0, 1, 1, 2, 3, 5]\n",
    "\n",
    "#https://www.wolframalpha.com/input/?i=fibonacci(100)\n",
    "assert fib(100) == 354224848179261915075\n",
    "\n",
    "assert [fib(n, 2, 1) for n in range(6)] == [2, 1, 3, 4, 7, 11]\n",
    "assert [fib(n, b=1, a=-1) for n in range(6)] == [-1, 1, 0, 1, 1, 2]"
   ]
  },
  {
   "cell_type": "markdown",
   "metadata": {},
   "source": [
    "### 1.2\n",
    "\n",
    "[Ciąg Tribonacciego](https://pl.wikipedia.org/wiki/Ci%C4%85g_Fibonacciego#Ci%C4%85g_%22Tribonacciego%22) definiujemy następująco. Jego pierwsze trzy wyrazy to `0`, `0`, `1`. Każdy wyraz następny jest sumą trzech poprzednich. Napisz funkcję `trib(n, a, b, c)`. Parametry `n`, `a`, `b`, `c` to liczby całkowite, przy czym zakładamy, że `n` jest nieujemna. Funkcja zwraca `n`-ty wyraz ciągu Tribonacciego. Parametry `a`, `b`, `c` powinny mieć wartości domyślne `0`, `0` i `1`."
   ]
  },
  {
   "cell_type": "code",
   "execution_count": null,
   "metadata": {
    "collapsed": true
   },
   "outputs": [],
   "source": []
  },
  {
   "cell_type": "markdown",
   "metadata": {},
   "source": [
    "#### Testy"
   ]
  },
  {
   "cell_type": "code",
   "execution_count": 4,
   "metadata": {
    "collapsed": true
   },
   "outputs": [],
   "source": [
    "assert [tribonacci(n) for n in range(10)] == [0, 0, 1, 1, 2, 4, 7, 13, 24, 44]\n",
    "\n",
    "# http://oeis.org/A000073\n",
    "assert [tribonacci(n) for n in range(38)] == [0, 0, 1, 1, 2, 4, 7, 13, 24, 44, 81, 149, 274,\n",
    "                                              504, 927, 1705, 3136, 5768, 10609, 19513,\n",
    "                                              35890, 66012, 121415, 223317, 410744,\n",
    "                                              755476, 1389537, 2555757, 4700770, 8646064,\n",
    "                                              15902591, 29249425, 53798080, 98950096,\n",
    "                                              181997601, 334745777, 615693474, 1132436852]\n",
    "\n",
    "assert [tribonacci(n, -1, 0, 1) for n in range(10)] == [-1, 0, 1, 0, 1, 2, 3, 6, 11, 20] "
   ]
  },
  {
   "cell_type": "markdown",
   "metadata": {},
   "source": [
    "### 1.3\n",
    "\n",
    "Napisz funkcję `fib_ogólny(n, *a)`. Parametr `n` reprezentuje nieujemną liczbę całkowitą, `a` to wyrazy inicjujące ogólny ciąg Fibonacciego. Wyrazów tych jest dowolna skończona ilość, powiedzmy `N`, ale nie mniej niż jeden. Każdy kolejny jest sumą `N` poprzednich. Funkcja zwraca `n`-ty wyraz ciągu."
   ]
  },
  {
   "cell_type": "code",
   "execution_count": null,
   "metadata": {
    "collapsed": true
   },
   "outputs": [],
   "source": []
  },
  {
   "cell_type": "markdown",
   "metadata": {},
   "source": [
    "#### Testy"
   ]
  },
  {
   "cell_type": "code",
   "execution_count": 6,
   "metadata": {
    "collapsed": true
   },
   "outputs": [],
   "source": [
    "assert [fib_ogólny(n, 1) for n in range(5)] == [1, 1, 1, 1, 1]\n",
    "assert [fib_ogólny(n, 1, 2) for n in range(6)] == [1, 2, 3, 5, 8, 13]\n",
    "assert [fib_ogólny(n, 1, 2, 3, -5) for n in range(10)] == [1, 2, 3, -5, 1, 1, 0, -3, -1, -3]\n",
    "\n",
    "assert fib_ogólny(100, *range(100)) == sum(range(100))"
   ]
  },
  {
   "cell_type": "markdown",
   "metadata": {},
   "source": [
    "---\n",
    "\n",
    "## 2\n",
    "\n",
    "\n",
    "### 2.1\n",
    "\n",
    "Funkcja `choice()` z modułu `random` losuje element z niepustej sekwencji. Przetestuj funkcję `choice()` na kilku przykładach."
   ]
  },
  {
   "cell_type": "code",
   "execution_count": null,
   "metadata": {
    "collapsed": true
   },
   "outputs": [],
   "source": []
  },
  {
   "cell_type": "markdown",
   "metadata": {},
   "source": [
    "### 2.2\n",
    "\n",
    "Napisz funkcję `losuj_z_urny(liczba_losowań, zwracanie, **kule)` symulującą losowanie z urny. Opis parametrów:\n",
    "* `liczba_losowań` -- liczba całkowita, domyślnie `1`. Wyznacza liczbę losowań z urny.\n",
    "* `zwracanie` -- `True` lub `False`, domyślnie `True`. Decyduje o tym, czy losowania są prowadzone ze zwracaniem (domyślnie tak).\n",
    "* `kule` -- przyjmuje argumenty postaci `klucz=wartość`, gdzie\n",
    "  * `klucz` -- łańcuch będący kolorem kuli,\n",
    "  * `wartość` -- liczba całkowita nieujemna określająca liczbę kul danego koloru w urnie.\n",
    "\n",
    "Funkcja zwraca listę kolejno wylosowanych kul. Jeśli losowanie jest bez zwracania i `liczba_losowań` przewyższa liczbę kul w urnie, to funkcja rzuca wyjatek `ValueError` z komunikatem `'Liczba losowań bez zwracania większa niż liczba kul.'`"
   ]
  },
  {
   "cell_type": "code",
   "execution_count": null,
   "metadata": {
    "collapsed": true
   },
   "outputs": [],
   "source": []
  },
  {
   "cell_type": "markdown",
   "metadata": {},
   "source": [
    "#### Testy"
   ]
  },
  {
   "cell_type": "code",
   "execution_count": 220,
   "metadata": {
    "collapsed": true
   },
   "outputs": [],
   "source": [
    "from collections import Counter\n",
    "\n",
    "assert losuj_z_urny(biała=10) == ['biała']\n",
    "\n",
    "kule = dict(b=2, c=1, z=7)\n",
    "\n",
    "assert Counter(losuj_z_urny(10, zwracanie=False, **kule)) == Counter(b=2, c=1, z=7)\n",
    "\n",
    "try:\n",
    "    losuj_z_urny(liczba_losowań=11, zwracanie=False, **kule)\n",
    "except ValueError as err:\n",
    "    komunikat, = err.args\n",
    "    if komunikat != 'Liczba losowań bez zwracania większa niż liczba kul.':\n",
    "        raise AssertionError('Rzuca wyjątek ale z nieprawidłowym komunikatem.')\n",
    "else:\n",
    "    raise AssertionError('Należało rzucić wyjątek. Losowań jest za dużo.')\n",
    "\n"
   ]
  },
  {
   "cell_type": "markdown",
   "metadata": {},
   "source": [
    "### 2.3\n",
    "\n",
    "W urnie jest `5` kul białych i `2` czarne. Losujemy bez zwracania `3` kule. Jakie jest prawdopodobieństwo, że wszystkie będą białe?\n",
    "\n",
    "Rozwiąż to zadanie na \"kartce\" i numerycznie. Do rozwiązania numerycznego użyj funkcji `losuj_z_urny()`. Wykonaj losowanie dużą liczbę razy -- powiedzmy `1000` lub `10000` powtórzeń -- zlicz ile razy wypadły trzy kule białe, następnie oblicz częstość."
   ]
  },
  {
   "cell_type": "code",
   "execution_count": null,
   "metadata": {
    "collapsed": true
   },
   "outputs": [],
   "source": []
  },
  {
   "cell_type": "markdown",
   "metadata": {},
   "source": [
    "### 2.4\n",
    "\n",
    "Dane są dwie urny: w pierwszej znajdują się dwie kule czarne i jedna biała, w drugiej -- trzy białe. Losujemy urnę (z prawdopodobieństwem `1/2`) a następnie losujemy jedną kulę. Jakie jest prawdopodobieństwo, że losowaliśmy z pierwszej urny, jeżeli wiadomo, że wylosowana kula jest biała.\n",
    "\n",
    "Rozwiąż zadanie dwoma sposobami: tradycyjnie wykorzystując teorię prawdopodobieństwa i numerycznie. W rozwiązaniu numerycznym skorzystaj z funkcji `losuj_z_urny()`."
   ]
  },
  {
   "cell_type": "code",
   "execution_count": null,
   "metadata": {
    "collapsed": true
   },
   "outputs": [],
   "source": []
  }
 ],
 "metadata": {
  "anaconda-cloud": {},
  "kernelspec": {
   "display_name": "Python [default]",
   "language": "python",
   "name": "python3"
  },
  "language_info": {
   "codemirror_mode": {
    "name": "ipython",
    "version": 3
   },
   "file_extension": ".py",
   "mimetype": "text/x-python",
   "name": "python",
   "nbconvert_exporter": "python",
   "pygments_lexer": "ipython3",
   "version": "3.5.4"
  }
 },
 "nbformat": 4,
 "nbformat_minor": 1
}
