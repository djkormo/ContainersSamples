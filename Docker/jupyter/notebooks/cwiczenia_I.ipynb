{
 "cells": [
  {
   "cell_type": "markdown",
   "metadata": {},
   "source": [
    "# Anaconda\n",
    "\n",
    "Anaconda jest dystrybucją Pythona i języka R przeznaczoną do zastosowań w obliczeniach naukowych i analizie danych. Anaconda zawiera notatnik Jupyter, który jest środowiskiem interaktywnym przeznaczonym do pisania i wywoływania kodu. Każdy notatnik skojarzony jest z konkretnym jądrem przetwarzającym kod źródłowy. Rodzaj aktywnego jądra i zakładka pozwalające na zmianę i sterowanie jądrem znajduje się w pasku Menu.\n",
    "\n",
    "W tej sekcji zapoznasz się z podstawami obsługi notatnika Jupyter (która na szczęście jest prosta i intuicyjna). W sieci znajdziesz mnóstwo opublikowanych notatników, np.:\n",
    "* [Galeria notatników Jupyter](https://github.com/jupyter/jupyter/wiki/A-gallery-of-interesting-Jupyter-Notebooks).\n",
    "* [Strona Petera Norviga](http://norvig.com/ipython/).\n",
    "\n",
    "# Praca z notatnikiem\n",
    "\n",
    "#### Tryb edycji i komend\n",
    "\n",
    "Notatnik zawsze znajduje sie w jednym z dwóch trybów: edycji lub komend.\n",
    "\n",
    "* Naciśnięcie klawisza `Esc` powoduje wyjście z trybu edycji do trybu komend.\n",
    "* Powrót do trybu edycji następuje po wciśnięciu klawisza `Enter` na zaznaczonej komórce. Możesz użyć również myszy.\n",
    "\n",
    "Jeśli widzisz w komórce migający kursor to znaczy, że jesteś w trybie edycji.\n",
    "\n",
    "#### Manipulacje komórkami\n",
    "\n",
    "Komórki możesz kopiować, wycinać i wklejać, usuwać oraz dodawać nowe. Operacje te przeprowadza się w trybie komend.\n",
    "\n",
    "* Kopiowanie, wycinanie i wklejanie to odpowiednio klawisze `c`, `x` i `v`. Wklejanie następuje poniżej zaznaczonej komórki.\n",
    "* Dwukrotne naciśnięcie klawisza `d` usuwa zaznaczoną komórkę.\n",
    "* Klawisze `a` i `b` tworzą nową pustą komórkę odpowiednio poniżej i powyżej zaznaczonej komórki.\n",
    "\n",
    "#### Typ komórki\n",
    "\n",
    "Każda komórka ma określony typ:\n",
    "\n",
    "* `Code` - główny i domyślny typ komórki. Komórki `Code` zawierają kod źródłowy w języku wyznaczonym przez jądro (kernel) stowarzyszone z dokumentem. My w tych komórkach będziemy zamieszczać kod Pythona.\n",
    "\n",
    "* `Markdown` - w tych komórkach wprowadzisz kod w języku [Markdown](https://pl.wikipedia.org/wiki/Markdown).\n",
    "  \n",
    "* `Raw NBConvert` - tekst w tych komórkach nie jest renderowany przez notatnik.\n",
    "\n",
    "Typ definiujemy w rozwijanym menu wyżej albo w trybie komend z klawiatury: `y` - `Code`, `m` - `Markdown`.\n",
    "\n",
    "#### Zatwierdzanie komórek\n",
    "\n",
    "Kod wpisujemy w komórkach, które następnie zatwierdzamy przez:\n",
    "\n",
    "* `Ctrl+Enter` - wywołuje aktywną komórkę i przechodzi do trybu komend;\n",
    "* `Alt+Enter` - wywołuje aktywną komórkę, tworzy poniżej nową i umieszcza w  niej kursor. Pozostaje w trybie edycji;\n",
    "* `Shift-Enter` - wywołuje aktywną komórkę i przechodzi do tej poniżej (tworzy nową, gdy poniżej komórek nie ma) umieszczając w niej kursor. Pozostaje w trybie edycji.\n",
    "\n",
    "\n",
    "#### Ekran pomocy\n",
    "\n",
    "Ekran pomocy uzyskasz przechodząc do trybu edycji i wciskając klawisz `h`.\n",
    "\n",
    "----\n",
    "\n",
    "## 1\n",
    "\n",
    "Poćwicz sterowanie notatnikiem.\n",
    "\n",
    "### 1.1\n",
    "\n",
    "Oblicz setną potęgę dwójki."
   ]
  },
  {
   "cell_type": "code",
   "execution_count": null,
   "metadata": {
    "collapsed": true
   },
   "outputs": [],
   "source": []
  },
  {
   "cell_type": "markdown",
   "metadata": {},
   "source": [
    "### 1.2\n",
    "\n",
    "Pod tą komórką utwórz `5` nowych."
   ]
  },
  {
   "cell_type": "markdown",
   "metadata": {},
   "source": [
    "### 1.3\n",
    "\n",
    "W jednej z komórek pod punktem 1.2 napisz program wypisujący wszystkie dzielniki dodatnie liczby `819`. Program wykonaj, a następnie wytnij zawierającą go komórkę i wklej pod punktem 1.3. Pozostałe komórki z punktu 1.2 usuń (`dd`), tak aby została tam tylko jedna pusta komórka."
   ]
  },
  {
   "cell_type": "markdown",
   "metadata": {},
   "source": [
    "### 1.4\n",
    "\n",
    "Uzyskiwanie pomocy dla obiektów Pythona:\n",
    "* zatwierdzenie komórki ze znakiem zapytania przed lub po obiekcie (ale przed nawiasami, jeżeli obiekt jest wywoływalny);\n",
    "* skrót `SHIFT+TAB` z kursorem stojącym za obiektem.\n",
    "\n",
    "Sprawdź tym sposobem ekrany pomocy dla `print`, `list`, `random.random`, `collections.Counter`, `numpy.linspace`."
   ]
  },
  {
   "cell_type": "code",
   "execution_count": null,
   "metadata": {
    "collapsed": true
   },
   "outputs": [],
   "source": []
  },
  {
   "cell_type": "markdown",
   "metadata": {},
   "source": [
    "### 1.5\n",
    "\n",
    "Stawiając dwa znaki zapytania przed lub za obiektem możesz wyświetlić (o ile jest dostępny) jego kod źródłowy. Przestestuj tę funkcjonalność na obiektach z punktu 1.4."
   ]
  },
  {
   "cell_type": "code",
   "execution_count": null,
   "metadata": {
    "collapsed": true
   },
   "outputs": [],
   "source": []
  },
  {
   "cell_type": "markdown",
   "metadata": {},
   "source": [
    "## 2\n",
    "\n",
    "Zaznacz poniższą komórkę, przejdź do trybu komend a następnie wciśnij kolejno klawisze `m` i `Enter`. Jesteś teraz w komórce, w której możesz pisać w języku znaczników Markdown. Napisz jakiś tekst zawierający nagłówki, wypunktowania, wyróżnienia, linki, fragmenty kodu źródłowego itp. Zatwierdzenie tej komórki odbywa się tak samo jak komórki z kodem.\n",
    "\n",
    "Zwięzła ściąga ze składnią języka Markdown znajduje sie [tutaj](https://github.com/adam-p/markdown-here/wiki/Markdown-Cheatsheet).\n",
    "Wszystkie fragmenty tekstu, które widzisz w tym notatniku, właśnie w ten sposób zostały napisane. Możesz je podejrzeć zaznaczając i wciskając `Enter`."
   ]
  },
  {
   "cell_type": "code",
   "execution_count": null,
   "metadata": {
    "collapsed": true
   },
   "outputs": [],
   "source": []
  },
  {
   "cell_type": "markdown",
   "metadata": {},
   "source": [
    "## 3\n",
    "\n",
    "### 3.1\n",
    "\n",
    "Napisz funkcję `częstości(it)`. Parametr `it` jest obiektem iterowalnym (łańcuchem, listą, zbiorem, itp.). Funkcja zwraca słownik par `k: v`, gdzie\n",
    "* klucz `k` jest elementem `it`,\n",
    "* wartość `v` jest liczbą wystapień `k` w `it`."
   ]
  },
  {
   "cell_type": "code",
   "execution_count": null,
   "metadata": {
    "collapsed": true
   },
   "outputs": [],
   "source": []
  },
  {
   "cell_type": "markdown",
   "metadata": {},
   "source": [
    "#### Testy"
   ]
  },
  {
   "cell_type": "code",
   "execution_count": null,
   "metadata": {
    "collapsed": true
   },
   "outputs": [],
   "source": [
    "assert częstości([]) == {}\n",
    "assert częstości('abcd') == dict(a=1, b=1, c=1, d=1)\n",
    "assert częstości('abbaa') == dict(a=3, b=2)"
   ]
  },
  {
   "cell_type": "markdown",
   "metadata": {},
   "source": [
    "### 3.2\n",
    "\n",
    "Napisz funkcję `tabela_częstości(it)`. Parametr `it` gra tę samą rolę co w punkcie 3.1. Funkcja zwraca łańcuch będący tabelą w markdownie raportującą częstości występowania elementów w `it`. Tabela ta ma mieć dwie kolumny o nagłówkach, odpowiednio `Element` i `Częstość`. Wykorzystaj funkcję `częstości()`."
   ]
  },
  {
   "cell_type": "code",
   "execution_count": null,
   "metadata": {
    "collapsed": true
   },
   "outputs": [],
   "source": []
  },
  {
   "cell_type": "markdown",
   "metadata": {},
   "source": [
    "#### Wizualizacja tabeli jako strony `HTML`"
   ]
  },
  {
   "cell_type": "code",
   "execution_count": null,
   "metadata": {},
   "outputs": [],
   "source": [
    "from IPython.core.display import display, HTML\n",
    "import markdown\n",
    "\n",
    "s = 'monty python'\n",
    "\n",
    "display(HTML(markdown.markdown(tabela_częstości(s), extensions=['tables'])))"
   ]
  },
  {
   "cell_type": "markdown",
   "metadata": {},
   "source": [
    "## 4\n",
    "\n",
    "### 4.1\n",
    "\n",
    "Wykonaj kod:\n",
    "```python\n",
    "from matplotlib import pyplot as plt\n",
    "%matplotlib inline\n",
    "```\n",
    "\n",
    "Pierwsza linia importuje moduł `pyplot` z pakietu `matplotlib`. Pakiet ten służy do tworzenia rysunków.\n",
    "Instrukcja w drugiej linii jest specyficzna dla notatnika jupyter. Zapewnia ona, że rysunki będą pokazywały się w notatniku."
   ]
  },
  {
   "cell_type": "code",
   "execution_count": null,
   "metadata": {
    "collapsed": true
   },
   "outputs": [],
   "source": []
  },
  {
   "cell_type": "markdown",
   "metadata": {},
   "source": [
    "### 4.2\n",
    "\n",
    "Niech `X`, `Y` będą sekwencjami jednakowej długości zawierającymi liczby. Wartości `X`, `Y` możesz sobie wyobrażać, jako tabelę wartości funkcji: `X` to pierwszy wiersz tabeli zawierający argumenty, `Y` to wartości odpowiadające argumentom z `X`. Wykres `Y` w zależności od `X` utworzysz wykonując kod:\n",
    "```python\n",
    "# Oszczędzamy pamięć zamykając wszystkie rysunki.\n",
    "plt.close('all')\n",
    "\n",
    "# Opcjonalne wczytanie stylu.\n",
    "# plt.style.available daje listę dostępnych styli.\n",
    "plt.style.use('seaborn-notebook')\n",
    "\n",
    "# Utworzenie płótna (fig) i czystego wykresu (ax).\n",
    "fig, ax = plt.subplots()\n",
    "\n",
    "# Rozmiar. Możesz zmienić na inny.\n",
    "fig.set_size_inches(16, 9) \n",
    "\n",
    "# Wykres.\n",
    "ax.plot(X, Y)\n",
    "\n",
    "# Siatka.\n",
    "ax.grid(ls=':')\n",
    "```\n",
    "Przetestuj ten kod rysując wykresy funkcji:\n",
    "* $y=x^2,\\quad x\\in\\langle -1,1\\rangle$,\n",
    "* $y=3\\cdot x\\cdot (1-x),\\quad x\\in\\langle 0,1\\rangle$,\n",
    "* $y=\\sin(x),\\quad x\\in\\langle 0,2\\pi\\rangle$,\n",
    "* $y=x\\cdot \\cos(1/x),\\quad x\\in\\langle 0,1\\rangle$."
   ]
  },
  {
   "cell_type": "code",
   "execution_count": null,
   "metadata": {
    "collapsed": true
   },
   "outputs": [],
   "source": []
  }
 ],
 "metadata": {
  "anaconda-cloud": {},
  "kernelspec": {
   "display_name": "Python [default]",
   "language": "python",
   "name": "python3"
  },
  "language_info": {
   "codemirror_mode": {
    "name": "ipython",
    "version": 3
   },
   "file_extension": ".py",
   "mimetype": "text/x-python",
   "name": "python",
   "nbconvert_exporter": "python",
   "pygments_lexer": "ipython3",
   "version": "3.5.4"
  }
 },
 "nbformat": 4,
 "nbformat_minor": 1
}
