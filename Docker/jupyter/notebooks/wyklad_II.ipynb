{
 "cells": [
  {
   "cell_type": "markdown",
   "metadata": {
    "slideshow": {
     "slide_type": "slide"
    }
   },
   "source": [
    "# Podstawy programowania w analizie danych\n",
    "\n",
    "## Tomasz Rodak\n",
    "\n",
    "2017/2018, semestr letni\n",
    "\n",
    "Wykład II"
   ]
  },
  {
   "cell_type": "markdown",
   "metadata": {
    "slideshow": {
     "slide_type": "slide"
    }
   },
   "source": [
    "# Zmienne. Operacja przypisania"
   ]
  },
  {
   "cell_type": "markdown",
   "metadata": {
    "slideshow": {
     "slide_type": "slide"
    }
   },
   "source": [
    "## Przykład z C++\n",
    "\n",
    "W C++ zmienna to obszar pamięci, do którego dostęp zapewnia nazwa zmiennej.\n",
    "\n",
    "```c++\n",
    "#include <iostream>\n",
    "\n",
    "int main(){\n",
    "    int a = 1, b = a;\n",
    "\n",
    "    std::cout  << \"a: \" << a << \", b: \" << b << std::endl;\n",
    "    std::cout << \"adres a: \" << &a << \", adres b: \" << &b << std::endl;\n",
    "\n",
    "    a++; // wartosc a jest zmieniana, obszar w pamieci nie\n",
    "\n",
    "    std::cout  << \"\\na: \" << a << \", b: \" << b << std::endl;\n",
    "    std::cout << \"adres a: \" << &a << \", adres b: \" << &b << std::endl;\n",
    "\n",
    "    return 0;\n",
    "}\n",
    "\n",
    "```\n",
    "\n",
    "```\n",
    "a: 1, b: 1\n",
    "adres a: 0x7ffd8f7dce80, adres b: 0x7ffd8f7dce84\n",
    "\n",
    "a: 2, b: 1\n",
    "adres a: 0x7ffd8f7dce80, adres b: 0x7ffd8f7dce84\n",
    "```"
   ]
  },
  {
   "cell_type": "markdown",
   "metadata": {
    "slideshow": {
     "slide_type": "subslide"
    }
   },
   "source": [
    "* Zmienne w C++, C, Pascalu, ... można zilustrować metaforą *pudełka* -- każda zmienna to inne pudełko, do którego wkładana jest wartość.\n",
    "* **Deklaracja zmiennej** to proces tworzenia pudełka. Często określany jest wtedy **typ** zmiennej.\n",
    "* Zadeklarowana zmienna, której nie przypisano żadnej wartości jest zmienną **niezainicjalizowaną**."
   ]
  },
  {
   "cell_type": "markdown",
   "metadata": {
    "slideshow": {
     "slide_type": "slide"
    }
   },
   "source": [
    "## W Pythonie jest inaczej :-)\n",
    "\n",
    "* Zmienna w Pythonie to etykieta (nazwa, *identifier*, *reference*) nadawana **obiektowi**.\n",
    "* Jedyny sposób na utworzenie zmiennej, to wykonanie operacji przypisania.\n",
    "* Zmiennych się nie deklaruje, zmienne nie mają typów.\n",
    "* Na jeden obiekt może wskazywać wiele zmiennych; nazywa się je wtedy **aliasami**."
   ]
  },
  {
   "cell_type": "markdown",
   "metadata": {
    "slideshow": {
     "slide_type": "slide"
    }
   },
   "source": [
    "## Obiekty\n",
    "\n",
    "* Obiekty są abstrakcjami danych.\n",
    "* Każdy obiekt ma:\n",
    "  * typ,\n",
    "  * tożsamość,\n",
    "  * wartość."
   ]
  },
  {
   "cell_type": "markdown",
   "metadata": {
    "slideshow": {
     "slide_type": "slide"
    }
   },
   "source": [
    "## Typ i wartość\n",
    "\n",
    "* **Typ** to rodzaj danych definiowany przez zbiór wartości i operacji na nich.\n",
    "    * Liczby całkowite (`int`) mają wartości `..., -2, -1, 0, 1, 2, ...` i operacje takie jak dodawanie, mnożenie, porównywanie itp.\n",
    "    * Wartości typu listowego (`list`) to skończone sekwencje nazw obiektów a operacje na nich to np.: konkatenacja, dostęp do elementu, wycinki, `append()`, `count()` itd.\n",
    "    * `...`\n",
    "* Typ obiektu uzyskasz poleceniem `type()`.\n",
    "* Operator `==` sprawdza, czy dwa obiekty mają tę samą wartość."
   ]
  },
  {
   "cell_type": "code",
   "execution_count": 61,
   "metadata": {},
   "outputs": [
    {
     "data": {
      "text/plain": [
       "(str, int, float)"
      ]
     },
     "execution_count": 61,
     "metadata": {},
     "output_type": "execute_result"
    }
   ],
   "source": [
    "type('Ala'), type(1), type(1.0)"
   ]
  },
  {
   "cell_type": "markdown",
   "metadata": {
    "slideshow": {
     "slide_type": "slide"
    }
   },
   "source": [
    "## Tożsamość \n",
    "\n",
    "* **Tożsamość** obiektu to miejsce w pamięci, w którym obiekt się znajduje.\n",
    "* **Numer identyfikacyjny** to liczba całkowita reprezentująca tożsamość obiektu.\n",
    "  * Numer identyfikacyjny jest niezmienny przez czas trwania obiektu.\n",
    "  * Dwa obiekty mają te same tożsamości dokładnie wtedy, gdy mają równe numery identyfikacyjne.\n",
    "  * Numer identyfikacyjny uzyskuje się poleceniem `id()`.\n",
    "* Operator `is` sprawdza, czy dwa obiekty mają tę samą tożsamość."
   ]
  },
  {
   "cell_type": "markdown",
   "metadata": {
    "slideshow": {
     "slide_type": "slide"
    }
   },
   "source": [
    "## Czas życia obiektu\n",
    "\n",
    "* Obiekty, do których nie ma żadnych referencji (nie wiszą na nich żadne etykiety) są usuwane z pamięci.\n",
    "* Mechanizm automatycznego uwalniania pamięci nazywa się **odśmiecaniem pamięci** (**garbage collection**).\n",
    "\n",
    "\n",
    "W module `sys` znajduje się funkcja `getrefcount()` zwracająca liczbę zmiennych odnoszących się do obiektu."
   ]
  },
  {
   "cell_type": "code",
   "execution_count": 41,
   "metadata": {},
   "outputs": [
    {
     "data": {
      "text/plain": [
       "(6306, 360, 3)"
      ]
     },
     "execution_count": 41,
     "metadata": {},
     "output_type": "execute_result"
    }
   ],
   "source": [
    "from sys import getrefcount\n",
    "\n",
    "getrefcount(0), getrefcount('a'), getrefcount(123212345)"
   ]
  },
  {
   "cell_type": "markdown",
   "metadata": {
    "slideshow": {
     "slide_type": "slide"
    }
   },
   "source": [
    "## Identyczność vs równość"
   ]
  },
  {
   "cell_type": "code",
   "execution_count": 5,
   "metadata": {
    "slideshow": {
     "slide_type": "-"
    }
   },
   "outputs": [
    {
     "data": {
      "text/plain": [
       "(True, True, True, False)"
      ]
     },
     "execution_count": 5,
     "metadata": {},
     "output_type": "execute_result"
    }
   ],
   "source": [
    "a = 123456\n",
    "b = a\n",
    "c = 123456\n",
    "\n",
    "a == b, b == c, a is b, b is c"
   ]
  },
  {
   "cell_type": "code",
   "execution_count": 16,
   "metadata": {},
   "outputs": [
    {
     "data": {
      "text/plain": [
       "(140473455923024, 140473455923024, 140473455922928, 140473455752240)"
      ]
     },
     "execution_count": 16,
     "metadata": {},
     "output_type": "execute_result"
    }
   ],
   "source": [
    "id(a), id(b), id(c), id(123456)"
   ]
  },
  {
   "cell_type": "markdown",
   "metadata": {},
   "source": [
    "* `a`, `b` są aliasami -- różnymi nazwami tego samego obiektu.\n",
    "* Przypisanie `c = 123456` tworzy nowy obiekt o tej samej wartości.\n",
    "  \n",
    "  W tym przypadku wartość prawej strony jest obliczana. Interpreter nie sprawdza czy obiekt o tej samej wartości już się w pamięci znajduje. Dlatego musi powstać nowy obiekt."
   ]
  },
  {
   "cell_type": "markdown",
   "metadata": {
    "slideshow": {
     "slide_type": "subslide"
    }
   },
   "source": [
    "Ogólnie:\n",
    "* jeśli prawa strona przypisania jest zmienną, to tworzony jest alias;\n",
    "* jeśli prawa strona przypisania jest wyrażeniem (zwraca wartość), to tworzony jest nowy obiekt."
   ]
  },
  {
   "cell_type": "markdown",
   "metadata": {
    "slideshow": {
     "slide_type": "fragment"
    }
   },
   "source": [
    "Czasem jednak Python oszukuje."
   ]
  },
  {
   "cell_type": "code",
   "execution_count": 22,
   "metadata": {},
   "outputs": [
    {
     "data": {
      "text/plain": [
       "(True, 93965035540544, 93965035540544)"
      ]
     },
     "execution_count": 22,
     "metadata": {},
     "output_type": "execute_result"
    }
   ],
   "source": [
    "a = 1\n",
    "b = 3 - 2\n",
    "\n",
    "a is b, id(a), id(b)"
   ]
  },
  {
   "cell_type": "markdown",
   "metadata": {},
   "source": [
    "Dla niektórych \"małych\" lub często używanych wartości tworzony jest tylko jeden obiekt. Jest to kwestia wewnętrzna interpretera związana z optymalizacją."
   ]
  },
  {
   "cell_type": "markdown",
   "metadata": {
    "slideshow": {
     "slide_type": "slide"
    }
   },
   "source": [
    "## `is` vs `==`\n",
    "\n",
    "`is` porównuje tożsamości, `==` porównuje wartości, dlatego częściej używa się `==`, gdyż zwykle interesują nas wartości.\n",
    "\n",
    "Wyjątkiem jest przypadek testowania czy obiekt jest typu `None`. Zalecany kod:\n",
    "```python\n",
    "x is None\n",
    "```\n",
    "oraz\n",
    "```python\n",
    "x is not None\n",
    "```"
   ]
  },
  {
   "cell_type": "markdown",
   "metadata": {
    "slideshow": {
     "slide_type": "slide"
    }
   },
   "source": [
    "## Obiekty zmienne\n",
    "\n",
    "Obiekt zmienny to taki, który może zmienić wartość."
   ]
  },
  {
   "cell_type": "code",
   "execution_count": 40,
   "metadata": {
    "slideshow": {
     "slide_type": "-"
    }
   },
   "outputs": [
    {
     "name": "stdout",
     "output_type": "stream",
     "text": [
      "[1, 2, 3, 'X'] [1, 2, 3, 'X'] [1, 2, 3]\n",
      "140473455905288 140473455905288 140473456545608\n",
      "True False\n"
     ]
    }
   ],
   "source": [
    "a = [1, 2, 3]\n",
    "b = a # a i b są nazwami tego samego obiektu.\n",
    "c = [1, 2, 3] # c jest nazwą innego obiektu.\n",
    "\n",
    "a.append('X') # Zmieniamy obiekt nazwany a i b.\n",
    "\n",
    "print(a, b, c) # Obiekt o nazwie c się nie zmienił.\n",
    "print(id(a), id(b), id(c))\n",
    "print(a is b, b is c)"
   ]
  },
  {
   "cell_type": "markdown",
   "metadata": {},
   "source": [
    "Należy o tym pamiętać, gdy tworzymy do niego aliasy!"
   ]
  },
  {
   "cell_type": "markdown",
   "metadata": {
    "slideshow": {
     "slide_type": "subslide"
    }
   },
   "source": [
    "Chcemy utworzyć macierz `3 x 3` wypełnioną zerami. Próbujemy tak:"
   ]
  },
  {
   "cell_type": "code",
   "execution_count": 104,
   "metadata": {},
   "outputs": [
    {
     "data": {
      "text/plain": [
       "[[0, 0, 0], [0, 0, 0], [0, 0, 0]]"
      ]
     },
     "execution_count": 104,
     "metadata": {},
     "output_type": "execute_result"
    }
   ],
   "source": [
    "macierz = 3 * [[0, 0, 0]]\n",
    "macierz"
   ]
  },
  {
   "cell_type": "markdown",
   "metadata": {
    "slideshow": {
     "slide_type": "fragment"
    }
   },
   "source": [
    "Niestety, nasza macierz zawiera trzy pozycje, z których każda jest referencją do tego samego obiektu."
   ]
  },
  {
   "cell_type": "code",
   "execution_count": 103,
   "metadata": {},
   "outputs": [
    {
     "data": {
      "text/plain": [
       "[[1, 0, 0], [1, 0, 0], [1, 0, 0]]"
      ]
     },
     "execution_count": 103,
     "metadata": {},
     "output_type": "execute_result"
    }
   ],
   "source": [
    "macierz[0][0] = 1\n",
    "macierz"
   ]
  },
  {
   "cell_type": "markdown",
   "metadata": {
    "slideshow": {
     "slide_type": "fragment"
    }
   },
   "source": [
    "Rozwiązanie wyrażeniem listowym:"
   ]
  },
  {
   "cell_type": "code",
   "execution_count": 108,
   "metadata": {},
   "outputs": [
    {
     "data": {
      "text/plain": [
       "[[1, 0, 0], [0, 0, 0], [0, 0, 0]]"
      ]
     },
     "execution_count": 108,
     "metadata": {},
     "output_type": "execute_result"
    }
   ],
   "source": [
    "macierz = [[0 for i in range(3)] for j in range(3)]\n",
    "macierz[0][0] = 1\n",
    "macierz"
   ]
  },
  {
   "cell_type": "markdown",
   "metadata": {
    "slideshow": {
     "slide_type": "slide"
    }
   },
   "source": [
    "## `a += b` vs `a = a + b`\n",
    "\n",
    "Przypisanie złożone `+=`, `*=`, `...` jest formą przypisania, w której po prawej stronie znajduje się wyrażenie.\n",
    "\n",
    "Jeśli obiekt po lewej stronie przypisania złożonego `+=`, `*=`, `...` jest zmienny, to przypisanie wykonywane jest \"w miejscu\" i nowy obiekt nie jest tworzony."
   ]
  },
  {
   "cell_type": "code",
   "execution_count": 48,
   "metadata": {},
   "outputs": [
    {
     "name": "stdout",
     "output_type": "stream",
     "text": [
      "140473455575880\n",
      "140473455575880\n",
      "140473455541768\n"
     ]
    }
   ],
   "source": [
    "a = [1, 2]\n",
    "print(id(a))\n",
    "a += [3]\n",
    "print(id(a))\n",
    "a = a + [4]\n",
    "print(id(a))"
   ]
  },
  {
   "cell_type": "markdown",
   "metadata": {
    "slideshow": {
     "slide_type": "slide"
    }
   },
   "source": [
    "## Typy zmienne (mutable types)\n",
    "\n",
    "Przykłady wbudowanych typów zmiennych:\n",
    "\n",
    "* `list` -- listy,\n",
    "* `dict` -- słowniki,\n",
    "* `set` -- zbiory,\n",
    "* `bytearray` -- zmienne sekwencje bajtów,\n",
    "* `...`"
   ]
  },
  {
   "cell_type": "markdown",
   "metadata": {
    "slideshow": {
     "slide_type": "slide"
    }
   },
   "source": [
    "## Typy niezmienne (immutable types)\n",
    "\n",
    "Przykłady wbudowanych typów niezmiennych:\n",
    "\n",
    "* `int`, `float`, `complex`, `bool` -- wszystkie typy numeryczne,\n",
    "* `str` -- łańcuchy,\n",
    "* `tuple` -- krotki,\n",
    "* `frozenset` -- zbiory \"zamrożone\",\n",
    "* `range` -- zakresy,\n",
    "* `bytes` -- sekwencje bajtów,\n",
    "* `...`"
   ]
  },
  {
   "cell_type": "markdown",
   "metadata": {
    "slideshow": {
     "slide_type": "slide"
    }
   },
   "source": [
    "## Zagadka\n",
    "\n",
    "Jaki efekt będzie miało wykonanie poniższego kodu?"
   ]
  },
  {
   "cell_type": "code",
   "execution_count": 59,
   "metadata": {},
   "outputs": [],
   "source": [
    "krotka = (1, 2, 3, [])\n",
    "krotka[-1].append('X')"
   ]
  },
  {
   "cell_type": "code",
   "execution_count": 60,
   "metadata": {
    "slideshow": {
     "slide_type": "fragment"
    }
   },
   "outputs": [
    {
     "data": {
      "text/plain": [
       "(1, 2, 3, ['X'])"
      ]
     },
     "execution_count": 60,
     "metadata": {},
     "output_type": "execute_result"
    }
   ],
   "source": [
    "krotka"
   ]
  },
  {
   "cell_type": "markdown",
   "metadata": {},
   "source": [
    "Krotki, listy, słowniki i ogólnie kontenery nie przechowują obiektów a jedynie referencje do nich. W tym przykładzie obiekt zmienił wartość. Tym niemniej nadal wskazuje na niego ta sama referencja `krotka[-1]`."
   ]
  },
  {
   "cell_type": "markdown",
   "metadata": {
    "slideshow": {
     "slide_type": "slide"
    }
   },
   "source": [
    "## Kopie\n",
    "\n",
    "Jeśli obiekt jest niezmienny, to utworzenie jego kopii sprowadza się do utworzenia aliasu. Nie jest to oczywiście prawdziwa kopia, ale z praktycznego punktu widzenia nie ma to żadnego znaczenia."
   ]
  },
  {
   "cell_type": "code",
   "execution_count": 62,
   "metadata": {
    "collapsed": true
   },
   "outputs": [],
   "source": [
    "a = 'Ala ma kota'\n",
    "b = a"
   ]
  },
  {
   "cell_type": "markdown",
   "metadata": {},
   "source": [
    "Ten kod jest bezpieczny, gdyż nie ma metody, która mogłaby zmienić łańcuch, na który wskazują `a` i `b`."
   ]
  },
  {
   "cell_type": "markdown",
   "metadata": {
    "slideshow": {
     "slide_type": "subslide"
    }
   },
   "source": [
    "Natomiast ten kod"
   ]
  },
  {
   "cell_type": "code",
   "execution_count": 63,
   "metadata": {
    "collapsed": true
   },
   "outputs": [],
   "source": [
    "a = [1, 2, 3]\n",
    "b = a"
   ]
  },
  {
   "cell_type": "markdown",
   "metadata": {},
   "source": [
    "nie jest ani bezpieczny, ani celowy.\n",
    "\n",
    "Jeśli obiekt jest zmienny, to najlepiej:\n",
    "* mieć dla niego tylko jedną nazwę;\n",
    "* w razie potrzeby tworzyć kopie."
   ]
  },
  {
   "cell_type": "markdown",
   "metadata": {
    "slideshow": {
     "slide_type": "slide"
    }
   },
   "source": [
    "## Kopiowanie list\n",
    "\n",
    "Listy kopiujemy stosując:\n",
    "* wycinki,\n",
    "* metodę `copy()`,\n",
    "* funkcję `list()`."
   ]
  },
  {
   "cell_type": "code",
   "execution_count": 68,
   "metadata": {},
   "outputs": [
    {
     "data": {
      "text/plain": [
       "(140473062113480, 140473062066696, 140473061713224, 140473060750920)"
      ]
     },
     "execution_count": 68,
     "metadata": {},
     "output_type": "execute_result"
    }
   ],
   "source": [
    "a = [1, 2, 3]\n",
    "b = a[:]\n",
    "c = a.copy()\n",
    "d = list(a)\n",
    "\n",
    "id(a), id(b), id(c), id(d) # różne tożsamości."
   ]
  },
  {
   "cell_type": "markdown",
   "metadata": {
    "slideshow": {
     "slide_type": "slide"
    }
   },
   "source": [
    "## Kopiowanie słowników i zbiorów\n",
    "\n",
    "Słownik / zbiór skopiujesz stosując:\n",
    "* metodę `copy()`,\n",
    "* funkcję `dict() / set()`."
   ]
  },
  {
   "cell_type": "markdown",
   "metadata": {
    "slideshow": {
     "slide_type": "slide"
    }
   },
   "source": [
    "## Niestety to nie wszystko :-/\n",
    "\n",
    "Zgadnij jaki efekt będzie miało wykonanie kodu:"
   ]
  },
  {
   "cell_type": "code",
   "execution_count": 94,
   "metadata": {
    "collapsed": true
   },
   "outputs": [],
   "source": [
    "d1 = {100: 'a', 2: [1, 2, 3]}\n",
    "d2 = d1.copy()\n",
    "d1[2].append('X')\n",
    "d1[25] = 'b'"
   ]
  },
  {
   "cell_type": "code",
   "execution_count": 95,
   "metadata": {
    "slideshow": {
     "slide_type": "fragment"
    }
   },
   "outputs": [
    {
     "name": "stdout",
     "output_type": "stream",
     "text": [
      "d1: {25: 'b', 2: [1, 2, 3, 'X'], 100: 'a'}\n",
      "d2: {2: [1, 2, 3, 'X'], 100: 'a'}\n"
     ]
    },
    {
     "data": {
      "text/plain": [
       "(False, True)"
      ]
     },
     "execution_count": 95,
     "metadata": {},
     "output_type": "execute_result"
    }
   ],
   "source": [
    "print('d1:', d1)\n",
    "print('d2:', d2)\n",
    "\n",
    "d1 is d2, d1[2] is d2[2]"
   ]
  },
  {
   "cell_type": "markdown",
   "metadata": {
    "slideshow": {
     "slide_type": "fragment"
    }
   },
   "source": [
    "Listy, krotki, słowniki itp., zawierają nie obiekty, lecz referencje do tych obiektów\n",
    "\n",
    "Omówione dotąd kopie są płytkie. Oznacza to, że tworzą one nowe obiekty zawierające nowe referencje... do starych obiektów.\n",
    "\n",
    "W tym przykładzie `d1[2]` i `d2[2]` są różnymi referencjami do tego samego obiektu."
   ]
  },
  {
   "cell_type": "markdown",
   "metadata": {
    "slideshow": {
     "slide_type": "slide"
    }
   },
   "source": [
    "## Kopie głębokie\n",
    "\n",
    "Funkcja `deepcopy()` z modułu `copy()` tworzy kopie głębokie obiektów."
   ]
  },
  {
   "cell_type": "code",
   "execution_count": 83,
   "metadata": {},
   "outputs": [
    {
     "name": "stdout",
     "output_type": "stream",
     "text": [
      "d1: {2: [1, 2, 3, 'X'], 100: 'a'}\n",
      "d2: {2: [1, 2, 3], 100: 'a'}\n"
     ]
    },
    {
     "data": {
      "text/plain": [
       "(False, False)"
      ]
     },
     "execution_count": 83,
     "metadata": {},
     "output_type": "execute_result"
    }
   ],
   "source": [
    "from copy import deepcopy\n",
    "\n",
    "d1 = {100: 'a', 2: [1, 2, 3]}\n",
    "d2 = deepcopy(d1)\n",
    "d1[2].append('X')\n",
    "\n",
    "print('d1:', d1)\n",
    "print('d2:', d2)\n",
    "\n",
    "d1 is d2, d1[2] is d2[2]"
   ]
  },
  {
   "cell_type": "markdown",
   "metadata": {
    "slideshow": {
     "slide_type": "slide"
    }
   },
   "source": [
    "## Odwołanie cykliczne\n",
    "\n",
    "Na jaką wartość wskazuje `lst` po wykonaniu tego kodu?"
   ]
  },
  {
   "cell_type": "code",
   "execution_count": 87,
   "metadata": {},
   "outputs": [],
   "source": [
    "lst = [1]\n",
    "lst.append(lst)"
   ]
  },
  {
   "cell_type": "code",
   "execution_count": 88,
   "metadata": {
    "slideshow": {
     "slide_type": "fragment"
    }
   },
   "outputs": [
    {
     "data": {
      "text/plain": [
       "[1, [...]]"
      ]
     },
     "execution_count": 88,
     "metadata": {},
     "output_type": "execute_result"
    }
   ],
   "source": [
    "lst"
   ]
  },
  {
   "cell_type": "markdown",
   "metadata": {},
   "source": [
    "Wielokropek wskazuje na odwołanie cykliczne. Zauważ, że ta lista ma nieskończoną głębokość!"
   ]
  },
  {
   "cell_type": "markdown",
   "metadata": {
    "slideshow": {
     "slide_type": "subslide"
    }
   },
   "source": [
    "Ile jest równe `lst[-1]`?"
   ]
  },
  {
   "cell_type": "code",
   "execution_count": 92,
   "metadata": {
    "slideshow": {
     "slide_type": "fragment"
    }
   },
   "outputs": [
    {
     "data": {
      "text/plain": [
       "[1, [...]]"
      ]
     },
     "execution_count": 92,
     "metadata": {},
     "output_type": "execute_result"
    }
   ],
   "source": [
    "lst[-1]"
   ]
  },
  {
   "cell_type": "markdown",
   "metadata": {
    "slideshow": {
     "slide_type": "fragment"
    }
   },
   "source": [
    "Ponadto:"
   ]
  },
  {
   "cell_type": "code",
   "execution_count": 93,
   "metadata": {},
   "outputs": [
    {
     "data": {
      "text/plain": [
       "True"
      ]
     },
     "execution_count": 93,
     "metadata": {},
     "output_type": "execute_result"
    }
   ],
   "source": [
    "lst is lst[-1]"
   ]
  },
  {
   "cell_type": "markdown",
   "metadata": {
    "slideshow": {
     "slide_type": "slide"
    }
   },
   "source": [
    "## Warto przeczytać\n",
    "\n",
    "[https://nedbatchelder.com/text/names.html](https://nedbatchelder.com/text/names.html)"
   ]
  }
 ],
 "metadata": {
  "anaconda-cloud": {},
  "celltoolbar": "Slideshow",
  "kernelspec": {
   "display_name": "Python [default]",
   "language": "python",
   "name": "python3"
  },
  "language_info": {
   "codemirror_mode": {
    "name": "ipython",
    "version": 3
   },
   "file_extension": ".py",
   "mimetype": "text/x-python",
   "name": "python",
   "nbconvert_exporter": "python",
   "pygments_lexer": "ipython3",
   "version": "3.5.4"
  }
 },
 "nbformat": 4,
 "nbformat_minor": 2
}
