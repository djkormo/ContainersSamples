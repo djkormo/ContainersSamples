{
 "cells": [
  {
   "cell_type": "markdown",
   "metadata": {
    "slideshow": {
     "slide_type": "slide"
    }
   },
   "source": [
    "# Podstawy programowania w analizie danych\n",
    "\n",
    "## Tomasz Rodak\n",
    "\n",
    "2017/2018, semestr letni\n",
    "\n",
    "Wykład IV"
   ]
  },
  {
   "cell_type": "markdown",
   "metadata": {
    "slideshow": {
     "slide_type": "slide"
    }
   },
   "source": [
    "# Zasięgi zmiennych"
   ]
  },
  {
   "cell_type": "markdown",
   "metadata": {
    "slideshow": {
     "slide_type": "slide"
    }
   },
   "source": [
    "## Przestrzeń nazw (namespace)\n",
    "\n",
    "* **Przestrzeń nazw** to przyporządkowanie od nazw do obiektów.\n",
    "* Każdy **moduł** definiuje własną **globalną** przestrzeń nazw. \n",
    "* Zmienne w globalnej przestrzeni nazw nazywamy **globalnymi**.\n",
    "* Globalne przestrzenie nazw są rozłączne.\n"
   ]
  },
  {
   "cell_type": "markdown",
   "metadata": {
    "slideshow": {
     "slide_type": "slide"
    }
   },
   "source": [
    "## Moduł `builtins`\n",
    "\n",
    "Moduł zawierający wbudowaną przestrzeń nazw."
   ]
  },
  {
   "cell_type": "code",
   "execution_count": 8,
   "metadata": {},
   "outputs": [
    {
     "name": "stdout",
     "output_type": "stream",
     "text": [
      "['ArithmeticError', 'BrokenPipeError', 'ConnectionError', 'Ellipsis', 'FileNotFoundError', 'ImportError', 'IsADirectoryError', 'NameError', 'OSError', 'RecursionError', 'StopAsyncIteration', 'SystemExit', 'UnboundLocalError', 'UnicodeWarning', '__IPYTHON__', '__loader__', 'all', 'bytearray', 'compile', 'dict', 'eval', 'frozenset', 'hash', 'int', 'license', 'memoryview', 'open', 'range', 'setattr', 'sum', 'zip']\n"
     ]
    }
   ],
   "source": [
    "import builtins\n",
    "\n",
    "print(dir(builtins)[::5]) # Co piąta wartość"
   ]
  },
  {
   "cell_type": "markdown",
   "metadata": {
    "slideshow": {
     "slide_type": "slide"
    }
   },
   "source": [
    "## Inne moduły\n",
    "\n",
    "Kilka przykładów.\n",
    "\n",
    "Moduł|Przykład funkcji|Przykład stałej\n",
    "---|---|---\n",
    "`math`|`sin()`|`pi`\n",
    "`numpy`|`sin()`|`pi`\n",
    "`random`|`choice()`|`TWOPI`\n",
    "`functools`|`reduce()`|`WRAPPER_ASSIGNMENTS`\n",
    "`os`|`listdir()`|`linsep`"
   ]
  },
  {
   "cell_type": "markdown",
   "metadata": {
    "slideshow": {
     "slide_type": "slide"
    }
   },
   "source": [
    "## `import`\n",
    "\n",
    "* Każdy plik z kodem Pythona jest modułem z własną przestrzenią nazw.\n",
    "* Instrukcja **`import`** jest sposobem na odwołanie się z jednego modułu do drugiego.\n",
    "* Wykonanie\n",
    "  ```python\n",
    "  import pewien_moduł\n",
    "  ```\n",
    "  powoduje, że w przestrzeni nazw pojawia się zmienna `pewien_moduł` wskazująca na importowany moduł.\n",
    "  Przestrzenie nazw nie ulegają wymieszaniu.\n",
    "* Przestrzeń nazw modułu `pewien_moduł` jest widoczna w globalnej przestrzeni nazw w postaci atrybutów tego modułu\n",
    "  ```python\n",
    "  pewien_moduł.atrybut\n",
    "  ```"
   ]
  },
  {
   "cell_type": "markdown",
   "metadata": {
    "slideshow": {
     "slide_type": "subslide"
    }
   },
   "source": [
    "Po wykonaniu importu"
   ]
  },
  {
   "cell_type": "code",
   "execution_count": 11,
   "metadata": {
    "collapsed": true
   },
   "outputs": [],
   "source": [
    "import math, numpy"
   ]
  },
  {
   "cell_type": "markdown",
   "metadata": {
    "slideshow": {
     "slide_type": "-"
    }
   },
   "source": [
    "funkcje `sin()` z modułów `math` i `numpy` mogą być używane równocześnie"
   ]
  },
  {
   "cell_type": "code",
   "execution_count": 12,
   "metadata": {},
   "outputs": [
    {
     "data": {
      "text/plain": [
       "(0.0015926529164868282, 0.0015926529164868282)"
      ]
     },
     "execution_count": 12,
     "metadata": {},
     "output_type": "execute_result"
    }
   ],
   "source": [
    "math.sin(3.14), numpy.sin(3.14)"
   ]
  },
  {
   "cell_type": "markdown",
   "metadata": {},
   "source": [
    "Stałe `pi` z tych modułów są równe."
   ]
  },
  {
   "cell_type": "code",
   "execution_count": 13,
   "metadata": {},
   "outputs": [
    {
     "data": {
      "text/plain": [
       "(3.141592653589793, 3.141592653589793, True)"
      ]
     },
     "execution_count": 13,
     "metadata": {},
     "output_type": "execute_result"
    }
   ],
   "source": [
    "math.pi, numpy.pi, math.pi == numpy.pi"
   ]
  },
  {
   "cell_type": "markdown",
   "metadata": {
    "slideshow": {
     "slide_type": "subslide"
    }
   },
   "source": [
    "Ale tego"
   ]
  },
  {
   "cell_type": "code",
   "execution_count": 14,
   "metadata": {},
   "outputs": [
    {
     "data": {
      "text/plain": [
       "array([ 0.        ,  0.84147098,  0.90929743,  0.14112001, -0.7568025 ])"
      ]
     },
     "execution_count": 14,
     "metadata": {},
     "output_type": "execute_result"
    }
   ],
   "source": [
    "numpy.sin(range(5))"
   ]
  },
  {
   "cell_type": "markdown",
   "metadata": {},
   "source": [
    "`sin()` z `math` nie potrafi"
   ]
  },
  {
   "cell_type": "code",
   "execution_count": 15,
   "metadata": {},
   "outputs": [
    {
     "ename": "TypeError",
     "evalue": "a float is required",
     "output_type": "error",
     "traceback": [
      "\u001b[0;31m---------------------------------------------------------------------------\u001b[0m",
      "\u001b[0;31mTypeError\u001b[0m                                 Traceback (most recent call last)",
      "\u001b[0;32m<ipython-input-15-5045a57ac4af>\u001b[0m in \u001b[0;36m<module>\u001b[0;34m()\u001b[0m\n\u001b[0;32m----> 1\u001b[0;31m \u001b[0mmath\u001b[0m\u001b[0;34m.\u001b[0m\u001b[0msin\u001b[0m\u001b[0;34m(\u001b[0m\u001b[0mrange\u001b[0m\u001b[0;34m(\u001b[0m\u001b[0;36m5\u001b[0m\u001b[0;34m)\u001b[0m\u001b[0;34m)\u001b[0m\u001b[0;34m\u001b[0m\u001b[0m\n\u001b[0m",
      "\u001b[0;31mTypeError\u001b[0m: a float is required"
     ]
    }
   ],
   "source": [
    "math.sin(range(5))"
   ]
  },
  {
   "cell_type": "markdown",
   "metadata": {
    "slideshow": {
     "slide_type": "slide"
    }
   },
   "source": [
    "## `from...import`\n",
    "\n",
    "Instrukcja\n",
    "```python\n",
    "from pewien_moduł import coś\n",
    "```\n",
    "powoduje, że do globalnej przestrzeni nazw dostaje się `coś`. Jeśli jakiś obiekt posiadał tę samą nazwę co `coś`, to zostanie ona przesłonięta.\n"
   ]
  },
  {
   "cell_type": "code",
   "execution_count": 16,
   "metadata": {},
   "outputs": [
    {
     "data": {
      "text/plain": [
       "array([ 0.        ,  0.84147098,  0.90929743,  0.14112001, -0.7568025 ])"
      ]
     },
     "execution_count": 16,
     "metadata": {},
     "output_type": "execute_result"
    }
   ],
   "source": [
    "from numpy import sin\n",
    "\n",
    "sin(range(5))"
   ]
  },
  {
   "cell_type": "code",
   "execution_count": 17,
   "metadata": {},
   "outputs": [
    {
     "ename": "TypeError",
     "evalue": "a float is required",
     "output_type": "error",
     "traceback": [
      "\u001b[0;31m---------------------------------------------------------------------------\u001b[0m",
      "\u001b[0;31mTypeError\u001b[0m                                 Traceback (most recent call last)",
      "\u001b[0;32m<ipython-input-17-40d6c358250d>\u001b[0m in \u001b[0;36m<module>\u001b[0;34m()\u001b[0m\n\u001b[1;32m      1\u001b[0m \u001b[0;32mfrom\u001b[0m \u001b[0mmath\u001b[0m \u001b[0;32mimport\u001b[0m \u001b[0msin\u001b[0m\u001b[0;34m\u001b[0m\u001b[0m\n\u001b[1;32m      2\u001b[0m \u001b[0;34m\u001b[0m\u001b[0m\n\u001b[0;32m----> 3\u001b[0;31m \u001b[0msin\u001b[0m\u001b[0;34m(\u001b[0m\u001b[0mrange\u001b[0m\u001b[0;34m(\u001b[0m\u001b[0;36m5\u001b[0m\u001b[0;34m)\u001b[0m\u001b[0;34m)\u001b[0m\u001b[0;34m\u001b[0m\u001b[0m\n\u001b[0m",
      "\u001b[0;31mTypeError\u001b[0m: a float is required"
     ]
    }
   ],
   "source": [
    "from math import sin\n",
    "\n",
    "sin(range(5))"
   ]
  },
  {
   "cell_type": "markdown",
   "metadata": {
    "slideshow": {
     "slide_type": "slide"
    }
   },
   "source": [
    "## `from...import as`\n",
    "\n",
    "Instrukcja\n",
    "```python\n",
    "from pewien_moduł import coś as nazwa\n",
    "```\n",
    "powoduje, że do globalnej przestrzeni nazw dostaje się `coś` ale pod nazwą `nazwa`. Ta technika pozwala na: \n",
    "* uniknięcie konfliktu między nazwami,\n",
    "* skrócenie długich nazw."
   ]
  },
  {
   "cell_type": "markdown",
   "metadata": {
    "slideshow": {
     "slide_type": "slide"
    }
   },
   "source": [
    "## Lokalna przestrzeń nazw\n",
    "\n",
    "* Każde wywołanie funkcji tworzy nową lokalną przestrzeń nazw.\n",
    "* W zakresie lokalnym można odwoływać się do zmiennych globalnych.\n",
    "* Wykonanie przypisania w ciele funkcji, tworzy zmienną lokalną. \n",
    "* Przypisanie w zakresie lokalnym  przesłania zmienną globalną (o ile taka zmienna istnieje), chyba że użyto deklaracji `global`."
   ]
  },
  {
   "cell_type": "markdown",
   "metadata": {
    "slideshow": {
     "slide_type": "slide"
    }
   },
   "source": [
    "## Zagadka\n",
    "\n",
    "Jaki będzie skutek wykonania tego kodu?"
   ]
  },
  {
   "cell_type": "code",
   "execution_count": 0,
   "metadata": {
    "collapsed": true
   },
   "outputs": [],
   "source": [
    "s = 'Jestem Ziemianinem!'\n",
    "\n",
    "def f():\n",
    "    s = 'Jestem Marsjaninem!'\n",
    "    print(s)\n",
    "\n",
    "f()\n",
    "print(s)"
   ]
  },
  {
   "cell_type": "code",
   "execution_count": 20,
   "metadata": {
    "slideshow": {
     "slide_type": "subslide"
    }
   },
   "outputs": [
    {
     "name": "stdout",
     "output_type": "stream",
     "text": [
      "Jestem Marsjaninem!\n",
      "Jestem Ziemianinem!\n"
     ]
    }
   ],
   "source": [
    "s = 'Jestem Ziemianinem!' # Zmienna globalna\n",
    "\n",
    "def f():\n",
    "    # Zmienna lokalna; przesłania globalne s ale tylko lokalnie\n",
    "    s = 'Jestem Marsjaninem!' \n",
    "    print(s)\n",
    "\n",
    "f()\n",
    "print(s) # Zmienna globalna nie została zmieniona"
   ]
  },
  {
   "cell_type": "markdown",
   "metadata": {
    "slideshow": {
     "slide_type": "slide"
    }
   },
   "source": [
    "## Zagadka\n",
    "\n",
    "A teraz?"
   ]
  },
  {
   "cell_type": "code",
   "execution_count": 0,
   "metadata": {
    "collapsed": true
   },
   "outputs": [],
   "source": [
    "s = 'Jestem Ziemianinem!'\n",
    "\n",
    "def f():\n",
    "    print(s)\n",
    "    s = 'Jestem Marsjaninem!'\n",
    "    print(s)\n",
    "\n",
    "f()\n",
    "print(s)"
   ]
  },
  {
   "cell_type": "code",
   "execution_count": 23,
   "metadata": {
    "slideshow": {
     "slide_type": "subslide"
    }
   },
   "outputs": [
    {
     "ename": "UnboundLocalError",
     "evalue": "local variable 's' referenced before assignment",
     "output_type": "error",
     "traceback": [
      "\u001b[0;31m---------------------------------------------------------------------------\u001b[0m",
      "\u001b[0;31mUnboundLocalError\u001b[0m                         Traceback (most recent call last)",
      "\u001b[0;32m<ipython-input-23-10ba87a273bd>\u001b[0m in \u001b[0;36m<module>\u001b[0;34m()\u001b[0m\n\u001b[1;32m      9\u001b[0m     \u001b[0mprint\u001b[0m\u001b[0;34m(\u001b[0m\u001b[0ms\u001b[0m\u001b[0;34m)\u001b[0m\u001b[0;34m\u001b[0m\u001b[0m\n\u001b[1;32m     10\u001b[0m \u001b[0;34m\u001b[0m\u001b[0m\n\u001b[0;32m---> 11\u001b[0;31m \u001b[0mf\u001b[0m\u001b[0;34m(\u001b[0m\u001b[0;34m)\u001b[0m\u001b[0;34m\u001b[0m\u001b[0m\n\u001b[0m\u001b[1;32m     12\u001b[0m \u001b[0mprint\u001b[0m\u001b[0;34m(\u001b[0m\u001b[0ms\u001b[0m\u001b[0;34m)\u001b[0m \u001b[0;31m# Zmienna globalna nie została zmieniona\u001b[0m\u001b[0;34m\u001b[0m\u001b[0m\n",
      "\u001b[0;32m<ipython-input-23-10ba87a273bd>\u001b[0m in \u001b[0;36mf\u001b[0;34m()\u001b[0m\n\u001b[1;32m      5\u001b[0m     \u001b[0;31m# traktowana jak lokalna. Zatem odwołać się do niej można\u001b[0m\u001b[0;34m\u001b[0m\u001b[0;34m\u001b[0m\u001b[0m\n\u001b[1;32m      6\u001b[0m     \u001b[0;31m# dopiero po przypisaniu.\u001b[0m\u001b[0;34m\u001b[0m\u001b[0;34m\u001b[0m\u001b[0m\n\u001b[0;32m----> 7\u001b[0;31m     \u001b[0mprint\u001b[0m\u001b[0;34m(\u001b[0m\u001b[0ms\u001b[0m\u001b[0;34m)\u001b[0m\u001b[0;34m\u001b[0m\u001b[0m\n\u001b[0m\u001b[1;32m      8\u001b[0m     \u001b[0ms\u001b[0m \u001b[0;34m=\u001b[0m \u001b[0;34m'Jestem Marsjaninem!'\u001b[0m \u001b[0;31m# Zmienna lokalna, przesłania globalne s\u001b[0m\u001b[0;34m\u001b[0m\u001b[0m\n\u001b[1;32m      9\u001b[0m     \u001b[0mprint\u001b[0m\u001b[0;34m(\u001b[0m\u001b[0ms\u001b[0m\u001b[0;34m)\u001b[0m\u001b[0;34m\u001b[0m\u001b[0m\n",
      "\u001b[0;31mUnboundLocalError\u001b[0m: local variable 's' referenced before assignment"
     ]
    }
   ],
   "source": [
    "s = 'Jestem Ziemianinem!' # Zmienna globalna\n",
    "\n",
    "def f():\n",
    "    # Błąd! s jest przypisana w ciele funkcji, jest więc\n",
    "    # traktowana jak lokalna. Odwołać się do niej można\n",
    "    # dopiero po przypisaniu.\n",
    "    print(s) \n",
    "    s = 'Jestem Marsjaninem!' # Zmienna lokalna, przesłania globalne s\n",
    "    print(s)\n",
    "\n",
    "f()\n",
    "print(s) # Zmienna globalna nie została zmieniona"
   ]
  },
  {
   "cell_type": "markdown",
   "metadata": {
    "slideshow": {
     "slide_type": "slide"
    }
   },
   "source": [
    "## Instrukcja `global`\n",
    "\n",
    "Deklaracja `global` informuje o tym, że zmienna przypisana w ciele funkcji ma być traktowana jak globalna."
   ]
  },
  {
   "cell_type": "code",
   "execution_count": 1,
   "metadata": {},
   "outputs": [
    {
     "name": "stdout",
     "output_type": "stream",
     "text": [
      "Jestem Ziemianinem!\n",
      "Jestem Marsjaninem!\n",
      "Jestem Marsjaninem!\n"
     ]
    }
   ],
   "source": [
    "s = 'Jestem Ziemianinem!'\n",
    "\n",
    "def f():\n",
    "    global s\n",
    "    print(s)\n",
    "    s = 'Jestem Marsjaninem!'\n",
    "    print(s)\n",
    "\n",
    "f()\n",
    "print(s) # s została zmieniona "
   ]
  },
  {
   "cell_type": "markdown",
   "metadata": {
    "slideshow": {
     "slide_type": "slide"
    }
   },
   "source": [
    "## Zagadka\n",
    "\n",
    "Czy ten program wykona się bez błędu?"
   ]
  },
  {
   "cell_type": "code",
   "execution_count": 0,
   "metadata": {
    "collapsed": true
   },
   "outputs": [],
   "source": [
    "def f():\n",
    "    s = 'Jestem Marsjaninem!'\n",
    "    print(s)\n",
    "\n",
    "f()\n",
    "print(s)"
   ]
  },
  {
   "cell_type": "markdown",
   "metadata": {
    "slideshow": {
     "slide_type": "subslide"
    }
   },
   "source": [
    "Nie, chyba że `s` istnieje w zakresie globalnym."
   ]
  },
  {
   "cell_type": "code",
   "execution_count": 1,
   "metadata": {
    "collapsed": true,
    "slideshow": {
     "slide_type": "-"
    }
   },
   "outputs": [
    {
     "name": "stdout",
     "output_type": "stream",
     "text": [
      "Jestem Marsjaninem!\n"
     ]
    },
    {
     "ename": "NameError",
     "evalue": "name 's' is not defined",
     "output_type": "error",
     "traceback": [
      "\u001b[0;31m---------------------------------------------------------------------------\u001b[0m",
      "\u001b[0;31mNameError\u001b[0m                                 Traceback (most recent call last)",
      "\u001b[0;32m<ipython-input-1-7093cb8cc0c4>\u001b[0m in \u001b[0;36m<module>\u001b[0;34m()\u001b[0m\n\u001b[1;32m      4\u001b[0m \u001b[0;34m\u001b[0m\u001b[0m\n\u001b[1;32m      5\u001b[0m \u001b[0mf\u001b[0m\u001b[0;34m(\u001b[0m\u001b[0;34m)\u001b[0m\u001b[0;34m\u001b[0m\u001b[0m\n\u001b[0;32m----> 6\u001b[0;31m \u001b[0mprint\u001b[0m\u001b[0;34m(\u001b[0m\u001b[0ms\u001b[0m\u001b[0;34m)\u001b[0m\u001b[0;34m\u001b[0m\u001b[0m\n\u001b[0m",
      "\u001b[0;31mNameError\u001b[0m: name 's' is not defined"
     ]
    }
   ],
   "source": [
    "def f():\n",
    "    s = 'Jestem Marsjaninem!'\n",
    "    print(s)\n",
    "\n",
    "f()\n",
    "# Błąd, jeśli s nie została zdefiniowana wcześniej w zakresie globalnym.\n",
    "# Zmienna z funkcji nie jest widoczna poza funkcją.\n",
    "print(s) "
   ]
  },
  {
   "cell_type": "markdown",
   "metadata": {},
   "source": [
    "**Uwaga:** Zrestartuj środowisko, aby zobaczyć ten błąd."
   ]
  },
  {
   "cell_type": "markdown",
   "metadata": {
    "slideshow": {
     "slide_type": "slide"
    }
   },
   "source": [
    "## Obiekty zmienne\n",
    "\n",
    "Na globalnych obiektach zmiennych funkcja może działać w miejscu. \n",
    "\n",
    "Referencja w ciele funkcji do globalnej zmiennej `kwadraty`. Funkcja nie zwraca nic, ale **zmienia stan** listy `kwadraty`."
   ]
  },
  {
   "cell_type": "code",
   "execution_count": 28,
   "metadata": {},
   "outputs": [
    {
     "name": "stdout",
     "output_type": "stream",
     "text": [
      "[1, 4, 9]\n",
      "[1, 4, 9, 16]\n"
     ]
    }
   ],
   "source": [
    "kwadraty = [1, 4, 9]\n",
    "\n",
    "def f():\n",
    "    kwadraty.append(16)\n",
    "\n",
    "print(kwadraty)\n",
    "f()\n",
    "print(kwadraty)"
   ]
  },
  {
   "cell_type": "markdown",
   "metadata": {
    "slideshow": {
     "slide_type": "subslide"
    }
   },
   "source": [
    "Teraz funkcja ma parametr `x`. W czasie wykonania `f(kwadraty)` wykonane zostaje przypisanie `x = kwadraty` co powoduje, że `x` jest aliasem zmiennej `kwadraty`. Operacje znów są wykonywane \"w miejscu\"."
   ]
  },
  {
   "cell_type": "code",
   "execution_count": 7,
   "metadata": {},
   "outputs": [
    {
     "name": "stdout",
     "output_type": "stream",
     "text": [
      "[1, 4, 9]\n",
      "[1, 4, 9, 16]\n"
     ]
    }
   ],
   "source": [
    "kwadraty = [1, 4, 9]\n",
    "\n",
    "def f(x):\n",
    "    x.append(16)\n",
    "\n",
    "print(kwadraty)\n",
    "f(kwadraty)\n",
    "print(kwadraty)"
   ]
  },
  {
   "cell_type": "markdown",
   "metadata": {
    "slideshow": {
     "slide_type": "subslide"
    }
   },
   "source": [
    "Funkcja równocześnie zwraca wartość i działa \"w miejscu\" (zmienia stan). "
   ]
  },
  {
   "cell_type": "code",
   "execution_count": 2,
   "metadata": {},
   "outputs": [
    {
     "name": "stdout",
     "output_type": "stream",
     "text": [
      "[1, 4, 9]\n",
      "[1, 4, 9, 16]\n"
     ]
    }
   ],
   "source": [
    "kwadraty = [1, 4, 9]\n",
    "\n",
    "def f(x):\n",
    "    x.append(16)\n",
    "    return x\n",
    "\n",
    "print(kwadraty)\n",
    "y = f(kwadraty)\n",
    "print(kwadraty)"
   ]
  },
  {
   "cell_type": "markdown",
   "metadata": {},
   "source": [
    "Zwrócona wartość jest aliasem do listy `kwadraty`."
   ]
  },
  {
   "cell_type": "code",
   "execution_count": 6,
   "metadata": {},
   "outputs": [
    {
     "data": {
      "text/plain": [
       "True"
      ]
     },
     "execution_count": 6,
     "metadata": {},
     "output_type": "execute_result"
    }
   ],
   "source": [
    "y is kwadraty"
   ]
  },
  {
   "cell_type": "markdown",
   "metadata": {
    "slideshow": {
     "slide_type": "slide"
    }
   },
   "source": [
    "## Przykład: [sortowanie przez wybieranie](https://pl.wikipedia.org/wiki/Sortowanie_przez_wybieranie)\n",
    "\n",
    "Dla tablicy `A[1], ..., A[n]` algorytm przedstawia się następująco:\n",
    "\n",
    "* dla każdego `i = 1, ..., n`:\n",
    "  * wyszukaj `k = i, i + 1, ..., n` z minimalną wartością `A[k]`;\n",
    "  * zamień `A[k]` z `A[i]`."
   ]
  },
  {
   "cell_type": "code",
   "execution_count": 3,
   "metadata": {
    "slideshow": {
     "slide_type": "fragment"
    }
   },
   "outputs": [],
   "source": [
    "def wyb_sort(A):\n",
    "    n = len(A)\n",
    "    for i in range(n - 1):\n",
    "        min_i = i\n",
    "        for k in range(i + 1, n):\n",
    "            if A[k] < A[min_i]:\n",
    "                min_i = k\n",
    "        A[i], A[min_i] = A[min_i], A[i]"
   ]
  },
  {
   "cell_type": "markdown",
   "metadata": {
    "slideshow": {
     "slide_type": "subslide"
    }
   },
   "source": [
    "### Sortowanie listy liczb"
   ]
  },
  {
   "cell_type": "code",
   "execution_count": 4,
   "metadata": {},
   "outputs": [
    {
     "data": {
      "text/plain": [
       "[3, 1, 5, 3, 8, 6, 3, 2, 1, 4, 5]"
      ]
     },
     "execution_count": 4,
     "metadata": {},
     "output_type": "execute_result"
    }
   ],
   "source": [
    "lst = [3, 1, 5, 3, 8, 6, 3, 2, 1, 4, 5]\n",
    "\n",
    "lst"
   ]
  },
  {
   "cell_type": "code",
   "execution_count": 5,
   "metadata": {},
   "outputs": [
    {
     "data": {
      "text/plain": [
       "[1, 1, 2, 3, 3, 3, 4, 5, 5, 6, 8]"
      ]
     },
     "execution_count": 5,
     "metadata": {},
     "output_type": "execute_result"
    }
   ],
   "source": [
    "wyb_sort(lst)\n",
    "\n",
    "lst"
   ]
  },
  {
   "cell_type": "markdown",
   "metadata": {
    "slideshow": {
     "slide_type": "subslide"
    }
   },
   "source": [
    "### Sortowanie listy znaków"
   ]
  },
  {
   "cell_type": "code",
   "execution_count": 6,
   "metadata": {},
   "outputs": [
    {
     "data": {
      "text/plain": [
       "['m', 'o', 'n', 't', 'y', ' ', 'p', 'y', 't', 'h', 'o', 'n']"
      ]
     },
     "execution_count": 6,
     "metadata": {},
     "output_type": "execute_result"
    }
   ],
   "source": [
    "lst = list('monty python')\n",
    "\n",
    "lst"
   ]
  },
  {
   "cell_type": "code",
   "execution_count": 7,
   "metadata": {},
   "outputs": [
    {
     "data": {
      "text/plain": [
       "[' ', 'h', 'm', 'n', 'n', 'o', 'o', 'p', 't', 't', 'y', 'y']"
      ]
     },
     "execution_count": 7,
     "metadata": {},
     "output_type": "execute_result"
    }
   ],
   "source": [
    "wyb_sort(lst)\n",
    "\n",
    "lst"
   ]
  },
  {
   "cell_type": "markdown",
   "metadata": {
    "slideshow": {
     "slide_type": "slide"
    }
   },
   "source": [
    "## Ostrzeżenie\n",
    "\n",
    "Nie używaj obiektów zmiennych jako wartości domyślnych!\n",
    "\n",
    "Wartości domyślne są obliczane tylko raz, gdy funkcja jest definiowana. Kolejne wywołania odwołują się do obliczonej na początku wartości, a ta może zmieniać stan, jeśli jest zmienna."
   ]
  },
  {
   "cell_type": "code",
   "execution_count": 19,
   "metadata": {},
   "outputs": [
    {
     "name": "stdout",
     "output_type": "stream",
     "text": [
      "['X']\n",
      "['X', 'X']\n",
      "['X', 'X', 'X']\n"
     ]
    }
   ],
   "source": [
    "def f(lst=[]):\n",
    "    lst.append('X')\n",
    "    print(lst)\n",
    "\n",
    "f()\n",
    "f()\n",
    "f()"
   ]
  },
  {
   "cell_type": "markdown",
   "metadata": {
    "slideshow": {
     "slide_type": "subslide"
    }
   },
   "source": [
    "### Obejście"
   ]
  },
  {
   "cell_type": "code",
   "execution_count": 20,
   "metadata": {},
   "outputs": [
    {
     "name": "stdout",
     "output_type": "stream",
     "text": [
      "['X']\n",
      "['X']\n",
      "['X']\n"
     ]
    }
   ],
   "source": [
    "def f(lst=None):\n",
    "    if lst is None:\n",
    "        lst = []\n",
    "    lst.append('X')\n",
    "    print(lst)\n",
    "\n",
    "f()\n",
    "f()\n",
    "f()"
   ]
  },
  {
   "cell_type": "markdown",
   "metadata": {
    "slideshow": {
     "slide_type": "slide"
    }
   },
   "source": [
    "## [Obiekty pierwszej klasy](https://en.wikipedia.org/wiki/First-class_citizen)\n",
    "\n",
    "W językach programowania obiekt pierwszej klasy to taki, który:\n",
    "\n",
    "* może być wartością zmiennej;\n",
    "* może być argumentem funkcji;\n",
    "* może być zwrócony z funkcji;\n",
    "* może zostać zmodyfikowany."
   ]
  },
  {
   "cell_type": "markdown",
   "metadata": {
    "slideshow": {
     "slide_type": "slide"
    }
   },
   "source": [
    "## Obiekty pierwszej klasy w Pythonie\n",
    "\n",
    "Zamierzeniem projektowym Pythona było, aby **wszystkie** obiekty były obiektami pierwszej klasy.\n",
    "\n",
    "> One of my goals for Python was to make it so that all objects were \"first class.\" By this, I meant that I wanted   all objects that could be named in the language (e.g., integers, strings, functions, classes, modules, methods,   etc.) to have equal status. That is, they can be assigned to variables, placed in lists, stored in dictionaries,   passed as arguments, and so forth.\n",
    "\n",
    "> Guido van Rossum"
   ]
  },
  {
   "cell_type": "markdown",
   "metadata": {
    "slideshow": {
     "slide_type": "slide"
    }
   },
   "source": [
    "## Funkcje są obiektami pierwszej klasy\n",
    "\n",
    "...co prowadzi do pytań o zasięg zmiennych:"
   ]
  },
  {
   "cell_type": "code",
   "execution_count": 16,
   "metadata": {
    "collapsed": true
   },
   "outputs": [],
   "source": [
    "def fabryka_potęg(wykładnik):\n",
    "    def potęga(podstawa):\n",
    "        return podstawa ** wykładnik\n",
    "    return potęga"
   ]
  },
  {
   "cell_type": "code",
   "execution_count": 42,
   "metadata": {},
   "outputs": [
    {
     "data": {
      "text/plain": [
       "(25, 125)"
      ]
     },
     "execution_count": 42,
     "metadata": {},
     "output_type": "execute_result"
    }
   ],
   "source": [
    "kwadrat = fabryka_potęg(2)\n",
    "sześcian = fabryka_potęg(3)\n",
    "\n",
    "kwadrat(5), sześcian(5)"
   ]
  },
  {
   "cell_type": "markdown",
   "metadata": {
    "slideshow": {
     "slide_type": "subslide"
    }
   },
   "source": [
    "* Funkcja `fabryka_potęg()` zwraca funkcję `potęga()`.\n",
    "* Funkcja `potęga()` odnosi się do zmiennej lokalnej `wykładnik`.\n",
    "* Po wykonaniu \n",
    "  ```python\n",
    "  kwadrat = fabryka_potęg(2)\n",
    "  ```\n",
    "  `fabryka_potęg()` kończy działanie. \n",
    "* Zmienna `wykładnik` przestaje istnieć, gdyż jest to zmienna lokalna. \n",
    "* Istnieje jednak funkcja `kwadrat()`, która odwołuje sie do nie istniejącej zmiennej `wykładnik`.\n",
    "* **Skąd funkcja `kwadrat()` wie, że `wykładnik`, który ma użyć jest równy `2`?**"
   ]
  },
  {
   "cell_type": "markdown",
   "metadata": {
    "slideshow": {
     "slide_type": "slide"
    }
   },
   "source": [
    "## <a href=\"https://en.wikipedia.org/wiki/Closure_(computer_programming)\">Domknięcie (closure)</a>\n",
    "\n",
    "Domknięcie to mechanizm polegający na dołączeniu do funkcji pewnych informacji o stanie, ze środowiska w którym funkcja została utworzona.\n",
    "\n",
    "Funkcje `kwadrat()` i `sześcian()` przechowują informację o zmiennej swobodnej `wykładnik` i jej wartości.\n",
    "\n",
    "Atrybut `__code__.co_freevars` zawiera **zmienne swobodne**."
   ]
  },
  {
   "cell_type": "code",
   "execution_count": 18,
   "metadata": {},
   "outputs": [
    {
     "data": {
      "text/plain": [
       "(('wykładnik',), ('wykładnik',))"
      ]
     },
     "execution_count": 18,
     "metadata": {},
     "output_type": "execute_result"
    }
   ],
   "source": [
    "kwadrat.__code__.co_freevars, sześcian.__code__.co_freevars"
   ]
  },
  {
   "cell_type": "markdown",
   "metadata": {},
   "source": [
    "Atrybut `__closure__[0].cell_contents` zawiera odpowiadające im wartości."
   ]
  },
  {
   "cell_type": "code",
   "execution_count": 19,
   "metadata": {},
   "outputs": [
    {
     "data": {
      "text/plain": [
       "(2, 3)"
      ]
     },
     "execution_count": 19,
     "metadata": {},
     "output_type": "execute_result"
    }
   ],
   "source": [
    "kwadrat.__closure__[0].cell_contents, sześcian.__closure__[0].cell_contents"
   ]
  },
  {
   "cell_type": "markdown",
   "metadata": {
    "slideshow": {
     "slide_type": "slide"
    }
   },
   "source": [
    "## Zmienne swobodne\n",
    "\n",
    "* Zmienna swobodna to zmienna, która jest widoczna w pewnej przestrzeni nazw, ale nie została w tej przestrzeni zdefiniowana.\n",
    "* Zmienna swobodna może być globalna, ale nie musi.\n",
    "\n",
    "W przykładzie\n",
    "```python\n",
    "def fabryka_potęg(wykładnik):\n",
    "    def potęga(podstawa):\n",
    "        return podstawa ** wykładnik\n",
    "    return potęga\n",
    "```\n",
    "`wykładnik` jest widoczny w ciele funkcji `fabryka_potęg()`. Funkcja `potęga()` tworzy przestrzeń nazw, w której zmienna `wykładnik` jest swobodna."
   ]
  },
  {
   "cell_type": "markdown",
   "metadata": {
    "slideshow": {
     "slide_type": "slide"
    }
   },
   "source": [
    "## Przykład: `uśredniacz()` z książki L. Ramahlo"
   ]
  },
  {
   "cell_type": "code",
   "execution_count": 23,
   "metadata": {
    "collapsed": true
   },
   "outputs": [],
   "source": [
    "def uśredniacz():\n",
    "    wartości = []\n",
    "    def średnia(wartość):\n",
    "        wartości.append(wartość)\n",
    "        return sum(wartości) / len(wartości)\n",
    "    return średnia"
   ]
  },
  {
   "cell_type": "code",
   "execution_count": 25,
   "metadata": {
    "slideshow": {
     "slide_type": "subslide"
    }
   },
   "outputs": [],
   "source": [
    "oceny = uśredniacz()"
   ]
  },
  {
   "cell_type": "code",
   "execution_count": 26,
   "metadata": {
    "slideshow": {
     "slide_type": "fragment"
    }
   },
   "outputs": [
    {
     "data": {
      "text/plain": [
       "5.0"
      ]
     },
     "execution_count": 26,
     "metadata": {},
     "output_type": "execute_result"
    }
   ],
   "source": [
    "oceny(5)"
   ]
  },
  {
   "cell_type": "code",
   "execution_count": 27,
   "metadata": {
    "slideshow": {
     "slide_type": "fragment"
    }
   },
   "outputs": [
    {
     "data": {
      "text/plain": [
       "4.0"
      ]
     },
     "execution_count": 27,
     "metadata": {},
     "output_type": "execute_result"
    }
   ],
   "source": [
    "oceny(3)"
   ]
  },
  {
   "cell_type": "code",
   "execution_count": 28,
   "metadata": {
    "slideshow": {
     "slide_type": "fragment"
    }
   },
   "outputs": [
    {
     "data": {
      "text/plain": [
       "4.333333333333333"
      ]
     },
     "execution_count": 28,
     "metadata": {},
     "output_type": "execute_result"
    }
   ],
   "source": [
    "oceny(5)"
   ]
  },
  {
   "cell_type": "code",
   "execution_count": 29,
   "metadata": {
    "slideshow": {
     "slide_type": "fragment"
    }
   },
   "outputs": [
    {
     "data": {
      "text/plain": [
       "('wartości',)"
      ]
     },
     "execution_count": 29,
     "metadata": {},
     "output_type": "execute_result"
    }
   ],
   "source": [
    "oceny.__code__.co_freevars"
   ]
  },
  {
   "cell_type": "code",
   "execution_count": 30,
   "metadata": {
    "slideshow": {
     "slide_type": "fragment"
    }
   },
   "outputs": [
    {
     "data": {
      "text/plain": [
       "[5, 3, 5]"
      ]
     },
     "execution_count": 30,
     "metadata": {},
     "output_type": "execute_result"
    }
   ],
   "source": [
    "oceny.__closure__[0].cell_contents"
   ]
  },
  {
   "cell_type": "markdown",
   "metadata": {
    "slideshow": {
     "slide_type": "slide"
    }
   },
   "source": [
    "## Refaktoryzacja funkcji `uśredniacz()`\n",
    "\n",
    "Aby obliczyć średnią wystarczy pamiętać dotychczasową sumę wartości i ich liczbę.\n",
    "\n",
    "Oto pierwsza próba. Jest błędna. Widzisz błąd?"
   ]
  },
  {
   "cell_type": "code",
   "execution_count": 31,
   "metadata": {
    "collapsed": true
   },
   "outputs": [],
   "source": [
    "def uśredniacz():\n",
    "    suma, liczba = 0, 0\n",
    "    def średnia(wartość):\n",
    "        suma += wartość\n",
    "        liczba += 1\n",
    "        return suma / liczba\n",
    "    return średnia"
   ]
  },
  {
   "cell_type": "markdown",
   "metadata": {
    "slideshow": {
     "slide_type": "subslide"
    }
   },
   "source": [
    "* Zmienne `suma` i `liczba` są przypisane w ciele funkcji `średnia()`\n",
    "* Są to zatem zmienne lokalne."
   ]
  },
  {
   "cell_type": "code",
   "execution_count": 32,
   "metadata": {
    "collapsed": true
   },
   "outputs": [],
   "source": [
    "oceny = uśredniacz()"
   ]
  },
  {
   "cell_type": "code",
   "execution_count": 33,
   "metadata": {},
   "outputs": [
    {
     "ename": "UnboundLocalError",
     "evalue": "local variable 'suma' referenced before assignment",
     "output_type": "error",
     "traceback": [
      "\u001b[0;31m---------------------------------------------------------------------------\u001b[0m",
      "\u001b[0;31mUnboundLocalError\u001b[0m                         Traceback (most recent call last)",
      "\u001b[0;32m<ipython-input-33-4276bdc0b609>\u001b[0m in \u001b[0;36m<module>\u001b[0;34m()\u001b[0m\n\u001b[0;32m----> 1\u001b[0;31m \u001b[0moceny\u001b[0m\u001b[0;34m(\u001b[0m\u001b[0;36m5\u001b[0m\u001b[0;34m)\u001b[0m\u001b[0;34m\u001b[0m\u001b[0m\n\u001b[0m",
      "\u001b[0;32m<ipython-input-31-3dbb9709c7b8>\u001b[0m in \u001b[0;36mśrednia\u001b[0;34m(wartość)\u001b[0m\n\u001b[1;32m      2\u001b[0m     \u001b[0msuma\u001b[0m\u001b[0;34m,\u001b[0m \u001b[0mliczba\u001b[0m \u001b[0;34m=\u001b[0m \u001b[0;36m0\u001b[0m\u001b[0;34m,\u001b[0m \u001b[0;36m0\u001b[0m\u001b[0;34m\u001b[0m\u001b[0m\n\u001b[1;32m      3\u001b[0m     \u001b[0;32mdef\u001b[0m \u001b[0mśrednia\u001b[0m\u001b[0;34m(\u001b[0m\u001b[0mwartość\u001b[0m\u001b[0;34m)\u001b[0m\u001b[0;34m:\u001b[0m\u001b[0;34m\u001b[0m\u001b[0m\n\u001b[0;32m----> 4\u001b[0;31m         \u001b[0msuma\u001b[0m \u001b[0;34m+=\u001b[0m \u001b[0mwartość\u001b[0m\u001b[0;34m\u001b[0m\u001b[0m\n\u001b[0m\u001b[1;32m      5\u001b[0m         \u001b[0mliczba\u001b[0m \u001b[0;34m+=\u001b[0m \u001b[0;36m1\u001b[0m\u001b[0;34m\u001b[0m\u001b[0m\n\u001b[1;32m      6\u001b[0m         \u001b[0;32mreturn\u001b[0m \u001b[0msuma\u001b[0m \u001b[0;34m/\u001b[0m \u001b[0mliczba\u001b[0m\u001b[0;34m\u001b[0m\u001b[0m\n",
      "\u001b[0;31mUnboundLocalError\u001b[0m: local variable 'suma' referenced before assignment"
     ]
    }
   ],
   "source": [
    "oceny(5)"
   ]
  },
  {
   "cell_type": "markdown",
   "metadata": {
    "slideshow": {
     "slide_type": "slide"
    }
   },
   "source": [
    "## Rozwiązanie -- instrukcja `nonlocal`\n",
    "\n",
    "Deklaracja `nonlocal` każe traktować zmienną jak zmienną swobodną, nawet wtedy, gdy zmienna ta jest przypisana."
   ]
  },
  {
   "cell_type": "code",
   "execution_count": 34,
   "metadata": {
    "collapsed": true
   },
   "outputs": [],
   "source": [
    "def uśredniacz():\n",
    "    suma, liczba = 0, 0\n",
    "    def średnia(wartość):\n",
    "        nonlocal suma, liczba\n",
    "        suma += wartość\n",
    "        liczba += 1\n",
    "        return suma / liczba\n",
    "    return średnia"
   ]
  },
  {
   "cell_type": "code",
   "execution_count": 35,
   "metadata": {
    "collapsed": true,
    "slideshow": {
     "slide_type": "subslide"
    }
   },
   "outputs": [],
   "source": [
    "oceny = uśredniacz()"
   ]
  },
  {
   "cell_type": "code",
   "execution_count": 36,
   "metadata": {
    "slideshow": {
     "slide_type": "fragment"
    }
   },
   "outputs": [
    {
     "data": {
      "text/plain": [
       "5.0"
      ]
     },
     "execution_count": 36,
     "metadata": {},
     "output_type": "execute_result"
    }
   ],
   "source": [
    "oceny(5)"
   ]
  },
  {
   "cell_type": "code",
   "execution_count": 37,
   "metadata": {
    "slideshow": {
     "slide_type": "fragment"
    }
   },
   "outputs": [
    {
     "data": {
      "text/plain": [
       "4.0"
      ]
     },
     "execution_count": 37,
     "metadata": {},
     "output_type": "execute_result"
    }
   ],
   "source": [
    "oceny(3)"
   ]
  },
  {
   "cell_type": "code",
   "execution_count": 38,
   "metadata": {
    "slideshow": {
     "slide_type": "fragment"
    }
   },
   "outputs": [
    {
     "data": {
      "text/plain": [
       "4.333333333333333"
      ]
     },
     "execution_count": 38,
     "metadata": {},
     "output_type": "execute_result"
    }
   ],
   "source": [
    "oceny(5)"
   ]
  },
  {
   "cell_type": "code",
   "execution_count": 39,
   "metadata": {
    "slideshow": {
     "slide_type": "fragment"
    }
   },
   "outputs": [
    {
     "data": {
      "text/plain": [
       "('liczba', 'suma')"
      ]
     },
     "execution_count": 39,
     "metadata": {},
     "output_type": "execute_result"
    }
   ],
   "source": [
    "oceny.__code__.co_freevars"
   ]
  },
  {
   "cell_type": "code",
   "execution_count": 41,
   "metadata": {
    "slideshow": {
     "slide_type": "fragment"
    }
   },
   "outputs": [
    {
     "data": {
      "text/plain": [
       "(3, 13)"
      ]
     },
     "execution_count": 41,
     "metadata": {},
     "output_type": "execute_result"
    }
   ],
   "source": [
    "oceny.__closure__[0].cell_contents, oceny.__closure__[1].cell_contents"
   ]
  },
  {
   "cell_type": "code",
   "execution_count": null,
   "metadata": {
    "collapsed": true
   },
   "outputs": [],
   "source": []
  }
 ],
 "metadata": {
  "anaconda-cloud": {},
  "celltoolbar": "Slideshow",
  "kernelspec": {
   "display_name": "Python [default]",
   "language": "python",
   "name": "python3"
  },
  "language_info": {
   "codemirror_mode": {
    "name": "ipython",
    "version": 3
   },
   "file_extension": ".py",
   "mimetype": "text/x-python",
   "name": "python",
   "nbconvert_exporter": "python",
   "pygments_lexer": "ipython3",
   "version": "3.5.4"
  }
 },
 "nbformat": 4,
 "nbformat_minor": 1
}
