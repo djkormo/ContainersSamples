{
 "cells": [
  {
   "cell_type": "markdown",
   "metadata": {
    "slideshow": {
     "slide_type": "slide"
    }
   },
   "source": [
    "# Podstawy programowania w analizie danych\n",
    "\n",
    "## Tomasz Rodak\n",
    "\n",
    "2017/2018, semestr letni\n",
    "\n",
    "Wykład VIII"
   ]
  },
  {
   "cell_type": "markdown",
   "metadata": {
    "slideshow": {
     "slide_type": "slide"
    }
   },
   "source": [
    "# Klasy\n",
    "## Przegląd metod specjalnych, cz. 2\n",
    "## Obiekty zachowujące się jak liczby"
   ]
  },
  {
   "cell_type": "markdown",
   "metadata": {
    "slideshow": {
     "slide_type": "slide"
    }
   },
   "source": [
    "## `__add__(self, y)`\n",
    "\n",
    "Ta metoda jest wywoływana przez operator `+`.\n",
    "\n",
    "Jeśli `x` i `y` są obiektami i `x` posiada metodę `__add__()`, to wyrażenie\n",
    "```python\n",
    "x + y\n",
    "```\n",
    "jest równoważne z\n",
    "```python\n",
    "x.__add__(y)\n",
    "```"
   ]
  },
  {
   "cell_type": "markdown",
   "metadata": {
    "slideshow": {
     "slide_type": "slide"
    }
   },
   "source": [
    "## `GodzinaZegarowa` -- wersja 1.0\n",
    "\n",
    "Piszemy klasę, która tworzy obiekty odpowiadające godzinie zegarowej.\n",
    "\n",
    "Opiszmy sposób jej użycia w testach."
   ]
  },
  {
   "cell_type": "code",
   "execution_count": 89,
   "metadata": {
    "collapsed": true
   },
   "outputs": [],
   "source": [
    "g = GodzinaZegarowa()\n",
    "\n",
    "assert str(g) == '00:00:00'\n",
    "assert repr(g) == 'GodzinaZegarowa(h=0, m=0, s=0)'\n",
    "\n",
    "g = GodzinaZegarowa(h=9, m=32, s=5)\n",
    "\n",
    "assert str(g) == '09:32:05'\n",
    "assert repr(g) == 'GodzinaZegarowa(h=9, m=32, s=5)'\n",
    "\n",
    "okres = dict(h=10, m=30, s=40)\n",
    "g += okres\n",
    "\n",
    "assert str(g) == '20:02:45'\n",
    "\n",
    "okres = dict(h=5)\n",
    "g += okres\n",
    "\n",
    "assert str(g) == '01:02:45'"
   ]
  },
  {
   "cell_type": "markdown",
   "metadata": {
    "slideshow": {
     "slide_type": "subslide"
    }
   },
   "source": [
    "Dodawanie okresu do godziny zegarowej możemy przeprowadzić na sekundach.\n",
    "\n",
    "Potrzebujemy zatem konwertera od godziny zegarowej do sekund i z powrotem.\n",
    "\n",
    "Znów napiszmy testy."
   ]
  },
  {
   "cell_type": "code",
   "execution_count": 87,
   "metadata": {
    "collapsed": true
   },
   "outputs": [],
   "source": [
    "godzina_zegarowa = dict(h=13, m=46, s=40)\n",
    "\n",
    "assert na_godzinę_zegarową(na_sekundy(**godzina_zegarowa)) == godzina_zegarowa\n",
    "\n",
    "# Milion sekund to\n",
    "# 11 dni, 13 godzin, 46 minut i 40 sekund.\n",
    "assert na_sekundy(**na_godzinę_zegarową(10**6)) == 13*3600 + 46*60 + 40"
   ]
  },
  {
   "cell_type": "markdown",
   "metadata": {
    "slideshow": {
     "slide_type": "subslide"
    }
   },
   "source": [
    "`na_sekundy(h, m, s)` przelicza dowolny okres wyrażony w godzinach, minutach i sekundach na sekundy. Wszystkie parametry domyślnie mają wartość `0`."
   ]
  },
  {
   "cell_type": "code",
   "execution_count": 104,
   "metadata": {
    "collapsed": true
   },
   "outputs": [],
   "source": [
    "def na_sekundy(h=0, m=0, s=0):\n",
    "#     h, m, s = okres.get('h', 0), okres.get('m', 0), okres.get('s', 0)\n",
    "    return h*3600 + m*60 +s"
   ]
  },
  {
   "cell_type": "markdown",
   "metadata": {
    "slideshow": {
     "slide_type": "subslide"
    }
   },
   "source": [
    "`na_godzinę_zegarową(s)` wyznacza godziną jaką będzie wskazywał zegar po `s` sekundach od godziny `00:00:00`. Wartość godziny przekazywana jest w słowniku o kluczach `'h'`, `'m'` i `'s'`."
   ]
  },
  {
   "cell_type": "code",
   "execution_count": 108,
   "metadata": {
    "collapsed": true
   },
   "outputs": [],
   "source": [
    "def na_godzinę_zegarową(s):\n",
    "    h, m = divmod(s, 3600)\n",
    "    m, s = divmod(m, 60)\n",
    "    return dict(h=h % 24, m=m, s=s)"
   ]
  },
  {
   "cell_type": "code",
   "execution_count": 68,
   "metadata": {
    "collapsed": true,
    "slideshow": {
     "slide_type": "subslide"
    }
   },
   "outputs": [],
   "source": [
    "class GodzinaZegarowa:\n",
    "    \n",
    "    def __init__(self, h=0, m=0, s=0):\n",
    "        if not (0 <= h < 24 and 0 <= m < 60 and 0 <= s < 60):\n",
    "            raise ValueError('Nieprawidłowy format godziny zegarowej.')\n",
    "\n",
    "        self.h, self.m, self.s = h, m, s\n",
    "    \n",
    "    def __repr__(self):\n",
    "        return 'GodzinaZegarowa(h={}, m={}, s={})'.format(self.h, self.m, self.s)\n",
    "    \n",
    "    def __str__(self):\n",
    "        return '{:0>2}:{:0>2}:{:0>2}'.format(self.h, self.m, self.s)\n",
    "    \n",
    "    def __add__(self, okres):\n",
    "        godzina_zegarowa = dict(h=self.h, m=self.m, s=self.s)\n",
    "        sekundy = na_sekundy(**godzina_zegarowa) + na_sekundy(**okres)\n",
    "        return GodzinaZegarowa(**na_godzinę_zegarową(sekundy))"
   ]
  },
  {
   "cell_type": "markdown",
   "metadata": {
    "slideshow": {
     "slide_type": "slide"
    }
   },
   "source": [
    "## `__sub__(self, y)`\n",
    "\n",
    "Ta metoda jest wywoływana przez operator `-`.\n",
    "\n",
    "Jeśli `x` i `y` są obiektami i `x` posiada metodę `__sub__()`, to wyrażenie\n",
    "```python\n",
    "x - y\n",
    "```\n",
    "jest równoważne z\n",
    "```python\n",
    "x.__sub__(y)\n",
    "```"
   ]
  },
  {
   "cell_type": "markdown",
   "metadata": {
    "slideshow": {
     "slide_type": "slide"
    }
   },
   "source": [
    "## `GodzinaZegarowa` -- wersja 2.0\n",
    "\n",
    "Dopisujemy możliwość odejmowania okresu od godziny zegarowej.\n",
    "\n",
    "Oto sposób użycia w testach."
   ]
  },
  {
   "cell_type": "code",
   "execution_count": 111,
   "metadata": {
    "collapsed": true
   },
   "outputs": [],
   "source": [
    "g = GodzinaZegarowa()\n",
    "\n",
    "g -= dict(s=100)\n",
    "assert str(g) == '23:58:20'\n",
    "\n",
    "g -= dict(m=24 * 60)\n",
    "assert str(g) == '23:58:20'\n",
    "\n",
    "g = GodzinaZegarowa(h=10, m=12, s=27)\n",
    "g -= dict(s=10**8)\n",
    "g += dict(s=10**8)\n",
    "assert str(g) == '10:12:27'\n",
    "\n",
    "g -= dict(h=2, m=15, s=3)\n",
    "\n",
    "assert str(g) == '07:57:24'"
   ]
  },
  {
   "cell_type": "markdown",
   "metadata": {
    "slideshow": {
     "slide_type": "subslide"
    }
   },
   "source": [
    "Okazuje się, że w samym przeliczaniu nic nie musimy zmieniać. Funkcja `na_godzinę_zegarową(s)` zwraca dla ujemnego `s` wynik taki, jakiego właśnie potrzebujemy."
   ]
  },
  {
   "cell_type": "code",
   "execution_count": 112,
   "metadata": {},
   "outputs": [
    {
     "data": {
      "text/plain": [
       "{'h': 23, 'm': 58, 's': 20}"
      ]
     },
     "execution_count": 112,
     "metadata": {},
     "output_type": "execute_result"
    }
   ],
   "source": [
    "na_godzinę_zegarową(-100)"
   ]
  },
  {
   "cell_type": "markdown",
   "metadata": {},
   "source": [
    "Teraz wystarczy do klasy dopisać metodę `__sub__()`."
   ]
  },
  {
   "cell_type": "code",
   "execution_count": 105,
   "metadata": {
    "collapsed": true,
    "slideshow": {
     "slide_type": "subslide"
    }
   },
   "outputs": [],
   "source": [
    "class GodzinaZegarowa:\n",
    "    \n",
    "    def __init__(self, h=0, m=0, s=0):\n",
    "        if not (0 <= h < 24 and 0 <= m < 60 and 0 <= s < 60):\n",
    "            raise ValueError('Nieprawidłowy format godziny zegarowej.')\n",
    "        \n",
    "        self._gz = dict(h=h, m=m, s=s)\n",
    "        self.h, self.m, self.s = h, m, s\n",
    "    \n",
    "    def __repr__(self):\n",
    "        return 'GodzinaZegarowa(h={h}, m={m}, s={s})'.format(**self._gz)\n",
    "    \n",
    "    def __str__(self):\n",
    "        return '{h:0>2}:{m:0>2}:{s:0>2}'.format(**self._gz)\n",
    "    \n",
    "    def __add__(self, okres):\n",
    "        sekundy = na_sekundy(**self._gz) + na_sekundy(**okres)\n",
    "        return GodzinaZegarowa(**na_godzinę_zegarową(sekundy))\n",
    "    \n",
    "    def __sub__(self, okres):\n",
    "        sekundy = na_sekundy(**self._gz) - na_sekundy(**okres)\n",
    "        return GodzinaZegarowa(**na_godzinę_zegarową(sekundy))"
   ]
  },
  {
   "cell_type": "markdown",
   "metadata": {
    "slideshow": {
     "slide_type": "slide"
    }
   },
   "source": [
    "## Metody działające podobnie do `__add__()`\n",
    "\n",
    "* `__add__(self, y)` -- dodawanie `+`;\n",
    "* `__sub__(self, y)` -- odejmowanie `-`;\n",
    "* `__mul__(self, y)` -- mnożenie `*`;\n",
    "* `__matmul__(self, y)` -- mnożenie macierzowe `@`;\n",
    "* `__truediv__(self, y)` -- dzielenie zmiennoprzecinkowe `/`;\n",
    "* `__floordiv__(self, y)` -- dzielnie podłogowe `//`;\n",
    "* `__mod__(self, y)` -- reszta z dzielenia `%`;\n",
    "* `__divmod__(self, y)` -- `divmod()`;\n",
    "* `__pow__(self, y[, modulo])` -- potęga `**`;\n",
    "* `__lshift__(self, y)` -- przesunięcie bitowe w lewo o `y` pozycji `<<`;\n",
    "* `__rshift__(self, y)` -- przesunięcie bitowe w prawo o `y` pozycji `>>`;\n",
    "* `__and__(self, y)` -- koniunkcja bitowa `&`;\n",
    "* `__xor__(self, y)` -- bitowa alternatywa rozłączna `^`;\n",
    "* `__or__(self, y)` -- alternatywa bitowa `|`."
   ]
  },
  {
   "cell_type": "markdown",
   "metadata": {
    "slideshow": {
     "slide_type": "slide"
    }
   },
   "source": [
    "## `Wektor`\n",
    "\n",
    "Obiekty klasy `Wektor` mają być wektorami. Nasze wektory chcemy do siebie dodawać i mnożyć przez liczbę.\n",
    "\n",
    "Oto testy"
   ]
  },
  {
   "cell_type": "code",
   "execution_count": 5,
   "metadata": {},
   "outputs": [],
   "source": [
    "v = Wektor(2, 3)\n",
    "\n",
    "assert str(v) == 'Wektor(2, 3)'\n",
    "assert repr(v) == 'Wektor(2, 3)'\n",
    "assert str(-v) == 'Wektor(-2, -3)'\n",
    "\n",
    "w = Wektor(-5, 7)\n",
    "\n",
    "assert str(v + w) == 'Wektor(-3, 10)'\n",
    "assert str(w - 2*v) == 'Wektor(-9, 1)'\n",
    "assert str(4 * w) == 'Wektor(-20, 28)'\n",
    "\n",
    "z = Wektor(1, 2, 3)\n",
    "\n",
    "try:\n",
    "    w + z\n",
    "except ValueError:\n",
    "    pass\n",
    "else:\n",
    "    AssertionError('Konflikt wymiarów.')"
   ]
  },
  {
   "cell_type": "markdown",
   "metadata": {
    "slideshow": {
     "slide_type": "subslide"
    }
   },
   "source": [
    "* Ponieważ `repr()` i `str()` zwracają to samo, więc piszemy tylko `__repr__()`.\n",
    "* Operator unarny `-self` wywołuje metodę specjalną `__neg__(self)`."
   ]
  },
  {
   "cell_type": "code",
   "execution_count": 8,
   "metadata": {
    "collapsed": true
   },
   "outputs": [],
   "source": [
    "class Wektor:\n",
    "    \n",
    "    def __init__(self, *wsp):\n",
    "        self.wsp = wsp\n",
    "    \n",
    "    def __repr__(self):\n",
    "        return 'Wektor({})'.format(', '.join(str(x) for x in self.wsp))\n",
    "    \n",
    "    def __add__(self, w):\n",
    "        if len(self.wsp) != len(w.wsp):\n",
    "            raise ValueError('Konflikt wymiarów.')\n",
    "        \n",
    "        wynik_wsp = tuple(x + y for x, y in zip(self.wsp, w.wsp))\n",
    "        return Wektor(*wynik_wsp)\n",
    "    \n",
    "    def __mul__(self, skalar):\n",
    "        wynik_wsp = tuple(skalar * x for x in self.wsp)\n",
    "        return Wektor(*wynik_wsp)        \n",
    "    \n",
    "    def __neg__(self):\n",
    "        return -1 * self\n",
    "    \n",
    "    def __sub__(self, w):\n",
    "        return self + -w"
   ]
  },
  {
   "cell_type": "markdown",
   "metadata": {
    "slideshow": {
     "slide_type": "fragment"
    }
   },
   "source": [
    "<div class=\"alert alert-block alert-danger\"><b>Błąd!</b> Testy nie przechodzą, gdyż skalar występuje po lewej stronie wektora.</div>"
   ]
  },
  {
   "cell_type": "markdown",
   "metadata": {
    "slideshow": {
     "slide_type": "slide"
    }
   },
   "source": [
    "## `__rmul__(self, x)`\n",
    "\n",
    "Jeśli `x`, `y` są obiektami i `x` nie ma metody `__mul__()` lub `x.__mul__(y)` jest niewykonalne, to wyrażenie\n",
    "```python\n",
    "x * y\n",
    "```\n",
    "wywołuje\n",
    "```python\n",
    "y.__rmul__(x)\n",
    "```"
   ]
  },
  {
   "cell_type": "markdown",
   "metadata": {
    "slideshow": {
     "slide_type": "slide"
    }
   },
   "source": [
    "## `Wektor` -- wersja 1.0\n",
    "\n",
    "Wszystko co teraz trzeba zrobi, to zamienić `__mul__()` na `__rmul__()`."
   ]
  },
  {
   "cell_type": "code",
   "execution_count": 10,
   "metadata": {
    "collapsed": true
   },
   "outputs": [],
   "source": [
    "class Wektor:\n",
    "    \n",
    "    def __init__(self, *wsp):\n",
    "        self.wsp = wsp\n",
    "    \n",
    "    def __repr__(self):\n",
    "        return 'Wektor({})'.format(', '.join(str(x) for x in self.wsp))\n",
    "    \n",
    "    def __add__(self, w):\n",
    "        if len(self.wsp) != len(w.wsp):\n",
    "            raise ValueError('Konflikt wymiarów.')\n",
    "        \n",
    "        wynik_wsp = tuple(x + y for x, y in zip(self.wsp, w.wsp))\n",
    "        return Wektor(*wynik_wsp)\n",
    "    \n",
    "    def __rmul__(self, skalar):\n",
    "        wynik_wsp = tuple(skalar * x for x in self.wsp)\n",
    "        return Wektor(*wynik_wsp)\n",
    "    \n",
    "    def __neg__(self):\n",
    "        return -1 * self\n",
    "    \n",
    "    def __sub__(self, w):\n",
    "        return self + -w"
   ]
  },
  {
   "cell_type": "markdown",
   "metadata": {
    "slideshow": {
     "slide_type": "subslide"
    }
   },
   "source": [
    "Zwróć uwagę, że teraz skalar **musi** być pierwszym czynnikiem iloczynu."
   ]
  },
  {
   "cell_type": "code",
   "execution_count": 175,
   "metadata": {},
   "outputs": [
    {
     "data": {
      "text/plain": [
       "Wektor(7.199999999999999, 18)"
      ]
     },
     "execution_count": 175,
     "metadata": {},
     "output_type": "execute_result"
    }
   ],
   "source": [
    "w = Wektor(2.4, 6)\n",
    "\n",
    "3 * w"
   ]
  },
  {
   "cell_type": "code",
   "execution_count": 176,
   "metadata": {},
   "outputs": [
    {
     "ename": "TypeError",
     "evalue": "unsupported operand type(s) for *: 'Wektor' and 'int'",
     "output_type": "error",
     "traceback": [
      "\u001b[0;31m---------------------------------------------------------------------------\u001b[0m",
      "\u001b[0;31mTypeError\u001b[0m                                 Traceback (most recent call last)",
      "\u001b[0;32m<ipython-input-176-d9ff2f10c866>\u001b[0m in \u001b[0;36m<module>\u001b[0;34m()\u001b[0m\n\u001b[0;32m----> 1\u001b[0;31m \u001b[0mw\u001b[0m \u001b[0;34m*\u001b[0m \u001b[0;36m3\u001b[0m\u001b[0;34m\u001b[0m\u001b[0m\n\u001b[0m",
      "\u001b[0;31mTypeError\u001b[0m: unsupported operand type(s) for *: 'Wektor' and 'int'"
     ]
    }
   ],
   "source": [
    "w * 3"
   ]
  },
  {
   "cell_type": "markdown",
   "metadata": {
    "slideshow": {
     "slide_type": "slide"
    }
   },
   "source": [
    "## Metody działające podobnie do `__rmul__()`\n",
    "\n",
    "* `__radd__(self, x)`\n",
    "* `__rsub__(self, x)`\n",
    "* `__rmul__(self, x)`\n",
    "* `__rmatmul__(self, x)`\n",
    "* `__rtruediv__(self, x)`\n",
    "* `__rfloordiv__(self, x)`\n",
    "* `__rmod__(self, x)¶`\n",
    "* `__rdivmod__(self, x)`\n",
    "* `__rpow__(self, x)`\n",
    "* `__rlshift__(self, x)`\n",
    "* `__rrshift__(self, x)`\n",
    "* `__rand__(self, x)`\n",
    "* `__rxor__(self, x)`\n",
    "* `__ror__(self, x)`"
   ]
  },
  {
   "cell_type": "markdown",
   "metadata": {
    "slideshow": {
     "slide_type": "slide"
    }
   },
   "source": [
    "## Przegląd metod specjalnych cz. 3\n",
    "## Porównywanie obiektów"
   ]
  },
  {
   "cell_type": "markdown",
   "metadata": {
    "slideshow": {
     "slide_type": "slide"
    }
   },
   "source": [
    "## `__eq__(self, y)`, `__ne__(self, y)`\n",
    "\n",
    "* Te metody wywoływane są przez operatory porównywania `==` i `!=`.\n",
    "* Jeśli nie zwracają bezpośrednio `True/False`, to na wartości zwracanej wywoływane jest `bool()`.\n",
    "* `__ne__()` wywołuje `__eq__()` i zwraca zaprzeczenie."
   ]
  },
  {
   "cell_type": "markdown",
   "metadata": {
    "slideshow": {
     "slide_type": "slide"
    }
   },
   "source": [
    "## `GodzinaZegarowa` -- wersja 3.0\n",
    "\n",
    "Dopisujemy możliwość porównywania, czy dwie godziny zegarowe mają tę samą wartość.\n",
    "\n",
    "Oto sposób użycia w testach."
   ]
  },
  {
   "cell_type": "code",
   "execution_count": 207,
   "metadata": {
    "collapsed": true
   },
   "outputs": [],
   "source": [
    "g = GodzinaZegarowa(h=12, m=30, s=17)\n",
    "g_prim = GodzinaZegarowa(h=12, m=30, s=17)\n",
    "\n",
    "assert g == g_prim\n",
    "\n",
    "okres = dict(m=100, s=200)\n",
    "\n",
    "g += okres\n",
    "\n",
    "assert g != g_prim\n",
    "\n",
    "g_prim += okres\n",
    "\n",
    "assert g == g_prim"
   ]
  },
  {
   "cell_type": "code",
   "execution_count": 206,
   "metadata": {
    "collapsed": true,
    "slideshow": {
     "slide_type": "subslide"
    }
   },
   "outputs": [],
   "source": [
    "class GodzinaZegarowa:\n",
    "    \n",
    "    def __init__(self, h=0, m=0, s=0):\n",
    "        if not (0 <= h < 24 and 0 <= m < 60 and 0 <= s < 60):\n",
    "            raise ValueError('Nieprawidłowy format godziny zegarowej.')\n",
    "        \n",
    "        self._gz = dict(h=h, m=m, s=s)\n",
    "        self.h, self.m, self.s = h, m, s\n",
    "    \n",
    "    def __repr__(self):\n",
    "        return 'GodzinaZegarowa(h={h}, m={m}, s={s})'.format(**self._gz)\n",
    "    \n",
    "    def __str__(self):\n",
    "        return '{h:0>2}:{m:0>2}:{s:0>2}'.format(**self._gz)\n",
    "    \n",
    "    def __add__(self, okres):\n",
    "        sekundy = na_sekundy(**self._gz) + na_sekundy(**okres)\n",
    "        return GodzinaZegarowa(**na_godzinę_zegarową(sekundy))\n",
    "    \n",
    "    def __sub__(self, okres):\n",
    "        sekundy = na_sekundy(**self._gz) - na_sekundy(**okres)\n",
    "        return GodzinaZegarowa(**na_godzinę_zegarową(sekundy))\n",
    "    \n",
    "    def __eq__(self, inna_godzina):\n",
    "        return self._gz == inna_godzina._gz"
   ]
  },
  {
   "cell_type": "markdown",
   "metadata": {
    "slideshow": {
     "slide_type": "slide"
    }
   },
   "source": [
    "## Metody porównujące\n",
    "\n",
    "* `__lt__(self, y)` -- `<`\n",
    "* `__le__(self, y)` -- `<=`\n",
    "* `__eq__(self, y)` -- `==`\n",
    "* `__ne__(self, y)` -- `!=`\n",
    "* `__gt__(self, y)` -- `>`\n",
    "* `__ge__(self, y)` -- `>=`"
   ]
  },
  {
   "cell_type": "markdown",
   "metadata": {
    "slideshow": {
     "slide_type": "slide"
    }
   },
   "source": [
    "## `GodzinaZegarowa` -- wersja 3.1\n",
    "\n",
    "Dopisujemy możliwość porównywania, która godzina jest wcześniejsza.\n",
    "\n",
    "Testy:"
   ]
  },
  {
   "cell_type": "code",
   "execution_count": 240,
   "metadata": {
    "collapsed": true
   },
   "outputs": [],
   "source": [
    "g = GodzinaZegarowa(h=12, m=30, s=17)\n",
    "g_prim = GodzinaZegarowa(h=12, m=30, s=17)\n",
    "\n",
    "assert g == g_prim\n",
    "\n",
    "okres = dict(s=1000)\n",
    "\n",
    "assert g - okres < g_prim\n",
    "assert g + okres > g_prim\n",
    "assert g - okres <= g_prim - okres\n",
    "assert g - okres == g_prim - okres\n",
    "assert g - okres >= g_prim - okres\n",
    "assert g + dict(s=24*3600 + 987) > g_prim"
   ]
  },
  {
   "cell_type": "code",
   "execution_count": 236,
   "metadata": {
    "collapsed": true,
    "slideshow": {
     "slide_type": "subslide"
    }
   },
   "outputs": [],
   "source": [
    "class GodzinaZegarowa:\n",
    "    \n",
    "    def __init__(self, h=0, m=0, s=0):\n",
    "        if not (0 <= h < 24 and 0 <= m < 60 and 0 <= s < 60):\n",
    "            raise ValueError('Nieprawidłowy format godziny zegarowej.')\n",
    "        \n",
    "        self._gz = dict(h=h, m=m, s=s)\n",
    "        self.h, self.m, self.s = h, m, s\n",
    "    \n",
    "    def __repr__(self):\n",
    "        return 'GodzinaZegarowa(h={h}, m={m}, s={s})'.format(**self._gz)\n",
    "    \n",
    "    def __str__(self):\n",
    "        return '{h:0>2}:{m:0>2}:{s:0>2}'.format(**self._gz)\n",
    "    \n",
    "    def __add__(self, okres):\n",
    "        sekundy = na_sekundy(**self._gz) + na_sekundy(**okres)\n",
    "        return GodzinaZegarowa(**na_godzinę_zegarową(sekundy))\n",
    "    \n",
    "    def __sub__(self, okres):\n",
    "        sekundy = na_sekundy(**self._gz) - na_sekundy(**okres)\n",
    "        return GodzinaZegarowa(**na_godzinę_zegarową(sekundy))\n",
    "    \n",
    "    def __eq__(self, inna_godzina):\n",
    "        return self._gz == inna_godzina._gz\n",
    "    \n",
    "    def __lt__(self, inna_godzina):\n",
    "        return na_sekundy(**self._gz) < na_sekundy(**inna_godzina._gz)\n",
    "    \n",
    "    def __le__(self, inna_godzina):\n",
    "        return na_sekundy(**self._gz) <= na_sekundy(**inna_godzina._gz)"
   ]
  },
  {
   "cell_type": "markdown",
   "metadata": {
    "slideshow": {
     "slide_type": "slide"
    }
   },
   "source": [
    "## `Wektor` -- wersja 2.0\n",
    "\n",
    "Dopisujemy możliwość porównywania, czy dwa wektory mają tę sama wartość.\n",
    "\n",
    "Testy"
   ]
  },
  {
   "cell_type": "code",
   "execution_count": 6,
   "metadata": {
    "collapsed": true
   },
   "outputs": [],
   "source": [
    "w = Wektor(3, 4)\n",
    "v = Wektor(6, 8)\n",
    "\n",
    "assert 2 * w == v\n",
    "\n",
    "z = Wektor(4, 3)\n",
    "\n",
    "assert z != w\n",
    "\n",
    "y = Wektor(3, 4, 5)\n",
    "\n",
    "assert w != y"
   ]
  },
  {
   "cell_type": "code",
   "execution_count": 4,
   "metadata": {
    "collapsed": true,
    "slideshow": {
     "slide_type": "subslide"
    }
   },
   "outputs": [],
   "source": [
    "class Wektor:\n",
    "    \n",
    "    def __init__(self, *wsp):\n",
    "        self.wsp = wsp\n",
    "    \n",
    "    def __repr__(self):\n",
    "        return 'Wektor({})'.format(', '.join(str(x) for x in self.wsp))\n",
    "    \n",
    "    def __add__(self, w):\n",
    "        if len(self.wsp) != len(w.wsp):\n",
    "            raise ValueError('Konflikt wymiarów.')\n",
    "        \n",
    "        wynik_wsp = tuple(x + y for x, y in zip(self.wsp, w.wsp))\n",
    "        return Wektor(*wynik_wsp)\n",
    "    \n",
    "    def __rmul__(self, skalar):\n",
    "        wynik_wsp = tuple(skalar * x for x in self.wsp)\n",
    "        return Wektor(*wynik_wsp)\n",
    "    \n",
    "    def __neg__(self):\n",
    "        return -1 * self\n",
    "    \n",
    "    def __sub__(self, w):\n",
    "        return self + -w\n",
    "    \n",
    "    def __eq__(self, w):\n",
    "        if len(self.wsp) != len(w.wsp):\n",
    "            return False\n",
    "        \n",
    "        return all(x == y for x, y in zip(self.wsp, w.wsp))"
   ]
  },
  {
   "cell_type": "markdown",
   "metadata": {
    "collapsed": true,
    "slideshow": {
     "slide_type": "slide"
    }
   },
   "source": [
    "## Oblicz rząd macierzy\n",
    "\n",
    "<br>\n",
    "```\n",
    " 2  8   3 -4\n",
    " 1  4   1 -2\n",
    " 5  20  0 -10\n",
    "-3 -12 -2  6\n",
    "```"
   ]
  },
  {
   "cell_type": "code",
   "execution_count": 9,
   "metadata": {
    "slideshow": {
     "slide_type": "subslide"
    }
   },
   "outputs": [
    {
     "name": "stdout",
     "output_type": "stream",
     "text": [
      "Wektor(2, 1, 5, -3)\n",
      "Wektor(8, 4, 20, -12)\n",
      "Wektor(3, 1, 0, -2)\n",
      "Wektor(-4, -2, -10, 6)\n"
     ]
    }
   ],
   "source": [
    "w1 = Wektor(2, 1, 5, -3)\n",
    "w2 = Wektor(8, 4, 20, -12)\n",
    "w3 = Wektor(3, 1, 0, -2)\n",
    "w4 = Wektor(-4, -2, -10, 6)\n",
    "\n",
    "print(w1, w2, w3, w4, sep='\\n')"
   ]
  },
  {
   "cell_type": "code",
   "execution_count": 10,
   "metadata": {
    "slideshow": {
     "slide_type": "subslide"
    }
   },
   "outputs": [
    {
     "name": "stdout",
     "output_type": "stream",
     "text": [
      "Wektor(2, 1, 5, -3)\n",
      "Wektor(0, 0, 0, 0)\n",
      "Wektor(0, -1/2, -15/2, 5/2)\n",
      "Wektor(0, 0, 0, 0)\n"
     ]
    }
   ],
   "source": [
    "from fractions import Fraction as F\n",
    "\n",
    "w1, w2, w3, w4 = w1, w2 - 4*w1, w3 - F(3, 2) * w1, w4 + 2*w1\n",
    "\n",
    "print(w1, w2, w3, w4, sep='\\n')"
   ]
  },
  {
   "cell_type": "code",
   "execution_count": 11,
   "metadata": {
    "slideshow": {
     "slide_type": "subslide"
    }
   },
   "outputs": [
    {
     "name": "stdout",
     "output_type": "stream",
     "text": [
      "Wektor(2, 1, 5, -3)\n",
      "Wektor(0, -1/2, -15/2, 5/2)\n",
      "Wektor(0, 0, 0, 0)\n",
      "Wektor(0, 0, 0, 0)\n"
     ]
    }
   ],
   "source": [
    "# Zmieniamy kolejność ustawiając postać trójkątną.\n",
    "\n",
    "w1, w2, w3, w4 = w1, w3, w2, w4\n",
    "\n",
    "print(w1, w2, w3, w4, sep='\\n')"
   ]
  },
  {
   "cell_type": "code",
   "execution_count": 12,
   "metadata": {
    "slideshow": {
     "slide_type": "subslide"
    }
   },
   "outputs": [
    {
     "name": "stdout",
     "output_type": "stream",
     "text": [
      "Wektor(2, 1, 5, -3)\n",
      "Wektor(0, -1/2, -15/2, 5/2)\n",
      "Wektor(0, 0, 0, 0)\n",
      "Wektor(0, 0, 0, 0)\n"
     ]
    }
   ],
   "source": [
    "# Mamy postać trójkątną. Rząd jest równy 2.\n",
    "\n",
    "print(w1, w2, w3, w4, sep='\\n')"
   ]
  }
 ],
 "metadata": {
  "anaconda-cloud": {},
  "celltoolbar": "Slideshow",
  "kernelspec": {
   "display_name": "Python [default]",
   "language": "python",
   "name": "python3"
  },
  "language_info": {
   "codemirror_mode": {
    "name": "ipython",
    "version": 3
   },
   "file_extension": ".py",
   "mimetype": "text/x-python",
   "name": "python",
   "nbconvert_exporter": "python",
   "pygments_lexer": "ipython3",
   "version": "3.5.4"
  }
 },
 "nbformat": 4,
 "nbformat_minor": 1
}
