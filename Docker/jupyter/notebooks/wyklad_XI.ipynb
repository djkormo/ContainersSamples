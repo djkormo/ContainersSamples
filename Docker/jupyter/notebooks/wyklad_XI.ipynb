{
 "cells": [
  {
   "cell_type": "markdown",
   "metadata": {
    "slideshow": {
     "slide_type": "slide"
    }
   },
   "source": [
    "# Podstawy programowania w analizie danych\n",
    "\n",
    "## Tomasz Rodak\n",
    "\n",
    "2017/2018, semestr letni\n",
    "\n",
    "Wykład XI"
   ]
  },
  {
   "cell_type": "markdown",
   "metadata": {
    "slideshow": {
     "slide_type": "slide"
    }
   },
   "source": [
    "# Przegląd funkcji generatora z biblioteki standardowej\n",
    "\n",
    "Na podstawie L. Ramahlo, *Fluent Python*, rozdz. 14"
   ]
  },
  {
   "cell_type": "markdown",
   "metadata": {
    "slideshow": {
     "slide_type": "slide"
    }
   },
   "source": [
    "Moduł | Funkcja | Opis\n",
    "--- | --- | ---\n",
    "`itertools` | `compress(it, selector_it)` | Zwraca element z `it`, gdy równoległy element z `selector_it` jest `True`\n",
    "`itertools` | `dropwhile(predicate, it)` | Pomija początkowe elementy `item` z `it`, dla których `predicate(item)` zwraca `True`. Resztę elementów zwraca bez względu na wartość `predicate`.\n",
    "wbudowana | `filter(predicate, it)` | Zwraca elementy `item` z `it`, dla których `predicate(item)` jest `True`.\n",
    "`itertools` | `islice(it, stop)` lub `islice(it, start, stop[, step])` | Produkuje wycinek `it[:stop]` lub `it[start:stop:step]`.\n",
    "`itertools` | `takewhile(predicate, it)` | Zwraca elementy `item` z `it` dopóki `predicate(item)` jest `True`.\n"
   ]
  },
  {
   "cell_type": "markdown",
   "metadata": {
    "slideshow": {
     "slide_type": "subslide"
    }
   },
   "source": [
    "### `compress(it, selector_it)`"
   ]
  },
  {
   "cell_type": "code",
   "execution_count": null,
   "metadata": {},
   "outputs": [],
   "source": [
    "from itertools import compress\n",
    "\n",
    "# reszty z dzielenia przez 2\n",
    "g = (k % 2 for k in range(10))\n",
    "\n",
    "list(compress(range(10), g))"
   ]
  },
  {
   "cell_type": "markdown",
   "metadata": {},
   "source": [
    "Długości `it` i `selector_it` mogą być różne; `compress()` produkuje wartości do wyczerpania pierwszego z nich."
   ]
  },
  {
   "cell_type": "markdown",
   "metadata": {
    "slideshow": {
     "slide_type": "subslide"
    }
   },
   "source": [
    "### `dropwhile(predicate, it)`"
   ]
  },
  {
   "cell_type": "code",
   "execution_count": 71,
   "metadata": {},
   "outputs": [
    {
     "data": {
      "text/plain": [
       "[0, 1, 2, 3, 4, 5, 6, 7, 8, 9, 9, 8, 7, 6, 5, 4, 3, 2, 1, 0]"
      ]
     },
     "execution_count": 71,
     "metadata": {},
     "output_type": "execute_result"
    }
   ],
   "source": [
    "from itertools import dropwhile\n",
    "\n",
    "lst = list(range(10)) + list(reversed(range(10)))\n",
    "lst"
   ]
  },
  {
   "cell_type": "code",
   "execution_count": null,
   "metadata": {},
   "outputs": [],
   "source": [
    "list(dropwhile(lambda x: x < 5, lst))"
   ]
  },
  {
   "cell_type": "markdown",
   "metadata": {
    "slideshow": {
     "slide_type": "subslide"
    }
   },
   "source": [
    "### `takewhile(predicate, it)`"
   ]
  },
  {
   "cell_type": "code",
   "execution_count": 72,
   "metadata": {},
   "outputs": [
    {
     "data": {
      "text/plain": [
       "[0, 1, 2, 3, 4, 5, 6, 7, 8, 9, 9, 8, 7, 6, 5, 4, 3, 2, 1, 0]"
      ]
     },
     "execution_count": 72,
     "metadata": {},
     "output_type": "execute_result"
    }
   ],
   "source": [
    "from itertools import takewhile\n",
    "\n",
    "lst = list(range(10)) + list(reversed(range(10)))\n",
    "lst"
   ]
  },
  {
   "cell_type": "code",
   "execution_count": null,
   "metadata": {},
   "outputs": [],
   "source": [
    "list(takewhile(lambda x: x < 5, lst))"
   ]
  },
  {
   "cell_type": "markdown",
   "metadata": {
    "slideshow": {
     "slide_type": "subslide"
    }
   },
   "source": [
    "### `islice(it, start)`, `islice(it, start, stop[, step])`"
   ]
  },
  {
   "cell_type": "code",
   "execution_count": null,
   "metadata": {},
   "outputs": [],
   "source": [
    "def kwadraty():\n",
    "    k = 1\n",
    "    while True:\n",
    "        yield k ** 2\n",
    "        k += 1"
   ]
  },
  {
   "cell_type": "code",
   "execution_count": null,
   "metadata": {},
   "outputs": [],
   "source": [
    "from itertools import islice\n",
    "\n",
    "kw = kwadraty()\n",
    "list(islice(kw, 10))"
   ]
  },
  {
   "cell_type": "code",
   "execution_count": null,
   "metadata": {},
   "outputs": [],
   "source": [
    "kw = kwadraty()\n",
    "list(islice(kw, 10, 20))"
   ]
  },
  {
   "cell_type": "markdown",
   "metadata": {
    "slideshow": {
     "slide_type": "slide"
    }
   },
   "source": [
    "Moduł | Funkcja | Opis\n",
    "--- | --- | ---\n",
    "`itertools` | `accumulate(it, [func])` | Produkuje sumy zakumulowane; jeśli podano `func`, produkuje wynik stosując `func` wobec pierwszej pary elementów, następnie względem pierwszego wyniku i następnego elementu itd.\n",
    "wbudowana | `enumerate(it, start=0)` | Numeruje elementy `item` z `it` zwracając krotki `(indeks, item)`.\n",
    "wbudowana | `map(func, it1, [it2, it3, ...])` | Stosuje `func` wobec każdego elementu `it1`. Jeśli podano N obiektów iterowalnych, to `func` musi przyjmować N argumentów; obiekty pobierane są równolegle."
   ]
  },
  {
   "cell_type": "markdown",
   "metadata": {
    "slideshow": {
     "slide_type": "subslide"
    }
   },
   "source": [
    "### `accumulate(it, [func])`"
   ]
  },
  {
   "cell_type": "code",
   "execution_count": null,
   "metadata": {},
   "outputs": [],
   "source": [
    "from itertools import accumulate\n",
    "\n",
    "list(accumulate([3, 1, 4, -5]))"
   ]
  },
  {
   "cell_type": "code",
   "execution_count": null,
   "metadata": {},
   "outputs": [],
   "source": [
    "list(accumulate([2, 1, 3, 5], lambda x, y: x * y))"
   ]
  },
  {
   "cell_type": "markdown",
   "metadata": {
    "slideshow": {
     "slide_type": "slide"
    }
   },
   "source": [
    "Moduł | Funkcja | Opis\n",
    "--- | --- | ---\n",
    "`itertools` | `chain(it1, it2, ...)` | Łączy `it1`, `it2`, ... w jeden ciąg.\n",
    "`itertools` | `chain.from_iterable(it)` | To samo co `chain()`, tyle że łączone obiekty iterowalne same pochodzą z obiektu iterowalnego `it`.\n",
    "`itertools` | `product(it1, ..., itN, repeat=1)` | Iloczyn kartezjański `it1`, ..., `itN` powtórzonych `repeat` razy.\n",
    "wbudowana | `zip(it1, it2, ...)` | Konsumuje równolegle obiekty, aż pierwszy zostanie wyczerpany.\n",
    "`itertools` | `zip_longest(it1, it2, ..., fill_value=None)` | Konsumuje równolegle obiekty, aż do wyczerpania ostatniego. W brakujące wartości wstawia `fill_value`."
   ]
  },
  {
   "cell_type": "markdown",
   "metadata": {
    "slideshow": {
     "slide_type": "subslide"
    }
   },
   "source": [
    "### `chain(it1, it2, ...)`"
   ]
  },
  {
   "cell_type": "code",
   "execution_count": null,
   "metadata": {},
   "outputs": [],
   "source": [
    "from itertools import chain\n",
    "\n",
    "list(chain([1, 2, 3], 'abc'))"
   ]
  },
  {
   "cell_type": "markdown",
   "metadata": {
    "slideshow": {
     "slide_type": "subslide"
    }
   },
   "source": [
    "### `chain.from_iterable(it)`\n",
    "\n",
    "**Zadanie.** Wypisujemy obok siebie bez odstępów kolejne liczby naturalne\n",
    "```\n",
    "12345678910111213141516...\n",
    "```\n",
    "Jaka cyfra znajduje się na miejscu tysięcznym?"
   ]
  },
  {
   "cell_type": "code",
   "execution_count": 73,
   "metadata": {
    "slideshow": {
     "slide_type": "subslide"
    }
   },
   "outputs": [],
   "source": [
    "def liczby_naturalne_str():\n",
    "    '''Zwraca generator z kolejnymi liczbami naturalnymi\n",
    "    w formie łańcuchów.'''\n",
    "    \n",
    "    c = 1\n",
    "    while True:\n",
    "        yield str(c)\n",
    "        c += 1"
   ]
  },
  {
   "cell_type": "markdown",
   "metadata": {
    "slideshow": {
     "slide_type": "fragment"
    }
   },
   "source": [
    "Tak wygląda 100 pierwszych cyfr."
   ]
  },
  {
   "cell_type": "code",
   "execution_count": 74,
   "metadata": {},
   "outputs": [
    {
     "data": {
      "text/plain": [
       "'1234567891011121314151617181920212223242526272829303132333435363738394041424344454647484950515253545'"
      ]
     },
     "execution_count": 74,
     "metadata": {},
     "output_type": "execute_result"
    }
   ],
   "source": [
    "cyfry = chain.from_iterable(liczby_naturalne_str())\n",
    "\n",
    "''.join(islice(cyfry, 100))"
   ]
  },
  {
   "cell_type": "markdown",
   "metadata": {
    "slideshow": {
     "slide_type": "subslide"
    }
   },
   "source": [
    "A tak uzyskamy rozwiązanie zadania."
   ]
  },
  {
   "cell_type": "code",
   "execution_count": 75,
   "metadata": {
    "slideshow": {
     "slide_type": "-"
    }
   },
   "outputs": [
    {
     "data": {
      "text/plain": [
       "'3'"
      ]
     },
     "execution_count": 75,
     "metadata": {},
     "output_type": "execute_result"
    }
   ],
   "source": [
    "cyfry = chain.from_iterable(liczby_naturalne_str())\n",
    "\n",
    "N = 1000\n",
    "\n",
    "for k in range(N - 1):\n",
    "    next(cyfry)\n",
    "\n",
    "next(cyfry)"
   ]
  },
  {
   "cell_type": "markdown",
   "metadata": {
    "slideshow": {
     "slide_type": "subslide"
    }
   },
   "source": [
    "### `product(it1, ..., itN, repeat=1)`"
   ]
  },
  {
   "cell_type": "code",
   "execution_count": 76,
   "metadata": {},
   "outputs": [
    {
     "data": {
      "text/plain": [
       "[(1, 'a'), (1, 'b'), (1, 'c'), (2, 'a'), (2, 'b'), (2, 'c')]"
      ]
     },
     "execution_count": 76,
     "metadata": {},
     "output_type": "execute_result"
    }
   ],
   "source": [
    "from itertools import product\n",
    "\n",
    "list(product([1, 2], 'abc'))"
   ]
  },
  {
   "cell_type": "code",
   "execution_count": 77,
   "metadata": {},
   "outputs": [
    {
     "data": {
      "text/plain": [
       "[('a', 'a'),\n",
       " ('a', 'b'),\n",
       " ('a', 'c'),\n",
       " ('b', 'a'),\n",
       " ('b', 'b'),\n",
       " ('b', 'c'),\n",
       " ('c', 'a'),\n",
       " ('c', 'b'),\n",
       " ('c', 'c')]"
      ]
     },
     "execution_count": 77,
     "metadata": {},
     "output_type": "execute_result"
    }
   ],
   "source": [
    "list(product('abc', repeat=2))"
   ]
  },
  {
   "cell_type": "markdown",
   "metadata": {
    "slideshow": {
     "slide_type": "slide"
    }
   },
   "source": [
    "Te funkcje pochodzą z `itertools`:\n",
    "\n",
    "Funkcja | Opis\n",
    "--- | ---\n",
    "`combinations(it, k)` | `k`-elementowe kombinacje bez powtórzeń z elementów `it`\n",
    "`combinations_with_replacement(it, k)` | `k`-elementowe kombinacje z powtórzeniami z elementów `it`\n",
    "`count(start=0, step=1)` | liczby od `start` co `step` bez końca\n",
    "`cycle(it)` | elementy z `it` powtarzane bez końca.\n",
    "`permutations(it, k=None)` | Permutacje `k`-elementowe z elementów `it`. Domyślnie `k` jest długością `it`.\n",
    "`repeat(item, [times])` | `item` jest powtarzany bez końca, ewentualnie `times` razy."
   ]
  },
  {
   "cell_type": "markdown",
   "metadata": {
    "slideshow": {
     "slide_type": "subslide"
    }
   },
   "source": [
    "### `combinations(it, k)`"
   ]
  },
  {
   "cell_type": "code",
   "execution_count": 78,
   "metadata": {},
   "outputs": [
    {
     "data": {
      "text/plain": [
       "[('a', 'b'), ('a', 'c'), ('a', 'd'), ('b', 'c'), ('b', 'd'), ('c', 'd')]"
      ]
     },
     "execution_count": 78,
     "metadata": {},
     "output_type": "execute_result"
    }
   ],
   "source": [
    "from itertools import combinations\n",
    "\n",
    "list(combinations('abcd', 2))"
   ]
  },
  {
   "cell_type": "code",
   "execution_count": 79,
   "metadata": {},
   "outputs": [
    {
     "data": {
      "text/plain": [
       "20"
      ]
     },
     "execution_count": 79,
     "metadata": {},
     "output_type": "execute_result"
    }
   ],
   "source": [
    "len(list(combinations('abcdef', 3)))"
   ]
  },
  {
   "cell_type": "code",
   "execution_count": 80,
   "metadata": {},
   "outputs": [
    {
     "data": {
      "text/plain": [
       "[('a', 'a'), ('a', 'b'), ('a', 'b')]"
      ]
     },
     "execution_count": 80,
     "metadata": {},
     "output_type": "execute_result"
    }
   ],
   "source": [
    "list(combinations('aab', 2))"
   ]
  },
  {
   "cell_type": "markdown",
   "metadata": {
    "slideshow": {
     "slide_type": "subslide"
    }
   },
   "source": [
    "### `combinations_with_replacement(it, k)`"
   ]
  },
  {
   "cell_type": "code",
   "execution_count": 81,
   "metadata": {},
   "outputs": [
    {
     "data": {
      "text/plain": [
       "[('a', 'a'),\n",
       " ('a', 'b'),\n",
       " ('a', 'c'),\n",
       " ('a', 'd'),\n",
       " ('b', 'b'),\n",
       " ('b', 'c'),\n",
       " ('b', 'd'),\n",
       " ('c', 'c'),\n",
       " ('c', 'd'),\n",
       " ('d', 'd')]"
      ]
     },
     "execution_count": 81,
     "metadata": {},
     "output_type": "execute_result"
    }
   ],
   "source": [
    "from itertools import combinations_with_replacement\n",
    "\n",
    "list(combinations_with_replacement('abcd', 2))"
   ]
  },
  {
   "cell_type": "markdown",
   "metadata": {
    "slideshow": {
     "slide_type": "subslide"
    }
   },
   "source": [
    "### `count(start=0, step=1)`"
   ]
  },
  {
   "cell_type": "code",
   "execution_count": 82,
   "metadata": {},
   "outputs": [
    {
     "data": {
      "text/plain": [
       "[0, 1, 2, 3, 4, 5, 6, 7, 8, 9]"
      ]
     },
     "execution_count": 82,
     "metadata": {},
     "output_type": "execute_result"
    }
   ],
   "source": [
    "from itertools import count, islice\n",
    "\n",
    "list(islice(count(), 10))"
   ]
  },
  {
   "cell_type": "code",
   "execution_count": 83,
   "metadata": {},
   "outputs": [
    {
     "data": {
      "text/plain": [
       "[-10, -8, -6, -4, -2, 0, 2, 4, 6, 8, 10]"
      ]
     },
     "execution_count": 83,
     "metadata": {},
     "output_type": "execute_result"
    }
   ],
   "source": [
    "list(islice(count(start=-10, step=2), 11))"
   ]
  },
  {
   "cell_type": "markdown",
   "metadata": {
    "slideshow": {
     "slide_type": "subslide"
    }
   },
   "source": [
    "### `cycle(it)`"
   ]
  },
  {
   "cell_type": "code",
   "execution_count": null,
   "metadata": {},
   "outputs": [],
   "source": [
    "from itertools import cycle, islice\n",
    "\n",
    "''.join(islice(cycle('cycle'), 22))"
   ]
  },
  {
   "cell_type": "markdown",
   "metadata": {
    "slideshow": {
     "slide_type": "subslide"
    }
   },
   "source": [
    "### `permutations(it, k=None)`"
   ]
  },
  {
   "cell_type": "code",
   "execution_count": 85,
   "metadata": {},
   "outputs": [
    {
     "data": {
      "text/plain": [
       "[('a', 'b', 'c'),\n",
       " ('a', 'c', 'b'),\n",
       " ('b', 'a', 'c'),\n",
       " ('b', 'c', 'a'),\n",
       " ('c', 'a', 'b'),\n",
       " ('c', 'b', 'a')]"
      ]
     },
     "execution_count": 85,
     "metadata": {},
     "output_type": "execute_result"
    }
   ],
   "source": [
    "from itertools import permutations\n",
    "\n",
    "list(permutations('abc'))"
   ]
  },
  {
   "cell_type": "code",
   "execution_count": 86,
   "metadata": {},
   "outputs": [
    {
     "data": {
      "text/plain": [
       "[('a', 'b'), ('a', 'c'), ('b', 'a'), ('b', 'c'), ('c', 'a'), ('c', 'b')]"
      ]
     },
     "execution_count": 86,
     "metadata": {},
     "output_type": "execute_result"
    }
   ],
   "source": [
    "list(permutations('abc', 2))"
   ]
  },
  {
   "cell_type": "markdown",
   "metadata": {
    "slideshow": {
     "slide_type": "slide"
    }
   },
   "source": [
    "Funkcje wbudowane:\n",
    "\n",
    "Funkcja | Opis\n",
    "--- | ---\n",
    "`reversed(seq)` | Zwraca elementy w odwrotnej kolejności. `seq` musi być sekwencją lub implementować `__reversed__()`.\n",
    "`sorted(it [,key=][,reverse=])` | Zwraca posortowaną listę elementów `it`. Jeśli występuje `key=func`, to `func` jest funkcją wywoływaną na elementach `it`; zwrócone wartości stanowią klucz sortowania. `reverse=True` oznacza porządek malejący."
   ]
  },
  {
   "cell_type": "markdown",
   "metadata": {
    "slideshow": {
     "slide_type": "slide"
    }
   },
   "source": [
    "Funkcje wbudowane:\n",
    "\n",
    "Funkcja | Opis\n",
    "--- | ---\n",
    "`all(it)` | Zwraca `True`, gdy wszystkie elementy są wyliczane na `True`.\n",
    "`any(it)` | Zwraca `True`, gdy pewien element jest wyliczany na `True`.\n",
    "`max(it, [key=])` | Zwraca wartość maksymalną, `key` jest funkcją porządkującą,\n",
    "`min(it, [key=])` | Zwraca wartość minimalną, `key` jest funkcją porządkującą,\n",
    "`sum(it, start=0)` | Suma elementów z `it` z opcjonalną wartością `start`."
   ]
  },
  {
   "cell_type": "markdown",
   "metadata": {
    "slideshow": {
     "slide_type": "slide"
    }
   },
   "source": [
    "## `reduce(func, it, [initial])` z modułu `functools`\n",
    "\n",
    "Zwraca wynik zastosowania `func` wobec pierwszej pary elementów, następnie wobec tego wyniku i trzeciego elementu itd.; jeśli podana jest wartość `initial`, to tworzy ona początkową parę z pierwszym elementem."
   ]
  },
  {
   "cell_type": "code",
   "execution_count": null,
   "metadata": {},
   "outputs": [],
   "source": [
    "from functools import reduce\n",
    "\n",
    "reduce(lambda x, y: x + y, [1, 2, 3, 4])"
   ]
  },
  {
   "cell_type": "code",
   "execution_count": null,
   "metadata": {},
   "outputs": [],
   "source": [
    "reduce(lambda x, y: x * y, [1, 2, 3, 4])"
   ]
  },
  {
   "cell_type": "markdown",
   "metadata": {
    "slideshow": {
     "slide_type": "slide"
    }
   },
   "source": [
    "## Przykład\n",
    "\n",
    "Zadanie z Kangura 2017, kl II szkoły podstawowej :-)\n",
    "\n",
    "Za każdą literę **A B C D E** wstawiamy liczbę o cztery większą, lub dwa razy większą niż poprzednia. Jeżeli A=1, to która z liczb nigdy nie będzie równa E?\n",
    "\n",
    "A) 16 B) 17 C) 22 D) 30 E) 36"
   ]
  },
  {
   "cell_type": "code",
   "execution_count": 88,
   "metadata": {
    "slideshow": {
     "slide_type": "subslide"
    }
   },
   "outputs": [
    {
     "data": {
      "text/plain": [
       "{12, 14, 16, 17, 18, 20, 22, 24, 26, 28, 36, 40}"
      ]
     },
     "execution_count": 88,
     "metadata": {},
     "output_type": "execute_result"
    }
   ],
   "source": [
    "from itertools import product\n",
    "from functools import reduce\n",
    "\n",
    "FUNKCJE = [lambda x: x + 4, lambda x: 2 * x]\n",
    "LICZBA_LITER = 5\n",
    "A = 1\n",
    "\n",
    "wartości_końcowe = set()\n",
    "\n",
    "for f_iter in product(funkcje, repeat=LICZBA_LITER - 1):\n",
    "    wartości_końcowe.add(reduce(lambda x, f: f(x), f_iter, A))\n",
    "    \n",
    "wartości_końcowe"
   ]
  },
  {
   "cell_type": "markdown",
   "metadata": {
    "slideshow": {
     "slide_type": "slide"
    }
   },
   "source": [
    "## CalculatorTheGame\n",
    "\n",
    "**Zadanie.** Napisz program znajdujący rozwiązania w grze [CalculatorTheGame.](https://play.google.com/store/apps/details?id=com.sm.calculateme&hl=pl)\n",
    "\n",
    "Każdy etap to plansza kalkulatora z przyciskami, wartością startową, dopuszczalną liczbą ruchów i wartością, którą należy uzyskać. Każdy przycisk jest jednoargumentową funkcją zmieniającą wartość w okienku kalkulatora.\n",
    "\n",
    "Przykładowy etap: \n",
    "\n",
    "* wartość początkowa = `36`,\n",
    "* cel = `20`,\n",
    "* liczba ruchów = `5`\n",
    "* przyciski:\n",
    "  * `+ 3`\n",
    "  * `/ 3`\n",
    "  * `1 => 2`, czyli zamień jedynki na dwójki."
   ]
  },
  {
   "cell_type": "markdown",
   "metadata": {
    "slideshow": {
     "slide_type": "subslide"
    }
   },
   "source": [
    "Szkic rozwiązania na przykładzie podanego etapu.\n",
    "\n",
    "Zaczynamy od zdefiniowania funkcji pod przyciskami."
   ]
  },
  {
   "cell_type": "code",
   "execution_count": null,
   "metadata": {
    "slideshow": {
     "slide_type": "-"
    }
   },
   "outputs": [],
   "source": [
    "def plus_trzy(n):\n",
    "    return n + 3\n",
    "\n",
    "def przez_trzy(n):\n",
    "    if n % 3:\n",
    "        raise Exception\n",
    "\n",
    "    return n // 3\n",
    "\n",
    "def jeden_w_dwa(n):\n",
    "    return int(str(n).replace('1', '2'))"
   ]
  },
  {
   "cell_type": "markdown",
   "metadata": {
    "slideshow": {
     "slide_type": "subslide"
    }
   },
   "source": [
    "Piszemy funkcję `oblicz(start, funkcje)`. Funkcja zwraca wartość uzyskaną z wartości `start` po naciśnięciu sekwencji przycisków."
   ]
  },
  {
   "cell_type": "code",
   "execution_count": null,
   "metadata": {
    "slideshow": {
     "slide_type": "-"
    }
   },
   "outputs": [],
   "source": [
    "def oblicz(start, funkcje):\n",
    "    return reduce(lambda x, f: f(x), funkcje, start)"
   ]
  },
  {
   "cell_type": "markdown",
   "metadata": {
    "slideshow": {
     "slide_type": "subslide"
    }
   },
   "source": [
    "Definiujemy dane dla naszego etapu."
   ]
  },
  {
   "cell_type": "code",
   "execution_count": 117,
   "metadata": {
    "slideshow": {
     "slide_type": "-"
    }
   },
   "outputs": [],
   "source": [
    "PRZYCISKI = {'+3': plus_trzy,\n",
    "             '/3': przez_trzy,\n",
    "             '1=>2': jeden_w_dwa}\n",
    "\n",
    "LICZBA_RUCHÓW = 5\n",
    "START = 36\n",
    "CEL = 20"
   ]
  },
  {
   "cell_type": "markdown",
   "metadata": {
    "slideshow": {
     "slide_type": "subslide"
    }
   },
   "source": [
    "Znajdujemy rozwiązanie."
   ]
  },
  {
   "cell_type": "code",
   "execution_count": 118,
   "metadata": {
    "slideshow": {
     "slide_type": "-"
    }
   },
   "outputs": [
    {
     "name": "stdout",
     "output_type": "stream",
     "text": [
      "('/3', '/3', '+3', '+3', '1=>2')\n",
      "('+3', '+3', '/3', '+3', '+3')\n"
     ]
    }
   ],
   "source": [
    "for przyciski in product(PRZYCISKI, repeat=LICZBA_RUCHÓW):\n",
    "    funkcje = [PRZYCISKI[przycisk] for przycisk in przyciski]\n",
    "    try:\n",
    "        wynik = oblicz(START, funkcje)\n",
    "    except Exception:\n",
    "        continue\n",
    "    else:\n",
    "        if wynik == CEL:\n",
    "            print(przyciski)"
   ]
  },
  {
   "cell_type": "markdown",
   "metadata": {
    "slideshow": {
     "slide_type": "slide"
    }
   },
   "source": [
    "## Kolorowanie kwadratów\n",
    "\n",
    "Kolejne zadanie z Kangura -- poziom Junior, 2000 r.\n",
    "\n",
    "**Zadanie.** Z dziewięciu jednakowych kwadratów tworzymy jeden o wymiarach `3x3`. Każdy z dziewięciu kwadratów kolorujemy jedną z trzech barw. Na ile różnych sposobów można to zrobić, aby w każdym wierszu i w każdej kolumnie występowały wszystkie trzy kolory?\n",
    "```\n",
    "A) 4  B) 6  C) 8  D) 10  E) 12\n",
    "```"
   ]
  },
  {
   "cell_type": "markdown",
   "metadata": {
    "slideshow": {
     "slide_type": "subslide"
    }
   },
   "source": [
    "Definiujemy kolory. Piszemy funkcję sprawdzającą poprawność kolorowania."
   ]
  },
  {
   "cell_type": "code",
   "execution_count": 137,
   "metadata": {},
   "outputs": [],
   "source": [
    "KOLORY = 'abc'\n",
    "\n",
    "def kolorowanie_jest_poprawne(kwadrat):\n",
    "    for w in kwadrat:\n",
    "        if set(w) != set(KOLORY):\n",
    "            return False\n",
    "        \n",
    "    for w in zip(*kwadrat):\n",
    "        if set(w) != set(KOLORY):\n",
    "            return False\n",
    "    \n",
    "    return True"
   ]
  },
  {
   "cell_type": "markdown",
   "metadata": {
    "slideshow": {
     "slide_type": "subslide"
    }
   },
   "source": [
    "Sprawdzamy wszystkie te kolorowania, których wiersze są permutacjami kolorów."
   ]
  },
  {
   "cell_type": "code",
   "execution_count": 138,
   "metadata": {},
   "outputs": [],
   "source": [
    "kwadraty = set()\n",
    "\n",
    "for w1, w2, w3 in product(permutations(KOLORY), repeat=3):\n",
    "    kwadrat = (w1, w2, w3)\n",
    "    if kolorowanie_jest_poprawne(kwadrat):\n",
    "        kwadraty.add(kwadrat)"
   ]
  },
  {
   "cell_type": "code",
   "execution_count": 145,
   "metadata": {},
   "outputs": [
    {
     "data": {
      "text/plain": [
       "12"
      ]
     },
     "execution_count": 145,
     "metadata": {},
     "output_type": "execute_result"
    }
   ],
   "source": [
    "len(kwadraty)"
   ]
  }
 ],
 "metadata": {
  "anaconda-cloud": {},
  "celltoolbar": "Slideshow",
  "kernelspec": {
   "display_name": "Python [default]",
   "language": "python",
   "name": "python3"
  },
  "language_info": {
   "codemirror_mode": {
    "name": "ipython",
    "version": 3
   },
   "file_extension": ".py",
   "mimetype": "text/x-python",
   "name": "python",
   "nbconvert_exporter": "python",
   "pygments_lexer": "ipython3",
   "version": "3.5.4"
  }
 },
 "nbformat": 4,
 "nbformat_minor": 1
}
