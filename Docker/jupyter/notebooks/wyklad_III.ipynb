{
 "cells": [
  {
   "cell_type": "markdown",
   "metadata": {
    "slideshow": {
     "slide_type": "slide"
    }
   },
   "source": [
    "# Podstawy programowania w analizie danych\n",
    "\n",
    "## Tomasz Rodak\n",
    "\n",
    "2017/2018, semestr letni\n",
    "\n",
    "Wykład III"
   ]
  },
  {
   "cell_type": "markdown",
   "metadata": {
    "slideshow": {
     "slide_type": "slide"
    }
   },
   "source": [
    "# Wypakowywanie obiektów iterowalnych"
   ]
  },
  {
   "cell_type": "markdown",
   "metadata": {
    "slideshow": {
     "slide_type": "slide"
    }
   },
   "source": [
    "## Przypisania wielokrotne\n",
    "\n",
    "Przypisanie do elementów obiektu iterowalnego można wykonać w jednej linii."
   ]
  },
  {
   "cell_type": "code",
   "execution_count": 1,
   "metadata": {},
   "outputs": [
    {
     "data": {
      "text/plain": [
       "(0, 1, 2)"
      ]
     },
     "execution_count": 1,
     "metadata": {},
     "output_type": "execute_result"
    }
   ],
   "source": [
    "it = range(3)\n",
    "a, b, c = it\n",
    "a, b, c"
   ]
  },
  {
   "cell_type": "markdown",
   "metadata": {
    "slideshow": {
     "slide_type": "slide"
    }
   },
   "source": [
    "Liczba obiektów i zmiennych musi się zgadzać."
   ]
  },
  {
   "cell_type": "code",
   "execution_count": 2,
   "metadata": {},
   "outputs": [
    {
     "ename": "ValueError",
     "evalue": "too many values to unpack (expected 3)",
     "output_type": "error",
     "traceback": [
      "\u001b[0;31m---------------------------------------------------------------------------\u001b[0m",
      "\u001b[0;31mValueError\u001b[0m                                Traceback (most recent call last)",
      "\u001b[0;32m<ipython-input-2-8a8a1f612cbf>\u001b[0m in \u001b[0;36m<module>\u001b[0;34m()\u001b[0m\n\u001b[0;32m----> 1\u001b[0;31m \u001b[0ma\u001b[0m\u001b[0;34m,\u001b[0m \u001b[0mb\u001b[0m\u001b[0;34m,\u001b[0m \u001b[0mc\u001b[0m \u001b[0;34m=\u001b[0m \u001b[0mrange\u001b[0m\u001b[0;34m(\u001b[0m\u001b[0;36m4\u001b[0m\u001b[0;34m)\u001b[0m\u001b[0;34m\u001b[0m\u001b[0m\n\u001b[0m",
      "\u001b[0;31mValueError\u001b[0m: too many values to unpack (expected 3)"
     ]
    }
   ],
   "source": [
    "a, b, c = range(4)"
   ]
  },
  {
   "cell_type": "code",
   "execution_count": 3,
   "metadata": {},
   "outputs": [
    {
     "ename": "ValueError",
     "evalue": "not enough values to unpack (expected 3, got 2)",
     "output_type": "error",
     "traceback": [
      "\u001b[0;31m---------------------------------------------------------------------------\u001b[0m",
      "\u001b[0;31mValueError\u001b[0m                                Traceback (most recent call last)",
      "\u001b[0;32m<ipython-input-3-eb065b282ce3>\u001b[0m in \u001b[0;36m<module>\u001b[0;34m()\u001b[0m\n\u001b[0;32m----> 1\u001b[0;31m \u001b[0ma\u001b[0m\u001b[0;34m,\u001b[0m \u001b[0mb\u001b[0m\u001b[0;34m,\u001b[0m \u001b[0mc\u001b[0m \u001b[0;34m=\u001b[0m \u001b[0mrange\u001b[0m\u001b[0;34m(\u001b[0m\u001b[0;36m2\u001b[0m\u001b[0;34m)\u001b[0m\u001b[0;34m\u001b[0m\u001b[0m\n\u001b[0m",
      "\u001b[0;31mValueError\u001b[0m: not enough values to unpack (expected 3, got 2)"
     ]
    }
   ],
   "source": [
    "a, b, c = range(2)"
   ]
  },
  {
   "cell_type": "markdown",
   "metadata": {
    "slideshow": {
     "slide_type": "slide"
    }
   },
   "source": [
    "Wyrażenia po prawej stronie wyliczane są najpierw, dopiero potem wykonane zostają przypisania."
   ]
  },
  {
   "cell_type": "code",
   "execution_count": 4,
   "metadata": {},
   "outputs": [
    {
     "data": {
      "text/plain": [
       "(0, 1)"
      ]
     },
     "execution_count": 4,
     "metadata": {},
     "output_type": "execute_result"
    }
   ],
   "source": [
    "a, b = 0, 1\n",
    "a, b"
   ]
  },
  {
   "cell_type": "code",
   "execution_count": 5,
   "metadata": {},
   "outputs": [
    {
     "data": {
      "text/plain": [
       "(1, 0)"
      ]
     },
     "execution_count": 5,
     "metadata": {},
     "output_type": "execute_result"
    }
   ],
   "source": [
    "a, b = b, a\n",
    "a, b"
   ]
  },
  {
   "cell_type": "markdown",
   "metadata": {
    "slideshow": {
     "slide_type": "slide"
    }
   },
   "source": [
    "### Ciąg Fibonacciego\n",
    "\n",
    "Przypomnijmy definicję: dwa pierwsze wyrazy to `0` i `1`; każdy kolejny jest sumą dwóch poprzednich.\n",
    "\n",
    "Tak wygląda początek:\n",
    "```\n",
    "0, 1, 1, 2, 3, 5, 8, 13, 21, 34, ...\n",
    "```\n",
    "\n",
    "Oto implementacja iteracyjna korzystająca z przypisania wielokrotnego:"
   ]
  },
  {
   "cell_type": "code",
   "execution_count": 6,
   "metadata": {
    "collapsed": true
   },
   "outputs": [],
   "source": [
    "def fib(n):\n",
    "    k = 0\n",
    "    a, b = 0, 1\n",
    "    while k < n:\n",
    "        a, b = b, a + b\n",
    "        k += 1\n",
    "    return a"
   ]
  },
  {
   "cell_type": "code",
   "execution_count": 7,
   "metadata": {},
   "outputs": [
    {
     "data": {
      "text/plain": [
       "[0, 1, 1, 2, 3, 5, 8, 13, 21, 34]"
      ]
     },
     "execution_count": 7,
     "metadata": {},
     "output_type": "execute_result"
    }
   ],
   "source": [
    "[fib(n) for n in range(10)]"
   ]
  },
  {
   "cell_type": "markdown",
   "metadata": {
    "slideshow": {
     "slide_type": "slide"
    }
   },
   "source": [
    "Rozpakowywanie obiektów zagnieżdżonych."
   ]
  },
  {
   "cell_type": "code",
   "execution_count": 8,
   "metadata": {},
   "outputs": [
    {
     "data": {
      "text/plain": [
       "('Łódź', 51.776667, 19.454722)"
      ]
     },
     "execution_count": 8,
     "metadata": {},
     "output_type": "execute_result"
    }
   ],
   "source": [
    "miasto, (lat, lon) = 'Łódź', (51.776667, 19.454722)\n",
    "\n",
    "miasto, lat, lon"
   ]
  },
  {
   "cell_type": "code",
   "execution_count": 9,
   "metadata": {},
   "outputs": [
    {
     "data": {
      "text/plain": [
       "('Łódź', 0, 1)"
      ]
     },
     "execution_count": 9,
     "metadata": {},
     "output_type": "execute_result"
    }
   ],
   "source": [
    "miasto, (lat, lon) = 'Łódź', range(2)\n",
    "\n",
    "miasto, lat, lon"
   ]
  },
  {
   "cell_type": "markdown",
   "metadata": {
    "slideshow": {
     "slide_type": "slide"
    }
   },
   "source": [
    "Rozpakowywanie z jednoczesną iteracją. Częsta sytuacja."
   ]
  },
  {
   "cell_type": "code",
   "execution_count": 10,
   "metadata": {},
   "outputs": [
    {
     "name": "stdout",
     "output_type": "stream",
     "text": [
      "Łódź           :  51.776667,  19.454722\n",
      "Paryż          :  48.866667,       2.35\n",
      "Rio de Janeiro : -22.908333, -43.196389\n"
     ]
    }
   ],
   "source": [
    "położenia_miast = [('Łódź', (51.776667, 19.454722)),\n",
    "                   ('Paryż', (48.866667, 2.35)),\n",
    "                   ('Rio de Janeiro', (-22.908333, -43.196389))]\n",
    "\n",
    "\n",
    "for miasto, (lat, lon) in położenia_miast:\n",
    "    print('{:15}: {:10}, {:10}'.format(miasto, lat, lon))"
   ]
  },
  {
   "cell_type": "markdown",
   "metadata": {
    "slideshow": {
     "slide_type": "slide"
    }
   },
   "source": [
    "Zmienne w przypisaniu wielokrotnym mogą się powtarzać. Możliwość ta jest czasem wykorzystywana do pomijania niechcianych wartości."
   ]
  },
  {
   "cell_type": "code",
   "execution_count": 11,
   "metadata": {},
   "outputs": [
    {
     "data": {
      "text/plain": [
       "(2314.23, -20.73)"
      ]
     },
     "execution_count": 11,
     "metadata": {},
     "output_type": "execute_result"
    }
   ],
   "source": [
    "ignoruj, kurs, zmiana, ignoruj = ['WIG20', 2314.23, -20.73, (2018, 3, 2)]\n",
    "\n",
    "kurs, zmiana"
   ]
  },
  {
   "cell_type": "markdown",
   "metadata": {},
   "source": [
    "Częściej jako ignorowanej zmiennej używa się podkreślnika (który jest zwykłą nazwą)."
   ]
  },
  {
   "cell_type": "code",
   "execution_count": 12,
   "metadata": {},
   "outputs": [
    {
     "data": {
      "text/plain": [
       "(2314.23, -20.73)"
      ]
     },
     "execution_count": 12,
     "metadata": {},
     "output_type": "execute_result"
    }
   ],
   "source": [
    "_, kurs, zmiana, _ = ['WIG20', 2314.23, -20.73, (2018, 3, 2)]\n",
    "\n",
    "kurs, zmiana"
   ]
  },
  {
   "cell_type": "markdown",
   "metadata": {
    "slideshow": {
     "slide_type": "slide"
    }
   },
   "source": [
    "### Użycie `*` do zagarnięcia nadmiarowych elementów\n",
    "\n",
    "Użycie zmiennej z modyfikatorem `*` w przypisaniu wielokrotnym tworzy krotkę z fragmentem obiektu iterowalnego."
   ]
  },
  {
   "cell_type": "code",
   "execution_count": 13,
   "metadata": {},
   "outputs": [
    {
     "data": {
      "text/plain": [
       "('Kowalski', 'kowal@adres.com', ['111 222 333', '222 999 888'])"
      ]
     },
     "execution_count": 13,
     "metadata": {},
     "output_type": "execute_result"
    }
   ],
   "source": [
    "nazwisko, email, *telefony = ['Kowalski', 'kowal@adres.com', '111 222 333', '222 999 888']\n",
    "\n",
    "nazwisko, email, telefony"
   ]
  },
  {
   "cell_type": "code",
   "execution_count": 14,
   "metadata": {},
   "outputs": [
    {
     "data": {
      "text/plain": [
       "[2, 3, 4, 5]"
      ]
     },
     "execution_count": 14,
     "metadata": {},
     "output_type": "execute_result"
    }
   ],
   "source": [
    "_, *środek, _ = [1, 2, 3, 4, 5, 6]\n",
    "\n",
    "środek"
   ]
  },
  {
   "cell_type": "code",
   "execution_count": 15,
   "metadata": {},
   "outputs": [
    {
     "data": {
      "text/plain": [
       "[3, 4, 5]"
      ]
     },
     "execution_count": 15,
     "metadata": {},
     "output_type": "execute_result"
    }
   ],
   "source": [
    "_, _, *kawałek, _ = [1, 2, 3, 4, 5, 6]\n",
    "\n",
    "kawałek"
   ]
  },
  {
   "cell_type": "markdown",
   "metadata": {
    "slideshow": {
     "slide_type": "slide"
    }
   },
   "source": [
    "### Zagadka\n",
    "\n",
    "Co robi funkcja `f()`?"
   ]
  },
  {
   "cell_type": "code",
   "execution_count": 16,
   "metadata": {
    "collapsed": true
   },
   "outputs": [],
   "source": [
    "def f(it):\n",
    "    a, *reszta = it\n",
    "    if reszta:\n",
    "        return a + f(reszta)\n",
    "    return a"
   ]
  },
  {
   "cell_type": "markdown",
   "metadata": {
    "slideshow": {
     "slide_type": "fragment"
    }
   },
   "source": [
    "Oblicza (rekurencyjnie) sumę."
   ]
  },
  {
   "cell_type": "code",
   "execution_count": 17,
   "metadata": {
    "slideshow": {
     "slide_type": "-"
    }
   },
   "outputs": [
    {
     "data": {
      "text/plain": [
       "6"
      ]
     },
     "execution_count": 17,
     "metadata": {},
     "output_type": "execute_result"
    }
   ],
   "source": [
    "f([1, 2, 3])"
   ]
  },
  {
   "cell_type": "markdown",
   "metadata": {
    "slideshow": {
     "slide_type": "slide"
    }
   },
   "source": [
    "### Wypakowywanie do argumentów funkcji\n",
    "\n",
    "Używając `*` można przypisać elementy obiektu iterowalnego parametrom funkcji."
   ]
  },
  {
   "cell_type": "code",
   "execution_count": 18,
   "metadata": {},
   "outputs": [
    {
     "name": "stdout",
     "output_type": "stream",
     "text": [
      "Monty Python and the Holy Grail\n"
     ]
    }
   ],
   "source": [
    "słowa = ['and', 'the', 'Holy', 'Grail']\n",
    "\n",
    "print('Monty Python', *słowa)"
   ]
  },
  {
   "cell_type": "code",
   "execution_count": 19,
   "metadata": {},
   "outputs": [
    {
     "name": "stdout",
     "output_type": "stream",
     "text": [
      "Wylosowałem 3, 6 i 2.\n"
     ]
    }
   ],
   "source": [
    "from random import randint\n",
    "\n",
    "rzuty = [randint(1, 6) for _ in range(3)]\n",
    "\n",
    "print('Wylosowałem {}, {} i {}.'.format(*rzuty))"
   ]
  },
  {
   "cell_type": "markdown",
   "metadata": {
    "slideshow": {
     "slide_type": "slide"
    }
   },
   "source": [
    "### Wypakowanie słownika\n",
    "\n",
    "Piszemy funkcję, która tworzy raport (łańcuch) dla spółki giełdowej z danych: nazwa spółki, kurs, data."
   ]
  },
  {
   "cell_type": "code",
   "execution_count": 20,
   "metadata": {
    "collapsed": true
   },
   "outputs": [],
   "source": [
    "import datetime\n",
    "\n",
    "def raportuj_spółkę(nazwa, kurs, data):\n",
    "    data = datetime.date(*data)\n",
    "    return 'Nazwa: {}, kurs: {}, dnia: {}'.format(nazwa, kurs, data)"
   ]
  },
  {
   "cell_type": "code",
   "execution_count": 21,
   "metadata": {},
   "outputs": [
    {
     "data": {
      "text/plain": [
       "'Nazwa: WIG20, kurs: 2314.23, dnia: 2018-03-02'"
      ]
     },
     "execution_count": 21,
     "metadata": {},
     "output_type": "execute_result"
    }
   ],
   "source": [
    "raportuj_spółkę('WIG20', 2314.23, (2018, 3, 2))"
   ]
  },
  {
   "cell_type": "markdown",
   "metadata": {
    "slideshow": {
     "slide_type": "fragment"
    }
   },
   "source": [
    "Znamy nazwy parametrów, możemy więc wypakować do nich słownik."
   ]
  },
  {
   "cell_type": "code",
   "execution_count": 22,
   "metadata": {},
   "outputs": [
    {
     "data": {
      "text/plain": [
       "'Nazwa: WIG20, kurs: 2314.23, dnia: 2018-03-02'"
      ]
     },
     "execution_count": 22,
     "metadata": {},
     "output_type": "execute_result"
    }
   ],
   "source": [
    "spółka = {'nazwa': 'WIG20', 'kurs': 2314.23, 'data': (2018, 3, 2)}\n",
    "\n",
    "raportuj_spółkę(**spółka)"
   ]
  },
  {
   "cell_type": "markdown",
   "metadata": {
    "slideshow": {
     "slide_type": "slide"
    }
   },
   "source": [
    "# Parametry i argumenty"
   ]
  },
  {
   "cell_type": "markdown",
   "metadata": {
    "slideshow": {
     "slide_type": "slide"
    }
   },
   "source": [
    "## Parametry\n",
    "\n",
    "* **Parametry** to nazwy pojawiające się w definicji funkcji (ogólniej, obiektu wywoływalnego). Parametry są nazwami wartości (argumentów) przekazywanych do funkcji.\n",
    "* **Argumenty** to wartości przekazywane do funkcji. W ciele funkcji nazwami argumentów są parametry funkcji."
   ]
  },
  {
   "cell_type": "markdown",
   "metadata": {
    "slideshow": {
     "slide_type": "slide"
    }
   },
   "source": [
    "## Rodzaje parametrów\n",
    "\n",
    "* *pozycyjne lub słowa kluczowe*,\n",
    "* *jedynie pozycyjne*,\n",
    "* *pozycyjne zmienne*,\n",
    "* *jedynie słowa kluczowe*,\n",
    "* *słowa kluczowe zmienne*."
   ]
  },
  {
   "cell_type": "markdown",
   "metadata": {
    "slideshow": {
     "slide_type": "slide"
    }
   },
   "source": [
    "## Rodzaje argumentów\n",
    "\n",
    "* *pozycyjne*,\n",
    "* podawane za pomocą *słów kluczowych*."
   ]
  },
  {
   "cell_type": "markdown",
   "metadata": {
    "slideshow": {
     "slide_type": "slide"
    }
   },
   "source": [
    "## Parametry *pozycyjne lub słowa kluczowe*\n",
    "\n",
    "Nazwy parametrów wypisanych w definicji funkcji. Mogą mieć wartości domyślne i wtedy muszą znajdować się na końcu definicji."
   ]
  },
  {
   "cell_type": "code",
   "execution_count": 23,
   "metadata": {
    "collapsed": true
   },
   "outputs": [],
   "source": [
    "def potęga(podstawa, wykładnik=2):\n",
    "    return podstawa ** wykładnik"
   ]
  },
  {
   "cell_type": "markdown",
   "metadata": {},
   "source": [
    "Wywołanie na argumentach pozycyjnych."
   ]
  },
  {
   "cell_type": "code",
   "execution_count": 24,
   "metadata": {},
   "outputs": [
    {
     "data": {
      "text/plain": [
       "(9, 81)"
      ]
     },
     "execution_count": 24,
     "metadata": {},
     "output_type": "execute_result"
    }
   ],
   "source": [
    "potęga(3), potęga(3, 4)"
   ]
  },
  {
   "cell_type": "markdown",
   "metadata": {
    "slideshow": {
     "slide_type": "subslide"
    }
   },
   "source": [
    "Wywołanie na argumentach słów kluczowych. Kolejność przestała mieć znaczenie."
   ]
  },
  {
   "cell_type": "code",
   "execution_count": 25,
   "metadata": {},
   "outputs": [
    {
     "data": {
      "text/plain": [
       "(81, 64)"
      ]
     },
     "execution_count": 25,
     "metadata": {},
     "output_type": "execute_result"
    }
   ],
   "source": [
    "potęga(wykładnik=4, podstawa=3), potęga(podstawa=8)"
   ]
  },
  {
   "cell_type": "markdown",
   "metadata": {},
   "source": [
    "Słowa kluczowe można wypakowywac ze słownika."
   ]
  },
  {
   "cell_type": "code",
   "execution_count": 26,
   "metadata": {},
   "outputs": [
    {
     "data": {
      "text/plain": [
       "1024"
      ]
     },
     "execution_count": 26,
     "metadata": {},
     "output_type": "execute_result"
    }
   ],
   "source": [
    "d = {'wykładnik': 10, 'podstawa': 2}\n",
    "\n",
    "potęga(**d)"
   ]
  },
  {
   "cell_type": "markdown",
   "metadata": {
    "slideshow": {
     "slide_type": "subslide"
    }
   },
   "source": [
    "Argumenty pozycyjne i słowa kluczowe. Argumenty podawane za pomocą słów kluczowych muszą następować po pozycyjnych."
   ]
  },
  {
   "cell_type": "code",
   "execution_count": 27,
   "metadata": {},
   "outputs": [
    {
     "data": {
      "text/plain": [
       "81"
      ]
     },
     "execution_count": 27,
     "metadata": {},
     "output_type": "execute_result"
    }
   ],
   "source": [
    "potęga(3, wykładnik=4)"
   ]
  },
  {
   "cell_type": "markdown",
   "metadata": {
    "slideshow": {
     "slide_type": "slide"
    }
   },
   "source": [
    "## Parametry *jedynie pozycyjne*\n",
    "\n",
    "* Argumentów dla tych parametrów nie można podać za pomocą słów kluczowych.\n",
    "* W Pythonie nie istnieje składnia pozwalająca definiować funkcje z takimi parametrami.\n",
    "* Wiele funkcji wbudowanych zawiera parametry *jedynie pozycyjne*.\n",
    "* W sygnaturze funkcji parametry *jedynie pozycyjne* znajdują się na lewo od znaku `/`."
   ]
  },
  {
   "cell_type": "markdown",
   "metadata": {
    "slideshow": {
     "slide_type": "subslide"
    }
   },
   "source": [
    "Wszystkie parametry funkcji `pow()` są *jedynie pozycyjne*."
   ]
  },
  {
   "cell_type": "code",
   "execution_count": 28,
   "metadata": {
    "slideshow": {
     "slide_type": "-"
    }
   },
   "outputs": [
    {
     "name": "stdout",
     "output_type": "stream",
     "text": [
      "Help on built-in function pow in module builtins:\n",
      "\n",
      "pow(x, y, z=None, /)\n",
      "    Equivalent to x**y (with two arguments) or x**y % z (with three arguments)\n",
      "    \n",
      "    Some types, such as ints, are able to use a more efficient algorithm when\n",
      "    invoked using the three argument form.\n",
      "\n"
     ]
    }
   ],
   "source": [
    "help(pow)"
   ]
  },
  {
   "cell_type": "code",
   "execution_count": 29,
   "metadata": {},
   "outputs": [
    {
     "ename": "TypeError",
     "evalue": "pow() takes no keyword arguments",
     "output_type": "error",
     "traceback": [
      "\u001b[0;31m---------------------------------------------------------------------------\u001b[0m",
      "\u001b[0;31mTypeError\u001b[0m                                 Traceback (most recent call last)",
      "\u001b[0;32m<ipython-input-29-3c1748947c84>\u001b[0m in \u001b[0;36m<module>\u001b[0;34m()\u001b[0m\n\u001b[0;32m----> 1\u001b[0;31m \u001b[0mpow\u001b[0m\u001b[0;34m(\u001b[0m\u001b[0mx\u001b[0m\u001b[0;34m=\u001b[0m\u001b[0;36m2\u001b[0m\u001b[0;34m,\u001b[0m \u001b[0my\u001b[0m\u001b[0;34m=\u001b[0m\u001b[0;36m3\u001b[0m\u001b[0;34m)\u001b[0m\u001b[0;34m\u001b[0m\u001b[0m\n\u001b[0m",
      "\u001b[0;31mTypeError\u001b[0m: pow() takes no keyword arguments"
     ]
    }
   ],
   "source": [
    "pow(x=2, y=3)"
   ]
  },
  {
   "cell_type": "markdown",
   "metadata": {
    "slideshow": {
     "slide_type": "slide"
    }
   },
   "source": [
    "## Parametry *pozycyjne zmienne*\n",
    "\n",
    "Parametry pozycyjne, które pozwalają na wprowadzenie argumentów z sekwencji dowolnej długości.\n",
    "\n",
    "Typowym przykładem jest funkcja `print()` i metoda `format()` -- akceptują dowolną liczbę argumentów."
   ]
  },
  {
   "cell_type": "code",
   "execution_count": 30,
   "metadata": {},
   "outputs": [
    {
     "name": "stdout",
     "output_type": "stream",
     "text": [
      "Monty:Python's:The:Meaning:of:Life\n"
     ]
    }
   ],
   "source": [
    "print('Monty', \"Python's\", 'The', 'Meaning', 'of', 'Life', sep=':')"
   ]
  },
  {
   "cell_type": "markdown",
   "metadata": {
    "slideshow": {
     "slide_type": "subslide"
    }
   },
   "source": [
    "### Składnia dla parametrów *pozycyjnych zmiennych*\n",
    "\n",
    "* Nazwę parametru *pozycyjny zmienny* poprzedzamy gwiazdką `*`.\n",
    "* W ciele funkcji parametr *pozycyjny zmienny* jest nazwą krotki z przechwyconymi argumentami."
   ]
  },
  {
   "cell_type": "markdown",
   "metadata": {
    "slideshow": {
     "slide_type": "subslide"
    }
   },
   "source": [
    "### Przykład\n",
    "\n",
    "Piszemy funkcję zwracającą średnią arytmetyczną. "
   ]
  },
  {
   "cell_type": "code",
   "execution_count": 31,
   "metadata": {
    "collapsed": true
   },
   "outputs": [],
   "source": [
    "def średnia(pierwszy, *reszta):\n",
    "    return (pierwszy + sum(reszta)) / (1 + len(reszta))"
   ]
  },
  {
   "cell_type": "markdown",
   "metadata": {},
   "source": [
    "Jeden argument jest obowiązkowy, ilość pozostałych jest dowolna."
   ]
  },
  {
   "cell_type": "code",
   "execution_count": 32,
   "metadata": {},
   "outputs": [
    {
     "data": {
      "text/plain": [
       "(3.0, 4.5)"
      ]
     },
     "execution_count": 32,
     "metadata": {},
     "output_type": "execute_result"
    }
   ],
   "source": [
    "średnia(3), średnia(1, 2, 3, 4, 5, 6, 7, 8)"
   ]
  },
  {
   "cell_type": "code",
   "execution_count": 33,
   "metadata": {},
   "outputs": [
    {
     "ename": "TypeError",
     "evalue": "średnia() missing 1 required positional argument: 'pierwszy'",
     "output_type": "error",
     "traceback": [
      "\u001b[0;31m---------------------------------------------------------------------------\u001b[0m",
      "\u001b[0;31mTypeError\u001b[0m                                 Traceback (most recent call last)",
      "\u001b[0;32m<ipython-input-33-664067070760>\u001b[0m in \u001b[0;36m<module>\u001b[0;34m()\u001b[0m\n\u001b[0;32m----> 1\u001b[0;31m \u001b[0mśrednia\u001b[0m\u001b[0;34m(\u001b[0m\u001b[0;34m)\u001b[0m\u001b[0;34m\u001b[0m\u001b[0m\n\u001b[0m",
      "\u001b[0;31mTypeError\u001b[0m: średnia() missing 1 required positional argument: 'pierwszy'"
     ]
    }
   ],
   "source": [
    "średnia()"
   ]
  },
  {
   "cell_type": "markdown",
   "metadata": {
    "slideshow": {
     "slide_type": "slide"
    }
   },
   "source": [
    "## Parametry *jedynie słowa kluczowe*\n",
    "\n",
    "* Argumenty do tych parametrów muszą zostać przekazane za pomocą słów kluczowych.\n",
    "* W definicji funkcji parametry *jedynie słowa kluczowe* znajdują się za:\n",
    "  * parametrem z modyfikatorem `*` (czyli za parametrami *pozycyjne zmienne*), \n",
    "  * lub za pojedynczym znakiem `*`.\n",
    "* Parametry te nie muszą mieć podanej wartości domyślnej."
   ]
  },
  {
   "cell_type": "markdown",
   "metadata": {
    "slideshow": {
     "slide_type": "subslide"
    }
   },
   "source": [
    "### Przykład\n",
    "\n",
    "`min_strażnik()` zwraca minimum `wartości` o ile jest ono `>= strażnik` lub gdy `strażnik` jest `None`. Jeśli minimum `wartości` jest `< strażnik`, to zwracany jest `strażnik`."
   ]
  },
  {
   "cell_type": "code",
   "execution_count": 34,
   "metadata": {
    "collapsed": true
   },
   "outputs": [],
   "source": [
    "def min_strażnik(*wartości, strażnik=None):\n",
    "    m = min(wartości)\n",
    "    if strażnik is not None:\n",
    "        return m if m > strażnik else strażnik\n",
    "    return m"
   ]
  },
  {
   "cell_type": "markdown",
   "metadata": {},
   "source": [
    "Jedyny sposób na wyspecyfikowanie strażnika, to podanie go za pomocą słowa kluczowego."
   ]
  },
  {
   "cell_type": "code",
   "execution_count": 35,
   "metadata": {},
   "outputs": [
    {
     "data": {
      "text/plain": [
       "0"
      ]
     },
     "execution_count": 35,
     "metadata": {},
     "output_type": "execute_result"
    }
   ],
   "source": [
    "min_strażnik(1, -2, 4, 2, -5, strażnik=0)"
   ]
  },
  {
   "cell_type": "code",
   "execution_count": 36,
   "metadata": {},
   "outputs": [
    {
     "data": {
      "text/plain": [
       "-5"
      ]
     },
     "execution_count": 36,
     "metadata": {},
     "output_type": "execute_result"
    }
   ],
   "source": [
    "min_strażnik(1, -2, 4, 2, -5)"
   ]
  },
  {
   "cell_type": "markdown",
   "metadata": {
    "slideshow": {
     "slide_type": "slide"
    }
   },
   "source": [
    "## Parametry *słowa kluczowe zmienne*\n",
    "\n",
    "* Parametry o argumentach podawanych za pomocą słów kluczowych, które pozwalają na wprowadzenie argumentów ze słownika dowolnej długości.\n",
    "* Klucze w tym słowniku muszą być łańcuchami.\n",
    "* Nazwę parametru *słowa kluczowe zmienne* poprzedzamy dwiema gwiazdkami `**`. Nazwa ta musi wystąpić jako ostatnia wśród parametrów funkcji.\n",
    "* W ciele funkcji parametr *słowa kluczowe zmienne* jest słownikiem."
   ]
  },
  {
   "cell_type": "markdown",
   "metadata": {
    "slideshow": {
     "slide_type": "subslide"
    }
   },
   "source": [
    "### Przykład\n",
    "\n",
    "Funkcja, która tworzy znacznik `HTML`."
   ]
  },
  {
   "cell_type": "code",
   "execution_count": 37,
   "metadata": {
    "collapsed": true
   },
   "outputs": [],
   "source": [
    "import html\n",
    "\n",
    "def znacznik(nazwa, zawartość, **atrybuty):\n",
    "    kv = [' {}=\"{}\"'.format(k, v) for k, v in atrybuty.items()]\n",
    "    atrybuty_str = ''.join(kv)\n",
    "    wstaw = {'nazwa': nazwa,\n",
    "             'atrybuty': atrybuty_str,\n",
    "             'zawartość': html.escape(zawartość)}\n",
    "    return '<{nazwa}{atrybuty}>{zawartość}</{nazwa}>'.format(**wstaw)"
   ]
  },
  {
   "cell_type": "markdown",
   "metadata": {
    "slideshow": {
     "slide_type": "subslide"
    }
   },
   "source": [
    "\n",
    "Różne wywołania."
   ]
  },
  {
   "cell_type": "code",
   "execution_count": 38,
   "metadata": {},
   "outputs": [
    {
     "data": {
      "text/plain": [
       "'<p>2 &lt; 3</p>'"
      ]
     },
     "execution_count": 38,
     "metadata": {},
     "output_type": "execute_result"
    }
   ],
   "source": [
    "znacznik('p', '2 < 3')"
   ]
  },
  {
   "cell_type": "code",
   "execution_count": 39,
   "metadata": {},
   "outputs": [
    {
     "data": {
      "text/plain": [
       "'<font size=\"2\" face=\"verdana\" color=\"blue\">Ala ma kota</font>'"
      ]
     },
     "execution_count": 39,
     "metadata": {},
     "output_type": "execute_result"
    }
   ],
   "source": [
    "znacznik('font', 'Ala ma kota', size=2, color='blue', face='verdana')"
   ]
  },
  {
   "cell_type": "code",
   "execution_count": 40,
   "metadata": {},
   "outputs": [
    {
     "data": {
      "text/plain": [
       "'<font size=\"2\" face=\"verdana\" color=\"blue\">Ala ma kota</font>'"
      ]
     },
     "execution_count": 40,
     "metadata": {},
     "output_type": "execute_result"
    }
   ],
   "source": [
    "atrybuty = dict(size=2, color='blue', face='verdana')\n",
    "\n",
    "znacznik('font', 'Ala ma kota', **atrybuty)"
   ]
  },
  {
   "cell_type": "markdown",
   "metadata": {
    "slideshow": {
     "slide_type": "slide"
    }
   },
   "source": [
    "## Do poczytania\n",
    "\n",
    "* Różnica między parametrem a argumentem.\n",
    "\n",
    "  [https://docs.python.org/3/faq/programming.html#faq-argument-vs-parameter](https://docs.python.org/3/faq/programming.html#faq-argument-vs-parameter)\n",
    "\n",
    "* Terminologia.\n",
    "  \n",
    "  [https://docs.python.org/3/glossary.html#term-parameter](https://docs.python.org/3/glossary.html#term-parameter)\n",
    "  \n",
    "  [https://docs.python.org/3/glossary.html#term-argument](https://docs.python.org/3/glossary.html#term-argument)\n",
    "\n",
    "* Z oficjalnego tutorialu.\n",
    "\n",
    "  [https://docs.python.org/3/tutorial/controlflow.html#more-on-defining-functions](https://docs.python.org/3/tutorial/controlflow.html#more-on-defining-functions)\n",
    "\n",
    "* PEP 570 o składni dla parametrów *jedynie pozycyjnych*.\n",
    "\n",
    "  [https://www.python.org/dev/peps/pep-0570/](https://www.python.org/dev/peps/pep-0570/)"
   ]
  }
 ],
 "metadata": {
  "anaconda-cloud": {},
  "celltoolbar": "Slideshow",
  "kernelspec": {
   "display_name": "Python [default]",
   "language": "python",
   "name": "python3"
  },
  "language_info": {
   "codemirror_mode": {
    "name": "ipython",
    "version": 3
   },
   "file_extension": ".py",
   "mimetype": "text/x-python",
   "name": "python",
   "nbconvert_exporter": "python",
   "pygments_lexer": "ipython3",
   "version": "3.5.3"
  }
 },
 "nbformat": 4,
 "nbformat_minor": 2
}
