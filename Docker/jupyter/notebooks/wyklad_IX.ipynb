{
 "cells": [
  {
   "cell_type": "markdown",
   "metadata": {
    "slideshow": {
     "slide_type": "slide"
    }
   },
   "source": [
    "# Podstawy programowania w analizie danych\n",
    "\n",
    "## Tomasz Rodak\n",
    "\n",
    "2017/2018, semestr letni\n",
    "\n",
    "Wykład IX"
   ]
  },
  {
   "cell_type": "markdown",
   "metadata": {
    "slideshow": {
     "slide_type": "slide"
    }
   },
   "source": [
    "# Iteracje"
   ]
  },
  {
   "cell_type": "markdown",
   "metadata": {
    "slideshow": {
     "slide_type": "slide"
    }
   },
   "source": [
    "## Iterator\n",
    "\n",
    "* **Iterator** jest obiektem posiadającym metody `__next__(self)` i `__iter__(self)`. Obiekt ten reprezentuje strumień danych.\n",
    "\n",
    "* Metoda `__next__()` zwraca kolejne elementy z iteratora.\n",
    "\n",
    "* Po wyczerpaniu strumienia `__next__()` rzuca wyjątek `StopIteration`.\n",
    "\n",
    "* W iteratorach metoda `__iter__()` musi mieć postać:\n",
    "  \n",
    "  ```python\n",
    "  def __iter__(self):\n",
    "      return self\n",
    "  ```"
   ]
  },
  {
   "cell_type": "markdown",
   "metadata": {
    "slideshow": {
     "slide_type": "slide"
    }
   },
   "source": [
    "## Funkcja wbudowane zwracające iteratory\n",
    "\n",
    "* `iter()`\n",
    "* `enumerate()`\n",
    "* `reversed()`\n",
    "* `zip()`\n",
    "* `map()`\n",
    "* `filter()`\n",
    "* `open()`"
   ]
  },
  {
   "cell_type": "markdown",
   "metadata": {
    "slideshow": {
     "slide_type": "slide"
    }
   },
   "source": [
    "## Obiekt iterowalny\n",
    "\n",
    "**Obiekt iterowalny** to dowolny obiekt, z którego funkcja `iter()` może uzyskać iterator.\n",
    "\n",
    "Przykłady obiektów iterowalnych:\n",
    "\n",
    "* listy, łańcuchy, krotki;\n",
    "* słowniki, zbiory;\n",
    "* zakresy `range()`;\n",
    "* obiekty zwracane przez `zip()`, `map()`, `filter()`, `reversed()`, `enumerate()`, `...`\n",
    "* iteratory;\n",
    "* obiekty posiadające metodę `__iter__()`."
   ]
  },
  {
   "cell_type": "markdown",
   "metadata": {
    "slideshow": {
     "slide_type": "slide"
    }
   },
   "source": [
    "## `iter(obiekt_iterowalny)`\n",
    "\n",
    "Funkcja `iter()` wywołana na jednym argumencie tworzy i zwraca iterator, przy czym:\n",
    "  \n",
    "* sprawdza najpierw, czy obiekt implementuje metodę `__iter__()`. Jeśli tak wywołuje ją w celu uzyskania iteratora.\n",
    "\n",
    "* jeśli metoda `__iter__()` nie jest zaimplementowana, ale zaimplementowana jest metoda `__getitem__()`, to Python tworzy iterator, który próbuje pobierać elementy zaczynając od indeksu zero.\n",
    "\n",
    "* jeśli i to się nie uda, interpreter rzuca wyjątek `TypeError`. Oznacza to, że argument nie jest obiektem iterowalnym."
   ]
  },
  {
   "cell_type": "markdown",
   "metadata": {
    "slideshow": {
     "slide_type": "slide"
    }
   },
   "source": [
    "## Iteracja na obiekcie iterowalnym\n",
    "\n",
    "Iteracja na obiekcie iterowalnym polega na utworzeniu jego iteratora, a następnie wywoływaniu na nim `next()` aż do wystąpienia wyjątku `StopIteration`.\n",
    "\n",
    "A zatem pętla\n",
    "\n",
    "```python\n",
    "for element in obiekt_iterowalny:\n",
    "    <instrukcje>\n",
    "```\n",
    "\n",
    "sprowadza się do\n",
    "\n",
    "```python\n",
    "it = iter(obiekt_iterowalny)\n",
    "\n",
    "while True:\n",
    "    try:\n",
    "        element = next(it)\n",
    "    except StopIteration:\n",
    "        del it\n",
    "        break\n",
    "    <instrukcje>\n",
    "```\n",
    "\n"
   ]
  },
  {
   "cell_type": "markdown",
   "metadata": {
    "slideshow": {
     "slide_type": "subslide"
    }
   },
   "source": [
    "Podobnie\n",
    "\n",
    "```python\n",
    "lst = list(obiekt_iterowalny)\n",
    "```\n",
    "\n",
    "jest tym samym co\n",
    "\n",
    "```python\n",
    "lst = []\n",
    "\n",
    "it = iter(obiekt_iterowalny)\n",
    "\n",
    "while True:\n",
    "    try:\n",
    "        element = next(it)\n",
    "    except StopIteration:\n",
    "        del it\n",
    "        break\n",
    "    lst.append(element)\n",
    "```"
   ]
  },
  {
   "cell_type": "markdown",
   "metadata": {
    "slideshow": {
     "slide_type": "slide"
    }
   },
   "source": [
    "## `iter(f, strażnik)`\n",
    "\n",
    "Funkcja `iter()` wywołana na dwóch argumentach również zwraca iterator, przy czym:\n",
    "\n",
    "* pierwszy argument `f` musi być obiektem wywoływalnym;\n",
    "\n",
    "* drugi argument `strażnik` jest dowolnym obiektem;\n",
    "\n",
    "* zwracany iterator na każde żądanie `__next__()` wykonuje `f()` i zwraca uzyskaną wartość. Robi to tak długo, aż uzyska wartość równą `strażnik`."
   ]
  },
  {
   "cell_type": "markdown",
   "metadata": {
    "slideshow": {
     "slide_type": "subslide"
    }
   },
   "source": [
    "### Przykład\n",
    "\n",
    "Tworzymy iterator zawierający rzuty sześcienną kostką aż do wystąpienia jedynki."
   ]
  },
  {
   "cell_type": "code",
   "execution_count": 97,
   "metadata": {
    "slideshow": {
     "slide_type": "-"
    }
   },
   "outputs": [
    {
     "data": {
      "text/plain": [
       "<callable_iterator at 0x7fe2c4475828>"
      ]
     },
     "execution_count": 97,
     "metadata": {},
     "output_type": "execute_result"
    }
   ],
   "source": [
    "from random import randint\n",
    "\n",
    "def rzut_kostką():\n",
    "    return randint(1, 6)\n",
    "\n",
    "rzuty = iter(rzut_kostką, 1)\n",
    "\n",
    "rzuty"
   ]
  },
  {
   "cell_type": "markdown",
   "metadata": {},
   "source": [
    "Zauważ, że strażnik nie jest elementem iteratora."
   ]
  },
  {
   "cell_type": "code",
   "execution_count": 98,
   "metadata": {},
   "outputs": [
    {
     "data": {
      "text/plain": [
       "[6, 2, 5, 5, 3]"
      ]
     },
     "execution_count": 98,
     "metadata": {},
     "output_type": "execute_result"
    }
   ],
   "source": [
    "list(rzuty)"
   ]
  },
  {
   "cell_type": "markdown",
   "metadata": {
    "slideshow": {
     "slide_type": "slide"
    }
   },
   "source": [
    "## `enumerate(obiekt_iterowalny, start=0)`\n",
    "\n",
    "* Zwraca iterator.\n",
    "\n",
    "* Elementy iteratora to krotki\n",
    "  ```python\n",
    "  (licznik, element)\n",
    "  ```\n",
    "* Liczenie zaczyna się od wartości `start` domyślnie równej `0`."
   ]
  },
  {
   "cell_type": "markdown",
   "metadata": {
    "slideshow": {
     "slide_type": "subslide"
    }
   },
   "source": [
    "Numeracja sekwencji zachowuje kolejność."
   ]
  },
  {
   "cell_type": "code",
   "execution_count": 99,
   "metadata": {
    "slideshow": {
     "slide_type": "-"
    }
   },
   "outputs": [
    {
     "data": {
      "text/plain": [
       "[(0, 'm'),\n",
       " (1, 'o'),\n",
       " (2, 'n'),\n",
       " (3, 't'),\n",
       " (4, 'y'),\n",
       " (5, ' '),\n",
       " (6, 'p'),\n",
       " (7, 'y'),\n",
       " (8, 't'),\n",
       " (9, 'h'),\n",
       " (10, 'o'),\n",
       " (11, 'n')]"
      ]
     },
     "execution_count": 99,
     "metadata": {},
     "output_type": "execute_result"
    }
   ],
   "source": [
    "napis = 'monty python'\n",
    "\n",
    "list(enumerate(napis))"
   ]
  },
  {
   "cell_type": "markdown",
   "metadata": {
    "slideshow": {
     "slide_type": "subslide"
    }
   },
   "source": [
    "Elementy w zbiorze nie są uporządkowane, ale i tak można po nich iterować."
   ]
  },
  {
   "cell_type": "code",
   "execution_count": 100,
   "metadata": {
    "slideshow": {
     "slide_type": "-"
    }
   },
   "outputs": [
    {
     "data": {
      "text/plain": [
       "[(0, 'p'),\n",
       " (1, 'o'),\n",
       " (2, ' '),\n",
       " (3, 'h'),\n",
       " (4, 't'),\n",
       " (5, 'y'),\n",
       " (6, 'n'),\n",
       " (7, 'm')]"
      ]
     },
     "execution_count": 100,
     "metadata": {},
     "output_type": "execute_result"
    }
   ],
   "source": [
    "napis = 'monty python'\n",
    "\n",
    "znaki = set(napis)\n",
    "\n",
    "list(enumerate(znaki))"
   ]
  },
  {
   "cell_type": "markdown",
   "metadata": {
    "slideshow": {
     "slide_type": "slide"
    }
   },
   "source": [
    "## `reversed(seq)`\n",
    "\n",
    "Funkcja `reversed()` zwraca iterator z sekwencji lub obiektu posiadającego metodę `__reversed__()`. \n",
    "\n",
    "Kolejność danych w iteratorze jest odwrotna niż w oryginalnym obiekcie."
   ]
  },
  {
   "cell_type": "code",
   "execution_count": 101,
   "metadata": {
    "slideshow": {
     "slide_type": "-"
    }
   },
   "outputs": [
    {
     "data": {
      "text/plain": [
       "<reversed at 0x7fe2c4470898>"
      ]
     },
     "execution_count": 101,
     "metadata": {},
     "output_type": "execute_result"
    }
   ],
   "source": [
    "rev = reversed('Monty Python')\n",
    "\n",
    "rev"
   ]
  },
  {
   "cell_type": "code",
   "execution_count": 102,
   "metadata": {},
   "outputs": [
    {
     "data": {
      "text/plain": [
       "('n', 'o', 'h', 't', 'y', 'P', ' ', 'y', 't', 'n', 'o', 'M')"
      ]
     },
     "execution_count": 102,
     "metadata": {},
     "output_type": "execute_result"
    }
   ],
   "source": [
    "tuple(rev)"
   ]
  },
  {
   "cell_type": "markdown",
   "metadata": {
    "slideshow": {
     "slide_type": "slide"
    }
   },
   "source": [
    "## `zip(*obiekty_iterowalne)`\n",
    "\n",
    "Zwraca iterator krotek\n",
    "```python\n",
    "(a1, a2, ..., an)\n",
    "```\n",
    "gdzie element `ai` pochodzi z `i`-tego obiektu iterowalnego.\n",
    "\n",
    "Zwracany iterator ma tyle elementów co najkrótszy obiekt iterowalny podany jako argument."
   ]
  },
  {
   "cell_type": "markdown",
   "metadata": {
    "slideshow": {
     "slide_type": "subslide"
    }
   },
   "source": [
    "Dwa argumenty, najkrótszy długości `3`."
   ]
  },
  {
   "cell_type": "code",
   "execution_count": 112,
   "metadata": {},
   "outputs": [
    {
     "data": {
      "text/plain": [
       "[('a', 'x'), ('b', 'y'), ('c', 'z')]"
      ]
     },
     "execution_count": 112,
     "metadata": {},
     "output_type": "execute_result"
    }
   ],
   "source": [
    "list(zip('abcd', 'xyz'))"
   ]
  },
  {
   "cell_type": "markdown",
   "metadata": {},
   "source": [
    "Trzy argumenty, najkrótszy długości `3`."
   ]
  },
  {
   "cell_type": "code",
   "execution_count": 115,
   "metadata": {},
   "outputs": [
    {
     "data": {
      "text/plain": [
       "[(10, 'a', 'x'), (11, 'b', 'y'), (12, 'c', 'z')]"
      ]
     },
     "execution_count": 115,
     "metadata": {},
     "output_type": "execute_result"
    }
   ],
   "source": [
    "list(zip(range(10, 20), 'abcdef', 'xyz'))"
   ]
  },
  {
   "cell_type": "markdown",
   "metadata": {
    "slideshow": {
     "slide_type": "subslide"
    }
   },
   "source": [
    "### Zagadka\n",
    "\n",
    "Co zawiera ten iterator?\n",
    "\n",
    "```python\n",
    "zip(*zip('xyz', 'abc'))\n",
    "```"
   ]
  },
  {
   "cell_type": "code",
   "execution_count": 8,
   "metadata": {
    "slideshow": {
     "slide_type": "fragment"
    }
   },
   "outputs": [
    {
     "data": {
      "text/plain": [
       "[('x', 'y', 'z'), ('a', 'b', 'c')]"
      ]
     },
     "execution_count": 8,
     "metadata": {},
     "output_type": "execute_result"
    }
   ],
   "source": [
    "list(zip(*zip('xyz', 'abc')))"
   ]
  },
  {
   "cell_type": "markdown",
   "metadata": {
    "slideshow": {
     "slide_type": "slide"
    }
   },
   "source": [
    "## `map(funkcja, it1, it2, ...)`\n",
    "\n",
    "Zwraca iterator wartości\n",
    "```python\n",
    "funkcja(a1, a2, ...)\n",
    "```\n",
    "gdzie element `i`-ty element `a` pochodzi z `i`-tego obiektu iterowalnego `it`.\n",
    "\n",
    "Tak jak dla `zip()` zwracany iterator ma tyle elementów co najkrótszy obiekt iterowalny podany jako argument."
   ]
  },
  {
   "cell_type": "markdown",
   "metadata": {
    "slideshow": {
     "slide_type": "subslide"
    }
   },
   "source": [
    "Częsty zastosowanie -- zamiana łańcuchów na liczby."
   ]
  },
  {
   "cell_type": "code",
   "execution_count": 116,
   "metadata": {},
   "outputs": [
    {
     "data": {
      "text/plain": [
       "[1, 2, 3, 4, 5, 6, 7, 8, 9]"
      ]
     },
     "execution_count": 116,
     "metadata": {},
     "output_type": "execute_result"
    }
   ],
   "source": [
    "liczby = '1 2 3 4 5 6 7 8 9'\n",
    "\n",
    "list(map(int, liczby.split()))"
   ]
  },
  {
   "cell_type": "markdown",
   "metadata": {},
   "source": [
    "Ten sam efekt za pomocą wyrażenia listowego."
   ]
  },
  {
   "cell_type": "code",
   "execution_count": 117,
   "metadata": {},
   "outputs": [
    {
     "data": {
      "text/plain": [
       "[1, 2, 3, 4, 5, 6, 7, 8, 9]"
      ]
     },
     "execution_count": 117,
     "metadata": {},
     "output_type": "execute_result"
    }
   ],
   "source": [
    "liczby = '1 2 3 4 5 6 7 8 9'\n",
    "\n",
    "[int(k) for k in liczby.split()]"
   ]
  },
  {
   "cell_type": "markdown",
   "metadata": {
    "slideshow": {
     "slide_type": "slide"
    }
   },
   "source": [
    "## `filter(funkcja, it)`\n",
    "\n",
    "Zwraca iterator z tymi elementami `it`, z których `funkcja` zwraca `True`."
   ]
  },
  {
   "cell_type": "code",
   "execution_count": 122,
   "metadata": {},
   "outputs": [
    {
     "data": {
      "text/plain": [
       "[5, 1, 7, 7]"
      ]
     },
     "execution_count": 122,
     "metadata": {},
     "output_type": "execute_result"
    }
   ],
   "source": [
    "def jest_dodatnia(x):\n",
    "    return x > 0\n",
    "\n",
    "liczby = [5, 1, -8, 7, -4, 7, -5, -8, -8, -5]\n",
    "\n",
    "list(filter(jest_dodatnia, liczby))"
   ]
  },
  {
   "cell_type": "markdown",
   "metadata": {
    "slideshow": {
     "slide_type": "slide"
    }
   },
   "source": [
    "## `open(ścieżka_do_pliku, **kwargs)`\n",
    "\n",
    "Funkcja `open()` jest nieco odmiennego rodzaju, gdyż jej argument `ścieżka_do_pliku` wskazuje na obiekt zewnętrzny wobec interpretera. \n",
    "\n",
    "Funkcja zwraca iterator uzyskany z pliku."
   ]
  },
  {
   "cell_type": "code",
   "execution_count": 168,
   "metadata": {},
   "outputs": [
    {
     "data": {
      "text/plain": [
       "<_io.TextIOWrapper name='wyklad_IX.ipynb' mode='r' encoding='utf8'>"
      ]
     },
     "execution_count": 168,
     "metadata": {},
     "output_type": "execute_result"
    }
   ],
   "source": [
    "f = open('wyklad_IX.ipynb', encoding='utf8')\n",
    "\n",
    "f"
   ]
  },
  {
   "cell_type": "markdown",
   "metadata": {
    "slideshow": {
     "slide_type": "subslide"
    }
   },
   "source": [
    "`f.readline()` zwraca kolejne linie pliku tak jak `f.__next__()`. Metoda `readline()` działa jednak trochę inaczej. Np. po wyczerpaniu strumienia zwraca pusty łańcuch, podczas gdy `__next__()` rzuca `StopIteration`."
   ]
  },
  {
   "cell_type": "code",
   "execution_count": 175,
   "metadata": {},
   "outputs": [
    {
     "data": {
      "text/plain": [
       "'     \"slide_type\": \"slide\"\\n'"
      ]
     },
     "execution_count": 175,
     "metadata": {},
     "output_type": "execute_result"
    }
   ],
   "source": [
    "f.readline()"
   ]
  },
  {
   "cell_type": "code",
   "execution_count": 176,
   "metadata": {},
   "outputs": [
    {
     "data": {
      "text/plain": [
       "'    }\\n'"
      ]
     },
     "execution_count": 176,
     "metadata": {},
     "output_type": "execute_result"
    }
   ],
   "source": [
    "f.readline()"
   ]
  },
  {
   "cell_type": "code",
   "execution_count": 177,
   "metadata": {},
   "outputs": [
    {
     "data": {
      "text/plain": [
       "'   },\\n'"
      ]
     },
     "execution_count": 177,
     "metadata": {},
     "output_type": "execute_result"
    }
   ],
   "source": [
    "f.readline()"
   ]
  },
  {
   "cell_type": "markdown",
   "metadata": {
    "slideshow": {
     "slide_type": "slide"
    }
   },
   "source": [
    "## Zakresy `range()`\n",
    "\n",
    "Zakresy `range()` są obiektami iterowalnymi, ale **nie są** iteratorami."
   ]
  },
  {
   "cell_type": "code",
   "execution_count": 134,
   "metadata": {},
   "outputs": [
    {
     "data": {
      "text/plain": [
       "range(10, 20, 2)"
      ]
     },
     "execution_count": 134,
     "metadata": {},
     "output_type": "execute_result"
    }
   ],
   "source": [
    "zakres = range(10, 20, 2)\n",
    "\n",
    "zakres"
   ]
  },
  {
   "cell_type": "code",
   "execution_count": 135,
   "metadata": {},
   "outputs": [
    {
     "data": {
      "text/plain": [
       "[10, 12, 14, 16, 18]"
      ]
     },
     "execution_count": 135,
     "metadata": {},
     "output_type": "execute_result"
    }
   ],
   "source": [
    "list(zakres)"
   ]
  },
  {
   "cell_type": "code",
   "execution_count": 136,
   "metadata": {},
   "outputs": [
    {
     "ename": "TypeError",
     "evalue": "'range' object is not an iterator",
     "output_type": "error",
     "traceback": [
      "\u001b[0;31m---------------------------------------------------------------------------\u001b[0m",
      "\u001b[0;31mTypeError\u001b[0m                                 Traceback (most recent call last)",
      "\u001b[0;32m<ipython-input-136-a95772238804>\u001b[0m in \u001b[0;36m<module>\u001b[0;34m()\u001b[0m\n\u001b[0;32m----> 1\u001b[0;31m \u001b[0mnext\u001b[0m\u001b[0;34m(\u001b[0m\u001b[0mzakres\u001b[0m\u001b[0;34m)\u001b[0m\u001b[0;34m\u001b[0m\u001b[0m\n\u001b[0m",
      "\u001b[0;31mTypeError\u001b[0m: 'range' object is not an iterator"
     ]
    }
   ],
   "source": [
    "next(zakres)"
   ]
  },
  {
   "cell_type": "markdown",
   "metadata": {
    "slideshow": {
     "slide_type": "slide"
    }
   },
   "source": [
    "## Kilka funkcji wbudowanych konsumujących obiekty iterowalne\n",
    "\n",
    "### `sum(it[, start])`\n",
    "\n",
    "Zwraca sumę elementów z obiektu iterowalnego `it`. Sumowanie zaczyna od wartości `start` domyślnie ustawionej na `0`."
   ]
  },
  {
   "cell_type": "code",
   "execution_count": 11,
   "metadata": {},
   "outputs": [
    {
     "data": {
      "text/plain": [
       "6"
      ]
     },
     "execution_count": 11,
     "metadata": {},
     "output_type": "execute_result"
    }
   ],
   "source": [
    "sum([1, 2, 3])"
   ]
  },
  {
   "cell_type": "code",
   "execution_count": 21,
   "metadata": {},
   "outputs": [
    {
     "data": {
      "text/plain": [
       "106"
      ]
     },
     "execution_count": 21,
     "metadata": {},
     "output_type": "execute_result"
    }
   ],
   "source": [
    "sum([1, 2, 3], 100)"
   ]
  },
  {
   "cell_type": "markdown",
   "metadata": {
    "slideshow": {
     "slide_type": "subslide"
    }
   },
   "source": [
    "### `all(it)`, `any(it)`\n",
    "\n",
    "Odpowiadają kwantyfikatorom \"dla każdego\" i \"istnieje\"\n",
    "\n",
    "`all()` zwraca `True`, gdy **wszystkie** elementy `it` dają wartość `True`. W przeciwnym razie zwraca `False`.\n",
    "\n",
    "`any()` zwraca `True`, gdy **pewien** elementy `it` da wartość `True`, w przeciwnym razie -- `False`."
   ]
  },
  {
   "cell_type": "code",
   "execution_count": 15,
   "metadata": {},
   "outputs": [
    {
     "name": "stdout",
     "output_type": "stream",
     "text": [
      "False False True\n"
     ]
    }
   ],
   "source": [
    "a, b, c = ['', ''], ['', 'xyz'], ['a', 'b']\n",
    "\n",
    "print(all(a), all(b), all(c))"
   ]
  },
  {
   "cell_type": "code",
   "execution_count": 16,
   "metadata": {},
   "outputs": [
    {
     "name": "stdout",
     "output_type": "stream",
     "text": [
      "False True True\n"
     ]
    }
   ],
   "source": [
    "a, b, c = ['', ''], ['', 'xyz'], ['a', 'b']\n",
    "\n",
    "print(any(a), any(b), any(c))"
   ]
  },
  {
   "cell_type": "markdown",
   "metadata": {
    "slideshow": {
     "slide_type": "subslide"
    }
   },
   "source": [
    "### `min(it[, klucz, wartość_domyślna])`, `max(it[, klucz, wartość_domyślna])`\n",
    "\n",
    "* Zwracają minimum/maksimum elementów z `it`\n",
    "\n",
    "* Jeśli `klucz` nie został podany, elementy muszą być porównywalne.\n",
    "\n",
    "* `klucz` jest jednoargumentową funkcją zwracającą porównywalne elementy. Wywołania tej funkcji na elementach `it` umożliwiają znalezienie wartości minimalnej/maksymalnej.\n",
    "\n",
    "* `wartość_domyślna` jest wartością zwracaną, gdy `it` okaże się pusty."
   ]
  },
  {
   "cell_type": "code",
   "execution_count": 20,
   "metadata": {
    "slideshow": {
     "slide_type": "subslide"
    }
   },
   "outputs": [
    {
     "data": {
      "text/plain": [
       "[(0, 'm'),\n",
       " (1, 'o'),\n",
       " (2, 'n'),\n",
       " (3, 't'),\n",
       " (4, 'y'),\n",
       " (5, ' '),\n",
       " (6, 'p'),\n",
       " (7, 'y'),\n",
       " (8, 't'),\n",
       " (9, 'h'),\n",
       " (10, 'o'),\n",
       " (11, 'n')]"
      ]
     },
     "execution_count": 20,
     "metadata": {},
     "output_type": "execute_result"
    }
   ],
   "source": [
    "lst = list(enumerate('monty python'))\n",
    "lst"
   ]
  },
  {
   "cell_type": "markdown",
   "metadata": {},
   "source": [
    "Co zwrócą\n",
    "```python\n",
    "max(lst)\n",
    "```\n",
    "oraz\n",
    "```python\n",
    "max(lst, key=lambda u: u[1])\n",
    "```"
   ]
  },
  {
   "cell_type": "code",
   "execution_count": 18,
   "metadata": {
    "slideshow": {
     "slide_type": "subslide"
    }
   },
   "outputs": [
    {
     "data": {
      "text/plain": [
       "(11, 'n')"
      ]
     },
     "execution_count": 18,
     "metadata": {},
     "output_type": "execute_result"
    }
   ],
   "source": [
    "max(lst)"
   ]
  },
  {
   "cell_type": "code",
   "execution_count": 19,
   "metadata": {},
   "outputs": [
    {
     "data": {
      "text/plain": [
       "(4, 'y')"
      ]
     },
     "execution_count": 19,
     "metadata": {},
     "output_type": "execute_result"
    }
   ],
   "source": [
    "max(lst, key=lambda u: u[1])"
   ]
  },
  {
   "cell_type": "markdown",
   "metadata": {
    "slideshow": {
     "slide_type": "slide"
    }
   },
   "source": [
    "## Tworzenie iteratorów za pomocą klas\n",
    "\n",
    "Klasa tworzy iteratory, gdy posiada metody \n",
    "\n",
    "* `__next__(self)`\n",
    "* `__iter__(self)`\n",
    "\n",
    "przy czym `__iter__()` musi być postaci\n",
    "\n",
    "```python\n",
    "def __iter__(self):\n",
    "    return self\n",
    "```"
   ]
  },
  {
   "cell_type": "markdown",
   "metadata": {
    "slideshow": {
     "slide_type": "slide"
    }
   },
   "source": [
    "## Klasa `PostępArytmetyczny`\n",
    "\n",
    "Utworzymy klasę `PostępArytmetyczny` zwracającą iteratory z postępem arytmetycznym o zadanym wyrazie początkowym, różnicy i liczbie wyrazów.\n",
    "\n",
    "**Testy**"
   ]
  },
  {
   "cell_type": "code",
   "execution_count": 146,
   "metadata": {
    "collapsed": true
   },
   "outputs": [],
   "source": [
    "postęp = PostępArytmetyczny(a=2, r=4, n=3)\n",
    "\n",
    "assert [next(postęp), next(postęp), next(postęp)] == [2, 6, 10]\n",
    "\n",
    "try:\n",
    "    next(postęp)\n",
    "except StopIteration:\n",
    "    pass\n",
    "else:\n",
    "    raise AssertionError('PostępArytmetyczny został wyczerpany.')\n",
    "\n",
    "a, r, n = 123, -13, 100\n",
    "postęp = PostępArytmetyczny(a, r, n)\n",
    "\n",
    "assert list(postęp) == list(range(a, a + n*r, r))"
   ]
  },
  {
   "cell_type": "code",
   "execution_count": 145,
   "metadata": {
    "collapsed": true,
    "slideshow": {
     "slide_type": "subslide"
    }
   },
   "outputs": [],
   "source": [
    "class PostępArytmetyczny:\n",
    "    \n",
    "    def __init__(self, a, r, n):\n",
    "        self.a, self.r, self.n = a, r, n\n",
    "        self._k, self._w = 0, a - r\n",
    "    \n",
    "    def __repr__(self):\n",
    "        return 'PostępArytmetyczny(a={}, r={}, n={})'.format(self.a, self.r, self.n)\n",
    "    \n",
    "    def __next__(self):\n",
    "        if self._k == self.n:\n",
    "            raise StopIteration\n",
    "        \n",
    "        self._k += 1\n",
    "        self._w += self.r\n",
    "        return self._w\n",
    "        \n",
    "    def __iter__(self):\n",
    "        return self"
   ]
  },
  {
   "cell_type": "markdown",
   "metadata": {
    "slideshow": {
     "slide_type": "subslide"
    }
   },
   "source": [
    "Przerzucenie postępu do listy."
   ]
  },
  {
   "cell_type": "code",
   "execution_count": 188,
   "metadata": {},
   "outputs": [
    {
     "data": {
      "text/plain": [
       "[2, 5, 8, 11, 14, 17, 20, 23, 26, 29]"
      ]
     },
     "execution_count": 188,
     "metadata": {},
     "output_type": "execute_result"
    }
   ],
   "source": [
    "postęp = PostępArytmetyczny(2, 3, 10)\n",
    "list(postęp)"
   ]
  },
  {
   "cell_type": "markdown",
   "metadata": {},
   "source": [
    "Iteracja po postępie pętlą `for-in`"
   ]
  },
  {
   "cell_type": "code",
   "execution_count": 189,
   "metadata": {},
   "outputs": [
    {
     "name": "stdout",
     "output_type": "stream",
     "text": [
      "2, 5, 8, 11, 14, 17, 20, 23, 26, 29, "
     ]
    }
   ],
   "source": [
    "postęp = PostępArytmetyczny(2, 3, 10)\n",
    "\n",
    "for x in postęp:\n",
    "    print(x, end=', ')"
   ]
  },
  {
   "cell_type": "markdown",
   "metadata": {},
   "source": [
    "Wysumowanie wyrazów."
   ]
  },
  {
   "cell_type": "code",
   "execution_count": 190,
   "metadata": {},
   "outputs": [
    {
     "data": {
      "text/plain": [
       "155"
      ]
     },
     "execution_count": 190,
     "metadata": {},
     "output_type": "execute_result"
    }
   ],
   "source": [
    "postęp = PostępArytmetyczny(2, 3, 10)\n",
    "sum(postęp)"
   ]
  },
  {
   "cell_type": "markdown",
   "metadata": {
    "slideshow": {
     "slide_type": "slide"
    }
   },
   "source": [
    "## Iteratory nieskończone\n",
    "\n",
    "Iteratory zwracają elementy jedynie na żądanie, mogą więc reprezentować obiekty faktycznie nieskończone.\n",
    "\n",
    "Napiszmy klasę `Kwadraty` zwracającą iterator zawierający wszystkie liczby naturalne będące kwadratami, czyli `0, 1, 4, 9, 16, ...`.\n",
    "\n",
    "**Testy**"
   ]
  },
  {
   "cell_type": "code",
   "execution_count": 194,
   "metadata": {
    "collapsed": true
   },
   "outputs": [],
   "source": [
    "kw = Kwadraty()\n",
    "\n",
    "assert next(kw) == 0\n",
    "assert next(kw) == 1\n",
    "assert next(kw) == 4\n",
    "\n",
    "assert [next(kw) for _ in [1, 2, 3]] == [9, 16, 25]"
   ]
  },
  {
   "cell_type": "code",
   "execution_count": 193,
   "metadata": {
    "collapsed": true,
    "slideshow": {
     "slide_type": "subslide"
    }
   },
   "outputs": [],
   "source": [
    "class Kwadraty:\n",
    "    \n",
    "    def __init__(self):\n",
    "        self.licznik = -1\n",
    "        \n",
    "    def __next__(self):\n",
    "        self.licznik += 1\n",
    "        return self.licznik ** 2\n",
    "    \n",
    "    def __iter__(self):\n",
    "        return self"
   ]
  },
  {
   "cell_type": "markdown",
   "metadata": {
    "slideshow": {
     "slide_type": "slide"
    }
   },
   "source": [
    "## Podsumowanie\n",
    "\n",
    "### Iterator\n",
    "\n",
    "* **Iterator** to obiekt implementujący metody `__next__(self)` oraz `__iter__(self)`.\n",
    "* Metoda `__next__()` zwraca kolejny element lub wywołuje wyjątek `StopIteration`, gdy nie ma już więcej elementów.\n",
    "* Metoda `__iter__()` powinna mieć postać:\n",
    "  ```python\n",
    "  def __iter__(self):\n",
    "      return self\n",
    "  ```\n",
    "* Dzięki implementacji `__iter__()` iterator jest obiektem iterowalnym.\n",
    "* Iterator jest **leniwy**: produkuje wartości na żądanie.\n",
    "* Iterator można przebiec **tylko raz**. Po wyczerpaniu jest bezużyteczny."
   ]
  },
  {
   "cell_type": "markdown",
   "metadata": {
    "slideshow": {
     "slide_type": "subslide"
    }
   },
   "source": [
    "### Obiekt iterowalny\n",
    "\n",
    "* **Obiekt iterowalny** to dowolny obiekt, z którego funkcja `iter()` może uzyskać iterator. \n",
    "* Obiektami iterowalnymi są:\n",
    "  * obiekty implementujące metodę `__iter__()`,\n",
    "  * obiekty implementujące metodę `__getitem__()` przyjmującą indeksy zaczynające się od zera.\n",
    "  * w szczególności iterowalne są: sekwencje, słowniki, zbiory, strumienie plików i praktycznie wszystkie kontenery z biblioteki standardowej.\n",
    "* Obiekt iterowalny zawsze może wystąpić w pętli `for`:\n",
    "  ```python\n",
    "  for element in obiekt_iterowalny:\n",
    "      ...\n",
    "  ```"
   ]
  }
 ],
 "metadata": {
  "anaconda-cloud": {},
  "celltoolbar": "Slideshow",
  "kernelspec": {
   "display_name": "Python [default]",
   "language": "python",
   "name": "python3"
  },
  "language_info": {
   "codemirror_mode": {
    "name": "ipython",
    "version": 3
   },
   "file_extension": ".py",
   "mimetype": "text/x-python",
   "name": "python",
   "nbconvert_exporter": "python",
   "pygments_lexer": "ipython3",
   "version": "3.5.4"
  }
 },
 "nbformat": 4,
 "nbformat_minor": 1
}
