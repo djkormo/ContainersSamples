{
 "cells": [
  {
   "cell_type": "markdown",
   "metadata": {
    "slideshow": {
     "slide_type": "slide"
    }
   },
   "source": [
    "# Podstawy programowania w analizie danych\n",
    "\n",
    "## Tomasz Rodak\n",
    "\n",
    "2017/2018, semestr letni\n",
    "\n",
    "Wykład VII"
   ]
  },
  {
   "cell_type": "markdown",
   "metadata": {
    "slideshow": {
     "slide_type": "slide"
    }
   },
   "source": [
    "# Klasy\n",
    "## Przegląd metod specjalnych, cz. 1"
   ]
  },
  {
   "cell_type": "markdown",
   "metadata": {
    "slideshow": {
     "slide_type": "slide"
    }
   },
   "source": [
    "## `__str__(self)`\n",
    "\n",
    "* Zwraca łańcuch.\n",
    "* Przedstawia nieformalną i wygodną dla człowieka reprezentację `self`.\n",
    "* Metodę `__str__()` wywołują funkcje:\n",
    "  * `print()`,\n",
    "  * `format()`,\n",
    "  * `str()`."
   ]
  },
  {
   "cell_type": "markdown",
   "metadata": {
    "slideshow": {
     "slide_type": "subslide"
    }
   },
   "source": [
    "Daty implementowane w module [`datetime`](https://pymotw.com/3/datetime/index.html) posiadają metodę `__str__()`."
   ]
  },
  {
   "cell_type": "code",
   "execution_count": 1,
   "metadata": {},
   "outputs": [
    {
     "data": {
      "text/plain": [
       "datetime.datetime(2018, 4, 9, 9, 54, 17, 10377)"
      ]
     },
     "execution_count": 1,
     "metadata": {},
     "output_type": "execute_result"
    }
   ],
   "source": [
    "import datetime\n",
    "\n",
    "dzisiaj = datetime.datetime.today()\n",
    "\n",
    "dzisiaj"
   ]
  },
  {
   "cell_type": "code",
   "execution_count": 2,
   "metadata": {},
   "outputs": [
    {
     "data": {
      "text/plain": [
       "'2018-04-09 09:54:17.010377'"
      ]
     },
     "execution_count": 2,
     "metadata": {},
     "output_type": "execute_result"
    }
   ],
   "source": [
    "dzisiaj.__str__()"
   ]
  },
  {
   "cell_type": "code",
   "execution_count": 3,
   "metadata": {},
   "outputs": [
    {
     "name": "stdout",
     "output_type": "stream",
     "text": [
      "2018-04-09 09:54:17.010377\n"
     ]
    }
   ],
   "source": [
    "print(dzisiaj)"
   ]
  },
  {
   "cell_type": "markdown",
   "metadata": {
    "slideshow": {
     "slide_type": "subslide"
    }
   },
   "source": [
    "`format()` domyślnie wstawia wartość zwróconą przez `__str__()`."
   ]
  },
  {
   "cell_type": "code",
   "execution_count": 4,
   "metadata": {},
   "outputs": [
    {
     "data": {
      "text/plain": [
       "'Data 2018-04-09 09:54:17.010377 wskazuje na dzisiaj.'"
      ]
     },
     "execution_count": 4,
     "metadata": {},
     "output_type": "execute_result"
    }
   ],
   "source": [
    "'Data {} wskazuje na dzisiaj.'.format(dzisiaj)"
   ]
  },
  {
   "cell_type": "markdown",
   "metadata": {},
   "source": [
    "Tę samą wartość operator `%` wstawia za `%s`."
   ]
  },
  {
   "cell_type": "code",
   "execution_count": 5,
   "metadata": {},
   "outputs": [
    {
     "data": {
      "text/plain": [
       "'Data 2018-04-09 09:54:17.010377 wskazuje na dzisiaj.'"
      ]
     },
     "execution_count": 5,
     "metadata": {},
     "output_type": "execute_result"
    }
   ],
   "source": [
    "'Data %s wskazuje na dzisiaj.' % dzisiaj"
   ]
  },
  {
   "cell_type": "markdown",
   "metadata": {},
   "source": [
    "Funkcja `str()` również wywołuje `__str__()`."
   ]
  },
  {
   "cell_type": "code",
   "execution_count": 6,
   "metadata": {},
   "outputs": [
    {
     "data": {
      "text/plain": [
       "'2018-04-09 09:54:17.010377'"
      ]
     },
     "execution_count": 6,
     "metadata": {},
     "output_type": "execute_result"
    }
   ],
   "source": [
    "str(dzisiaj)"
   ]
  },
  {
   "cell_type": "markdown",
   "metadata": {
    "slideshow": {
     "slide_type": "slide"
    }
   },
   "source": [
    "## `__repr__(self)`\n",
    "\n",
    "* Zwraca łańcuch.\n",
    "* Prezentuje oficjalną i formalną reprezentację `self`.\n",
    "* Wartość zwracana przez `__repr__()` powinna być, o ile to możliwe, poprawnym wyrażeniem Pythona.\n",
    "* Metodę `__repr__()` wywołują funkcje:\n",
    "  * `repr()`,\n",
    "  * `print()` jeśli `self` nie posiada metody `__str__()`,\n",
    "  * ogólnie, wiele funkcji wywołujących `__str__()` w drugiej kolejności wywołuje `__repr__()`, jeśli `__str__()` nie jest zaimplementowana."
   ]
  },
  {
   "cell_type": "markdown",
   "metadata": {
    "slideshow": {
     "slide_type": "subslide"
    }
   },
   "source": [
    "Daty z `datetime` posiadają metodę `__repr__()`."
   ]
  },
  {
   "cell_type": "code",
   "execution_count": 7,
   "metadata": {},
   "outputs": [
    {
     "data": {
      "text/plain": [
       "'datetime.datetime(2018, 4, 9, 9, 54, 17, 10377)'"
      ]
     },
     "execution_count": 7,
     "metadata": {},
     "output_type": "execute_result"
    }
   ],
   "source": [
    "dzisiaj.__repr__()"
   ]
  },
  {
   "cell_type": "code",
   "execution_count": 8,
   "metadata": {},
   "outputs": [
    {
     "data": {
      "text/plain": [
       "'datetime.datetime(2018, 4, 9, 9, 54, 17, 10377)'"
      ]
     },
     "execution_count": 8,
     "metadata": {},
     "output_type": "execute_result"
    }
   ],
   "source": [
    "repr(dzisiaj)"
   ]
  },
  {
   "cell_type": "markdown",
   "metadata": {},
   "source": [
    "Zauważ, że notatnik Jupyter wyświetla `__repr__()` obiektu."
   ]
  },
  {
   "cell_type": "code",
   "execution_count": 9,
   "metadata": {},
   "outputs": [
    {
     "data": {
      "text/plain": [
       "datetime.datetime(2018, 4, 9, 9, 54, 17, 10377)"
      ]
     },
     "execution_count": 9,
     "metadata": {},
     "output_type": "execute_result"
    }
   ],
   "source": [
    "dzisiaj"
   ]
  },
  {
   "cell_type": "markdown",
   "metadata": {
    "slideshow": {
     "slide_type": "subslide"
    }
   },
   "source": [
    "`__repr__()` z metodą `format()`."
   ]
  },
  {
   "cell_type": "code",
   "execution_count": 10,
   "metadata": {},
   "outputs": [
    {
     "data": {
      "text/plain": [
       "'Data datetime.datetime(2018, 4, 9, 9, 54, 17, 10377) wskazuje na dzisiaj.'"
      ]
     },
     "execution_count": 10,
     "metadata": {},
     "output_type": "execute_result"
    }
   ],
   "source": [
    "'Data {!r} wskazuje na dzisiaj.'.format(dzisiaj)"
   ]
  },
  {
   "cell_type": "markdown",
   "metadata": {},
   "source": [
    "Tę samą wartość operator `%` wstawia za `%r`."
   ]
  },
  {
   "cell_type": "code",
   "execution_count": 11,
   "metadata": {},
   "outputs": [
    {
     "data": {
      "text/plain": [
       "'Data datetime.datetime(2018, 4, 9, 9, 54, 17, 10377) wskazuje na dzisiaj.'"
      ]
     },
     "execution_count": 11,
     "metadata": {},
     "output_type": "execute_result"
    }
   ],
   "source": [
    "'Data %r wskazuje na dzisiaj.' % dzisiaj"
   ]
  },
  {
   "cell_type": "markdown",
   "metadata": {
    "slideshow": {
     "slide_type": "slide"
    }
   },
   "source": [
    "## Krótkie podsumowanie\n",
    "\n",
    "Daty w `datetime` dobrze ilustrują różnicę między `__str__()` i `__repr__()`.\n",
    "\n",
    "`__str__()` zwraca łańcuch czytelny dla odbiorcy, odpowiadający przyzwyczajeniom człowieka."
   ]
  },
  {
   "cell_type": "code",
   "execution_count": 12,
   "metadata": {},
   "outputs": [
    {
     "data": {
      "text/plain": [
       "'2018-04-09 09:54:17.010377'"
      ]
     },
     "execution_count": 12,
     "metadata": {},
     "output_type": "execute_result"
    }
   ],
   "source": [
    "dzisiaj.__str__()"
   ]
  },
  {
   "cell_type": "markdown",
   "metadata": {},
   "source": [
    "Łańcuch zwracany przez `__repr__()` nie jest tak miły dla oka, jest jednak precyzyjniejszy, gdyż prezentuje jednoznacznie nie tylko datę, ale i jej definicję w module `datetime`."
   ]
  },
  {
   "cell_type": "code",
   "execution_count": 13,
   "metadata": {},
   "outputs": [
    {
     "data": {
      "text/plain": [
       "'datetime.datetime(2018, 4, 9, 9, 54, 17, 10377)'"
      ]
     },
     "execution_count": 13,
     "metadata": {},
     "output_type": "execute_result"
    }
   ],
   "source": [
    "dzisiaj.__repr__()"
   ]
  },
  {
   "cell_type": "markdown",
   "metadata": {
    "slideshow": {
     "slide_type": "slide"
    }
   },
   "source": [
    "## `FunkcjaLiniowa` -- wersja 1.0\n",
    "\n",
    "Klasa `FunkcjaLiniowa` ma reprezentować znaną ze szkoły funkcję liniową\n",
    "$$\n",
    "y=ax+b.\n",
    "$$\n",
    "Wartości $a$ i $b$ definiują tę funkcję w pełni."
   ]
  },
  {
   "cell_type": "code",
   "execution_count": 14,
   "metadata": {
    "collapsed": true
   },
   "outputs": [],
   "source": [
    "class FunkcjaLiniowa:\n",
    "    \n",
    "    def __init__(self, a, b):\n",
    "        self.a, self.b = a, b\n",
    "    \n",
    "    def __str__(self):\n",
    "        if self.b >= 0:\n",
    "            return 'y = {}*x + {}'.format(self.a, self.b)\n",
    "        return 'y = {}*x - {}'.format(self.a, -self.b)\n",
    "    \n",
    "    def __repr__(self):\n",
    "        return 'FunkcjaLiniowa({}, {})'.format(self.a, self.b)\n",
    "    \n",
    "    def wartość(self, x):\n",
    "        return self.a*x + self.b"
   ]
  },
  {
   "cell_type": "markdown",
   "metadata": {
    "slideshow": {
     "slide_type": "subslide"
    }
   },
   "source": [
    "Przykład użycia."
   ]
  },
  {
   "cell_type": "code",
   "execution_count": 15,
   "metadata": {},
   "outputs": [
    {
     "data": {
      "text/plain": [
       "(FunkcjaLiniowa(2, 4), FunkcjaLiniowa(-3, -7))"
      ]
     },
     "execution_count": 15,
     "metadata": {},
     "output_type": "execute_result"
    }
   ],
   "source": [
    "f, g = FunkcjaLiniowa(2, 4), FunkcjaLiniowa(-3, -7)\n",
    "\n",
    "f, g"
   ]
  },
  {
   "cell_type": "code",
   "execution_count": 16,
   "metadata": {},
   "outputs": [
    {
     "name": "stdout",
     "output_type": "stream",
     "text": [
      "y = 2*x + 4 y = -3*x - 7\n"
     ]
    }
   ],
   "source": [
    "print(f, g)"
   ]
  },
  {
   "cell_type": "code",
   "execution_count": 17,
   "metadata": {},
   "outputs": [
    {
     "name": "stdout",
     "output_type": "stream",
     "text": [
      "f: y = 2*x + 4, g: y = -3*x - 7\n"
     ]
    }
   ],
   "source": [
    "print('f: {}, g: {}'.format(f, g))"
   ]
  },
  {
   "cell_type": "code",
   "execution_count": 18,
   "metadata": {},
   "outputs": [
    {
     "data": {
      "text/plain": [
       "(10, -16)"
      ]
     },
     "execution_count": 18,
     "metadata": {},
     "output_type": "execute_result"
    }
   ],
   "source": [
    "f.wartość(3), g.wartość(3)"
   ]
  },
  {
   "cell_type": "markdown",
   "metadata": {
    "slideshow": {
     "slide_type": "slide"
    }
   },
   "source": [
    "## Obiekt wywoływalny\n",
    "\n",
    "* Obiekt **wywoływalny** to taki, który może zostać **wywołany**, czyli taki, który akceptuje operator **wywołania** `()`.\n",
    "* Wbudowana funkcja `callable(obiekt)` zwraca `True / False` w zależnosci od tego, czy `obiekt` jest wywoływalny.\n",
    "* Poznane dotąd obiekty wywoływalne:\n",
    "  * funkcje wbudowane, np. `len()`;\n",
    "  * funkcje zdefiniowane przez użytkownika z pomocą `def` lub `lambda`;\n",
    "  * metody wbudowane np. metoda łancuchów `upper()`;\n",
    "  * klasy;\n",
    "  * metody klasy zdefiniowane przez użytkownika.\n",
    "  \n",
    "W Pythonie istnieją jeszcze dwa rodzaje obiektów wywoływalnych -- jeden poznamy za chwilę, drugi trochę później."
   ]
  },
  {
   "cell_type": "markdown",
   "metadata": {
    "slideshow": {
     "slide_type": "subslide"
    }
   },
   "source": [
    "### Przykłady"
   ]
  },
  {
   "cell_type": "code",
   "execution_count": 19,
   "metadata": {},
   "outputs": [
    {
     "data": {
      "text/plain": [
       "(True, True)"
      ]
     },
     "execution_count": 19,
     "metadata": {},
     "output_type": "execute_result"
    }
   ],
   "source": [
    "callable(len), callable('abc'.upper)"
   ]
  },
  {
   "cell_type": "code",
   "execution_count": 20,
   "metadata": {},
   "outputs": [
    {
     "data": {
      "text/plain": [
       "True"
      ]
     },
     "execution_count": 20,
     "metadata": {},
     "output_type": "execute_result"
    }
   ],
   "source": [
    "def f():\n",
    "    pass\n",
    "\n",
    "callable(f)"
   ]
  },
  {
   "cell_type": "code",
   "execution_count": 21,
   "metadata": {},
   "outputs": [
    {
     "data": {
      "text/plain": [
       "(True, True, False)"
      ]
     },
     "execution_count": 21,
     "metadata": {},
     "output_type": "execute_result"
    }
   ],
   "source": [
    "class A:\n",
    "    \n",
    "    def metoda(self):\n",
    "        pass\n",
    "\n",
    "a = A()\n",
    "\n",
    "callable(A), callable(a.metoda), callable(a)"
   ]
  },
  {
   "cell_type": "markdown",
   "metadata": {
    "slideshow": {
     "slide_type": "slide"
    }
   },
   "source": [
    "## `__call__(self [, arg1, arg2, ...])`\n",
    "\n",
    "Instancje z tą metodą mogą być wywoływane tak jak funkcje.\n",
    "\n"
   ]
  },
  {
   "cell_type": "code",
   "execution_count": 22,
   "metadata": {},
   "outputs": [
    {
     "data": {
      "text/plain": [
       "(True, False)"
      ]
     },
     "execution_count": 22,
     "metadata": {},
     "output_type": "execute_result"
    }
   ],
   "source": [
    "class A:\n",
    "    \n",
    "    def __call__(self, x):\n",
    "        return x * x\n",
    "\n",
    "class B:\n",
    "    \n",
    "    def metoda(self, x):\n",
    "        return x * x\n",
    "    \n",
    "a = A()\n",
    "b = B()\n",
    "\n",
    "callable(a), callable(b)"
   ]
  },
  {
   "cell_type": "code",
   "execution_count": 23,
   "metadata": {},
   "outputs": [
    {
     "data": {
      "text/plain": [
       "(25, 36, 49)"
      ]
     },
     "execution_count": 23,
     "metadata": {},
     "output_type": "execute_result"
    }
   ],
   "source": [
    "a(5), a.__call__(6), b.metoda(7)"
   ]
  },
  {
   "cell_type": "markdown",
   "metadata": {
    "slideshow": {
     "slide_type": "slide"
    }
   },
   "source": [
    "## `FunkcjaLiniowa` -- wersja 1.1\n",
    "\n",
    "Podmieniamy metodę `wartość()` na `__call__()`."
   ]
  },
  {
   "cell_type": "code",
   "execution_count": 24,
   "metadata": {
    "collapsed": true
   },
   "outputs": [],
   "source": [
    "class FunkcjaLiniowa:\n",
    "    \n",
    "    def __init__(self, a, b):\n",
    "        self.a, self.b = a, b\n",
    "    \n",
    "    def __str__(self):\n",
    "        if self.b >= 0:\n",
    "            return 'y = {}*x + {}'.format(self.a, self.b)\n",
    "        return 'y = {}*x - {}'.format(self.a, -self.b)\n",
    "    \n",
    "    def __repr__(self):\n",
    "        return 'FunkcjaLiniowa({}, {})'.format(self.a, self.b)\n",
    "    \n",
    "    def __call__(self, x):\n",
    "        return self.a*x + self.b"
   ]
  },
  {
   "cell_type": "markdown",
   "metadata": {
    "slideshow": {
     "slide_type": "subslide"
    }
   },
   "source": [
    "Przykład użycia."
   ]
  },
  {
   "cell_type": "code",
   "execution_count": 25,
   "metadata": {},
   "outputs": [
    {
     "data": {
      "text/plain": [
       "FunkcjaLiniowa(1, 2)"
      ]
     },
     "execution_count": 25,
     "metadata": {},
     "output_type": "execute_result"
    }
   ],
   "source": [
    "f = FunkcjaLiniowa(1, 2)\n",
    "\n",
    "f"
   ]
  },
  {
   "cell_type": "code",
   "execution_count": 26,
   "metadata": {},
   "outputs": [
    {
     "name": "stdout",
     "output_type": "stream",
     "text": [
      "y = 1*x + 2\n"
     ]
    }
   ],
   "source": [
    "print(f)"
   ]
  },
  {
   "cell_type": "code",
   "execution_count": 27,
   "metadata": {},
   "outputs": [
    {
     "data": {
      "text/plain": [
       "5"
      ]
     },
     "execution_count": 27,
     "metadata": {},
     "output_type": "execute_result"
    }
   ],
   "source": [
    "f.__call__(3)"
   ]
  },
  {
   "cell_type": "code",
   "execution_count": 28,
   "metadata": {},
   "outputs": [
    {
     "data": {
      "text/plain": [
       "5"
      ]
     },
     "execution_count": 28,
     "metadata": {},
     "output_type": "execute_result"
    }
   ],
   "source": [
    "f(3)"
   ]
  },
  {
   "cell_type": "markdown",
   "metadata": {
    "slideshow": {
     "slide_type": "slide"
    }
   },
   "source": [
    "## Przykład: różniczkowanie numeryczne\n",
    "\n",
    "Pochodną funkcji $f\\colon (a, b)\\to\\mathbb{R}$ w punkcie $x_0\\in (a, b)$ nazywamy granicę ilorazu różnicowego\n",
    "\n",
    "$$\n",
    "f'(x_0)=\\lim_{h\\to 0}\\frac{f(x_0+h) - f(x_0)}{h}.\n",
    "$$\n",
    "\n",
    "Jeżeli granica ta istnieje, to mówimy, że $f$ jest różniczkowalna w $x_0$.\n",
    "\n",
    "Nasze podejście do różniczkowania numerycznego będzie polegało na tym, że zamiast liczyć powyższą granicę, obliczymy sam iloraz różnicowy dla $h$ konkretnego i bardzo bliskiego zera."
   ]
  },
  {
   "cell_type": "markdown",
   "metadata": {
    "slideshow": {
     "slide_type": "subslide"
    }
   },
   "source": [
    "### Pochodna numeryczna\n",
    "\n",
    "Klasa `Pochodna` przyjmuje parametry:\n",
    "* `f` -- obiekt wywoływalny zwracający liczby. Z punktu widzenia użytkownika jest to funkcja rzeczywista.\n",
    "* `h` -- \"dostatecznie bliska zeru\" wartość liczbowa. Może być ujemna lub dodatnia. Domyślnie `1e-7` czyli $10^{-7}$.\n",
    "\n",
    "Na podstawie tych parametrów klasa tworzy obiekt wywoływalny przybliżający pochodną `f`."
   ]
  },
  {
   "cell_type": "code",
   "execution_count": 29,
   "metadata": {
    "collapsed": true,
    "slideshow": {
     "slide_type": "-"
    }
   },
   "outputs": [],
   "source": [
    "class Pochodna:\n",
    "    \n",
    "    def __init__(self, f, h=1e-7):\n",
    "        self.f = f\n",
    "        self.h = h\n",
    "    \n",
    "    def __call__(self, x):\n",
    "        f, h = self.f, self.h\n",
    "        return (f(x + h) - f(x)) / h"
   ]
  },
  {
   "cell_type": "markdown",
   "metadata": {
    "slideshow": {
     "slide_type": "subslide"
    }
   },
   "source": [
    "Różniczkujemy instancje klasy `FunkcjaLiniowa`."
   ]
  },
  {
   "cell_type": "code",
   "execution_count": 30,
   "metadata": {},
   "outputs": [
    {
     "name": "stdout",
     "output_type": "stream",
     "text": [
      "y = 2*x + 3\n"
     ]
    }
   ],
   "source": [
    "f = FunkcjaLiniowa(2, 3)\n",
    "print(f)"
   ]
  },
  {
   "cell_type": "code",
   "execution_count": 31,
   "metadata": {},
   "outputs": [
    {
     "data": {
      "text/plain": [
       "2.0000000011677344"
      ]
     },
     "execution_count": 31,
     "metadata": {},
     "output_type": "execute_result"
    }
   ],
   "source": [
    "df = Pochodna(f)\n",
    "\n",
    "df(0)"
   ]
  },
  {
   "cell_type": "code",
   "execution_count": 32,
   "metadata": {},
   "outputs": [
    {
     "data": {
      "text/plain": [
       "2.000000165480742"
      ]
     },
     "execution_count": 32,
     "metadata": {},
     "output_type": "execute_result"
    }
   ],
   "source": [
    "df = Pochodna(f, h=-1e-10)\n",
    "\n",
    "df(0)"
   ]
  },
  {
   "cell_type": "markdown",
   "metadata": {
    "slideshow": {
     "slide_type": "subslide"
    }
   },
   "source": [
    "Rożniczkujemy funkcję kwadratową ..."
   ]
  },
  {
   "cell_type": "code",
   "execution_count": 33,
   "metadata": {},
   "outputs": [
    {
     "name": "stdout",
     "output_type": "stream",
     "text": [
      "  x|    2*x|obliczona pochodna\n",
      "--------------------------------\n",
      " -3|     -6|          -6.00000\n",
      " -2|     -4|          -4.00000\n",
      " -1|     -2|          -2.00000\n",
      "  0|      0|           0.00000\n",
      "  1|      2|           2.00000\n",
      "  2|      4|           4.00000\n",
      "  3|      6|           6.00000\n"
     ]
    }
   ],
   "source": [
    "def kwadratowa(x):\n",
    "    return x * x\n",
    "\n",
    "dkwadratowa = Pochodna(kwadratowa)\n",
    "\n",
    "print('{:>3}|{:>7}|{:>18}'.format('x', '2*x', 'obliczona pochodna'))\n",
    "print('{:-<32}'.format('-'))\n",
    "\n",
    "for x in range(-3, 4):\n",
    "    print('{:>3}|{:>7}|{:>18.5f}'.format(x, 2 * x, dkwadratowa(x)))"
   ]
  },
  {
   "cell_type": "markdown",
   "metadata": {
    "slideshow": {
     "slide_type": "subslide"
    }
   },
   "source": [
    "... i funkcje trygonometryczne."
   ]
  },
  {
   "cell_type": "code",
   "execution_count": 34,
   "metadata": {},
   "outputs": [
    {
     "name": "stdout",
     "output_type": "stream",
     "text": [
      "      x| cos(x)|obliczona pochodna\n",
      "-----------------------------------\n",
      "  0.000|  1.000|             1.000\n",
      "  1.571|  0.000|            -0.000\n",
      "  3.142| -1.000|            -1.000\n",
      "  4.712| -0.000|             0.000\n"
     ]
    }
   ],
   "source": [
    "from math import sin, cos, pi\n",
    "\n",
    "dsin = Pochodna(sin)\n",
    "\n",
    "print('{:>7}|{:>7}|{:>18}'.format('x', 'cos(x)', 'obliczona pochodna'))\n",
    "print('{:-<35}'.format('-'))\n",
    "\n",
    "for x in [0, pi / 2, pi, 3*pi / 2]:\n",
    "    print('{:>7.3f}|{:>7.3f}|{:>18.3f}'.format(x, cos(x), dsin(x)))"
   ]
  },
  {
   "cell_type": "markdown",
   "metadata": {
    "slideshow": {
     "slide_type": "subslide"
    }
   },
   "source": [
    "Zrobimy trochę rysunków."
   ]
  },
  {
   "cell_type": "code",
   "execution_count": 35,
   "metadata": {
    "collapsed": true,
    "slideshow": {
     "slide_type": "-"
    }
   },
   "outputs": [],
   "source": [
    "from matplotlib import pyplot as plt\n",
    "import numpy as np\n",
    "%matplotlib inline"
   ]
  },
  {
   "cell_type": "code",
   "execution_count": 36,
   "metadata": {
    "collapsed": true,
    "slideshow": {
     "slide_type": "notes"
    }
   },
   "outputs": [],
   "source": [
    "# Reset ustawień\n",
    "import matplotlib as mpl\n",
    "mpl.rcParams.update(mpl.rcParamsDefault)"
   ]
  },
  {
   "cell_type": "markdown",
   "metadata": {},
   "source": [
    "Narysujemy wykres $y=x^3-2x$ i jej pochodnej na przedziale $\\langle -2, 2\\rangle$."
   ]
  },
  {
   "cell_type": "code",
   "execution_count": 37,
   "metadata": {
    "collapsed": true
   },
   "outputs": [],
   "source": [
    "iksy = np.linspace(-2, 2, 100)\n",
    "\n",
    "f = lambda x: x**3 - 2*x\n",
    "df = Pochodna(f)"
   ]
  },
  {
   "cell_type": "code",
   "execution_count": 38,
   "metadata": {
    "slideshow": {
     "slide_type": "subslide"
    }
   },
   "outputs": [],
   "source": [
    "plt.close('all')\n",
    "plt.style.use('seaborn-poster')\n",
    "plt.figure(figsize=(5, 5))\n",
    "plt.plot(iksy, f(iksy), label='f')\n",
    "plt.plot(iksy, df(iksy), label='df')\n",
    "plt.grid(ls=':'); plt.legend();"
   ]
  },
  {
   "cell_type": "markdown",
   "metadata": {
    "slideshow": {
     "slide_type": "subslide"
    }
   },
   "source": [
    "Wiemy, że wartość bezwzględna $y=|x|$ nie jest różniczkowalna w punkcie $x_0=0$.\n",
    "\n",
    "Klasa `Pochodna` ułatwia zrozumienie dlaczego tak jest."
   ]
  },
  {
   "cell_type": "code",
   "execution_count": 39,
   "metadata": {
    "collapsed": true
   },
   "outputs": [],
   "source": [
    "iksy = np.linspace(-2, 2, 100)\n",
    "\n",
    "f = lambda x: abs(x)\n",
    "df = Pochodna(f)"
   ]
  },
  {
   "cell_type": "code",
   "execution_count": 40,
   "metadata": {
    "slideshow": {
     "slide_type": "subslide"
    }
   },
   "outputs": [],
   "source": [
    "plt.close('all')\n",
    "plt.style.use('seaborn-poster')\n",
    "plt.figure(figsize=(5, 5))\n",
    "plt.plot(iksy, f(iksy), label='f')\n",
    "plt.plot(iksy, df(iksy), label='df')\n",
    "plt.grid(ls=':'); plt.legend();"
   ]
  },
  {
   "cell_type": "markdown",
   "metadata": {
    "slideshow": {
     "slide_type": "slide"
    }
   },
   "source": [
    "## Spis kontaktów\n",
    "\n",
    "Chcemy napisać klasę `SpisKontaktów` tworzącą spisy znajomych z ich danymi kontaktowymi.\n",
    "Przyjmujemy, że osoba w spisie musi deklarować się imieniem i nazwiskiem  i danymi opcjonalnymi:\n",
    "* telefon stacjonarny,\n",
    "* telefon komórkowy,\n",
    "* adres email.\n",
    "\n",
    "Dane opcjonalne mogą być później modyfikowane."
   ]
  },
  {
   "cell_type": "markdown",
   "metadata": {
    "slideshow": {
     "slide_type": "slide"
    }
   },
   "source": [
    "## Klasa `Osoba`\n",
    "Krokiem pośrednim jest napisanie klasy `Osoba`. Obiekty tworzone przez tę klasę mają definiować pojedyncze osoby."
   ]
  },
  {
   "cell_type": "code",
   "execution_count": 41,
   "metadata": {
    "collapsed": true,
    "slideshow": {
     "slide_type": "-"
    }
   },
   "outputs": [],
   "source": [
    "class Osoba:\n",
    "    \n",
    "    def __init__(self, imię_nazwisko, stacjonarny='', komórka='', email=''):\n",
    "        self.imię_nazwisko = imię_nazwisko\n",
    "        self.stacjonarny = stacjonarny\n",
    "        self.komórka = komórka\n",
    "        self.email = email\n",
    "    \n",
    "    def ustaw_stacjonarny(self, numer):\n",
    "        self.stacjonarny = stacjonarny\n",
    "    \n",
    "    def ustaw_komórkowy(self, numer):\n",
    "        self.komórka = numer\n",
    "    \n",
    "    def ustaw_email(self, adres):\n",
    "        self.email = adres\n",
    "        \n",
    "    def __str__(self):\n",
    "        s = '{}\\n'.format(self.imię_nazwisko)\n",
    "        s += 'Tel. stacjonarny: {}\\n'.format(self.stacjonarny)\n",
    "        s += 'Tel. komórkowy: {}\\n'.format(self.komórka)\n",
    "        s += 'email: {}'.format(self.email)\n",
    "        return s"
   ]
  },
  {
   "cell_type": "markdown",
   "metadata": {
    "slideshow": {
     "slide_type": "subslide"
    }
   },
   "source": [
    "Przykład użycia."
   ]
  },
  {
   "cell_type": "code",
   "execution_count": 42,
   "metadata": {
    "collapsed": true,
    "slideshow": {
     "slide_type": "-"
    }
   },
   "outputs": [],
   "source": [
    "jan_kowalski = Osoba(imię_nazwisko='Jan Kowalski',\n",
    "                     stacjonarny='123456789',\n",
    "                     email='abc@domena.pl')"
   ]
  },
  {
   "cell_type": "code",
   "execution_count": 43,
   "metadata": {},
   "outputs": [
    {
     "name": "stdout",
     "output_type": "stream",
     "text": [
      "Jan Kowalski\n",
      "Tel. stacjonarny: 123456789\n",
      "Tel. komórkowy: \n",
      "email: abc@domena.pl\n"
     ]
    }
   ],
   "source": [
    "print(jan_kowalski)"
   ]
  },
  {
   "cell_type": "code",
   "execution_count": 44,
   "metadata": {},
   "outputs": [
    {
     "name": "stdout",
     "output_type": "stream",
     "text": [
      "Jan Kowalski\n",
      "Tel. stacjonarny: 123456789\n",
      "Tel. komórkowy: 700700700\n",
      "email: monty_python@bbc.co.uk\n"
     ]
    }
   ],
   "source": [
    "jan_kowalski.ustaw_komórkowy(700700700)\n",
    "jan_kowalski.ustaw_email('monty_python@bbc.co.uk')\n",
    "print(jan_kowalski)"
   ]
  },
  {
   "cell_type": "markdown",
   "metadata": {
    "slideshow": {
     "slide_type": "slide"
    }
   },
   "source": [
    "## `SpisKontaktów` -- wersja 1.0\n",
    "W klasie `SpisKontaktów` kontakty przechowujemy w słowniku `self._kontakty` jako pary \n",
    "```python\n",
    "imię_nazwisko: osoba\n",
    "```\n",
    "Wartość `osoba` jest instancją klasy `Osoba`."
   ]
  },
  {
   "cell_type": "code",
   "execution_count": 45,
   "metadata": {
    "collapsed": true,
    "slideshow": {
     "slide_type": "-"
    }
   },
   "outputs": [],
   "source": [
    "class SpisKontaktów:\n",
    "    \n",
    "    def __init__(self):\n",
    "        self._kontakty = {}\n",
    "        \n",
    "    def __str__(self):\n",
    "        s = '\\n\\n'.join(str(osoba) for _, osoba in self._kontakty.items())\n",
    "        return s\n",
    "    \n",
    "    def __call__(self, imię_nazwisko):\n",
    "        return self._kontakty[imię_nazwisko]\n",
    "    \n",
    "    def dodaj(self, imię_nazwisko, stacjonarny='', komórka='', email=''):\n",
    "        osoba = Osoba(imię_nazwisko, stacjonarny, komórka, email)\n",
    "        self._kontakty[imię_nazwisko] = osoba"
   ]
  },
  {
   "cell_type": "markdown",
   "metadata": {
    "slideshow": {
     "slide_type": "subslide"
    }
   },
   "source": [
    "Przykład użycia."
   ]
  },
  {
   "cell_type": "code",
   "execution_count": 46,
   "metadata": {},
   "outputs": [
    {
     "name": "stdout",
     "output_type": "stream",
     "text": [
      "John Cleese\n",
      "Tel. stacjonarny: 123456789\n",
      "Tel. komórkowy: \n",
      "email: jc@bbc.co.uk\n",
      "\n",
      "Michael Palin\n",
      "Tel. stacjonarny: \n",
      "Tel. komórkowy: 500500500\n",
      "email: mp@bbc.co.uk\n"
     ]
    }
   ],
   "source": [
    "mój_spis = SpisKontaktów()\n",
    "\n",
    "mój_spis.dodaj('John Cleese', stacjonarny=123456789, email='jc@bbc.co.uk')\n",
    "mój_spis.dodaj('Michael Palin', komórka=500500500, email='mp@bbc.co.uk')\n",
    "\n",
    "print(mój_spis)"
   ]
  },
  {
   "cell_type": "markdown",
   "metadata": {
    "slideshow": {
     "slide_type": "subslide"
    }
   },
   "source": [
    "Modyfikacja kontaktu."
   ]
  },
  {
   "cell_type": "code",
   "execution_count": 47,
   "metadata": {
    "collapsed": true
   },
   "outputs": [],
   "source": [
    "jc = mój_spis('John Cleese')\n",
    "jc.ustaw_komórkowy(200200200)"
   ]
  },
  {
   "cell_type": "code",
   "execution_count": 48,
   "metadata": {},
   "outputs": [
    {
     "name": "stdout",
     "output_type": "stream",
     "text": [
      "John Cleese\n",
      "Tel. stacjonarny: 123456789\n",
      "Tel. komórkowy: 200200200\n",
      "email: jc@bbc.co.uk\n",
      "\n",
      "Michael Palin\n",
      "Tel. stacjonarny: \n",
      "Tel. komórkowy: 500500500\n",
      "email: mp@bbc.co.uk\n"
     ]
    }
   ],
   "source": [
    "print(mój_spis)"
   ]
  },
  {
   "cell_type": "markdown",
   "metadata": {
    "slideshow": {
     "slide_type": "slide"
    }
   },
   "source": [
    "## `__len__(self)`\n",
    "\n",
    "* Zwraca nieujemną liczbę całkowitą, która reprezentuje liczbę elementów w obiekcie.\n",
    "* Metodę `__len__()` wywołują:\n",
    "  * funkcja `len()`;\n",
    "  * funkcja `bool()` jeśli obiekt nie implementuje metody `__bool__()`. Zwraca wówczas `True / False`, gdy `__len__()` zwraca wartość dodatnią / zero."
   ]
  },
  {
   "cell_type": "markdown",
   "metadata": {
    "slideshow": {
     "slide_type": "slide"
    }
   },
   "source": [
    "## `SpisKontaktów` -- wersja 1.1\n",
    "Dopisujemy metodę `__len__()`. "
   ]
  },
  {
   "cell_type": "code",
   "execution_count": 49,
   "metadata": {
    "collapsed": true,
    "slideshow": {
     "slide_type": "-"
    }
   },
   "outputs": [],
   "source": [
    "class SpisKontaktów:\n",
    "    \n",
    "    def __init__(self):\n",
    "        self._kontakty = {}\n",
    "        \n",
    "    def __str__(self):\n",
    "        s = '\\n\\n'.join(str(osoba) for _, osoba in self._kontakty.items())\n",
    "        return s\n",
    "    \n",
    "    def __call__(self, imię_nazwisko):\n",
    "        return self._kontakty[imię_nazwisko]\n",
    "    \n",
    "    def __len__(self):\n",
    "        return len(self._kontakty)\n",
    "    \n",
    "    def dodaj(self, imię_nazwisko, stacjonarny='', komórka='', email=''):\n",
    "        osoba = Osoba(imię_nazwisko, stacjonarny, komórka, email)\n",
    "        self._kontakty[imię_nazwisko] = osoba"
   ]
  },
  {
   "cell_type": "markdown",
   "metadata": {
    "slideshow": {
     "slide_type": "subslide"
    }
   },
   "source": [
    "Przykład użycia."
   ]
  },
  {
   "cell_type": "code",
   "execution_count": 50,
   "metadata": {},
   "outputs": [
    {
     "name": "stdout",
     "output_type": "stream",
     "text": [
      "John Cleese\n",
      "Tel. stacjonarny: 123456789\n",
      "Tel. komórkowy: \n",
      "email: jc@bbc.co.uk\n",
      "\n",
      "Michael Palin\n",
      "Tel. stacjonarny: \n",
      "Tel. komórkowy: 500500500\n",
      "email: mp@bbc.co.uk\n"
     ]
    }
   ],
   "source": [
    "mój_spis = SpisKontaktów()\n",
    "\n",
    "mój_spis.dodaj('John Cleese', stacjonarny=123456789, email='jc@bbc.co.uk')\n",
    "mój_spis.dodaj('Michael Palin', komórka=500500500, email='mp@bbc.co.uk')\n",
    "\n",
    "print(mój_spis)"
   ]
  },
  {
   "cell_type": "code",
   "execution_count": 51,
   "metadata": {
    "slideshow": {
     "slide_type": "-"
    }
   },
   "outputs": [
    {
     "data": {
      "text/plain": [
       "2"
      ]
     },
     "execution_count": 51,
     "metadata": {},
     "output_type": "execute_result"
    }
   ],
   "source": [
    "len(mój_spis)"
   ]
  },
  {
   "cell_type": "code",
   "execution_count": 52,
   "metadata": {},
   "outputs": [
    {
     "data": {
      "text/plain": [
       "True"
      ]
     },
     "execution_count": 52,
     "metadata": {},
     "output_type": "execute_result"
    }
   ],
   "source": [
    "bool(mój_spis)"
   ]
  },
  {
   "cell_type": "code",
   "execution_count": 53,
   "metadata": {
    "slideshow": {
     "slide_type": "subslide"
    }
   },
   "outputs": [
    {
     "data": {
      "text/plain": [
       "0"
      ]
     },
     "execution_count": 53,
     "metadata": {},
     "output_type": "execute_result"
    }
   ],
   "source": [
    "inny_spis = SpisKontaktów()\n",
    "\n",
    "len(inny_spis)"
   ]
  },
  {
   "cell_type": "code",
   "execution_count": 54,
   "metadata": {},
   "outputs": [
    {
     "data": {
      "text/plain": [
       "False"
      ]
     },
     "execution_count": 54,
     "metadata": {},
     "output_type": "execute_result"
    }
   ],
   "source": [
    "bool(inny_spis)"
   ]
  },
  {
   "cell_type": "code",
   "execution_count": 55,
   "metadata": {},
   "outputs": [
    {
     "name": "stdout",
     "output_type": "stream",
     "text": [
      "Jest pusty.\n"
     ]
    }
   ],
   "source": [
    "if inny_spis:\n",
    "    print('Jest niepusty.')\n",
    "else:\n",
    "    print('Jest pusty.')"
   ]
  },
  {
   "cell_type": "code",
   "execution_count": 56,
   "metadata": {},
   "outputs": [
    {
     "name": "stdout",
     "output_type": "stream",
     "text": [
      "Jest niepusty.\n"
     ]
    }
   ],
   "source": [
    "if mój_spis:\n",
    "    print('Jest niepusty.')\n",
    "else:\n",
    "    print('Jest pusty.')"
   ]
  },
  {
   "cell_type": "markdown",
   "metadata": {
    "slideshow": {
     "slide_type": "slide"
    }
   },
   "source": [
    "## `__contains__(self, element)`\n",
    "\n",
    "* Zwraca `True / False` w zależności od tego, czy `element` jest elementem `self`.\n",
    "* Metoda `__contains__()` [**przeładowuje**](https://pl.wikipedia.org/wiki/Przeci%C4%85%C5%BCanie_operator%C3%B3w) operator [**infiksowy**](https://pl.wikipedia.org/wiki/Notacja_infiksowa) `in`."
   ]
  },
  {
   "cell_type": "markdown",
   "metadata": {
    "slideshow": {
     "slide_type": "slide"
    }
   },
   "source": [
    "## `SpisKontaktów` -- wersja 1.2\n",
    "Dopisujemy metodę `__contains__()`. "
   ]
  },
  {
   "cell_type": "code",
   "execution_count": 57,
   "metadata": {
    "collapsed": true,
    "slideshow": {
     "slide_type": "-"
    }
   },
   "outputs": [],
   "source": [
    "class SpisKontaktów:\n",
    "    \n",
    "    def __init__(self):\n",
    "        self._kontakty = {}\n",
    "        \n",
    "    def __str__(self):\n",
    "        s = '\\n\\n'.join(str(osoba) for _, osoba in self._kontakty.items())\n",
    "        return s\n",
    "    \n",
    "    def __call__(self, imię_nazwisko):\n",
    "        return self._kontakty[imię_nazwisko]\n",
    "    \n",
    "    def __len__(self):\n",
    "        return len(self._kontakty)\n",
    "    \n",
    "    def __contains__(self, element):\n",
    "        return element in self._kontakty\n",
    "    \n",
    "    def dodaj(self, imię_nazwisko, stacjonarny='', komórka='', email=''):\n",
    "        osoba = Osoba(imię_nazwisko, stacjonarny, komórka, email)\n",
    "        self._kontakty[imię_nazwisko] = osoba"
   ]
  },
  {
   "cell_type": "markdown",
   "metadata": {
    "slideshow": {
     "slide_type": "subslide"
    }
   },
   "source": [
    "Przykład użycia."
   ]
  },
  {
   "cell_type": "code",
   "execution_count": 58,
   "metadata": {},
   "outputs": [
    {
     "name": "stdout",
     "output_type": "stream",
     "text": [
      "John Cleese\n",
      "Tel. stacjonarny: 123456789\n",
      "Tel. komórkowy: \n",
      "email: jc@bbc.co.uk\n",
      "\n",
      "Michael Palin\n",
      "Tel. stacjonarny: \n",
      "Tel. komórkowy: 500500500\n",
      "email: mp@bbc.co.uk\n"
     ]
    }
   ],
   "source": [
    "mój_spis = SpisKontaktów()\n",
    "\n",
    "mój_spis.dodaj('John Cleese', stacjonarny=123456789, email='jc@bbc.co.uk')\n",
    "mój_spis.dodaj('Michael Palin', komórka=500500500, email='mp@bbc.co.uk')\n",
    "\n",
    "print(mój_spis)"
   ]
  },
  {
   "cell_type": "code",
   "execution_count": 59,
   "metadata": {},
   "outputs": [
    {
     "data": {
      "text/plain": [
       "True"
      ]
     },
     "execution_count": 59,
     "metadata": {},
     "output_type": "execute_result"
    }
   ],
   "source": [
    "'John Cleese' in mój_spis"
   ]
  },
  {
   "cell_type": "code",
   "execution_count": 60,
   "metadata": {},
   "outputs": [
    {
     "data": {
      "text/plain": [
       "False"
      ]
     },
     "execution_count": 60,
     "metadata": {},
     "output_type": "execute_result"
    }
   ],
   "source": [
    "'Terry Gilliam' in mój_spis"
   ]
  },
  {
   "cell_type": "markdown",
   "metadata": {
    "slideshow": {
     "slide_type": "slide"
    }
   },
   "source": [
    "## Do poczytania\n",
    "\n",
    "[http://www.diveintopython3.net/special-method-names.html](http://www.diveintopython3.net/special-method-names.html)\n",
    "\n",
    "[https://docs.python.org/3/reference/datamodel.html#special-method-names](https://docs.python.org/3/reference/datamodel.html#special-method-names)\n",
    "\n",
    "[https://stackoverflow.com/questions/1436703/difference-between-str-and-repr-in-python](https://stackoverflow.com/questions/1436703/difference-between-str-and-repr-in-python)"
   ]
  }
 ],
 "metadata": {
  "anaconda-cloud": {},
  "celltoolbar": "Slideshow",
  "kernelspec": {
   "display_name": "Python [default]",
   "language": "python",
   "name": "python3"
  },
  "language_info": {
   "codemirror_mode": {
    "name": "ipython",
    "version": 3
   },
   "file_extension": ".py",
   "mimetype": "text/x-python",
   "name": "python",
   "nbconvert_exporter": "python",
   "pygments_lexer": "ipython3",
   "version": "3.5.4"
  }
 },
 "nbformat": 4,
 "nbformat_minor": 1
}
