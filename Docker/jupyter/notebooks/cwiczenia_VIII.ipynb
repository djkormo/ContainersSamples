{
 "cells": [
  {
   "cell_type": "markdown",
   "metadata": {},
   "source": [
    "# Ćwiczenia 8\n",
    "\n",
    "## Programowanie dla analizy danych\n",
    "\n",
    "2017/2018, semestr letni\n",
    "\n",
    "---\n",
    "\n",
    "## 1\n",
    "\n",
    "Jedno z zadań z ćwiczeń VI ([arkusz VI.2](http://math.uni.lodz.pl/~rodakt/dane/analiza_danych/17.18/cwiczenia_VI.html)) polegało na implementacji żółwia przemieszczającego sie po ekranie zgodnie z poleceniami `naprzód`, `w_prawo`, `w_lewo`. Wadą tej implementacji było to, że historia położeń żółwia i jego aktualny azymut przechowywane były w obiektach globalnych. Jest to wada, gdyż przykładowo utworzenie dwóch lub więcej różnych żółwi poruszających się niezależnie, wymaga zdefiniowania dla każdego z nich innych obiektów globalnych. Celem tego ćwiczenia jest usunięcie tej niedogodności przez implementację żółwia za pomocą klas.\n",
    "\n",
    "### 1.1\n",
    "\n",
    "Napisz klasę `Żółw`. Klasa powinna implementować atrybuty:\n",
    "* `położenia` -- lista krotek z kolejnymi położeniami;\n",
    "* `azymut` -- aktualny azymut, czyli kąt w stopniach z dodatnią półosią x-ów;\n",
    "* `x`, `y` -- aktualne współrzędne żółwia;\n",
    "* `imię` -- łańcuch będący imieniem żółwia;\n",
    "\n",
    "oraz metody:\n",
    "* `__init__(self, imię, x, y, azymut)` -- inicjalizuje wszystkie wymienione wyżej atrybuty. Domyślne położenie początkowe to środek układu współrzędnych z kierunkiem \"na wschód\";\n",
    "* `__str__(self)` -- zwraca łańcuch postaci `imię(x, y, azymut)`;\n",
    "* `__repr__(self)` -- zwraca łańcuch postaci `Żółw(imię, x, y, azymut)`;\n",
    "* `naprzód(self, r)` -- przesuwa żółwia o `r` w kierunku wskazanym przez azymut;\n",
    "* `w_prawo(self, kąt)`, `w_lewo(self, kąt)` -- obraca żółwia o `kąt`."
   ]
  },
  {
   "cell_type": "code",
   "execution_count": null,
   "metadata": {
    "collapsed": true
   },
   "outputs": [],
   "source": []
  },
  {
   "cell_type": "markdown",
   "metadata": {},
   "source": [
    "#### Test inicjalizacji"
   ]
  },
  {
   "cell_type": "code",
   "execution_count": null,
   "metadata": {
    "collapsed": true
   },
   "outputs": [],
   "source": [
    "gucio = Żółw('Gucio')\n",
    "tuptuś = Żółw('Tuptuś', x=1, y=0, azymut=90)\n",
    "\n",
    "assert gucio.x == 0\n",
    "assert gucio.y == 0\n",
    "assert gucio.położenia == [(0, 0)]\n",
    "assert gucio.azymut == 0\n",
    "\n",
    "assert tuptuś.x == 1\n",
    "assert tuptuś.y == 0\n",
    "assert tuptuś.położenia == [(1, 0)]\n",
    "assert tuptuś.azymut == 90\n",
    "\n",
    "assert repr(gucio) == 'Żółw(\"Gucio\", 0, 0, 0)'\n",
    "assert repr(tuptuś) == 'Żółw(\"Tuptuś\", 1, 0, 90)'\n",
    "\n",
    "assert str(gucio) == 'Gucio(0, 0, 0)'\n",
    "assert str(tuptuś) == 'Tuptuś(1, 0, 90)'"
   ]
  },
  {
   "cell_type": "markdown",
   "metadata": {},
   "source": [
    "#### Testy metod"
   ]
  },
  {
   "cell_type": "code",
   "execution_count": null,
   "metadata": {
    "collapsed": true
   },
   "outputs": [],
   "source": [
    "def prawie_równe(a, b, epsilon=1e-6):\n",
    "    return abs(a - b) < epsilon\n",
    "\n",
    "gucio = Żółw('Gucio')\n",
    "gucio.naprzód(2)\n",
    "gucio.w_lewo(90)\n",
    "gucio.naprzód(1)\n",
    "\n",
    "assert prawie_równe(gucio.x, 2)\n",
    "assert prawie_równe(gucio.y, 1)\n",
    "\n",
    "gucio.w_prawo(135)\n",
    "gucio.naprzód(2**0.5)\n",
    "\n",
    "assert prawie_równe(gucio.x, 3)\n",
    "assert prawie_równe(gucio.y, 0)\n",
    "\n",
    "POŁOŻENIA = [(0, 0), (2, 0), (2, 1), (3, 0)]\n",
    "\n",
    "for (x, y), (xp, yp) in zip(gucio.położenia, POŁOŻENIA):\n",
    "    assert prawie_równe(x, xp), '{} != {}'.format(x, xp)\n",
    "    assert prawie_równe(y, yp), '{} != {}'.format(y, yp)"
   ]
  },
  {
   "cell_type": "markdown",
   "metadata": {
    "collapsed": true
   },
   "source": [
    "### 1.2\n",
    "\n",
    "Jedna z najprostszych procedur w geometrii żółwia wygląda tak:\n",
    "```python\n",
    "def wielokąt(żółw, bok, kąt):\n",
    "    while True:\n",
    "        żółw.naprzód(bok)\n",
    "        żółw.w_prawo(kąt)\n",
    "```\n",
    "Inaczej mówiąc, żółw nieskończenie długo naprzemiennie wędruje naprzód i wykonuje obrót. Dystans i kąt obrotu są ustalone i niezmienne. Zauważ, że jeśli po pewnej (ale niezerowej!) liczbie wykonań naprzód i obrót, położenie i azymut żółwia będą takie jak przed startem, to żółw zacznie chodzić po swoich śladach -- otrzymamy krzywą **zamkniętą**! Stanie się tak np. wtedy, gdy `kąt` będzie dzielnikiem `360`. Wówczas ścieżka żółwia jest `n`-kątem foremnym. Ogólniej, prawdziwe jest twierdzenie:\n",
    "> **Twierdzenie o zamknięciu `wielokąt`a**. Załóżmy, że `kąt` nie jest całkowitą wielokrotnością `360`. Wtedy, krzywa rysowana przez `wielokąt(żółw, bok, kąt)` zamknie się dokładnie wtedy, gdy **obrót całkowity** żółwia będzie całkowitą wielokrotnością `360`.\n",
    "\n",
    "Na podstawie funkcji `wielokąt()` napisz funkcję `wielokąt_ze_stopem(żółw, bok, kąt)`. Ma to być tak naprawdę ta sama funkcja, ale z pętlą skończoną. Koniec pętli ma wypadać dokładnie w tym momencie, w którym krzywa żółwiowa się zamyka.\n",
    "\n",
    "Więcej szczegółów na temat geometrii żółwia, w tym dowód powyższego twierdzenia, znajdziesz [tutaj](https://mitpress.mit.edu/books/turtle-geometry) i [tutaj](http://math.uni.lodz.pl/~rodakt/fn.html)."
   ]
  },
  {
   "cell_type": "code",
   "execution_count": null,
   "metadata": {
    "collapsed": true
   },
   "outputs": [],
   "source": []
  },
  {
   "cell_type": "markdown",
   "metadata": {},
   "source": [
    "#### Testy"
   ]
  },
  {
   "cell_type": "code",
   "execution_count": null,
   "metadata": {
    "collapsed": true
   },
   "outputs": [],
   "source": [
    "gucio = Żółw('Gucio')\n",
    "wielokąt_ze_stopem(gucio, 1, 90)\n",
    "\n",
    "assert len(gucio.położenia) == 5, 'Przy obrocie o 90 stopni powinien wyjść kwadrat.'\n",
    "\n",
    "tuptuś = Żółw('Tuptuś')\n",
    "wielokąt_ze_stopem(tuptuś, 1, 72)\n",
    "\n",
    "assert len(tuptuś.położenia) == 6, 'Przy obrocie o 72 stopnie powinien wyjść pięciokąt.'\n",
    "\n",
    "lutek = Żółw('Lutek')\n",
    "wielokąt_ze_stopem(lutek, 1, 144)\n",
    "\n",
    "assert len(lutek.położenia) == 6, 'Przy obrocie o 144 stopnie powinien wyjść pentagram.'"
   ]
  },
  {
   "cell_type": "markdown",
   "metadata": {},
   "source": [
    "#### Test rysunkowy"
   ]
  },
  {
   "cell_type": "code",
   "execution_count": null,
   "metadata": {
    "collapsed": true
   },
   "outputs": [],
   "source": [
    "from matplotlib import pyplot as plt\n",
    "%matplotlib inline\n",
    "\n",
    "plt.style.use('seaborn-notebook')"
   ]
  },
  {
   "cell_type": "code",
   "execution_count": null,
   "metadata": {},
   "outputs": [],
   "source": [
    "plt.close('all')\n",
    "\n",
    "fig, ax = plt.subplots()\n",
    "fig.set_size_inches(12, 12)\n",
    "\n",
    "gucio = Żółw('Gucio')\n",
    "wielokąt_ze_stopem(gucio, 1, 170)\n",
    "\n",
    "iksy = [x for x, y in gucio.położenia]\n",
    "igreki = [y for x, y in gucio.położenia]\n",
    "\n",
    "ax.plot(iksy, igreki)"
   ]
  },
  {
   "cell_type": "markdown",
   "metadata": {},
   "source": [
    "### 1.3\n",
    "\n",
    "Napisz funkcję `błądzenie_losowe(żółw, liczba_kroków, kąty, r)`. Opis parametrów:\n",
    "* `żółw` -- instancja klasy `Żółw`;\n",
    "* `liczba_kroków` -- liczba kroków żółwia, czyli wykonań sekwencji\n",
    "  ```python\n",
    "  żółw.naprzód(r)\n",
    "  żółw.w_lewo(kąt)\n",
    "  ```\n",
    "* `kąty` -- obiekt iterowalny (np. lista lub zakres `range()`) zawierający kąty do wyboru. Domyślnie ustawiony na `range(360)`;\n",
    "* `r` -- dystans dla każdego `naprzód()`. Domyślnie ustawiony na `1`.\n",
    "\n",
    "Funkcja ma wykonywać zadaną liczbę razy sekwencję\n",
    "```python\n",
    "żółw.naprzód(r)\n",
    "żółw.w_lewo(kąt)\n",
    "```\n",
    "Przed każdym wykonaniem tej sekwencji `kąt` jest losowany (użyj `random.choice`) z obiektu `kąty`."
   ]
  },
  {
   "cell_type": "code",
   "execution_count": null,
   "metadata": {
    "collapsed": true
   },
   "outputs": [],
   "source": []
  },
  {
   "cell_type": "markdown",
   "metadata": {},
   "source": [
    "#### Test rysunkowy"
   ]
  },
  {
   "cell_type": "code",
   "execution_count": null,
   "metadata": {},
   "outputs": [],
   "source": [
    "plt.close('all')\n",
    "\n",
    "fig, ax = plt.subplots()\n",
    "fig.set_size_inches(12, 12)\n",
    "\n",
    "ax.set_aspect('equal')\n",
    "\n",
    "gucio = Żółw('Gucio')\n",
    "błądzenie_losowe(gucio, 200, kąty=range(0, 360, 10))\n",
    "\n",
    "iksy = [x for x, y in gucio.położenia]\n",
    "igreki = [y for x, y in gucio.położenia]\n",
    "\n",
    "ax.plot(iksy, igreki)"
   ]
  },
  {
   "cell_type": "markdown",
   "metadata": {
    "collapsed": true
   },
   "source": [
    "### 1.4\n",
    "\n",
    "Do klasy `Żółw` dopisz metody \n",
    "* `podnieś_pisak(self)`, `opuść_pisak(self)` -- ustawiają wewnętrzny atrybut `self._pisak`;\n",
    "* `pisak(self)` -- zwraca `True/False` w zależności od tego czy pisak jest opuszczony/podniesiony.\n",
    "\n",
    "Gdy pisak jest opuszczony, to żółw zapamiętuje swoją ścieżkę. Przy pisaku podniesionym żółw zapamiętuje jedynie aktualne położenie i azymut. Stan pisaka przechowaj w atrybucie `self._pisak`. Domyślnie ustaw go na `True`. Klasa `Żółw` powinna teraz akceptować wywołanie postaci\n",
    "```python\n",
    "Żółw('Gucio', x=1, y=100, azymut=90, pisak=False)\n",
    "```\n",
    "Ponieważ pisak może być wielokrotnie podnoszony i opuszczany, żółw ma do zapamiętania potencjalnie wiele ścieżek. Przechowaj je w atrybucie `self.ścieżki` (atrybut `self.położenia` usuń). Atrybut `self.ścieżki` to lista zawierająca ścieżki, czyli listy punktów. Inaczej mówiąc każda ścieżka to lista taka jak `self.położenia` w pierwszej implementacji. Dokonaj stosownych zmian w całej klasie."
   ]
  },
  {
   "cell_type": "code",
   "execution_count": null,
   "metadata": {
    "collapsed": true
   },
   "outputs": [],
   "source": []
  },
  {
   "cell_type": "markdown",
   "metadata": {
    "collapsed": true
   },
   "source": [
    "### 1.5\n",
    "\n",
    "Narysuj dwa nieprzecinające się kwadraty."
   ]
  },
  {
   "cell_type": "code",
   "execution_count": null,
   "metadata": {
    "collapsed": true
   },
   "outputs": [],
   "source": []
  },
  {
   "cell_type": "markdown",
   "metadata": {},
   "source": [
    "#### Test"
   ]
  },
  {
   "cell_type": "code",
   "execution_count": null,
   "metadata": {},
   "outputs": [],
   "source": [
    "plt.close('all')\n",
    "\n",
    "fig, ax = plt.subplots()\n",
    "fig.set_size_inches(12, 12)\n",
    "\n",
    "ax.set_aspect('equal')\n",
    "\n",
    "for ścieżka in gucio.ścieżki:\n",
    "    iksy = [x for x, y in ścieżka]\n",
    "    igreki = [y for x, y in ścieżka]\n",
    "    ax.plot(iksy, igreki)"
   ]
  },
  {
   "cell_type": "markdown",
   "metadata": {},
   "source": [
    "### 1.6\n",
    "\n",
    "Jak utworzyć taki rysunek?\n",
    "\n",
    "<img src=\"fig.png\">"
   ]
  }
 ],
 "metadata": {
  "anaconda-cloud": {},
  "kernelspec": {
   "display_name": "Python [default]",
   "language": "python",
   "name": "python3"
  },
  "language_info": {
   "codemirror_mode": {
    "name": "ipython",
    "version": 3
   },
   "file_extension": ".py",
   "mimetype": "text/x-python",
   "name": "python",
   "nbconvert_exporter": "python",
   "pygments_lexer": "ipython3",
   "version": "3.5.4"
  }
 },
 "nbformat": 4,
 "nbformat_minor": 2
}
