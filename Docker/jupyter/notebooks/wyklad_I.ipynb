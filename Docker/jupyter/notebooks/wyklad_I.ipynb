{
 "cells": [
  {
   "cell_type": "markdown",
   "metadata": {
    "slideshow": {
     "slide_type": "slide"
    }
   },
   "source": [
    "# Podstawy programowania w analizie danych\n",
    "\n",
    "## Tomasz Rodak\n",
    "\n",
    "2017/2018, semestr letni\n",
    "\n",
    "Wykład I"
   ]
  },
  {
   "cell_type": "markdown",
   "metadata": {
    "slideshow": {
     "slide_type": "slide"
    }
   },
   "source": [
    "# Wprowadzenie"
   ]
  },
  {
   "cell_type": "markdown",
   "metadata": {
    "slideshow": {
     "slide_type": "slide"
    }
   },
   "source": [
    "## Zaliczenie\n",
    "\n",
    "* Kolokwium na ostatnich zajęciach \"przy komputerze\". Ocena z kolokwium staje się oceną z ćwiczeń.\n",
    "* Egzamin pisemny (test) w sesji. Ocena z egzaminu jest oceną z wykładu.\n",
    "* Do egzaminu należy przystąpić niezależnie od tego czy ćwiczenia zostały zaliczone.\n",
    "* Ocena w protokole ogólnym jest średnią z ocen z wykładu i ćwiczeń."
   ]
  },
  {
   "cell_type": "markdown",
   "metadata": {
    "slideshow": {
     "slide_type": "slide"
    }
   },
   "source": [
    "## Anaconda\n",
    "\n",
    "Rdzeń języka plus standardowe biblioteki stanowi zaledwie małą część tego co do tej pory zdołała utworzyć społeczność Pythona. [Anaconda](https://anaconda.org/anaconda) to dystrybucja Pythona zawierająca ważne biblioteki nienależące do standardu wraz z mechanizmem `conda` umożliwiającym instalację kolejnych.\n",
    "\n",
    "Ponadto składnikiem Anacondy jest doskonały edytor/notatnik Jupyter pozwalający na znacznie bardziej \"eksperymentalny\" tryb pracy niż typowe środowiska programistyczne.\n",
    "\n",
    "Slajdy, na które właśnie patrzysz zostały napisane w notatniku Jupyter."
   ]
  },
  {
   "cell_type": "markdown",
   "metadata": {
    "slideshow": {
     "slide_type": "slide"
    }
   },
   "source": [
    "## Instalacja pakietów w Anacondzie\n",
    "\n",
    "* [Tutaj](https://docs.anaconda.com/anaconda/packages/pkg-docs) znajdziesz listę pakietów dostępnych w Anacondzie.\n",
    "* Instalację pakietu przeprowadzisz za pomocą mechanizmu [`conda`](https://conda.io/docs/user-guide/index.html).\n",
    "  \n",
    "  Przykład:\n",
    "  \n",
    "  Komenda\n",
    "  ```\n",
    "  conda install biopython\n",
    "  ```\n",
    "  zainstaluje pakiet `biopython`. Komendę tę należy wykonać w oknie Anaconda Prompt (w MS Windows) lub w terminalu (Linux).\n",
    "\n",
    "**Uwaga:** W \"domowej\" dystrybucji warto nowe instalacje przeprowadzać w [**środowiskach wirtualnych**](https://conda.io/docs/user-guide/tasks/manage-environments.html). Dzięki temu:\n",
    "* tworzysz dystrybucje wyspecjalizowane do konkretnych zadań,\n",
    "* zapobiegasz konfliktom miedzy pakietami,\n",
    "* utrzymujesz porządek :-)"
   ]
  },
  {
   "cell_type": "markdown",
   "metadata": {
    "slideshow": {
     "slide_type": "slide"
    }
   },
   "source": [
    "## Polecane źródła\n",
    "\n",
    "### W internecie:\n",
    "\n",
    "* Oficjalna dokumentacja [https://docs.python.org/3/](https://docs.python.org/3/). W tym:\n",
    "  * Opis biblioteki standardowej: [https://docs.python.org/3/library/index.html](https://docs.python.org/3/library/index.html)\n",
    "  * Opis języka: [https://docs.python.org/3/reference/index.html](https://docs.python.org/3/reference/index.html)\n",
    "  * Tutorial: [https://docs.python.org/3/tutorial/index.html](https://docs.python.org/3/tutorial/index.html)\n",
    "  * HOWTOs: [https://docs.python.org/3/howto/index.html](https://docs.python.org/3/howto/index.html)\n",
    "* Biblioteka standardowa w przykładach: [https://pymotw.com/3/](https://pymotw.com/3/)\n",
    "* Galeria notatników Jupytera: [https://github.com/jupyter/jupyter/wiki/A-gallery-of-interesting-Jupyter-Notebooks](https://github.com/jupyter/jupyter/wiki/A-gallery-of-interesting-Jupyter-Notebooks)"
   ]
  },
  {
   "cell_type": "markdown",
   "metadata": {
    "slideshow": {
     "slide_type": "subslide"
    }
   },
   "source": [
    "### Książki\n",
    "\n",
    "Na początek:\n",
    "\n",
    "* Eric Matthes, [*Python. Instrukcje dla programisty*](https://www.worldcat.org/title/python-instrukcje-dla-programisty/oclc/971388806&referer=brief_results)\n",
    "* Mark Lutz, [*Python. Wprowadzenie*](https://www.worldcat.org/title/python-wprowadzenie/oclc/802156389&referer=brief_results)\n",
    "\n",
    "Na później:\n",
    "\n",
    "* Luciano Ramahlo, [*Zaawansowany Python*](https://helion.pl/ksiazki/zaawansowany-python-luciano-ramalho,e_07wh.htm#format/e)\n",
    "* David Beazley, Brian K. Jones, [*Python. Receptury*](https://www.worldcat.org/title/python-receptury-wydanie-iii/oclc/968120217&referer=brief_results)"
   ]
  },
  {
   "cell_type": "markdown",
   "metadata": {
    "slideshow": {
     "slide_type": "slide"
    }
   },
   "source": [
    "# Błędy i wyjątki"
   ]
  },
  {
   "cell_type": "markdown",
   "metadata": {
    "slideshow": {
     "slide_type": "slide"
    }
   },
   "source": [
    "## Czym są wyjątki ([Exceptions](https://docs.python.org/3/library/exceptions.html))?\n",
    "\n",
    "* Wyjątki to błędy, które powstają podczas działania programu.\n",
    "* W Pythona wbudowane jest wiele różnych wyjątków. Wyjątki te tworzą **hierarchię**.\n",
    "* Program, w którym zostanie wywołany wyjątek zostaje przerwany, chyba że wyjątek zostanie **obsłużony**.\n",
    "* Rodzaj powstałego wyjątku sugeruje rodzaj błędu."
   ]
  },
  {
   "cell_type": "markdown",
   "metadata": {
    "slideshow": {
     "slide_type": "slide"
    }
   },
   "source": [
    "## Przykłady wyjątków\n",
    "\n",
    "* `ValueError` -- prawidłowy typ argumentu ale nieprawidłowa wartość.\n",
    "* `IndexError` -- liczba całkowita nie jest indeksem sekwencji.\n",
    "* `KeyError` -- obiekt nie jest kluczem słownika.\n",
    "* `NameError` -- niezdefiniowana nazwa.\n",
    "* `ZeroDivisionError` -- dzielenie przez zero.\n",
    "* `FileNotFoundError` -- plik nie został odnaleziony.\n",
    "* `RecursionError` -- przekroczony limit wywołań rekurencyjnych.\n",
    "* ..."
   ]
  },
  {
   "cell_type": "markdown",
   "metadata": {
    "slideshow": {
     "slide_type": "slide"
    }
   },
   "source": [
    "## Obsługa wyjątków: `try...except`\n",
    "\n",
    "Kod\n",
    "```python\n",
    "try:\n",
    "    niebezpieczny_kod\n",
    "except RodzajWyjątku:\n",
    "    wykonaj_alternatywę\n",
    "```\n",
    "tłumaczy się na\n",
    "\n",
    "* Spróbuj wykonać `niebezpieczny_kod`.\n",
    "* Jeśli nie wystapi żaden błąd, to pomiń blok `except` i działaj dalej.\n",
    "* Jeśli wystąpił wyjątek inny niż ten po `except`, to go wywołaj (i przerwij program).\n",
    "* Jeśli wystąpił błąd `RodzajWyjątku`, to wykonaj blok `except` (i idź dalej, chyba że znów trafi się wyjątek)."
   ]
  },
  {
   "cell_type": "markdown",
   "metadata": {
    "slideshow": {
     "slide_type": "subslide"
    }
   },
   "source": [
    "## Wymuszamy wczytanie liczby całkowitej"
   ]
  },
  {
   "cell_type": "code",
   "execution_count": null,
   "metadata": {
    "collapsed": true
   },
   "outputs": [],
   "source": [
    "while True:\n",
    "    try:\n",
    "        k = int(input('Podaj liczbę całkowitą: '))\n",
    "        break\n",
    "    except ValueError:\n",
    "        print('To nie jest liczba całkowita.')\n",
    "        print('Spróbuj jeszcze raz.')"
   ]
  },
  {
   "cell_type": "markdown",
   "metadata": {
    "slideshow": {
     "slide_type": "slide"
    }
   },
   "source": [
    "## Szczegóły dla instrukcji `except`\n",
    "\n",
    "Jeśli po `except` nie ma nazwy żadnego wyjątku, to przechwytywane są wszystkie. Używaj tej opcji ostrożnie!"
   ]
  },
  {
   "cell_type": "code",
   "execution_count": null,
   "metadata": {
    "collapsed": true
   },
   "outputs": [],
   "source": [
    "while True:\n",
    "    try:\n",
    "        k = int(input('Podaj liczbę całkowitą: '))\n",
    "        break\n",
    "    except:\n",
    "        print('To nie jest liczba całkowita.')\n",
    "        print('Spróbuj jeszcze raz.')"
   ]
  },
  {
   "cell_type": "markdown",
   "metadata": {
    "slideshow": {
     "slide_type": "subslide"
    }
   },
   "source": [
    "Po `except` można wymienić więcej niż jeden wyjątek."
   ]
  },
  {
   "cell_type": "code",
   "execution_count": null,
   "metadata": {
    "collapsed": true
   },
   "outputs": [],
   "source": [
    "kontener, pozycja = {'a': 1, 'b': 2} , 'c'\n",
    "\n",
    "try:\n",
    "    print(kontener[pozycja])\n",
    "except (IndexError, KeyError):\n",
    "    print('Nieprawidłowo wybrana pozycja.')"
   ]
  },
  {
   "cell_type": "markdown",
   "metadata": {
    "slideshow": {
     "slide_type": "subslide"
    }
   },
   "source": [
    "Instrukcje `except` można wymieniać kolejno po sobie."
   ]
  },
  {
   "cell_type": "code",
   "execution_count": null,
   "metadata": {
    "collapsed": true
   },
   "outputs": [],
   "source": [
    "kontener, pozycja = {'a': 1, 'b': 2} , 'c'\n",
    "\n",
    "try:\n",
    "    print(kontener[pozycja])\n",
    "except IndexError:\n",
    "    print('Pozycja poza sekwencją.')\n",
    "except KeyError:\n",
    "    print('Błędny klucz.')"
   ]
  },
  {
   "cell_type": "markdown",
   "metadata": {
    "slideshow": {
     "slide_type": "slide"
    }
   },
   "source": [
    "## Instrukcja `else`\n",
    "\n",
    "Po wszystkich blokach `except` można opcjonalnie wstawić blok `else`. Blok ten wykona się dokładnie wtedy, gdy w bloku `try` nie pojawił się wyjątek."
   ]
  },
  {
   "cell_type": "code",
   "execution_count": null,
   "metadata": {
    "collapsed": true
   },
   "outputs": [],
   "source": [
    "try:\n",
    "    f = open('notka.txt')\n",
    "except FileNotFoundError:\n",
    "    print('Plik nie istnieje!')\n",
    "else:\n",
    "    print('Twój plik ma', len(f.readlines()), 'linii.')\n",
    "    f.close()"
   ]
  },
  {
   "cell_type": "markdown",
   "metadata": {
    "slideshow": {
     "slide_type": "slide"
    }
   },
   "source": [
    "## Sprzątanie. Instrukcja `finally`\n",
    "\n",
    "Opcjonalny blok `finally` wstawia się po wszystkich `except` lub po `else` (gdy występuje). Blok `finally` zostaje wykonany przed opuszczeniem bloku `try`, bez względu na to co w bloku `try` się działo. Blok `finally` służy do wykonania akcji \"czyszczących\"."
   ]
  },
  {
   "cell_type": "code",
   "execution_count": null,
   "metadata": {
    "collapsed": true
   },
   "outputs": [],
   "source": [
    "try:\n",
    "    f = open('notka.txt')\n",
    "    a = 1 / 0 # Wyjątek, który nie zostanie obsłużony.\n",
    "except FileNotFoundError:\n",
    "    print('Plik nie istnieje!')\n",
    "else:\n",
    "    print('Twój plik ma', len(f.readlines()), 'linii.')\n",
    "finally:\n",
    "    f.close()"
   ]
  },
  {
   "cell_type": "markdown",
   "metadata": {
    "slideshow": {
     "slide_type": "slide"
    }
   },
   "source": [
    "## Wywoływanie wyjątków. Instrukcja `raise`\n",
    "\n",
    "Instrukcja `raise` wywołuje wyjątek."
   ]
  },
  {
   "cell_type": "code",
   "execution_count": null,
   "metadata": {
    "collapsed": true
   },
   "outputs": [],
   "source": [
    "raise KeyboardInterrupt"
   ]
  },
  {
   "cell_type": "markdown",
   "metadata": {
    "slideshow": {
     "slide_type": "subslide"
    }
   },
   "source": [
    "Instrukcja `raise` podana bez parametrów w bloku `except` wywołuje obsługiwany wyjątek."
   ]
  },
  {
   "cell_type": "code",
   "execution_count": null,
   "metadata": {
    "collapsed": true
   },
   "outputs": [],
   "source": [
    "a, b = 1, 0\n",
    "\n",
    "try:\n",
    "    print(a / b)\n",
    "except:\n",
    "    print('Nie wiem co się stało :-(')\n",
    "    raise"
   ]
  },
  {
   "cell_type": "markdown",
   "metadata": {
    "slideshow": {
     "slide_type": "slide"
    }
   },
   "source": [
    "## Argumenty wyjątków\n",
    "\n",
    "Wyjątki można wywoływać ze stowarzyszoną informacją."
   ]
  },
  {
   "cell_type": "code",
   "execution_count": null,
   "metadata": {
    "collapsed": true
   },
   "outputs": [],
   "source": [
    "try:\n",
    "    1 / 0\n",
    "except ZeroDivisionError:\n",
    "    raise ZeroDivisionError('Próbowałeś dzielić przez zero!')"
   ]
  },
  {
   "cell_type": "markdown",
   "metadata": {
    "slideshow": {
     "slide_type": "slide"
    }
   },
   "source": [
    "## Instrukcja `assert` i `AssertionError`\n",
    "\n",
    "Wywołanie\n",
    "```python\n",
    "assert expr\n",
    "```\n",
    "rzuca wyjątkiem `AssertionError`, gdy wartość zwracana przez `expr` nie jest przez `bool()` przeliczana na `True`. \n",
    "\n",
    "Można też pisać\n",
    "```python\n",
    "assert expr, s\n",
    "```\n",
    "Wtedy wyjątek `AssertionError` ma dodatkowo komunikat o wartości `s`."
   ]
  },
  {
   "cell_type": "markdown",
   "metadata": {
    "slideshow": {
     "slide_type": "slide"
    }
   },
   "source": [
    "## Tworzenie testów\n",
    "\n",
    "Napisz funkcję `wymnóż(a, b)`. Funkcja ma zwracać iloczyn obiektów `a` i `b`. Zadbaj, aby `wymnóż()` miała docstring. Funkcja powinna przejść testy:"
   ]
  },
  {
   "cell_type": "code",
   "execution_count": null,
   "metadata": {
    "collapsed": true
   },
   "outputs": [],
   "source": [
    "assert wymnóż(1, 2) == 2, 'Oj! Coś jest nie tak. Przecież 1 * 2 == 2!'\n",
    "assert wymnóż(3, '*') == '***'\n",
    "assert wymnóż([], 4) == []\n",
    "assert wymnóż.__doc__, 'Nie napisałeś docstringu!'"
   ]
  },
  {
   "cell_type": "markdown",
   "metadata": {
    "slideshow": {
     "slide_type": "slide"
    }
   },
   "source": [
    "## Nie wykorzystuj `assert` jako instrukcji sterującej!\n",
    "\n",
    "Wszystkie wystąpienia `assert` zostaną przez interpreter pominięte jeśli zmienna `__debug__` będzie miała wartość `False`. Podobnie komenda\n",
    "```python\n",
    "python -O program.py\n",
    "```\n",
    "wyłącza `assert`."
   ]
  },
  {
   "cell_type": "markdown",
   "metadata": {
    "slideshow": {
     "slide_type": "slide"
    }
   },
   "source": [
    "## [EAFP](https://docs.python.org/3/glossary.html#term-eafp) vs [LBYL](https://docs.python.org/3/glossary.html#term-lbyl)\n",
    "\n",
    "* EAFP -- Easier to ask for forgiveness than permission.\n",
    "* LBYL -- Look before you leap.\n",
    "\n"
   ]
  }
 ],
 "metadata": {
  "anaconda-cloud": {},
  "celltoolbar": "Slideshow",
  "kernelspec": {
   "display_name": "Python [default]",
   "language": "python",
   "name": "python3"
  },
  "language_info": {
   "codemirror_mode": {
    "name": "ipython",
    "version": 3
   },
   "file_extension": ".py",
   "mimetype": "text/x-python",
   "name": "python",
   "nbconvert_exporter": "python",
   "pygments_lexer": "ipython3",
   "version": "3.5.3"
  }
 },
 "nbformat": 4,
 "nbformat_minor": 2
}
