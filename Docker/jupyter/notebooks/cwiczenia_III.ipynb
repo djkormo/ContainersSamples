{
 "cells": [
  {
   "cell_type": "markdown",
   "metadata": {},
   "source": [
    "# Ćwiczenia 3\n",
    "\n",
    "## Programowanie dla analizy danych\n",
    "\n",
    "2017/2018, semestr letni\n",
    "\n",
    "## 1\n",
    "\n",
    "W obu podpunktach tego zadania należy zmienić w miejscu zdefiniowaną niżej listę `słowa`. Pamiętaj, aby przed rozpoczęciem każdego podpunktu zatwierdzić poniższą komórkę."
   ]
  },
  {
   "cell_type": "code",
   "execution_count": null,
   "metadata": {
    "collapsed": true
   },
   "outputs": [],
   "source": [
    "wierszyk = '''czarna krowa w kropki bordo\n",
    "gryzła trawę kręcąc mordą\n",
    "kręcąc mordą i rogami\n",
    "gryzła trawę wraz z jaskrami'''\n",
    "\n",
    "słowa = wierszyk.split()\n",
    "_słowa_testref = słowa\n",
    "słowa"
   ]
  },
  {
   "cell_type": "markdown",
   "metadata": {},
   "source": [
    "### 1.1\n",
    "\n",
    "W liście `słowa` zamień **w miejscu** każde słowo na liczbę tworzących je znaków."
   ]
  },
  {
   "cell_type": "code",
   "execution_count": null,
   "metadata": {
    "collapsed": true
   },
   "outputs": [],
   "source": []
  },
  {
   "cell_type": "markdown",
   "metadata": {},
   "source": [
    "#### Testy"
   ]
  },
  {
   "cell_type": "code",
   "execution_count": null,
   "metadata": {
    "collapsed": true
   },
   "outputs": [],
   "source": [
    "assert słowa is _słowa_testref, 'Nie wykonałeś operacji \"w miejscu\".'\n",
    "assert słowa[:3] == [6, 5, 1]\n",
    "assert słowa[-3:] == [4, 1, 8]\n",
    "assert sum(słowa) == len(wierszyk.replace(' ', '').replace('\\n', ''))"
   ]
  },
  {
   "cell_type": "markdown",
   "metadata": {},
   "source": [
    "### 1.2\n",
    "\n",
    "Rozszerz listę `słowa` o listę `słowa`, w której odwrócono kolejność. Operację wykonaj **w miejscu**."
   ]
  },
  {
   "cell_type": "code",
   "execution_count": null,
   "metadata": {
    "collapsed": true
   },
   "outputs": [],
   "source": []
  },
  {
   "cell_type": "markdown",
   "metadata": {},
   "source": [
    "#### Testy"
   ]
  },
  {
   "cell_type": "code",
   "execution_count": null,
   "metadata": {
    "collapsed": true
   },
   "outputs": [],
   "source": [
    "assert słowa is _słowa_testref, 'Nie wykonałeś operacji \"w miejscu\".'\n",
    "assert słowa[:3] == ['czarna', 'krowa', 'w']\n",
    "assert słowa[-3:] == ['w', 'krowa', 'czarna']"
   ]
  },
  {
   "cell_type": "markdown",
   "metadata": {},
   "source": [
    "---\n",
    "## 2\n",
    "\n",
    "[Algorytm Euklidesa](https://pl.wikipedia.org/wiki/Algorytm_Euklidesa) wygląda następująco. Niech $r_1$, $r_2$ będą dodatnimi liczbami całkowitymi. Dzielimi $r_1$ przez $r_2$ z resztą uzyskując \n",
    "$$r_1=q_2\\cdot r_2+r_3,$$\n",
    "gdzie $q_2>0$, $r_3\\in \\{0, 1,\\ldots,r_2-1\\}$. Jeśli okaże się, że $r_3\\ne 0$, to znów wykonujemy dzielenie z resztą, tym razem $r_2$ przez $r_3$:\n",
    "$$r_2=q_3\\cdot r_3+r_4.$$\n",
    "Następnie dzielimy $r_3$ przez $r_4$, o ile oczywiście $r_4\\ne 0$, uzyskując\n",
    "$$r_3=q_4\\cdot r_4+r_5,$$\n",
    "itd. Ponieważ ciąg $r_2,r_3,r_4,\\ldots$ jest z jednej strony silnie malejący, z drugiej -- zawiera liczby nieujemne, więc musi osiągnąć w końcu wartość zero i algorytm się wtedy zatrzyma.\n",
    "\n",
    "### 2.1\n",
    "\n",
    "Napisz funkcję `euklides(a, b)`. Parametry `a`, `b` to dodatnie liczby całkowite. Przyjmując, że `a` i `b` to, odpowiednio $r_1$ i $r_2$, funkcja zwraca w postaci listy zdefiniowane wyżej liczby $r_1,r_2,r_3,r_4,\\ldots$ aż do końcowego zera włącznie "
   ]
  },
  {
   "cell_type": "code",
   "execution_count": null,
   "metadata": {
    "collapsed": true
   },
   "outputs": [],
   "source": []
  },
  {
   "cell_type": "markdown",
   "metadata": {},
   "source": [
    "#### Testy"
   ]
  },
  {
   "cell_type": "code",
   "execution_count": null,
   "metadata": {
    "collapsed": true
   },
   "outputs": [],
   "source": [
    "assert euklides(1, 1) == [1, 1, 0]\n",
    "assert euklides(2, 1) == [2, 1, 0]\n",
    "assert euklides(1, 2) == [1, 2, 1, 0]\n",
    "assert euklides(17, 13) == [17, 13, 4, 1, 0]\n",
    "assert euklides.__doc__, 'Nie napisałeś docstringu!'"
   ]
  },
  {
   "cell_type": "markdown",
   "metadata": {},
   "source": [
    "### 2.2\n",
    "\n",
    "Wyznacz parę liczb `a`, `b` z zakresu `2 <= b < a <= 1000`, która wymaga największej liczby dzieleń w algorytmie euklidesa."
   ]
  },
  {
   "cell_type": "code",
   "execution_count": null,
   "metadata": {
    "collapsed": true
   },
   "outputs": [],
   "source": []
  },
  {
   "cell_type": "markdown",
   "metadata": {},
   "source": [
    "---\n",
    "## 3\n",
    "\n",
    "[Sito Eratostenesa](https://pl.wikipedia.org/wiki/Sito_Eratostenesa) to algorytm pozwalający na wyznaczenie wszystkich liczb pierwszych nie przekraczających zadanej liczby naturalnej `n`. Algorytm ten działa następująco. Zakładając, że została wybrana liczba naturalna `n > 1`, zaczynamy od utworzenia listy liczb `2, 3, ..., n`. Następnie\n",
    "* skreślamy z listy wszystkie większe do `2` wielokrotności `2`,\n",
    "* przesuwamy się do pierwszej nieskreślonej liczby (będzie to `3`) i skreślamy wszystkie jej wielokrotności od niej większe,\n",
    "* znów przesuwamy się do pierwszej nieskreślonej liczby (teraz będzie to `5`) i skreślamy wszystkie jej wielokrotności od niej większe,\n",
    "* itd. aż dojdziemy do końca listy.\n",
    "\n",
    "Przykładowo, dla `n` równego `10` uzyskamy\n",
    "<code>\n",
    "2, 3, 4, 5, 6, 7, 8, 9, 10\n",
    "2, 3, <font color=\"blue\">**~~4~~**</font>, 5, <font color=\"blue\">**~~6~~**</font>, 7, <font color=\"blue\">**~~8~~**</font>, 9, <font color=\"blue\">**~~10~~**</font>\n",
    "2, 3, <font color=\"blue\">**~~4~~**</font>, 5, <font color=\"blue\">**~~6~~**</font>, 7, <font color=\"blue\">**~~8~~**</font>, <font color=\"blue\">**~~9~~**</font>, <font color=\"blue\">**~~10~~**</font>\n",
    "</code>\n",
    "\n",
    "dostając finalnie ciąg `2, 3, 5, 7`, czyli liczby pierwsze nie przekraczające `10`.\n",
    "\n",
    "### 3.1 \n",
    "\n",
    "Napisz funkcję `sito(n)`. Parametr `n` jest liczbą naturalną większą od `1`. Funkcja zwraca listę liczb pierwszych mieszczących się w zakresie od `2` do `n`. Funkcja powinna realizować opisany wyżej algorytm."
   ]
  },
  {
   "cell_type": "code",
   "execution_count": null,
   "metadata": {
    "collapsed": true
   },
   "outputs": [],
   "source": []
  },
  {
   "cell_type": "markdown",
   "metadata": {},
   "source": [
    "#### Testy"
   ]
  },
  {
   "cell_type": "code",
   "execution_count": null,
   "metadata": {
    "collapsed": true
   },
   "outputs": [],
   "source": [
    "assert sito(2) == [2]\n",
    "assert sito(10) == [2, 3, 5, 7]\n",
    "\n",
    "# http://www.wolframalpha.com/input/?i=sum+of+primes+%3C+1000\n",
    "assert sum(sito(1000)) == 76127\n",
    "assert sito.__doc__, 'Nie napisałeś docstringu!'"
   ]
  },
  {
   "cell_type": "markdown",
   "metadata": {},
   "source": [
    "### 3.2\n",
    "\n",
    "Napisz funkcję [`pi(n)`](https://pl.wikipedia.org/wiki/Funkcja_%CF%80) zwracającą liczbę liczb pierwszych nie przekraczających `n`. Wykorzystaj funkcję `sito()`."
   ]
  },
  {
   "cell_type": "code",
   "execution_count": null,
   "metadata": {
    "collapsed": true
   },
   "outputs": [],
   "source": []
  },
  {
   "cell_type": "markdown",
   "metadata": {},
   "source": [
    "#### Wykres `pi(n)`"
   ]
  },
  {
   "cell_type": "code",
   "execution_count": null,
   "metadata": {
    "collapsed": true
   },
   "outputs": [],
   "source": [
    "from matplotlib import pyplot as plt\n",
    "%matplotlib inline\n",
    "\n",
    "plt.close('all')\n",
    "plt.style.use('grayscale')\n",
    "\n",
    "fig, ax = plt.subplots()\n",
    "fig.set_size_inches(16, 9)\n",
    "\n",
    "N = 100\n",
    "\n",
    "X = list(range(N))\n",
    "Y = [pi(x) for x in X]\n",
    "\n",
    "ax.axes.set_aspect('equal')\n",
    "ax.scatter(X, Y)\n",
    "ax.grid(ls=':')"
   ]
  },
  {
   "cell_type": "markdown",
   "metadata": {},
   "source": [
    "### 3.3\n",
    "\n",
    "Dwie liczby pierwsze, których różnica wynosi `2` nazywamy [bliźniaczymi](https://pl.wikipedia.org/wiki/Liczby_bli%C5%BAniacze). Napisz funkcję `bliźniacze(n)`. Funkcja zwraca listę par (krotek) wszystkich liczb bliźniaczych nie przekraczających `n`.\n",
    "\n",
    "Ile jest par liczb bliźniaczych mniejszych od miliona?"
   ]
  },
  {
   "cell_type": "code",
   "execution_count": null,
   "metadata": {
    "collapsed": true
   },
   "outputs": [],
   "source": []
  },
  {
   "cell_type": "markdown",
   "metadata": {},
   "source": [
    "#### Testy"
   ]
  },
  {
   "cell_type": "code",
   "execution_count": null,
   "metadata": {
    "collapsed": true
   },
   "outputs": [],
   "source": [
    "assert bliźniacze(20) == [(3, 5), (5, 7), (11, 13), (17, 19)]\n",
    "\n",
    "# http://www.wolframalpha.com/input/?i=number+of+twin+primes+less+than+200\n",
    "assert len(bliźniacze(200)) == 15\n",
    "\n",
    "assert bliźniacze.__doc__, 'Nie napisałeś docstringu!'"
   ]
  },
  {
   "cell_type": "markdown",
   "metadata": {},
   "source": [
    "### 3.4\n",
    "\n",
    "Zgodnie ze słynną [hipoteza Goldbacha](https://pl.wikipedia.org/wiki/Hipoteza_Goldbacha) każda liczba parzysta większa od `2` jest sumą dwóch liczb pierwszych. Zweryfikuj tę hipotezę dla liczby milion."
   ]
  },
  {
   "cell_type": "code",
   "execution_count": null,
   "metadata": {
    "collapsed": true
   },
   "outputs": [],
   "source": []
  }
 ],
 "metadata": {
  "anaconda-cloud": {},
  "kernelspec": {
   "display_name": "Python [default]",
   "language": "python",
   "name": "python3"
  },
  "language_info": {
   "codemirror_mode": {
    "name": "ipython",
    "version": 3
   },
   "file_extension": ".py",
   "mimetype": "text/x-python",
   "name": "python",
   "nbconvert_exporter": "python",
   "pygments_lexer": "ipython3",
   "version": "3.5.4"
  }
 },
 "nbformat": 4,
 "nbformat_minor": 1
}
