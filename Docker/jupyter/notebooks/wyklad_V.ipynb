{
 "cells": [
  {
   "cell_type": "markdown",
   "metadata": {
    "slideshow": {
     "slide_type": "slide"
    }
   },
   "source": [
    "# Podstawy programowania w analizie danych\n",
    "\n",
    "## Tomasz Rodak\n",
    "\n",
    "2017/2018, semestr letni\n",
    "\n",
    "Wykład V"
   ]
  },
  {
   "cell_type": "markdown",
   "metadata": {
    "slideshow": {
     "slide_type": "slide"
    }
   },
   "source": [
    "# Dekoratory"
   ]
  },
  {
   "cell_type": "markdown",
   "metadata": {
    "slideshow": {
     "slide_type": "slide"
    }
   },
   "source": [
    "## Czym są dekoratory?\n",
    "\n",
    "* Dekorator to dowolny obiekt wywoływalny, którego zadaniem jest zmodyfikowanie (wzbogacenie funkcjonalności) funkcji lub klasy.\n",
    "* Dekoratory mogą istnieć dzięki domknięciom!"
   ]
  },
  {
   "cell_type": "markdown",
   "metadata": {
    "slideshow": {
     "slide_type": "fragment"
    }
   },
   "source": [
    "Dalej omówimy:\n",
    "* zasady tworzenia bezparametrowych dekoratorów funkcji;\n",
    "* pewne dekoratory z biblioteki standardowej."
   ]
  },
  {
   "cell_type": "markdown",
   "metadata": {
    "slideshow": {
     "slide_type": "slide"
    }
   },
   "source": [
    "## Zagadka\n",
    "\n",
    "Definiujemy funkcję"
   ]
  },
  {
   "cell_type": "code",
   "execution_count": 1,
   "metadata": {
    "collapsed": true
   },
   "outputs": [],
   "source": [
    "def dekoruj(f):\n",
    "    def opakowanie(*args, **kwargs):\n",
    "        print('Nazywam się', f.__name__, ':-)')\n",
    "        return f(*args, **kwargs)\n",
    "    return opakowanie"
   ]
  },
  {
   "cell_type": "markdown",
   "metadata": {},
   "source": [
    "a następnie wykonujemy poniższy kod. Co będzie robić funkcja `kwadrat`?"
   ]
  },
  {
   "cell_type": "code",
   "execution_count": 2,
   "metadata": {
    "collapsed": true
   },
   "outputs": [],
   "source": [
    "def kwadrat(x):\n",
    "    return x ** 2\n",
    "\n",
    "kwadrat = dekoruj(kwadrat)"
   ]
  },
  {
   "cell_type": "code",
   "execution_count": 3,
   "metadata": {
    "slideshow": {
     "slide_type": "subslide"
    }
   },
   "outputs": [
    {
     "name": "stdout",
     "output_type": "stream",
     "text": [
      "Nazywam się kwadrat :-)\n"
     ]
    },
    {
     "data": {
      "text/plain": [
       "64"
      ]
     },
     "execution_count": 3,
     "metadata": {},
     "output_type": "execute_result"
    }
   ],
   "source": [
    "kwadrat(8)"
   ]
  },
  {
   "cell_type": "code",
   "execution_count": 4,
   "metadata": {
    "slideshow": {
     "slide_type": "fragment"
    }
   },
   "outputs": [
    {
     "name": "stdout",
     "output_type": "stream",
     "text": [
      "Nazywam się kwadrat :-)\n",
      "0**2 == 0\n",
      "Nazywam się kwadrat :-)\n",
      "1**2 == 1\n",
      "Nazywam się kwadrat :-)\n",
      "2**2 == 4\n",
      "Nazywam się kwadrat :-)\n",
      "3**2 == 9\n",
      "Nazywam się kwadrat :-)\n",
      "4**2 == 16\n"
     ]
    }
   ],
   "source": [
    "for k in range(5):\n",
    "    print('{}**2 == {}'.format(k, kwadrat(k)))"
   ]
  },
  {
   "cell_type": "markdown",
   "metadata": {
    "slideshow": {
     "slide_type": "slide"
    }
   },
   "source": [
    "## Zagadka\n",
    "\n",
    "Definiujemy funkcję"
   ]
  },
  {
   "cell_type": "code",
   "execution_count": 5,
   "metadata": {
    "collapsed": true
   },
   "outputs": [],
   "source": [
    "def licz_wywołania(f):\n",
    "    licznik = 0\n",
    "    def opakowanie(*args, **kwargs):\n",
    "        nonlocal licznik\n",
    "        licznik += 1\n",
    "        print('Wywołano mnie już', licznik, 'razy!')\n",
    "        return f(*args, **kwargs)\n",
    "    return opakowanie"
   ]
  },
  {
   "cell_type": "markdown",
   "metadata": {},
   "source": [
    "a następnie wykonujemy poniższy kod. Czym teraz będzie funkcja `kwadrat`?"
   ]
  },
  {
   "cell_type": "code",
   "execution_count": 6,
   "metadata": {
    "collapsed": true
   },
   "outputs": [],
   "source": [
    "def kwadrat(x):\n",
    "    return x ** 2\n",
    "\n",
    "kwadrat = licz_wywołania(kwadrat)"
   ]
  },
  {
   "cell_type": "code",
   "execution_count": 7,
   "metadata": {
    "slideshow": {
     "slide_type": "subslide"
    }
   },
   "outputs": [
    {
     "name": "stdout",
     "output_type": "stream",
     "text": [
      "Wywołano mnie już 1 razy!\n",
      "0**2 == 0\n",
      "Wywołano mnie już 2 razy!\n",
      "1**2 == 1\n",
      "Wywołano mnie już 3 razy!\n",
      "2**2 == 4\n",
      "Wywołano mnie już 4 razy!\n",
      "3**2 == 9\n",
      "Wywołano mnie już 5 razy!\n",
      "4**2 == 16\n"
     ]
    }
   ],
   "source": [
    "for k in range(5):\n",
    "    print('{}**2 == {}'.format(k, kwadrat(k)))"
   ]
  },
  {
   "cell_type": "markdown",
   "metadata": {
    "slideshow": {
     "slide_type": "subslide"
    }
   },
   "source": [
    "Jak będzie wyglądał ten efekt dla funkcji zdefiniowanej przez rekurencję?"
   ]
  },
  {
   "cell_type": "code",
   "execution_count": 8,
   "metadata": {
    "collapsed": true
   },
   "outputs": [],
   "source": [
    "def silnia(n):\n",
    "    if n == 0:\n",
    "        return 1\n",
    "    return n * silnia(n - 1)\n",
    "\n",
    "silnia = licz_wywołania(silnia)"
   ]
  },
  {
   "cell_type": "code",
   "execution_count": 9,
   "metadata": {
    "slideshow": {
     "slide_type": "fragment"
    }
   },
   "outputs": [
    {
     "name": "stdout",
     "output_type": "stream",
     "text": [
      "Wywołano mnie już 1 razy!\n",
      "Wywołano mnie już 2 razy!\n",
      "Wywołano mnie już 3 razy!\n",
      "Wywołano mnie już 4 razy!\n",
      "Wywołano mnie już 5 razy!\n",
      "Wywołano mnie już 6 razy!\n",
      "Wywołano mnie już 7 razy!\n",
      "Wywołano mnie już 8 razy!\n"
     ]
    },
    {
     "data": {
      "text/plain": [
       "5040"
      ]
     },
     "execution_count": 9,
     "metadata": {},
     "output_type": "execute_result"
    }
   ],
   "source": [
    "silnia(7)"
   ]
  },
  {
   "cell_type": "markdown",
   "metadata": {
    "slideshow": {
     "slide_type": "slide"
    }
   },
   "source": [
    "## Składnia dekoratora\n",
    "\n",
    "Kody w zaprezentowanych zagadkach można uprościć stosując składnię dekoratora.\n",
    "\n",
    "Powiedzmy, że chcemy liczyć wywołania funkcji `sześcian()`\n",
    "```python\n",
    "def sześcian(x):\n",
    "    return x ** 3\n",
    "```"
   ]
  },
  {
   "cell_type": "markdown",
   "metadata": {
    "slideshow": {
     "slide_type": "fragment"
    }
   },
   "source": [
    "Postępując jak w zagadkach powinniśmy wykonać przypisanie\n",
    "```python\n",
    "sześcian = licz_wywołania(sześcian)\n",
    "```"
   ]
  },
  {
   "cell_type": "markdown",
   "metadata": {
    "slideshow": {
     "slide_type": "fragment"
    }
   },
   "source": [
    "Zamiast tego wystarczy opatrzyć definicję funkcji `sześcian()` dekoratorem `licz_wywołania`\n",
    "```python\n",
    "@licz_wywołania\n",
    "def sześcian(x):\n",
    "    return x ** 3\n",
    "```\n",
    "Efekt będzie dokładnie ten sam."
   ]
  },
  {
   "cell_type": "code",
   "execution_count": 10,
   "metadata": {
    "slideshow": {
     "slide_type": "subslide"
    }
   },
   "outputs": [
    {
     "name": "stdout",
     "output_type": "stream",
     "text": [
      "Wywołano mnie już 1 razy!\n",
      "0**3 == 0\n",
      "Wywołano mnie już 2 razy!\n",
      "1**3 == 1\n",
      "Wywołano mnie już 3 razy!\n",
      "2**3 == 8\n",
      "Wywołano mnie już 4 razy!\n",
      "3**3 == 27\n",
      "Wywołano mnie już 5 razy!\n",
      "4**3 == 64\n"
     ]
    }
   ],
   "source": [
    "@licz_wywołania\n",
    "def sześcian(x):\n",
    "    return x ** 3\n",
    "\n",
    "for k in range(5):\n",
    "    print('{}**3 == {}'.format(k, sześcian(k)))"
   ]
  },
  {
   "cell_type": "markdown",
   "metadata": {
    "slideshow": {
     "slide_type": "slide"
    }
   },
   "source": [
    "## Bardziej formalnie\n",
    "\n",
    "Składnia\n",
    "```python\n",
    "def dekorator(funkcja):\n",
    "    # kod dekoratora\n",
    "\n",
    "@dekorator\n",
    "def jakaś_funkcja(argumenty):\n",
    "    # kod funkcji\n",
    "```\n",
    "jest równoważna z\n",
    "```python\n",
    "def dekorator(funkcja):\n",
    "    # kod dekoratora\n",
    "\n",
    "def jakaś_funkcja(argumenty):\n",
    "    # kod funkcji\n",
    "\n",
    "jakaś_funkcja = dekorator(jakaś_funkcja)\n",
    "\n",
    "```"
   ]
  },
  {
   "cell_type": "markdown",
   "metadata": {
    "slideshow": {
     "slide_type": "subslide"
    }
   },
   "source": [
    "* Można powiedzieć, że dekorator w Pythonie jest [**lukrem składniowym**](https://pl.wikipedia.org/wiki/Lukier_sk%C5%82adniowy) (**syntactic sugar**).\n",
    "* Na razie ograniczyliśmy się do przypadku, gdy funkcja dekorująca\n",
    "  ```python\n",
    "  def dekorator(funkcja):\n",
    "      # kod dekoratora\n",
    "  ```\n",
    "  przyjmuje dokładnie jeden parametr -- funkcję, którą będzie dekorować. Nie ma jednak żadnych parametrów konfiguracyjnych.\n",
    "* Zauważ, że podczas dekorowania\n",
    "  ```python\n",
    "  @dekorator\n",
    "  def jakaś_funkcja(argumenty):\n",
    "      # kod funkcji\n",
    "  ```\n",
    "  funkcja dekorująca podana jest bez nawiasów okrągłych. \n",
    "  "
   ]
  },
  {
   "cell_type": "markdown",
   "metadata": {
    "slideshow": {
     "slide_type": "slide"
    }
   },
   "source": [
    "## Refaktoryzacja funkcji `licz_wywołania()`.\n",
    "\n",
    "Funkcja `licz_wywołania()` jest ciekawa sama w sobie, nie może być jednak sprawnie używana, gdyż wypisuje wiele na ekran i to przy każdym wywołaniu dekorowanej funkcji.\n",
    "\n",
    "Pierwsza poprawka polega po prostu na usunięciu wypisywanego komunikatu."
   ]
  },
  {
   "cell_type": "code",
   "execution_count": 11,
   "metadata": {
    "collapsed": true
   },
   "outputs": [],
   "source": [
    "def licz_wywołania(f):\n",
    "    licznik = 0\n",
    "    def opakowanie(*args, **kwargs):\n",
    "        nonlocal licznik\n",
    "        licznik += 1\n",
    "        return f(*args, **kwargs)\n",
    "    return opakowanie"
   ]
  },
  {
   "cell_type": "markdown",
   "metadata": {
    "slideshow": {
     "slide_type": "subslide"
    }
   },
   "source": [
    "Testujemy efekt na zadanej rekurencyjnie funkcji `silnia()`."
   ]
  },
  {
   "cell_type": "code",
   "execution_count": 12,
   "metadata": {
    "collapsed": true
   },
   "outputs": [],
   "source": [
    "@licz_wywołania\n",
    "def silnia(n):\n",
    "    if n == 0:\n",
    "        return 1\n",
    "    return n * silnia(n - 1)"
   ]
  },
  {
   "cell_type": "markdown",
   "metadata": {},
   "source": [
    "Komunikaty zniknęły, wraz z informacją o liczbie wywołań. "
   ]
  },
  {
   "cell_type": "code",
   "execution_count": 13,
   "metadata": {},
   "outputs": [
    {
     "data": {
      "text/plain": [
       "3628800"
      ]
     },
     "execution_count": 13,
     "metadata": {},
     "output_type": "execute_result"
    }
   ],
   "source": [
    "silnia(10)"
   ]
  },
  {
   "cell_type": "markdown",
   "metadata": {},
   "source": [
    "**Jak uzyskać wartość licznika?**"
   ]
  },
  {
   "cell_type": "markdown",
   "metadata": {
    "slideshow": {
     "slide_type": "subslide"
    }
   },
   "source": [
    "Wartość zmiennej `licznik` znajduje się w domknięciu :-)\n",
    "\n",
    "Zmienne swobodne funkcji `silnia()`:"
   ]
  },
  {
   "cell_type": "code",
   "execution_count": 14,
   "metadata": {},
   "outputs": [
    {
     "data": {
      "text/plain": [
       "('f', 'licznik')"
      ]
     },
     "execution_count": 14,
     "metadata": {},
     "output_type": "execute_result"
    }
   ],
   "source": [
    "silnia.__code__.co_freevars"
   ]
  },
  {
   "cell_type": "markdown",
   "metadata": {
    "slideshow": {
     "slide_type": "fragment"
    }
   },
   "source": [
    "Zatem wartość zmiennej `licznik` to"
   ]
  },
  {
   "cell_type": "code",
   "execution_count": 15,
   "metadata": {},
   "outputs": [
    {
     "data": {
      "text/plain": [
       "11"
      ]
     },
     "execution_count": 15,
     "metadata": {},
     "output_type": "execute_result"
    }
   ],
   "source": [
    "silnia.__closure__[1].cell_contents"
   ]
  },
  {
   "cell_type": "markdown",
   "metadata": {},
   "source": [
    "Uzyskaliśmy więc dostęp do liczby wywołań na drodze niezbyt wygodnej i trudnej do spamiętania introspekcji funkcji."
   ]
  },
  {
   "cell_type": "markdown",
   "metadata": {
    "slideshow": {
     "slide_type": "slide"
    }
   },
   "source": [
    "## Atrybuty funkcji\n",
    "\n",
    "Atrybuty funkcji przydadzą się nam do dalszej refaktoryzacji `licz_wywołania()`.\n",
    "\n",
    "Gdy zdefiniujesz jakąś funkcję, powiedzmy o nazwie `funkcja`, to możesz jej przypisać atrybut zgodnie ze składnią\n",
    "```python\n",
    "funkcja.nazwa_atrybutu = wartość\n",
    "```"
   ]
  },
  {
   "cell_type": "code",
   "execution_count": 16,
   "metadata": {
    "collapsed": true,
    "slideshow": {
     "slide_type": "fragment"
    }
   },
   "outputs": [],
   "source": [
    "def fun():\n",
    "    pass\n",
    "\n",
    "fun.napis = 'Jestem atrybutem!'\n",
    "fun.liczba = 9 ** 9"
   ]
  },
  {
   "cell_type": "code",
   "execution_count": 17,
   "metadata": {},
   "outputs": [
    {
     "data": {
      "text/plain": [
       "('Jestem atrybutem!', 387420489)"
      ]
     },
     "execution_count": 17,
     "metadata": {},
     "output_type": "execute_result"
    }
   ],
   "source": [
    "fun.napis, fun.liczba"
   ]
  },
  {
   "cell_type": "markdown",
   "metadata": {
    "slideshow": {
     "slide_type": "subslide"
    }
   },
   "source": [
    "Atrybuty zdefiniowane przez użytkownika przechowuje atrybut `__dict__` w postaci słownika."
   ]
  },
  {
   "cell_type": "code",
   "execution_count": 18,
   "metadata": {},
   "outputs": [
    {
     "data": {
      "text/plain": [
       "{'liczba': 387420489, 'napis': 'Jestem atrybutem!'}"
      ]
     },
     "execution_count": 18,
     "metadata": {},
     "output_type": "execute_result"
    }
   ],
   "source": [
    "fun.__dict__"
   ]
  },
  {
   "cell_type": "markdown",
   "metadata": {
    "slideshow": {
     "slide_type": "slide"
    }
   },
   "source": [
    "## Dalsza refaktoryzacja `licz_wywołania()`\n",
    "\n",
    "Przypomnijmy, że teraz nasz dekorator\n",
    "```python\n",
    "def licz_wywołania(f):\n",
    "    licznik = 0\n",
    "    def opakowanie(*args, **kwargs):\n",
    "        nonlocal licznik\n",
    "        licznik += 1\n",
    "        return f(*args, **kwargs)\n",
    "    return opakowanie\n",
    "```\n",
    "wiąże dekorowaną funkcję z nielokalną zmienną `licznik`.\n",
    "\n",
    "Pamiętamy, że dostęp do zmiennej `licznik` jest nieco uciążliwy.\n",
    "\n",
    "Przeróbmy ją zatem na atrybut dekorowanej funkcji! Dekorator utworzy atrybut i zajmie się jego inkrementacją."
   ]
  },
  {
   "cell_type": "markdown",
   "metadata": {
    "slideshow": {
     "slide_type": "subslide"
    }
   },
   "source": [
    "Oto dekorator"
   ]
  },
  {
   "cell_type": "code",
   "execution_count": 19,
   "metadata": {
    "collapsed": true,
    "slideshow": {
     "slide_type": "-"
    }
   },
   "outputs": [],
   "source": [
    "def licz_wywołania(f):\n",
    "    def opakowanie(*args, **kwargs):\n",
    "        opakowanie.liczba_wywołań += 1\n",
    "        return f(*args, **kwargs)\n",
    "    opakowanie.liczba_wywołań = 0\n",
    "    return opakowanie"
   ]
  },
  {
   "cell_type": "markdown",
   "metadata": {
    "slideshow": {
     "slide_type": "fragment"
    }
   },
   "source": [
    "i jego użycie"
   ]
  },
  {
   "cell_type": "code",
   "execution_count": 20,
   "metadata": {
    "collapsed": true
   },
   "outputs": [],
   "source": [
    "@licz_wywołania\n",
    "def silnia(n):\n",
    "    if n == 0:\n",
    "        return 1\n",
    "    return n * silnia(n - 1)"
   ]
  },
  {
   "cell_type": "code",
   "execution_count": 21,
   "metadata": {
    "slideshow": {
     "slide_type": "fragment"
    }
   },
   "outputs": [
    {
     "data": {
      "text/plain": [
       "3628800"
      ]
     },
     "execution_count": 21,
     "metadata": {},
     "output_type": "execute_result"
    }
   ],
   "source": [
    "silnia(10)"
   ]
  },
  {
   "cell_type": "code",
   "execution_count": 22,
   "metadata": {},
   "outputs": [
    {
     "data": {
      "text/plain": [
       "11"
      ]
     },
     "execution_count": 22,
     "metadata": {},
     "output_type": "execute_result"
    }
   ],
   "source": [
    "silnia.liczba_wywołań"
   ]
  },
  {
   "cell_type": "markdown",
   "metadata": {
    "slideshow": {
     "slide_type": "slide"
    }
   },
   "source": [
    "## Ciąg Fibonacciego rekurencyjnie\n",
    "\n",
    "Zajmiemy się teraz przykładem bardziej złożonym --  liczbą wywołań funkcji zadającej rekurencyjnie ciąg Fibonacciego.\n",
    "\n",
    "Przypomnijmy definicję:\n",
    "$$F_0 := 0,\\quad F_1 := 1$$\n",
    "i dla $n\\geqslant 2,$\n",
    "$$F_n := F_{n-2} + F_{n-1}.$$"
   ]
  },
  {
   "cell_type": "markdown",
   "metadata": {
    "slideshow": {
     "slide_type": "fragment"
    }
   },
   "source": [
    "W wielu językach programowania definicja ta daje się wprost przełożyć na definicję funkcji obliczającej $n$-ty wyraz."
   ]
  },
  {
   "cell_type": "code",
   "execution_count": 23,
   "metadata": {
    "collapsed": true,
    "slideshow": {
     "slide_type": "-"
    }
   },
   "outputs": [],
   "source": [
    "def fib(n):\n",
    "    if n == 0 or n == 1:\n",
    "        return n\n",
    "    return fib(n - 1) + fib(n - 2)"
   ]
  },
  {
   "cell_type": "markdown",
   "metadata": {
    "slideshow": {
     "slide_type": "subslide"
    }
   },
   "source": [
    "Dekorujemy"
   ]
  },
  {
   "cell_type": "code",
   "execution_count": 61,
   "metadata": {
    "collapsed": true,
    "slideshow": {
     "slide_type": "-"
    }
   },
   "outputs": [],
   "source": [
    "@licz_wywołania\n",
    "def fib(n):\n",
    "    if n == 0 or n == 1:\n",
    "        return n\n",
    "    return fib(n - 1) + fib(n - 2)"
   ]
  },
  {
   "cell_type": "markdown",
   "metadata": {},
   "source": [
    "i przystępujemy do testowania"
   ]
  },
  {
   "cell_type": "code",
   "execution_count": 25,
   "metadata": {},
   "outputs": [
    {
     "data": {
      "text/plain": [
       "1"
      ]
     },
     "execution_count": 25,
     "metadata": {},
     "output_type": "execute_result"
    }
   ],
   "source": [
    "fib(1)"
   ]
  },
  {
   "cell_type": "code",
   "execution_count": 26,
   "metadata": {},
   "outputs": [
    {
     "data": {
      "text/plain": [
       "1"
      ]
     },
     "execution_count": 26,
     "metadata": {},
     "output_type": "execute_result"
    }
   ],
   "source": [
    "fib.liczba_wywołań"
   ]
  },
  {
   "cell_type": "code",
   "execution_count": 27,
   "metadata": {
    "slideshow": {
     "slide_type": "subslide"
    }
   },
   "outputs": [
    {
     "data": {
      "text/plain": [
       "(5, 15)"
      ]
     },
     "execution_count": 27,
     "metadata": {},
     "output_type": "execute_result"
    }
   ],
   "source": [
    "fib.liczba_wywołań = 0\n",
    "wynik = fib(5)\n",
    "\n",
    "wynik, fib.liczba_wywołań"
   ]
  },
  {
   "cell_type": "code",
   "execution_count": 28,
   "metadata": {
    "slideshow": {
     "slide_type": "subslide"
    }
   },
   "outputs": [
    {
     "data": {
      "text/plain": [
       "(610, 1973)"
      ]
     },
     "execution_count": 28,
     "metadata": {},
     "output_type": "execute_result"
    }
   ],
   "source": [
    "fib.liczba_wywołań = 0\n",
    "wynik = fib(15)\n",
    "\n",
    "wynik, fib.liczba_wywołań"
   ]
  },
  {
   "cell_type": "markdown",
   "metadata": {
    "slideshow": {
     "slide_type": "subslide"
    }
   },
   "source": [
    "Skracamy pracę zapisując liczbę wywołań do listy."
   ]
  },
  {
   "cell_type": "code",
   "execution_count": 29,
   "metadata": {
    "slideshow": {
     "slide_type": "-"
    }
   },
   "outputs": [
    {
     "name": "stdout",
     "output_type": "stream",
     "text": [
      "fib(0) == 0\n",
      "fib(1) == 1\n",
      "fib(2) == 1\n",
      "fib(3) == 2\n",
      "fib(4) == 3\n",
      "fib(5) == 5\n",
      "fib(6) == 8\n",
      "fib(7) == 13\n",
      "fib(8) == 21\n",
      "fib(9) == 34\n",
      "fib(10) == 55\n",
      "fib(11) == 89\n",
      "fib(12) == 144\n",
      "fib(13) == 233\n",
      "fib(14) == 377\n",
      "fib(15) == 610\n",
      "fib(16) == 987\n",
      "fib(17) == 1597\n",
      "fib(18) == 2584\n",
      "fib(19) == 4181\n",
      "fib(20) == 6765\n",
      "fib(21) == 10946\n",
      "fib(22) == 17711\n",
      "fib(23) == 28657\n",
      "fib(24) == 46368\n",
      "fib(25) == 75025\n",
      "fib(26) == 121393\n",
      "fib(27) == 196418\n",
      "fib(28) == 317811\n",
      "fib(29) == 514229\n",
      "fib(30) == 832040\n"
     ]
    }
   ],
   "source": [
    "eny = range(31)\n",
    "liczby_wywołań = []\n",
    "\n",
    "for n in eny:\n",
    "    fib.liczba_wywołań = 0\n",
    "    print('fib({}) == {}'.format(n, fib(n)))\n",
    "    liczby_wywołań.append(fib.liczba_wywołań)"
   ]
  },
  {
   "cell_type": "code",
   "execution_count": 30,
   "metadata": {
    "slideshow": {
     "slide_type": "subslide"
    }
   },
   "outputs": [
    {
     "data": {
      "image/png": "[encoded data removed]",
      "text/plain": [
       "<matplotlib.figure.Figure at 0x7fb31842db00>"
      ]
     },
     "metadata": {},
     "output_type": "display_data"
    }
   ],
   "source": [
    "from matplotlib import pyplot as plt\n",
    "%matplotlib inline\n",
    "plt.close('all')\n",
    "plt.style.use('seaborn-poster')\n",
    "fig, ax = plt.subplots()\n",
    "ax.plot(eny, liczby_wywołań)\n",
    "ax.grid(ls=':');"
   ]
  },
  {
   "cell_type": "markdown",
   "metadata": {
    "slideshow": {
     "slide_type": "subslide"
    }
   },
   "source": [
    "Ile czasu potrzebuje nasza funkcja na obliczenie `fib(100)`?"
   ]
  },
  {
   "cell_type": "markdown",
   "metadata": {
    "slideshow": {
     "slide_type": "fragment"
    }
   },
   "source": [
    "Sprawdźmy najpierw jak zwiększa się liczba wywołań funkcji `fib()`, gdy zmieniamy `n` na  `n + 1`."
   ]
  },
  {
   "cell_type": "code",
   "execution_count": 31,
   "metadata": {},
   "outputs": [
    {
     "name": "stdout",
     "output_type": "stream",
     "text": [
      "1.0000, 3.0000, 1.6667, 1.8000, 1.6667, 1.6667, 1.6400, 1.6341, 1.6269, 1.6239, 1.6215, 1.6202, 1.6194, 1.6189, 1.6185, 1.6183, 1.6182, 1.6182, 1.6181, 1.6181, 1.6181, 1.6181, 1.6180, 1.6180, 1.6180, 1.6180, 1.6180, 1.6180, 1.6180, 1.6180, "
     ]
    }
   ],
   "source": [
    "for a, b in zip(liczby_wywołań[:-1], liczby_wywołań[1:]):\n",
    "    print('{:.4f}'.format(b / a), end=', ')"
   ]
  },
  {
   "cell_type": "markdown",
   "metadata": {},
   "source": [
    "Widać znakomitą regularność -- `fib(n + 1)` wywołuje funkcję `fib()` około `1.618` raza więcej niż `fib(n)`."
   ]
  },
  {
   "cell_type": "markdown",
   "metadata": {
    "slideshow": {
     "slide_type": "subslide"
    }
   },
   "source": [
    "Sprawdźmy, czy czas wykonania skalowany jest tym samym czynnikiem."
   ]
  },
  {
   "cell_type": "code",
   "execution_count": 62,
   "metadata": {
    "slideshow": {
     "slide_type": "fragment"
    }
   },
   "outputs": [
    {
     "name": "stdout",
     "output_type": "stream",
     "text": [
      "1.07 s ± 940 µs per loop (mean ± std. dev. of 7 runs, 1 loop each)\n"
     ]
    }
   ],
   "source": [
    "%timeit fib(29)"
   ]
  },
  {
   "cell_type": "code",
   "execution_count": 63,
   "metadata": {
    "slideshow": {
     "slide_type": "fragment"
    }
   },
   "outputs": [
    {
     "name": "stdout",
     "output_type": "stream",
     "text": [
      "1.73 s ± 1.62 ms per loop (mean ± std. dev. of 7 runs, 1 loop each)\n"
     ]
    }
   ],
   "source": [
    "%timeit fib(30)"
   ]
  },
  {
   "cell_type": "markdown",
   "metadata": {
    "slideshow": {
     "slide_type": "fragment"
    }
   },
   "source": [
    "Zgodność jest bardzo dobra."
   ]
  },
  {
   "cell_type": "code",
   "execution_count": 64,
   "metadata": {},
   "outputs": [
    {
     "data": {
      "text/plain": [
       "1.7312600000000002"
      ]
     },
     "execution_count": 64,
     "metadata": {},
     "output_type": "execute_result"
    }
   ],
   "source": [
    "1.618 * 1.07"
   ]
  },
  {
   "cell_type": "markdown",
   "metadata": {
    "slideshow": {
     "slide_type": "subslide"
    }
   },
   "source": [
    "Podsumowując, `fib(30)` wykonuje się `1.73` sekundy, więc `fib(100)` obliczymy po"
   ]
  },
  {
   "cell_type": "code",
   "execution_count": 65,
   "metadata": {},
   "outputs": [
    {
     "data": {
      "text/plain": [
       "735431643659484.6"
      ]
     },
     "execution_count": 65,
     "metadata": {},
     "output_type": "execute_result"
    }
   ],
   "source": [
    "sekundy = 1.73 * 1.618**70\n",
    "sekundy"
   ]
  },
  {
   "cell_type": "markdown",
   "metadata": {},
   "source": [
    "sekundach, czyli po"
   ]
  },
  {
   "cell_type": "code",
   "execution_count": 66,
   "metadata": {},
   "outputs": [
    {
     "data": {
      "text/plain": [
       "23320384.43872034"
      ]
     },
     "execution_count": 66,
     "metadata": {},
     "output_type": "execute_result"
    }
   ],
   "source": [
    "sekundy / 3600 / 24 / 365"
   ]
  },
  {
   "cell_type": "markdown",
   "metadata": {},
   "source": [
    "latach :-)"
   ]
  },
  {
   "cell_type": "markdown",
   "metadata": {
    "slideshow": {
     "slide_type": "slide"
    }
   },
   "source": [
    "## Ratowanie definicji rekurencyjnej\n",
    "\n",
    "W bezpośredniej implementacji definicji rekurencyjnej ciągu Fibonacciego problemem jest to, że na jednej i tej samej liczbie `k` funkcja `fib()` wywoływana jest wielokrotnie.\n",
    "\n",
    "Rzowiązaniem jest zapamiętywanie wyników pośrednich."
   ]
  },
  {
   "cell_type": "code",
   "execution_count": 37,
   "metadata": {
    "collapsed": true
   },
   "outputs": [],
   "source": [
    "pamięć = {0: 0, 1: 1}\n",
    "\n",
    "def fib_z_pamięcią(n):\n",
    "    if n not in pamięć:\n",
    "        pamięć[n] = fib_z_pamięcią(n - 2) + fib_z_pamięcią(n - 1)\n",
    "    return pamięć[n]"
   ]
  },
  {
   "cell_type": "markdown",
   "metadata": {
    "slideshow": {
     "slide_type": "subslide"
    }
   },
   "source": [
    "Sprawdźmy liczbę wywołań."
   ]
  },
  {
   "cell_type": "code",
   "execution_count": 38,
   "metadata": {
    "collapsed": true
   },
   "outputs": [],
   "source": [
    "pamięć = {0: 0, 1: 1}\n",
    "\n",
    "@licz_wywołania\n",
    "def fib_z_pamięcią(n):\n",
    "    if n not in pamięć:\n",
    "        pamięć[n] = fib_z_pamięcią(n - 2) + fib_z_pamięcią(n - 1)\n",
    "    return pamięć[n]"
   ]
  },
  {
   "cell_type": "code",
   "execution_count": 39,
   "metadata": {
    "slideshow": {
     "slide_type": "-"
    }
   },
   "outputs": [
    {
     "data": {
      "text/plain": [
       "280571172992510140037611932413038677189525"
      ]
     },
     "execution_count": 39,
     "metadata": {},
     "output_type": "execute_result"
    }
   ],
   "source": [
    "fib_z_pamięcią(200)"
   ]
  },
  {
   "cell_type": "code",
   "execution_count": 40,
   "metadata": {},
   "outputs": [
    {
     "data": {
      "text/plain": [
       "399"
      ]
     },
     "execution_count": 40,
     "metadata": {},
     "output_type": "execute_result"
    }
   ],
   "source": [
    "fib_z_pamięcią.liczba_wywołań"
   ]
  },
  {
   "cell_type": "markdown",
   "metadata": {
    "slideshow": {
     "slide_type": "slide"
    }
   },
   "source": [
    "## Dekorator zapamiętujący\n",
    "\n",
    "Podany wyżej chwyt z pamięcią można przełożyć na dekorator zapamiętujący stosowalny do funkcji jednej zmiennej."
   ]
  },
  {
   "cell_type": "code",
   "execution_count": 41,
   "metadata": {
    "collapsed": true
   },
   "outputs": [],
   "source": [
    "def zapamiętuj(f):\n",
    "    pamięć = {}\n",
    "    def opakowanie(x):\n",
    "        if x not in pamięć:\n",
    "            pamięć[x] = f(x)\n",
    "        return pamięć[x]\n",
    "    return opakowanie       "
   ]
  },
  {
   "cell_type": "markdown",
   "metadata": {
    "slideshow": {
     "slide_type": "subslide"
    }
   },
   "source": [
    "Możemy go zastosować do poprzedniej funkcji `fib()`. Dzięki użyciu dekoratora zachowujemy czytelność definicji rekurencyjnej."
   ]
  },
  {
   "cell_type": "code",
   "execution_count": 42,
   "metadata": {
    "collapsed": true
   },
   "outputs": [],
   "source": [
    "@zapamiętuj\n",
    "def fib(n):\n",
    "    if n == 0 or n == 1:\n",
    "        return n\n",
    "    return fib(n - 2) + fib(n - 1)"
   ]
  },
  {
   "cell_type": "code",
   "execution_count": 43,
   "metadata": {
    "slideshow": {
     "slide_type": "fragment"
    }
   },
   "outputs": [
    {
     "data": {
      "text/plain": [
       "354224848179261915075"
      ]
     },
     "execution_count": 43,
     "metadata": {},
     "output_type": "execute_result"
    }
   ],
   "source": [
    "fib(100)"
   ]
  },
  {
   "cell_type": "code",
   "execution_count": 44,
   "metadata": {
    "slideshow": {
     "slide_type": "fragment"
    }
   },
   "outputs": [
    {
     "name": "stdout",
     "output_type": "stream",
     "text": [
      "176 ns ± 2.59 ns per loop (mean ± std. dev. of 7 runs, 2000 loops each)\n"
     ]
    }
   ],
   "source": [
    "%timeit -n 2000 fib(100)"
   ]
  },
  {
   "cell_type": "markdown",
   "metadata": {
    "slideshow": {
     "slide_type": "subslide"
    }
   },
   "source": [
    "Dekoratory możemy spiętrzyć."
   ]
  },
  {
   "cell_type": "code",
   "execution_count": 45,
   "metadata": {
    "collapsed": true
   },
   "outputs": [],
   "source": [
    "@licz_wywołania\n",
    "@zapamiętuj\n",
    "def fib(n):\n",
    "    if n == 0 or n == 1:\n",
    "        return n\n",
    "    return fib(n - 2) + fib(n - 1)"
   ]
  },
  {
   "cell_type": "code",
   "execution_count": 46,
   "metadata": {
    "slideshow": {
     "slide_type": "fragment"
    }
   },
   "outputs": [
    {
     "data": {
      "text/plain": [
       "280571172992510140037611932413038677189525"
      ]
     },
     "execution_count": 46,
     "metadata": {},
     "output_type": "execute_result"
    }
   ],
   "source": [
    "fib(200)"
   ]
  },
  {
   "cell_type": "code",
   "execution_count": 47,
   "metadata": {},
   "outputs": [
    {
     "data": {
      "text/plain": [
       "399"
      ]
     },
     "execution_count": 47,
     "metadata": {},
     "output_type": "execute_result"
    }
   ],
   "source": [
    "fib.liczba_wywołań"
   ]
  },
  {
   "cell_type": "markdown",
   "metadata": {
    "slideshow": {
     "slide_type": "slide"
    }
   },
   "source": [
    "## Metadane funkcji\n",
    "\n",
    "Jak dotąd nie pisaliśmy docstringów do funkcji. To źle!"
   ]
  },
  {
   "cell_type": "code",
   "execution_count": 48,
   "metadata": {
    "collapsed": true
   },
   "outputs": [],
   "source": [
    "@zapamiętuj\n",
    "def fib(n):\n",
    "    '''Zwraca n-ty wyraz ciągu Fibonacciego.'''\n",
    "    if n == 0 or n == 1:\n",
    "        return n\n",
    "    return fib(n - 2) + fib(n - 1)"
   ]
  },
  {
   "cell_type": "markdown",
   "metadata": {
    "slideshow": {
     "slide_type": "subslide"
    }
   },
   "source": [
    "Sprawdzamy ekran pomocy"
   ]
  },
  {
   "cell_type": "code",
   "execution_count": 49,
   "metadata": {},
   "outputs": [
    {
     "name": "stdout",
     "output_type": "stream",
     "text": [
      "Help on function opakowanie in module __main__:\n",
      "\n",
      "opakowanie(x)\n",
      "\n"
     ]
    }
   ],
   "source": [
    "help(fib)"
   ]
  },
  {
   "cell_type": "markdown",
   "metadata": {
    "slideshow": {
     "slide_type": "fragment"
    }
   },
   "source": [
    "i nazwę funkcji"
   ]
  },
  {
   "cell_type": "code",
   "execution_count": 50,
   "metadata": {},
   "outputs": [
    {
     "data": {
      "text/plain": [
       "'opakowanie'"
      ]
     },
     "execution_count": 50,
     "metadata": {},
     "output_type": "execute_result"
    }
   ],
   "source": [
    "fib.__name__"
   ]
  },
  {
   "cell_type": "markdown",
   "metadata": {},
   "source": [
    "Niedobrze. Dekorator nie zapamiętał metadanych funkcji."
   ]
  },
  {
   "cell_type": "markdown",
   "metadata": {
    "slideshow": {
     "slide_type": "slide"
    }
   },
   "source": [
    "## `functools.wraps`\n",
    "\n",
    "Aby dekorator nie gubił metadanych dekorowanej funkcji należy użyć... dekoratora `wraps()` z modułu `functools`.\n",
    "\n",
    "Poprawiamy `licz_wywołania()`."
   ]
  },
  {
   "cell_type": "code",
   "execution_count": 51,
   "metadata": {
    "collapsed": true,
    "slideshow": {
     "slide_type": "-"
    }
   },
   "outputs": [],
   "source": [
    "from functools import wraps\n",
    "\n",
    "def licz_wywołania(f):\n",
    "    @wraps(f)\n",
    "    def opakowanie(*args, **kwargs):\n",
    "        opakowanie.liczba_wywołań += 1\n",
    "        return f(*args, **kwargs)\n",
    "    opakowanie.liczba_wywołań = 0\n",
    "    return opakowanie"
   ]
  },
  {
   "cell_type": "markdown",
   "metadata": {},
   "source": [
    "* `wraps()` dekoruje funkcję `opakowanie()`.\n",
    "* `wraps()` posiada parametry -- jego argumentem jest funkcja przekazywana do dekorowania (czyli `f`) przez definiowany dekorator (czyli `licz_wywołania()`)."
   ]
  },
  {
   "cell_type": "markdown",
   "metadata": {
    "slideshow": {
     "slide_type": "subslide"
    }
   },
   "source": [
    "Analogicznie poprawiamy `zapamiętuj()`."
   ]
  },
  {
   "cell_type": "code",
   "execution_count": 52,
   "metadata": {
    "collapsed": true
   },
   "outputs": [],
   "source": [
    "def zapamiętuj(f):\n",
    "    pamięć = {}\n",
    "    @wraps(f)\n",
    "    def opakowanie(x):\n",
    "        if x not in pamięć:\n",
    "            pamięć[x] = f(x)\n",
    "        return pamięć[x]\n",
    "    return opakowanie       "
   ]
  },
  {
   "cell_type": "markdown",
   "metadata": {
    "slideshow": {
     "slide_type": "subslide"
    }
   },
   "source": [
    "Teraz nawet piętrowe dekoratory nie zgubią docstringu ani innych metadanych."
   ]
  },
  {
   "cell_type": "code",
   "execution_count": 53,
   "metadata": {
    "collapsed": true,
    "slideshow": {
     "slide_type": "-"
    }
   },
   "outputs": [],
   "source": [
    "@licz_wywołania\n",
    "@zapamiętuj\n",
    "def fib(n):\n",
    "    '''Zwraca n-ty wyraz ciągu Fibonacciego.'''\n",
    "    if n == 0 or n == 1:\n",
    "        return n\n",
    "    return fib(n - 2) + fib(n - 1)"
   ]
  },
  {
   "cell_type": "code",
   "execution_count": 54,
   "metadata": {},
   "outputs": [
    {
     "name": "stdout",
     "output_type": "stream",
     "text": [
      "Help on function fib in module __main__:\n",
      "\n",
      "fib(n)\n",
      "    Zwraca n-ty wyraz ciągu Fibonacciego.\n",
      "\n"
     ]
    }
   ],
   "source": [
    "help(fib)"
   ]
  },
  {
   "cell_type": "code",
   "execution_count": 55,
   "metadata": {},
   "outputs": [
    {
     "data": {
      "text/plain": [
       "'fib'"
      ]
     },
     "execution_count": 55,
     "metadata": {},
     "output_type": "execute_result"
    }
   ],
   "source": [
    "fib.__name__"
   ]
  },
  {
   "cell_type": "markdown",
   "metadata": {
    "slideshow": {
     "slide_type": "slide"
    }
   },
   "source": [
    "## `functools.lru_cache`\n",
    "\n",
    "Dekorator `lru_cache()` z modułu `functools` implementuje memoizację (czyli zapamiętywanie pośrednich wyników) -- niepotrzebnie trudziliśmy się z dekoratorem `zapamiętuj()` :-/"
   ]
  },
  {
   "cell_type": "code",
   "execution_count": 56,
   "metadata": {
    "collapsed": true,
    "slideshow": {
     "slide_type": "-"
    }
   },
   "outputs": [],
   "source": [
    "from functools import lru_cache\n",
    "\n",
    "@lru_cache()\n",
    "def fib(n):\n",
    "    '''Zwraca n-ty wyraz ciągu Fibonacciego.'''\n",
    "    if n == 0 or n == 1:\n",
    "        return n\n",
    "    return fib(n - 1) + fib(n - 2)"
   ]
  },
  {
   "cell_type": "markdown",
   "metadata": {},
   "source": [
    "`lru_cache()` również przyjmuje parametry. Dlatego należy go pisać z nawiasami okrągłymi -- nawet wtedy, gdy żadnych argumentów nie wprowadzamy."
   ]
  },
  {
   "cell_type": "code",
   "execution_count": 57,
   "metadata": {
    "slideshow": {
     "slide_type": "subslide"
    }
   },
   "outputs": [
    {
     "name": "stdout",
     "output_type": "stream",
     "text": [
      "129 ns ± 6.24 ns per loop (mean ± std. dev. of 7 runs, 20000 loops each)\n"
     ]
    }
   ],
   "source": [
    "%timeit -n 20000 fib(200)"
   ]
  },
  {
   "cell_type": "code",
   "execution_count": 58,
   "metadata": {},
   "outputs": [
    {
     "name": "stdout",
     "output_type": "stream",
     "text": [
      "Help on _lru_cache_wrapper in module __main__:\n",
      "\n",
      "fib(n)\n",
      "    Zwraca n-ty wyraz ciągu Fibonacciego.\n",
      "\n"
     ]
    }
   ],
   "source": [
    "help(fib)"
   ]
  }
 ],
 "metadata": {
  "anaconda-cloud": {},
  "celltoolbar": "Slideshow",
  "kernelspec": {
   "display_name": "Python [default]",
   "language": "python",
   "name": "python3"
  },
  "language_info": {
   "codemirror_mode": {
    "name": "ipython",
    "version": 3
   },
   "file_extension": ".py",
   "mimetype": "text/x-python",
   "name": "python",
   "nbconvert_exporter": "python",
   "pygments_lexer": "ipython3",
   "version": "3.5.4"
  }
 },
 "nbformat": 4,
 "nbformat_minor": 1
}
