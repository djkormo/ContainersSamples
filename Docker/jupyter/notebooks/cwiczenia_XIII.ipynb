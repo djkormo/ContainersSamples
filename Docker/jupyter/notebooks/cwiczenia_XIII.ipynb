{
 "cells": [
  {
   "cell_type": "markdown",
   "metadata": {},
   "source": [
    "# Ćwiczenia 13\n",
    "\n",
    "## Programowanie dla analizy danych\n",
    "\n",
    "2017/2018, semestr letni\n",
    "\n",
    "---\n",
    "\n",
    "## 1\n",
    "\n",
    "### 1.1\n",
    "\n",
    "Napisz funkcję `pokaż_pierwsze_dopasowanie(wzorzec, tekst, symbol)`. Parametr `wzorzec` to łańcuch zawierający wyrażenie regularne. Parametr `tekst` jest dowolnym łańcuchem. `symbol` to pojedynczy znak domyślnie ustawiony na kropkę.\n",
    "\n",
    "Zadaniem funkcji jest wyświetlenie tekstu `tekst` w dwóch liniach: najpierw dosłowne, następnie z wykropkowaną (za pomocą znaku `symbol`) tą częścią tekstu, która nie jest wyznaczona przez pierwsze znalezione dopasowanie. Jeśli dopasowania nie ma, to wykropkowany zostaje cały tekst.\n",
    "\n",
    "Przykład:\n",
    "```\n",
    ">>> tekst = 'Stefana  Banacha 22, 90-238 Łódź; ul. Prez. Gabriela Narutowicza 68, 90-136 Łódź'\n",
    ">>> pokaż_pierwsze_dopasowanie(r'\\d{2}-\\d{3}', 'Stefana  Banacha 22, 90-238 Łódź')\n",
    "Stefana  Banacha 22, 90-238 Łódź; ul. Prez. Gabriela Narutowicza 68, 90-136 Łódź\n",
    ".....................90-238.....................................................\n",
    "```"
   ]
  },
  {
   "cell_type": "code",
   "execution_count": null,
   "metadata": {},
   "outputs": [],
   "source": []
  },
  {
   "cell_type": "markdown",
   "metadata": {},
   "source": [
    "### 1.2\n",
    "\n",
    "Napisz funkcję `pokaż_dopasowania(wzorzec, tekst, symbol)` uogólniającą `pokaż_pierwsze_dopasowanie()` następująco: znajdź wszystkie niezachodzące na siebie dopasowania do wzorca (zaczynając od lewej) i wykropkuj to co do nich nie pasuje.\n",
    "\n",
    "Przykład:\n",
    "```\n",
    ">>> tekst = 'Stefana  Banacha 22, 90-238 Łódź; ul. Prez. Gabriela Narutowicza 68, 90-136 Łódź'\n",
    ">>> pokaż_dopasowania(r'\\w{5,}', tekst, symbol='-')\n",
    "Stefana  Banacha 22, 90-238 Łódź; ul. Prez. Gabriela Narutowicza 68, 90-136 Łódź\n",
    "Stefana--Banacha----------------------------Gabriela-Narutowicza----------------\n",
    "\n",
    ">>> pokaż_dopasowania(r'\\w{12,}', tekst, symbol='-')\n",
    "Stefana  Banacha 22, 90-238 Łódź; ul. Prez. Gabriela Narutowicza 68, 90-136 Łódź\n",
    "--------------------------------------------------------------------------------\n",
    "```"
   ]
  },
  {
   "cell_type": "code",
   "execution_count": null,
   "metadata": {},
   "outputs": [],
   "source": []
  },
  {
   "cell_type": "markdown",
   "metadata": {},
   "source": [
    "## 2\n",
    " \n",
    "Podany niżej tekst to fragment tabeli ze spisem planetoid. Kolejne kolumny to: numer, nazwa, odległość od Słońca w j.a., data odkrycia i odkrywca.\n",
    " \n",
    "```\n",
    "(1) Ceres 2,7653 1 stycznia 1801 G. Piazzi\n",
    "(2) Pallas 2,7722 28 marca 1802 H. W. Olbers\n",
    "(3) Juno 2,6701 1 września 1804 K. Harding\n",
    "(4) Westa 2,3619 29 marca 1807 H. W. Olbers\n",
    "(5) Astraea 2,5771 8 grudnia 1845 K. L. Hencke\n",
    "(6) Hebe 2,4256 1 lipca 1847 K. L. Hencke\n",
    "(7) Iris 2,3856 13 sierpnia 1847 J. R. Hind\n",
    "(8) Flora 2,2016 18 października 1847 J. R. Hind\n",
    "(9) Metis 2,3863 25 kwietnia 1848 A. Graham\n",
    "(10) Hygiea 3,1399 12 kwietnia 1849 A. de Gasparis\n",
    "(11) Parthenope 2,4530 11 maja 1850 A. de Gasparis\n",
    "(12) Victoria 2,3340 13 września 1850 J. R. Hind\n",
    "(13) Egeria 2,5752 2 listopada 1850 A. de Gasparis\n",
    "(14) Irene 2,5867 19 maja 1851 J. R. Hind\n",
    "(15) Eunomia 2,6424 29 lipca 1851 A. de Gasparis\n",
    "(16) Psyche 2,9209 17 marca 1852 A. de Gasparis\n",
    "(17) Thetis 2,4698 17 kwietnia 1852 K. T. R. Luther\n",
    "(18) Melpomene 2,2956 24 czerwca 1852 J. R. Hind\n",
    "(19) Fortuna 2,4425 22 sierpnia 1852 J. R. Hind\n",
    "```\n",
    "\n",
    "### 2.1\n",
    "\n",
    "Napisz program, który wyświetli wszystkie daty odkrycia."
   ]
  },
  {
   "cell_type": "code",
   "execution_count": null,
   "metadata": {},
   "outputs": [],
   "source": []
  },
  {
   "cell_type": "markdown",
   "metadata": {},
   "source": [
    "### 2.2\n",
    "\n",
    "Napisz program, który wyświetli wszystkie odległości od Słońca."
   ]
  },
  {
   "cell_type": "code",
   "execution_count": null,
   "metadata": {},
   "outputs": [],
   "source": []
  },
  {
   "cell_type": "markdown",
   "metadata": {},
   "source": [
    "## 3\n",
    "\n",
    "Pod [tym linkiem](https://wolnelektury.pl/media/book/txt/krytyka-czystego-rozumu.txt) znajdziesz *Krytykę czystego rozumu* I. Kanta w formie pliku tekstowego wraz z przedmową tłumacza. Zapisz ten plik na dysku.\n",
    "\n",
    "### 3.1\n",
    "\n",
    "Z ilu słów składa sie ten dokument?"
   ]
  },
  {
   "cell_type": "code",
   "execution_count": null,
   "metadata": {},
   "outputs": [],
   "source": []
  },
  {
   "cell_type": "markdown",
   "metadata": {},
   "source": [
    "### 3.2\n",
    "\n",
    "Jakie słowo (słowa?) składa się z największej liczby znaków? "
   ]
  },
  {
   "cell_type": "code",
   "execution_count": null,
   "metadata": {},
   "outputs": [],
   "source": []
  },
  {
   "cell_type": "markdown",
   "metadata": {},
   "source": [
    "### 3.3\n",
    "\n",
    "Utwórz słownik `statystyka_słów` składający się z par `długość: liczba_słów`. Klucz długość to liczba całkowita, wartość `liczba_słów` to liczba słów w dokumencie o długości `długość`."
   ]
  },
  {
   "cell_type": "code",
   "execution_count": null,
   "metadata": {},
   "outputs": [],
   "source": []
  },
  {
   "cell_type": "markdown",
   "metadata": {},
   "source": [
    "#### Wykres słupkowy"
   ]
  },
  {
   "cell_type": "code",
   "execution_count": null,
   "metadata": {},
   "outputs": [],
   "source": [
    "from matplotlib import pyplot as plt\n",
    "plt.style.use('seaborn-notebook')\n",
    "%matplotlib inline"
   ]
  },
  {
   "cell_type": "code",
   "execution_count": null,
   "metadata": {},
   "outputs": [],
   "source": [
    "X, Y = zip(*sorted(statystyka_słów.items()))\n",
    "\n",
    "fig, ax = plt.subplots()\n",
    "fig.set_size_inches(12, 6)\n",
    "ax.xaxis.set_major_locator(plt.MultipleLocator(1))\n",
    "ax.bar(X, Y);"
   ]
  },
  {
   "cell_type": "markdown",
   "metadata": {},
   "source": [
    "### 3.4\n",
    "\n",
    "Uznajmy, że zdanie twierdzące to taki fragment tekstu, który zaczyna się wielką literą, kończy kropką i pomiędzy tymi znakami, nie ma żadnych znaków kończących zdanie. Ponieważ kropka może kończyć skróty a duże litery zaczynać nazwy własne, więc stosując tę definicję dostaniemy trochę zdań fałszywych.\n",
    "\n",
    "Wyświetl najdłuższe zdanie twierdzące dokumentu.\n",
    "\n",
    "To samo zadanie rozwiąż dla zdań pytających i wykrzyknikowych."
   ]
  },
  {
   "cell_type": "code",
   "execution_count": null,
   "metadata": {},
   "outputs": [],
   "source": []
  },
  {
   "cell_type": "markdown",
   "metadata": {},
   "source": [
    "### 3.5\n",
    "\n",
    "Poszukaj w *Krytyce* liczb zapisanych za pomocą cyfr. Która z nich jest największa? Czy jest to rok?"
   ]
  },
  {
   "cell_type": "code",
   "execution_count": null,
   "metadata": {},
   "outputs": [],
   "source": []
  },
  {
   "cell_type": "markdown",
   "metadata": {},
   "source": [
    "## 4\n",
    "\n",
    "Dana jest funkcja\n",
    "\n",
    "```python\n",
    "import re\n",
    "\n",
    "def liczba(tekst):\n",
    "    dopasowanie = re.search(r'\\d+', tekst)\n",
    "    \n",
    "    if dopasowanie is None:\n",
    "        return\n",
    "    \n",
    "    return dopasowanie.span()\n",
    "```\n",
    "\n",
    "Nie korzystając z modułu `re` i języka wyrażeń regularnych napisz funkcję `liczba_bez_re(tekst)`, która na tych samych argumentach będzie zwracać dokładnie to samo co funkcja `liczba()`."
   ]
  },
  {
   "cell_type": "code",
   "execution_count": null,
   "metadata": {},
   "outputs": [],
   "source": []
  },
  {
   "cell_type": "markdown",
   "metadata": {},
   "source": [
    "#### Testy"
   ]
  },
  {
   "cell_type": "code",
   "execution_count": null,
   "metadata": {},
   "outputs": [],
   "source": [
    "teksty = ['', 'abc', '1', 'abc1', 'abc12', 'ab12cd', 'a234rt6']\n",
    "\n",
    "for tekst in teksty:\n",
    "    assert liczba(tekst) == liczba_bez_re(tekst), tekst"
   ]
  }
 ],
 "metadata": {
  "anaconda-cloud": {},
  "kernelspec": {
   "display_name": "Python [default]",
   "language": "python",
   "name": "python3"
  },
  "language_info": {
   "codemirror_mode": {
    "name": "ipython",
    "version": 3
   },
   "file_extension": ".py",
   "mimetype": "text/x-python",
   "name": "python",
   "nbconvert_exporter": "python",
   "pygments_lexer": "ipython3",
   "version": "3.5.4"
  }
 },
 "nbformat": 4,
 "nbformat_minor": 2
}
