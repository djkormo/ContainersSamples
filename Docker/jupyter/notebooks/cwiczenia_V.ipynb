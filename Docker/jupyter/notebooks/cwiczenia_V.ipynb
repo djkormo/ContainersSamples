{
 "cells": [
  {
   "cell_type": "markdown",
   "metadata": {},
   "source": [
    "# Ćwiczenia 5\n",
    "\n",
    "## Programowanie dla analizy danych\n",
    "\n",
    "2017/2018, semestr letni\n",
    "\n",
    "---\n",
    "\n",
    "\n",
    "## 1\n",
    "\n",
    "### 1.1\n",
    "\n",
    "**[Algorytm sortowania bąbelkowego](https://pl.wikipedia.org/wiki/Sortowanie_b%C4%85belkowe)**\n",
    "\n",
    "**Wejście**: tablica `n` liczb `A[1], ..., A[n]`.<br>\n",
    "**Wyjście**: tablica `A` posortowana niemalejąco.\n",
    "\n",
    "```\n",
    "1. dla i od 1 do n wykonuj:\n",
    "2.     dla j od n do i + 1 wykonuj:\n",
    "3.         jeśli A[j] < A[j - 1] to:\n",
    "4.             zamień A[j] z A[j - 1]\n",
    "```\n",
    "\n",
    "Napisz funkcję `bubblesort(A)`. Parametr `A` ma być zmienną sekwencją (np. listą). Funkcja nic nie zwraca, działa \"w miejscu\" sortując `A` niemalejąco. Funkcja powinna implementować algorytm sortowania bąbelkowego."
   ]
  },
  {
   "cell_type": "code",
   "execution_count": null,
   "metadata": {
    "collapsed": true
   },
   "outputs": [],
   "source": []
  },
  {
   "cell_type": "markdown",
   "metadata": {},
   "source": [
    "#### Testy"
   ]
  },
  {
   "cell_type": "code",
   "execution_count": null,
   "metadata": {
    "collapsed": true
   },
   "outputs": [],
   "source": [
    "A = [2, 1]\n",
    "bubblesort(A)\n",
    "assert A == [1, 2]\n",
    "\n",
    "A = list('ala ma kota')\n",
    "bubblesort(A)\n",
    "assert A == sorted('ala ma kota')"
   ]
  },
  {
   "cell_type": "markdown",
   "metadata": {},
   "source": [
    "### 1.2\n",
    "\n",
    "Zauważ, że czas działania podanego wyżej algorytmu jest stały -- nie zależy porządku w jakim znajdują się wartości w tablicy `A` na wejściu. Posługując się wskazówką z [Wikipedii](https://pl.wikipedia.org/wiki/Sortowanie_b%C4%85belkowe#Modyfikacje_powoduj%C4%85ce_ulepszenie_czasu) zmodyfikuj pseudokod i funkcję `bubblesort()` tak, aby czas wykonania się poprawił w przypadku optymistycznym."
   ]
  },
  {
   "cell_type": "code",
   "execution_count": null,
   "metadata": {
    "collapsed": true
   },
   "outputs": [],
   "source": []
  },
  {
   "cell_type": "markdown",
   "metadata": {},
   "source": [
    "### 1.3\n",
    "\n",
    "Wykorzystaj podane niżej komórki z [instrukcją magiczną](https://jakevdp.github.io/PythonDataScienceHandbook/01.03-magic-commands.html) `timeit` do porównania czasów wykonania obu wersji funkcji `bubblesort()`."
   ]
  },
  {
   "cell_type": "code",
   "execution_count": null,
   "metadata": {
    "collapsed": true
   },
   "outputs": [],
   "source": [
    "%%timeit\n",
    "\n",
    "# Przypadek optymistyczny: lista posortowana rosnąco.\n",
    "A = list(range(100))\n",
    "\n",
    "bubblesort(A)"
   ]
  },
  {
   "cell_type": "code",
   "execution_count": null,
   "metadata": {
    "collapsed": true
   },
   "outputs": [],
   "source": [
    "%%timeit\n",
    "\n",
    "# Przypadek pesymistyczny: lista posortowana malejąco.\n",
    "A = list(range(100, 0, -1))\n",
    "\n",
    "bubblesort(A)"
   ]
  },
  {
   "cell_type": "markdown",
   "metadata": {},
   "source": [
    "---\n",
    "## 2\n",
    "\n",
    "Celem tego zadania jest refaktoryzacja funkcji szyfrującej z ćwiczeń II.\n",
    "\n",
    "Używając klucza `ma-li-no-we-bu-ty` można zaszyfrować wiadomość wymieniając znaki leżące wewnątrz tych samych sylab klucza: `m --> a`, `a --> m`, `l --> i`, `i --> l`, itd. Znaki, których nie ma w kluczu, pozostawia się bez zmian. Przykładowo tekst `ziemia jest płaska` wymaga wymienienia 9 znaków i po zaszyfrowaniu ma postać `zlwalm jwsy płmskm`. Powtórne zaszyfrowanie przywraca pierwotną postać tekstu. \n",
    "\n",
    "\n",
    "### 2.1\n",
    "\n",
    "Napisz funkcję `wykonaj_klucz(klucz)`. Parametr `klucz` jest łańcuchem. Funkcja zwraca słownik par `k: v`, gdzie\n",
    "* `k` -- znak łańcucha `klucz`,\n",
    "* `v` -- znak, na który `k` jest wymieniany.\n",
    "\n",
    "Prawidłowy klucz, to taki łańcuch znaków, który jest różnowartościowy i ma parzystą długość. W przypadku wykrycia nieprawidłowego klucza funkcja ma wywoływać wyjątek `ValueError` z komunikatem: `nieprawidłowy klucz!`."
   ]
  },
  {
   "cell_type": "code",
   "execution_count": null,
   "metadata": {
    "collapsed": true
   },
   "outputs": [],
   "source": []
  },
  {
   "cell_type": "markdown",
   "metadata": {},
   "source": [
    "#### Testy"
   ]
  },
  {
   "cell_type": "code",
   "execution_count": null,
   "metadata": {
    "collapsed": true
   },
   "outputs": [],
   "source": [
    "klucz = 'abcd'\n",
    "assert wykonaj_klucz(klucz) == dict(a='b', b='a', c='d', d='c')\n",
    "\n",
    "klucz = 'malinowebuty'\n",
    "assert wykonaj_klucz(klucz) == dict(m='a', a='m', l='i', i='l',\n",
    "                                    n='o', o='n', w='e', e='w',\n",
    "                                    b='u', u='b', t='y', y='t')\n",
    "\n",
    "nieprawidłowe_klucze = ['', 'x', 'xyz', 'xyzx']\n",
    "\n",
    "for klucz in nieprawidłowe_klucze:\n",
    "    try:\n",
    "        wykonaj_klucz(klucz)\n",
    "    except ValueError as err:\n",
    "        assert err.args[0] == 'nieprawidłowy klucz!', 'Niewłaściwy komunikat.'\n",
    "    else:\n",
    "        raise AssertionError(\"'{}' nie jest prawidłowym kluczem!\".format(klucz))"
   ]
  },
  {
   "cell_type": "markdown",
   "metadata": {},
   "source": [
    "### 2.2\n",
    "\n",
    "Napisz funkcję `wykonaj_szyfrator(klucz)`. Parametr `klucz` jest łańcuchem domyślnie ustawionym na `'malinowebuty'`. Funkcja zwraca funkcję `szyfrator(tekst)`. Parametr `tekst` jest łańcuchem -- `szyfrator()` ma szyfrować `tekst` według klucza `klucz` a następnie zwracać. Do szyfrowania użyj słownika zwracanego przez `wykonaj_klucz()`. Słownik ten powinien być obliczany **przed** definicją funkcji `szyfrator()` , a zatem ma znajdować się w jej **domknięciu**.\n",
    "\n",
    "**Uwaga**: Odwoływanie sie do słownika jest szybsze niż odwoływanie się do sekwencji. Klucz, który wprowadza użytkownik jest łańcuchem, a więc sekwencją. Klucz w łańcuchu można przerobić na słownik wymian, ale przeróbka ta jest kosztowna. Nasza optymalizacja polega na tym, że przerabiamy łańcuch na słownik **tylko raz** -- w momencie wywołania `wykonaj_szyfrator()`. Zwrócony `szyfrator()` zawiera w domknięciu już nie łańcuch lecz słownik, z którego będzie korzystać szybciej niż z łańcucha."
   ]
  },
  {
   "cell_type": "code",
   "execution_count": null,
   "metadata": {
    "collapsed": true
   },
   "outputs": [],
   "source": []
  },
  {
   "cell_type": "markdown",
   "metadata": {},
   "source": [
    "#### Testy"
   ]
  },
  {
   "cell_type": "code",
   "execution_count": null,
   "metadata": {
    "collapsed": true
   },
   "outputs": [],
   "source": [
    "szyfry_test = {'a': 'm', 'm': 'a', \n",
    "               'x': 'x', 'A': 'A', \n",
    "               'malinowebuty': 'amilonewubyt', \n",
    "               'ziemia jest płaska': 'zlwalm jwsy płmskm'}\n",
    "\n",
    "malinowebuty = wykonaj_szyfrator()\n",
    "\n",
    "for jawny, tajny in szyfry_test.items():\n",
    "    assert malinowebuty(jawny) == tajny, 'Błąd, powinno być: {} ==> {}'.format(jawny, tajny)\n",
    "\n",
    "test_klucz_jawny_tajny = [('ab', 'abc', 'bac'),\n",
    "                          ('XYUV', 'xVyU', 'xUyV'),\n",
    "                          ('gaderypoluki', 'gaderypoluki', 'agedyropulik')]\n",
    "\n",
    "for klucz, jawny, tajny in test_klucz_jawny_tajny:\n",
    "    szyfruj = wykonaj_szyfrator(klucz)\n",
    "    assert szyfruj(jawny) == tajny, 'Klucz {} zamienia {} na {}'.format(klucz, jawny, tajny)"
   ]
  },
  {
   "cell_type": "markdown",
   "metadata": {},
   "source": [
    "---\n",
    "## 3\n",
    "\n",
    "Napisz funkcję `automat_losujący(zwracanie, **kule)`. Funkcja zwraca bezparametrową funkcję `automat()` symulującą losowanie kul z urny. Opis parametrów:\n",
    "* `zwracanie` -- `True` lub `False`, domyślnie `True`. Decyduje o tym, czy losowania są prowadzone ze zwracaniem (domyślnie tak).\n",
    "* `kule` -- przyjmuje argumenty postaci `kolor=krotność`, gdzie\n",
    "  * `kolor` -- łańcuch będący kolorem kuli,\n",
    "  * `krotność` -- liczba całkowita nieujemna określająca liczbę kul danego koloru w urnie.\n",
    "\n",
    "Każde wywołanie funkcji `automat()` losuje kulę z urny a następnie zwraca listę wylosowanych dotąd kul. Jeśli urna jest pusta, `automat()` powinien rzucać zdefiniowany niżej wyjątek `UrnaJestPusta`."
   ]
  },
  {
   "cell_type": "code",
   "execution_count": null,
   "metadata": {
    "collapsed": true
   },
   "outputs": [],
   "source": [
    "class UrnaJestPusta(Exception):\n",
    "    pass"
   ]
  },
  {
   "cell_type": "code",
   "execution_count": null,
   "metadata": {
    "collapsed": true
   },
   "outputs": [],
   "source": []
  },
  {
   "cell_type": "markdown",
   "metadata": {},
   "source": [
    "#### Testy"
   ]
  },
  {
   "cell_type": "code",
   "execution_count": null,
   "metadata": {
    "collapsed": true
   },
   "outputs": [],
   "source": [
    "from collections import Counter\n",
    "\n",
    "kule = dict(b=3, c=2, r=1)\n",
    "\n",
    "at = automat_losujący(zwracanie=False, **kule)\n",
    "\n",
    "for _ in range(5):\n",
    "    at()\n",
    "\n",
    "assert Counter(at()) == Counter('bbbccr')\n",
    "\n",
    "try:\n",
    "    at()\n",
    "except UrnaJestPusta:\n",
    "    pass\n",
    "else:\n",
    "    raise AssertionError('Urna powinna być pusta!')"
   ]
  }
 ],
 "metadata": {
  "anaconda-cloud": {},
  "kernelspec": {
   "display_name": "Python [default]",
   "language": "python",
   "name": "python3"
  },
  "language_info": {
   "codemirror_mode": {
    "name": "ipython",
    "version": 3
   },
   "file_extension": ".py",
   "mimetype": "text/x-python",
   "name": "python",
   "nbconvert_exporter": "python",
   "pygments_lexer": "ipython3",
   "version": "3.5.4"
  }
 },
 "nbformat": 4,
 "nbformat_minor": 1
}
