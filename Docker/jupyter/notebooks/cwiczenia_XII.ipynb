{
 "cells": [
  {
   "cell_type": "markdown",
   "metadata": {},
   "source": [
    "# Ćwiczenia 12\n",
    "\n",
    "## Programowanie dla analizy danych\n",
    "\n",
    "2017/2018, semestr letni\n",
    "\n",
    "---\n",
    "\n",
    "## 1\n",
    "\n",
    "Kilka zadań z Kangura.\n",
    "\n",
    "### 1.1\n",
    "\n",
    "W wyrażeniu\n",
    "```\n",
    "2 * 4 * 6 * 8 * 10 * 12 * 14\n",
    "```\n",
    "każdą gwiazdkę zamieniono na `+` lub `-` i wykonano działania. Która z liczb nie może być otrzymana w ten sposób?\n",
    "\n",
    "A) 0, B) 4, C) -4, D) 48, E) 30."
   ]
  },
  {
   "cell_type": "code",
   "execution_count": null,
   "metadata": {},
   "outputs": [],
   "source": []
  },
  {
   "cell_type": "markdown",
   "metadata": {},
   "source": [
    "### 1.2\n",
    "\n",
    "Ile liczb 8-cyfrowych $\\overline{a_1a_2a_3a_4a_5a_6a_7a_8}$, których cyframi są zera lub jedynki ($a_1=1$), ma tę własność, że $a_1+a_2+a_3+a_4=a_5+a_6+a_7+a_8$?\n",
    "\n",
    "A) 128, B) 35, C) 49, D) 16, E) 32."
   ]
  },
  {
   "cell_type": "code",
   "execution_count": null,
   "metadata": {},
   "outputs": [],
   "source": []
  },
  {
   "cell_type": "markdown",
   "metadata": {},
   "source": [
    "### 1.3\n",
    "\n",
    "Automat matematyczny działa na następującej zasadzie: do danej liczby dodaje `1` lub ja podwaja. Po wykonaniu każdej operacji działa według tej samej zasady. Do automatu wprowadzono liczbę `0`. Ten po wykonaniu pewnej liczby operacji otrzymał liczbę `100`. Jaka jest najmniejsza liczba operacji, którą musiał wykonać automat, żeby otrzymać taki wynik?\n",
    "\n",
    "A) 8, B) 9, C) 10, D) 28, E) 34."
   ]
  },
  {
   "cell_type": "code",
   "execution_count": null,
   "metadata": {},
   "outputs": [],
   "source": []
  },
  {
   "cell_type": "markdown",
   "metadata": {},
   "source": [
    "---\n",
    "## 2\n",
    "\n",
    "### 2.1\n",
    "\n",
    "Dana jest macierz kwadratowa\n",
    "\n",
    "```\n",
    "16 11 17 18 12 11  6  1  6  2\n",
    " 6 12 11 17  9 17 12  9 19 11\n",
    " 6 15  6  7  7  9 10  2 10  7\n",
    " 7 14 12 14  5  5 17 18 16 11\n",
    "12  8 14  9 10  6  1 14  2  7\n",
    "12 17 17 17 16 15 12 13  5  8\n",
    " 4 16 16 19  4 17 18 18 20 14\n",
    "14  6 14  4 19 15 19  8 12  8\n",
    " 5  3  4 18 18  8  6  4 17  2\n",
    "17 12  8 11 17  1 14  7  4  3\n",
    "```\n",
    "\n",
    "Ustawiamy pionek w lewym górnym rogu (na liczbie `16`). Pionek porusza sie po polach z liczbami wykonując ruchy \"o jedno pole w prawo\" lub \"o jedno pole w dół\". Pionek przemieszcza się w ten sposób od lewego górnego do prawego dolnego rogu, sumując przy tym liczby z pól, przez które przeszedł. Wyznacz maksymalną i minimalną sumę jaką da się w ten sposób uzyskać."
   ]
  },
  {
   "cell_type": "code",
   "execution_count": null,
   "metadata": {},
   "outputs": [],
   "source": []
  },
  {
   "cell_type": "markdown",
   "metadata": {},
   "source": [
    "### 2.2\n",
    "\n",
    "To samo pytanie dla macierzy prostokątnej\n",
    "\n",
    "```\n",
    "5  4  17 13 16 16 16 1  11 17 1  2  5  11 3  \n",
    "5  15 16 5  14 4  11 2  18 7  13 13 15 5  7  \n",
    "17 13 5  8  11 15 7  1  5  15 1  10 19 15 16 \n",
    "8  6  14 12 12 19 2  7  17 2  16 20 12 10 4  \n",
    "17 10 9  5  9  13 2  17 15 18 12 11 7  19 15 \n",
    "11 5  3  4  18 12 8  19 13 5  15 11 2  19 2  \n",
    "14 8  12 10 12 2  13 9  8  15 9  16 7  19 15 \n",
    "8  1  15 2  1  13 17 8  14 16 19 16 7  16 19 \n",
    "3  20 15 13 20 3  5  19 15 6  5  19 2  5  13 \n",
    "16 8  14 18 15 13 3  8  19 1  10 18 10 20 18 \n",
    "```"
   ]
  },
  {
   "cell_type": "code",
   "execution_count": null,
   "metadata": {},
   "outputs": [],
   "source": []
  },
  {
   "cell_type": "markdown",
   "metadata": {},
   "source": [
    "### 2.3*\n",
    "\n",
    "To jest zadanie dla zainteresowanych :-)\n",
    "\n",
    "Spróbuj rozwiązać problem [81](https://projecteuler.net/problem=81) z serwisu [Project Euler](https://projecteuler.net/).\n",
    "\n",
    "*Wskazówka:* Tutaj *brute force* nie wystarczy. Zastosuj [algorytm Dijkstry](https://pl.wikipedia.org/wiki/Algorytm_Dijkstry)."
   ]
  },
  {
   "cell_type": "code",
   "execution_count": null,
   "metadata": {},
   "outputs": [],
   "source": []
  },
  {
   "cell_type": "markdown",
   "metadata": {},
   "source": [
    "---\n",
    "## 3\n",
    "\n",
    "Cyfry `1, 2, 3, 4, 5, 6, 7, 8, 9` wpisujemy w miejsce gwiazdek w diagramie\n",
    "\n",
    "`** + ** + ** = ***`\n",
    "\n",
    "w taki sposób, aby przedstawiał on poprawnie wykonane dodawanie. Rozwiązania, które różnią się jedynie porządkiem składników uznajemy za identyczne. Napisz program, który wypisze wszystkie różne rozwiązania diagramu. Podczas wypisywania zachowaj format jak w przykładzie\n",
    "```\n",
    "29 + 46 + 78 == 153\n",
    "```"
   ]
  },
  {
   "cell_type": "code",
   "execution_count": null,
   "metadata": {},
   "outputs": [],
   "source": []
  },
  {
   "cell_type": "markdown",
   "metadata": {},
   "source": [
    "---\n",
    "## 4\n",
    "\n",
    "[Kryptarytm](http://www.math.edu.pl/kryptarytmy), to zadanie szaradziarskie, w którym litery należy zastąpić cyframi tak, aby liczby, które w ten\n",
    "sposób powstaną, tworzyły poprawne działania. Każdej literze odpowiada jedna cyfra, różnym literom różne\n",
    "cyfry.\n",
    "\n",
    "Oto kilka przykładów:\n",
    "\n",
    "<p>\n",
    "<pre>\n",
    "  KTO                 TRZY                  GRAD\n",
    "<u>+ KOT</u>               <u>+ TRZY</u>              <u>+ DESZCZ</u>\n",
    "  TOK                SZEŚĆ                STRATA\n",
    "</pre>\n",
    "\n",
    "<pre>\n",
    " KOGUT               ŁUK                 CHMURA\n",
    "<u>+ KURA</u>             <u>+ ŁUK</u>               <u>+ CHMURA</u>\n",
    " JAJKO              KOŁO                 DESZCZ\n",
    "</pre>\n",
    "\n",
    "<pre>\n",
    "  KIOTO              REBUS                 WILK\n",
    "<u>+ OSAKA</u>             <u>&#183; &#160;&#160; I</u>              <u>+ UNIKA</u>\n",
    "  TOKIO             SUDOKU                LUDZI\n",
    "</pre>\n",
    "\n",
    "</p>\n",
    "\n",
    "Napisz funkcję `kryptarytm(A, B, C, działanie)`. Argumenty `A`, `B`, `C` mają być łańcuchami reprezentującymi kolejno pierwszy i drugi składnik oraz wynik. `działanie` to dodawanie lub mnożenie, domyślnie ustawione na dodawanie. Funkcja powinnna zwracać wszystkie rozwiązania kryptarytmu. Postać każdego rozwiązania to słownik przyporządkowujący znakom znalezione cyfry."
   ]
  },
  {
   "cell_type": "code",
   "execution_count": null,
   "metadata": {},
   "outputs": [],
   "source": []
  },
  {
   "cell_type": "markdown",
   "metadata": {},
   "source": [
    "#### Testy\n",
    "\n",
    "Na przykładzie kryptarytmu\n",
    "\n",
    "<p>\n",
    "<pre>\n",
    "  AB\n",
    "<u>+ AC</u>\n",
    "  BA\n",
    "</pre>\n",
    "</p>"
   ]
  },
  {
   "cell_type": "code",
   "execution_count": 74,
   "metadata": {},
   "outputs": [],
   "source": [
    "rozwiązania = [{'a': 0, 'b': 1, 'c': 9}, {'a': 1, 'b': 3, 'c': 8},\n",
    "               {'a': 2, 'b': 5, 'c': 7}, {'a': 3, 'b': 7, 'c': 6},\n",
    "               {'a': 4, 'b': 9, 'c': 5}]\n",
    "\n",
    "wynik = list(kryptarytm('ab', 'ac', 'ba', add))\n",
    "\n",
    "# rozwiązania są podzbiorem wynik\n",
    "for rozwiązanie in rozwiązania:\n",
    "    assert rozwiązanie in wynik, print(rozwiązanie)\n",
    "\n",
    "# wynik jest podzbiorem rozwiązania\n",
    "for rozwiązanie in wynik:\n",
    "    assert rozwiązanie in rozwiązania, print(rozwiazanie)"
   ]
  }
 ],
 "metadata": {
  "anaconda-cloud": {},
  "kernelspec": {
   "display_name": "Python [default]",
   "language": "python",
   "name": "python3"
  },
  "language_info": {
   "codemirror_mode": {
    "name": "ipython",
    "version": 3
   },
   "file_extension": ".py",
   "mimetype": "text/x-python",
   "name": "python",
   "nbconvert_exporter": "python",
   "pygments_lexer": "ipython3",
   "version": "3.5.4"
  }
 },
 "nbformat": 4,
 "nbformat_minor": 2
}
